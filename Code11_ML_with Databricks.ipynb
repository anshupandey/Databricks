{
 "cells": [
  {
   "cell_type": "markdown",
   "metadata": {
    "application/vnd.databricks.v1+cell": {
     "cellMetadata": {},
     "inputWidgets": {},
     "nuid": "b42a4879-387b-41f9-ab2e-02381926c72a",
     "showTitle": false,
     "title": ""
    }
   },
   "source": [
    "# Machine Learning with Databricks"
   ]
  },
  {
   "cell_type": "code",
   "execution_count": 0,
   "metadata": {
    "application/vnd.databricks.v1+cell": {
     "cellMetadata": {
      "byteLimit": 2048000,
      "rowLimit": 10000
     },
     "inputWidgets": {},
     "nuid": "83622088-6e55-4f2f-8f84-93929620f4ca",
     "showTitle": false,
     "title": ""
    }
   },
   "outputs": [],
   "source": [
    "df = spark.read.format(\"csv\").option(\"header\", \"true\").load(\"file:/Workspace/Users/anshu.india@outlook.com/databricks/data/penguins.csv\")\n",
    "display(df)"
   ]
  },
  {
   "cell_type": "markdown",
   "metadata": {
    "application/vnd.databricks.v1+cell": {
     "cellMetadata": {},
     "inputWidgets": {},
     "nuid": "c05608bf-4e18-4853-bf67-5f46cb68535c",
     "showTitle": false,
     "title": ""
    }
   },
   "source": [
    "## Data Cleaning"
   ]
  },
  {
   "cell_type": "code",
   "execution_count": 0,
   "metadata": {
    "application/vnd.databricks.v1+cell": {
     "cellMetadata": {
      "byteLimit": 2048000,
      "rowLimit": 10000
     },
     "inputWidgets": {},
     "nuid": "dd6df0c8-c094-4acf-bac3-56471a6c3894",
     "showTitle": false,
     "title": ""
    }
   },
   "outputs": [],
   "source": [
    "df.count()"
   ]
  },
  {
   "cell_type": "code",
   "execution_count": 0,
   "metadata": {
    "application/vnd.databricks.v1+cell": {
     "cellMetadata": {
      "byteLimit": 2048000,
      "rowLimit": 10000
     },
     "inputWidgets": {},
     "nuid": "24ad645c-ca45-4589-99fc-a941f1e7746f",
     "showTitle": false,
     "title": ""
    }
   },
   "outputs": [],
   "source": [
    "from pyspark.sql.types import *\n",
    "from pyspark.sql.functions import *\n",
    "\n",
    "data = df.dropna().select(col(\"Island\").astype(\"string\"),\n",
    "                          col(\"CulmenLength\").astype(\"float\"),\n",
    "                         col(\"CulmenDepth\").astype(\"float\"),\n",
    "                         col(\"FlipperLength\").astype(\"float\"),\n",
    "                         col(\"BodyMass\").astype(\"float\"),\n",
    "                         col(\"Species\").astype(\"int\")\n",
    "                         )\n",
    "display(data)"
   ]
  },
  {
   "cell_type": "code",
   "execution_count": 0,
   "metadata": {
    "application/vnd.databricks.v1+cell": {
     "cellMetadata": {
      "byteLimit": 2048000,
      "rowLimit": 10000
     },
     "inputWidgets": {},
     "nuid": "f804c20a-49a9-4258-8d50-095b810e9c09",
     "showTitle": false,
     "title": ""
    }
   },
   "outputs": [],
   "source": [
    "data.count()"
   ]
  },
  {
   "cell_type": "markdown",
   "metadata": {
    "application/vnd.databricks.v1+cell": {
     "cellMetadata": {},
     "inputWidgets": {},
     "nuid": "31161995-895e-4435-b193-f2b5d2a3a4bb",
     "showTitle": false,
     "title": ""
    }
   },
   "source": [
    "## Data Preprocessing"
   ]
  },
  {
   "cell_type": "markdown",
   "metadata": {
    "application/vnd.databricks.v1+cell": {
     "cellMetadata": {},
     "inputWidgets": {},
     "nuid": "d9c9ec6c-ffb2-47a1-8294-b045364fc7b3",
     "showTitle": false,
     "title": ""
    }
   },
   "source": [
    "### Train test split"
   ]
  },
  {
   "cell_type": "code",
   "execution_count": 0,
   "metadata": {
    "application/vnd.databricks.v1+cell": {
     "cellMetadata": {
      "byteLimit": 2048000,
      "rowLimit": 10000
     },
     "inputWidgets": {},
     "nuid": "b2fa58c5-6dbb-43f2-8926-cca398b9a625",
     "showTitle": false,
     "title": ""
    }
   },
   "outputs": [],
   "source": [
    "splits = data.randomSplit([0.8, 0.2])\n",
    "train = splits[0]\n",
    "test = splits[1]\n",
    "print (\"Training Rows:\", train.count(), \" Testing Rows:\", test.count())"
   ]
  },
  {
   "cell_type": "markdown",
   "metadata": {
    "application/vnd.databricks.v1+cell": {
     "cellMetadata": {},
     "inputWidgets": {},
     "nuid": "62a594a0-af53-4e0d-a0d4-8abfa25d86be",
     "showTitle": false,
     "title": ""
    }
   },
   "source": [
    "### Encoding and Scaling Features"
   ]
  },
  {
   "cell_type": "code",
   "execution_count": 0,
   "metadata": {
    "application/vnd.databricks.v1+cell": {
     "cellMetadata": {
      "byteLimit": 2048000,
      "rowLimit": 10000
     },
     "inputWidgets": {},
     "nuid": "c28f4272-9d72-4aa3-a378-c422a482600d",
     "showTitle": false,
     "title": ""
    }
   },
   "outputs": [],
   "source": [
    "from pyspark.ml.feature import StringIndexer\n",
    "\n",
    "indexer = StringIndexer(inputCol=\"Island\", outputCol=\"IslandIdx\")\n",
    "indexedData = indexer.fit(train).transform(train).drop(\"Island\")\n",
    "display(indexedData)"
   ]
  },
  {
   "cell_type": "code",
   "execution_count": 0,
   "metadata": {
    "application/vnd.databricks.v1+cell": {
     "cellMetadata": {
      "byteLimit": 2048000,
      "rowLimit": 10000
     },
     "inputWidgets": {},
     "nuid": "2d04a364-fcdf-4be2-a556-1ba8c0cffdfc",
     "showTitle": false,
     "title": ""
    }
   },
   "outputs": [],
   "source": [
    "from pyspark.ml.feature import VectorAssembler, MinMaxScaler\n",
    "\n",
    "# Create a vector column containing all numeric features\n",
    "numericFeatures = [\"CulmenLength\", \"CulmenDepth\", \"FlipperLength\", \"BodyMass\"]\n",
    "numericColVector = VectorAssembler(inputCols=numericFeatures, outputCol=\"numericFeatures\")\n",
    "vectorizedData = numericColVector.transform(indexedData)\n",
    "\n",
    "# Use a MinMax scaler to normalize the numeric values in the vector\n",
    "minMax = MinMaxScaler(inputCol = numericColVector.getOutputCol(), outputCol=\"normalizedFeatures\")\n",
    "scaledData = minMax.fit(vectorizedData).transform(vectorizedData)\n",
    "\n",
    "# Display the data with numeric feature vectors (before and after scaling)\n",
    "compareNumerics = scaledData.select(\"numericFeatures\", \"normalizedFeatures\")\n",
    "display(compareNumerics)"
   ]
  },
  {
   "cell_type": "code",
   "execution_count": 0,
   "metadata": {
    "application/vnd.databricks.v1+cell": {
     "cellMetadata": {
      "byteLimit": 2048000,
      "rowLimit": 10000
     },
     "inputWidgets": {},
     "nuid": "a1a65050-afee-4240-9887-d00640d186dd",
     "showTitle": false,
     "title": ""
    }
   },
   "outputs": [],
   "source": [
    "featVect = VectorAssembler(inputCols=[\"IslandIdx\", \"normalizedFeatures\"], outputCol=\"featuresVector\")\n",
    "preppedData = featVect.transform(scaledData)[col(\"featuresVector\").alias(\"features\"), col(\"Species\").alias(\"label\")]\n",
    "display(preppedData)"
   ]
  },
  {
   "cell_type": "markdown",
   "metadata": {
    "application/vnd.databricks.v1+cell": {
     "cellMetadata": {},
     "inputWidgets": {},
     "nuid": "08993c61-0e88-49c3-9d8d-7611a0e6c9eb",
     "showTitle": false,
     "title": ""
    }
   },
   "source": [
    "## Train Logistic Regression Model"
   ]
  },
  {
   "cell_type": "code",
   "execution_count": 0,
   "metadata": {
    "application/vnd.databricks.v1+cell": {
     "cellMetadata": {
      "byteLimit": 2048000,
      "rowLimit": 10000
     },
     "inputWidgets": {},
     "nuid": "4972781a-2899-4ab3-80ca-667d05aba70d",
     "showTitle": false,
     "title": ""
    }
   },
   "outputs": [],
   "source": [
    "from pyspark.ml.classification import LogisticRegression\n",
    "\n",
    "lr = LogisticRegression(labelCol=\"label\", featuresCol=\"features\", maxIter=10, regParam=0.3)\n",
    "model = lr.fit(preppedData)\n",
    "print (\"Model trained!\")"
   ]
  },
  {
   "cell_type": "markdown",
   "metadata": {
    "application/vnd.databricks.v1+cell": {
     "cellMetadata": {},
     "inputWidgets": {},
     "nuid": "e5ae0f88-83ef-471c-b97f-45673b512d25",
     "showTitle": false,
     "title": ""
    }
   },
   "source": [
    "## Test model"
   ]
  },
  {
   "cell_type": "code",
   "execution_count": 0,
   "metadata": {
    "application/vnd.databricks.v1+cell": {
     "cellMetadata": {
      "byteLimit": 2048000,
      "rowLimit": 10000
     },
     "inputWidgets": {},
     "nuid": "250752c9-84e6-4223-8374-980c148393b5",
     "showTitle": false,
     "title": ""
    }
   },
   "outputs": [],
   "source": [
    "# Prepare the test data\n",
    "indexedTestData = indexer.fit(test).transform(test).drop(\"Island\")\n",
    "vectorizedTestData = numericColVector.transform(indexedTestData)\n",
    "scaledTestData = minMax.fit(vectorizedTestData).transform(vectorizedTestData)\n",
    "preppedTestData = featVect.transform(scaledTestData)[col(\"featuresVector\").alias(\"features\"), col(\"Species\").alias(\"label\")]\n",
    "\n",
    "# Get predictions\n",
    "prediction = model.transform(preppedTestData)\n",
    "predicted = prediction.select(\"features\", \"probability\", col(\"prediction\").astype(\"Int\"), col(\"label\").alias(\"trueLabel\"))\n",
    "display(predicted)"
   ]
  },
  {
   "cell_type": "code",
   "execution_count": 0,
   "metadata": {
    "application/vnd.databricks.v1+cell": {
     "cellMetadata": {
      "byteLimit": 2048000,
      "rowLimit": 10000
     },
     "inputWidgets": {},
     "nuid": "2275818f-dfb2-4133-b1ef-7c2dca8a3758",
     "showTitle": false,
     "title": ""
    }
   },
   "outputs": [],
   "source": [
    "from pyspark.ml.evaluation import MulticlassClassificationEvaluator\n",
    "\n",
    "evaluator = MulticlassClassificationEvaluator(labelCol=\"label\", predictionCol=\"prediction\")\n",
    "\n",
    "# Simple accuracy\n",
    "accuracy = evaluator.evaluate(prediction, {evaluator.metricName:\"accuracy\"})\n",
    "print(\"Accuracy:\", accuracy)\n",
    "\n",
    "# Individual class metrics\n",
    "labels = [0,1,2]\n",
    "print(\"\\nIndividual class metrics:\")\n",
    "for label in sorted(labels):\n",
    "   print (\"Class %s\" % (label))\n",
    "\n",
    "   # Precision\n",
    "   precision = evaluator.evaluate(prediction, {evaluator.metricLabel:label,\n",
    "                                               evaluator.metricName:\"precisionByLabel\"})\n",
    "   print(\"\\tPrecision:\", precision)\n",
    "\n",
    "   # Recall\n",
    "   recall = evaluator.evaluate(prediction, {evaluator.metricLabel:label,\n",
    "                                            evaluator.metricName:\"recallByLabel\"})\n",
    "   print(\"\\tRecall:\", recall)\n",
    "\n",
    "   # F1 score\n",
    "   f1 = evaluator.evaluate(prediction, {evaluator.metricLabel:label,\n",
    "                                        evaluator.metricName:\"fMeasureByLabel\"})\n",
    "   print(\"\\tF1 Score:\", f1)\n",
    "\n",
    "# Weighted (overall) metrics\n",
    "overallPrecision = evaluator.evaluate(prediction, {evaluator.metricName:\"weightedPrecision\"})\n",
    "print(\"Overall Precision:\", overallPrecision)\n",
    "overallRecall = evaluator.evaluate(prediction, {evaluator.metricName:\"weightedRecall\"})\n",
    "print(\"Overall Recall:\", overallRecall)\n",
    "overallF1 = evaluator.evaluate(prediction, {evaluator.metricName:\"weightedFMeasure\"})\n",
    "print(\"Overall F1 Score:\", overallF1)"
   ]
  },
  {
   "cell_type": "markdown",
   "metadata": {
    "application/vnd.databricks.v1+cell": {
     "cellMetadata": {},
     "inputWidgets": {},
     "nuid": "44516978-1804-44ca-925d-08997b8f5597",
     "showTitle": false,
     "title": ""
    }
   },
   "source": [
    "# Use a pipeline\n"
   ]
  },
  {
   "cell_type": "code",
   "execution_count": 0,
   "metadata": {
    "application/vnd.databricks.v1+cell": {
     "cellMetadata": {
      "byteLimit": 2048000,
      "rowLimit": 10000
     },
     "inputWidgets": {},
     "nuid": "df86f4d4-ac98-4af2-80ee-abc30cb0144c",
     "showTitle": false,
     "title": ""
    }
   },
   "outputs": [],
   "source": [
    "from pyspark.ml import Pipeline\n",
    "from pyspark.ml.feature import StringIndexer, VectorAssembler, MinMaxScaler\n",
    "from pyspark.ml.classification import LogisticRegression\n",
    "\n",
    "catFeature = \"Island\"\n",
    "numFeatures = [\"CulmenLength\", \"CulmenDepth\", \"FlipperLength\", \"BodyMass\"]\n",
    "\n",
    "# Define the feature engineering and model training algorithm steps\n",
    "catIndexer = StringIndexer(inputCol=catFeature, outputCol=catFeature + \"Idx\")\n",
    "numVector = VectorAssembler(inputCols=numFeatures, outputCol=\"numericFeatures\")\n",
    "numScaler = MinMaxScaler(inputCol = numVector.getOutputCol(), outputCol=\"normalizedFeatures\")\n",
    "featureVector = VectorAssembler(inputCols=[\"IslandIdx\", \"normalizedFeatures\"], outputCol=\"Features\")\n",
    "algo = LogisticRegression(labelCol=\"Species\", featuresCol=\"Features\", maxIter=10, regParam=0.3)\n",
    "\n",
    "# Chain the steps as stages in a pipeline\n",
    "pipeline = Pipeline(stages=[catIndexer, numVector, numScaler, featureVector, algo])\n",
    "\n",
    "# Use the pipeline to prepare data and fit the model algorithm\n",
    "model = pipeline.fit(train)\n",
    "print (\"Model trained!\")"
   ]
  },
  {
   "cell_type": "code",
   "execution_count": 0,
   "metadata": {
    "application/vnd.databricks.v1+cell": {
     "cellMetadata": {
      "byteLimit": 2048000,
      "rowLimit": 10000
     },
     "inputWidgets": {},
     "nuid": "28befb82-e8aa-4e52-8874-77175b226962",
     "showTitle": false,
     "title": ""
    }
   },
   "outputs": [],
   "source": [
    "predictions = model.transform(test)\n",
    "preds = predictions.select(\"Features\",\"probability\",col(\"prediction\").astype(\"int\"),col(\"Species\").alias(\"trulabel\"))\n",
    "display(preds)"
   ]
  },
  {
   "cell_type": "markdown",
   "metadata": {
    "application/vnd.databricks.v1+cell": {
     "cellMetadata": {},
     "inputWidgets": {},
     "nuid": "65d09071-f522-4367-b841-34a6c8c618cd",
     "showTitle": false,
     "title": ""
    }
   },
   "source": [
    "### Working with Decision Tree Algorithm"
   ]
  },
  {
   "cell_type": "code",
   "execution_count": 0,
   "metadata": {
    "application/vnd.databricks.v1+cell": {
     "cellMetadata": {
      "byteLimit": 2048000,
      "rowLimit": 10000
     },
     "inputWidgets": {},
     "nuid": "ef8618d7-509d-48f9-b484-4ac1d3097591",
     "showTitle": false,
     "title": ""
    }
   },
   "outputs": [],
   "source": [
    "from pyspark.ml import Pipeline\n",
    "from pyspark.ml.feature import StringIndexer, VectorAssembler, MinMaxScaler\n",
    "from pyspark.ml.classification import DecisionTreeClassifier\n",
    "\n",
    "catFeature = \"Island\"\n",
    "numFeatures = [\"CulmenLength\", \"CulmenDepth\", \"FlipperLength\", \"BodyMass\"]\n",
    "\n",
    "# Define the feature engineering and model steps\n",
    "catIndexer = StringIndexer(inputCol=catFeature, outputCol=catFeature + \"Idx\")\n",
    "numVector = VectorAssembler(inputCols=numFeatures, outputCol=\"numericFeatures\")\n",
    "numScaler = MinMaxScaler(inputCol = numVector.getOutputCol(), outputCol=\"normalizedFeatures\")\n",
    "featureVector = VectorAssembler(inputCols=[\"IslandIdx\", \"normalizedFeatures\"], outputCol=\"Features\")\n",
    "algo = DecisionTreeClassifier(labelCol=\"Species\", featuresCol=\"Features\", maxDepth=10)\n",
    "\n",
    "# Chain the steps as stages in a pipeline\n",
    "pipeline = Pipeline(stages=[catIndexer, numVector, numScaler, featureVector, algo])\n",
    "\n",
    "# Use the pipeline to prepare data and fit the model algorithm\n",
    "model = pipeline.fit(train)\n",
    "print (\"Model trained!\")"
   ]
  },
  {
   "cell_type": "code",
   "execution_count": 0,
   "metadata": {
    "application/vnd.databricks.v1+cell": {
     "cellMetadata": {
      "byteLimit": 2048000,
      "rowLimit": 10000
     },
     "inputWidgets": {},
     "nuid": "625cfac4-ad6e-4528-98e9-a2af7e46439d",
     "showTitle": false,
     "title": ""
    }
   },
   "outputs": [],
   "source": [
    "# Get predictions\n",
    "prediction = model.transform(test)\n",
    "predicted = prediction.select(\"Features\", \"probability\", col(\"prediction\").astype(\"Int\"), col(\"Species\").alias(\"trueLabel\"))\n",
    "\n",
    "# Generate evaluation metrics\n",
    "from pyspark.ml.evaluation import MulticlassClassificationEvaluator\n",
    "\n",
    "evaluator = MulticlassClassificationEvaluator(labelCol=\"Species\", predictionCol=\"prediction\")\n",
    "\n",
    "# Simple accuracy\n",
    "accuracy = evaluator.evaluate(prediction, {evaluator.metricName:\"accuracy\"})\n",
    "print(\"Accuracy:\", accuracy)\n",
    "\n",
    "# Class metrics\n",
    "labels = [0,1,2]\n",
    "print(\"\\nIndividual class metrics:\")\n",
    "for label in sorted(labels):\n",
    "   print (\"Class %s\" % (label))\n",
    "\n",
    "   # Precision\n",
    "   precision = evaluator.evaluate(prediction, {evaluator.metricLabel:label,\n",
    "                                                   evaluator.metricName:\"precisionByLabel\"})\n",
    "   print(\"\\tPrecision:\", precision)\n",
    "\n",
    "   # Recall\n",
    "   recall = evaluator.evaluate(prediction, {evaluator.metricLabel:label,\n",
    "                                            evaluator.metricName:\"recallByLabel\"})\n",
    "   print(\"\\tRecall:\", recall)\n",
    "\n",
    "   # F1 score\n",
    "   f1 = evaluator.evaluate(prediction, {evaluator.metricLabel:label,\n",
    "                                        evaluator.metricName:\"fMeasureByLabel\"})\n",
    "   print(\"\\tF1 Score:\", f1)\n",
    "\n",
    "# Weighed (overall) metrics\n",
    "overallPrecision = evaluator.evaluate(prediction, {evaluator.metricName:\"weightedPrecision\"})\n",
    "print(\"Overall Precision:\", overallPrecision)\n",
    "overallRecall = evaluator.evaluate(prediction, {evaluator.metricName:\"weightedRecall\"})\n",
    "print(\"Overall Recall:\", overallRecall)\n",
    "overallF1 = evaluator.evaluate(prediction, {evaluator.metricName:\"weightedFMeasure\"})\n",
    "print(\"Overall F1 Score:\", overallF1)"
   ]
  },
  {
   "cell_type": "code",
   "execution_count": 0,
   "metadata": {
    "application/vnd.databricks.v1+cell": {
     "cellMetadata": {
      "byteLimit": 2048000,
      "rowLimit": 10000
     },
     "inputWidgets": {},
     "nuid": "9603f06c-b8fa-48e1-96c9-6033473ae176",
     "showTitle": false,
     "title": ""
    }
   },
   "outputs": [],
   "source": [
    "model.save(\"/penguin.model\")"
   ]
  },
  {
   "cell_type": "code",
   "execution_count": 0,
   "metadata": {
    "application/vnd.databricks.v1+cell": {
     "cellMetadata": {
      "byteLimit": 2048000,
      "rowLimit": 10000
     },
     "inputWidgets": {},
     "nuid": "d21179d8-858a-4173-8cf6-d7264a4917c2",
     "showTitle": false,
     "title": ""
    }
   },
   "outputs": [],
   "source": [
    "from pyspark.ml.pipeline import PipelineModel\n",
    "\n",
    "persistedModel = PipelineModel.load(\"/penguin.model\")\n",
    "\n",
    "newData = spark.createDataFrame ([{\"Island\": \"Biscoe\",\n",
    "                                 \"CulmenLength\": 47.6,\n",
    "                                 \"CulmenDepth\": 14.5,\n",
    "                                 \"FlipperLength\": 215,\n",
    "                                 \"BodyMass\": 5400}])\n",
    "\n",
    "\n",
    "predictions = persistedModel.transform(newData)\n",
    "display(predictions.select(\"Island\", \"CulmenDepth\", \"CulmenLength\", \"FlipperLength\", \"BodyMass\", col(\"prediction\").alias(\"PredictedSpecies\")))"
   ]
  },
  {
   "cell_type": "code",
   "execution_count": 0,
   "metadata": {
    "application/vnd.databricks.v1+cell": {
     "cellMetadata": {},
     "inputWidgets": {},
     "nuid": "0133b956-44a9-4e9d-ba94-9bb9086fd482",
     "showTitle": false,
     "title": ""
    }
   },
   "outputs": [],
   "source": []
  }
 ],
 "metadata": {
  "application/vnd.databricks.v1+notebook": {
   "dashboards": [],
   "language": "python",
   "notebookMetadata": {
    "pythonIndentUnit": 4
   },
   "notebookName": "Code11_ML_with Databricks",
   "widgets": {}
  }
 },
 "nbformat": 4,
 "nbformat_minor": 0
}
