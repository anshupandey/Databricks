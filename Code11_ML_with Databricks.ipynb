{
 "cells": [
  {
   "cell_type": "markdown",
   "metadata": {
    "application/vnd.databricks.v1+cell": {
     "cellMetadata": {},
     "inputWidgets": {},
     "nuid": "b42a4879-387b-41f9-ab2e-02381926c72a",
     "showTitle": false,
     "title": ""
    }
   },
   "source": [
    "# Machine Learning with Databricks"
   ]
  },
  {
   "cell_type": "code",
   "execution_count": 0,
   "metadata": {
    "application/vnd.databricks.v1+cell": {
     "cellMetadata": {
      "byteLimit": 2048000,
      "rowLimit": 10000
     },
     "inputWidgets": {},
     "nuid": "83622088-6e55-4f2f-8f84-93929620f4ca",
     "showTitle": false,
     "title": ""
    }
   },
   "outputs": [
    {
     "output_type": "display_data",
     "data": {
      "text/html": [
       "<style scoped>\n",
       "  .table-result-container {\n",
       "    max-height: 300px;\n",
       "    overflow: auto;\n",
       "  }\n",
       "  table, th, td {\n",
       "    border: 1px solid black;\n",
       "    border-collapse: collapse;\n",
       "  }\n",
       "  th, td {\n",
       "    padding: 5px;\n",
       "  }\n",
       "  th {\n",
       "    text-align: left;\n",
       "  }\n",
       "</style><div class='table-result-container'><table class='table-result'><thead style='background-color: white'><tr><th>Island</th><th>CulmenLength</th><th>CulmenDepth</th><th>FlipperLength</th><th>BodyMass</th><th>Species</th></tr></thead><tbody><tr><td>Torgersen</td><td>39.1</td><td>18.7</td><td>181</td><td>3750</td><td>0</td></tr><tr><td>Torgersen</td><td>39.5</td><td>17.4</td><td>186</td><td>3800</td><td>0</td></tr><tr><td>Torgersen</td><td>40.3</td><td>18</td><td>195</td><td>3250</td><td>0</td></tr><tr><td>Torgersen</td><td>null</td><td>null</td><td>null</td><td>null</td><td>0</td></tr><tr><td>Torgersen</td><td>36.7</td><td>19.3</td><td>193</td><td>3450</td><td>0</td></tr><tr><td>Torgersen</td><td>39.3</td><td>20.6</td><td>190</td><td>3650</td><td>0</td></tr><tr><td>Torgersen</td><td>38.9</td><td>17.8</td><td>181</td><td>3625</td><td>0</td></tr><tr><td>Torgersen</td><td>39.2</td><td>19.6</td><td>195</td><td>4675</td><td>0</td></tr><tr><td>Torgersen</td><td>34.1</td><td>18.1</td><td>193</td><td>3475</td><td>0</td></tr><tr><td>Torgersen</td><td>42</td><td>20.2</td><td>190</td><td>4250</td><td>0</td></tr><tr><td>Torgersen</td><td>37.8</td><td>17.1</td><td>186</td><td>3300</td><td>0</td></tr><tr><td>Torgersen</td><td>37.8</td><td>17.3</td><td>180</td><td>3700</td><td>0</td></tr><tr><td>Torgersen</td><td>41.1</td><td>17.6</td><td>182</td><td>3200</td><td>0</td></tr><tr><td>Torgersen</td><td>38.6</td><td>21.2</td><td>191</td><td>3800</td><td>0</td></tr><tr><td>Torgersen</td><td>34.6</td><td>21.1</td><td>198</td><td>4400</td><td>0</td></tr><tr><td>Torgersen</td><td>36.6</td><td>17.8</td><td>185</td><td>3700</td><td>0</td></tr><tr><td>Torgersen</td><td>38.7</td><td>19</td><td>195</td><td>3450</td><td>0</td></tr><tr><td>Torgersen</td><td>42.5</td><td>20.7</td><td>197</td><td>4500</td><td>0</td></tr><tr><td>Torgersen</td><td>34.4</td><td>18.4</td><td>184</td><td>3325</td><td>0</td></tr><tr><td>Torgersen</td><td>46</td><td>21.5</td><td>194</td><td>4200</td><td>0</td></tr><tr><td>Biscoe</td><td>37.8</td><td>18.3</td><td>174</td><td>3400</td><td>0</td></tr><tr><td>Biscoe</td><td>37.7</td><td>18.7</td><td>180</td><td>3600</td><td>0</td></tr><tr><td>Biscoe</td><td>35.9</td><td>19.2</td><td>189</td><td>3800</td><td>0</td></tr><tr><td>Biscoe</td><td>38.2</td><td>18.1</td><td>185</td><td>3950</td><td>0</td></tr><tr><td>Biscoe</td><td>38.8</td><td>17.2</td><td>180</td><td>3800</td><td>0</td></tr><tr><td>Biscoe</td><td>35.3</td><td>18.9</td><td>187</td><td>3800</td><td>0</td></tr><tr><td>Biscoe</td><td>40.6</td><td>18.6</td><td>183</td><td>3550</td><td>0</td></tr><tr><td>Biscoe</td><td>40.5</td><td>17.9</td><td>187</td><td>3200</td><td>0</td></tr><tr><td>Biscoe</td><td>37.9</td><td>18.6</td><td>172</td><td>3150</td><td>0</td></tr><tr><td>Biscoe</td><td>40.5</td><td>18.9</td><td>180</td><td>3950</td><td>0</td></tr><tr><td>Dream</td><td>39.5</td><td>16.7</td><td>178</td><td>3250</td><td>0</td></tr><tr><td>Dream</td><td>37.2</td><td>18.1</td><td>178</td><td>3900</td><td>0</td></tr><tr><td>Dream</td><td>39.5</td><td>17.8</td><td>188</td><td>3300</td><td>0</td></tr><tr><td>Dream</td><td>40.9</td><td>18.9</td><td>184</td><td>3900</td><td>0</td></tr><tr><td>Dream</td><td>36.4</td><td>17</td><td>195</td><td>3325</td><td>0</td></tr><tr><td>Dream</td><td>39.2</td><td>21.1</td><td>196</td><td>4150</td><td>0</td></tr><tr><td>Dream</td><td>38.8</td><td>20</td><td>190</td><td>3950</td><td>0</td></tr><tr><td>Dream</td><td>42.2</td><td>18.5</td><td>180</td><td>3550</td><td>0</td></tr><tr><td>Dream</td><td>37.6</td><td>19.3</td><td>181</td><td>3300</td><td>0</td></tr><tr><td>Dream</td><td>39.8</td><td>19.1</td><td>184</td><td>4650</td><td>0</td></tr><tr><td>Dream</td><td>36.5</td><td>18</td><td>182</td><td>3150</td><td>0</td></tr><tr><td>Dream</td><td>40.8</td><td>18.4</td><td>195</td><td>3900</td><td>0</td></tr><tr><td>Dream</td><td>36</td><td>18.5</td><td>186</td><td>3100</td><td>0</td></tr><tr><td>Dream</td><td>44.1</td><td>19.7</td><td>196</td><td>4400</td><td>0</td></tr><tr><td>Dream</td><td>37</td><td>16.9</td><td>185</td><td>3000</td><td>0</td></tr><tr><td>Dream</td><td>39.6</td><td>18.8</td><td>190</td><td>4600</td><td>0</td></tr><tr><td>Dream</td><td>41.1</td><td>19</td><td>182</td><td>3425</td><td>0</td></tr><tr><td>Dream</td><td>37.5</td><td>18.9</td><td>179</td><td>2975</td><td>0</td></tr><tr><td>Dream</td><td>36</td><td>17.9</td><td>190</td><td>3450</td><td>0</td></tr><tr><td>Dream</td><td>42.3</td><td>21.2</td><td>191</td><td>4150</td><td>0</td></tr><tr><td>Biscoe</td><td>39.6</td><td>17.7</td><td>186</td><td>3500</td><td>0</td></tr><tr><td>Biscoe</td><td>40.1</td><td>18.9</td><td>188</td><td>4300</td><td>0</td></tr><tr><td>Biscoe</td><td>35</td><td>17.9</td><td>190</td><td>3450</td><td>0</td></tr><tr><td>Biscoe</td><td>42</td><td>19.5</td><td>200</td><td>4050</td><td>0</td></tr><tr><td>Biscoe</td><td>34.5</td><td>18.1</td><td>187</td><td>2900</td><td>0</td></tr><tr><td>Biscoe</td><td>41.4</td><td>18.6</td><td>191</td><td>3700</td><td>0</td></tr><tr><td>Biscoe</td><td>39</td><td>17.5</td><td>186</td><td>3550</td><td>0</td></tr><tr><td>Biscoe</td><td>40.6</td><td>18.8</td><td>193</td><td>3800</td><td>0</td></tr><tr><td>Biscoe</td><td>36.5</td><td>16.6</td><td>181</td><td>2850</td><td>0</td></tr><tr><td>Biscoe</td><td>37.6</td><td>19.1</td><td>194</td><td>3750</td><td>0</td></tr><tr><td>Biscoe</td><td>35.7</td><td>16.9</td><td>185</td><td>3150</td><td>0</td></tr><tr><td>Biscoe</td><td>41.3</td><td>21.1</td><td>195</td><td>4400</td><td>0</td></tr><tr><td>Biscoe</td><td>37.6</td><td>17</td><td>185</td><td>3600</td><td>0</td></tr><tr><td>Biscoe</td><td>41.1</td><td>18.2</td><td>192</td><td>4050</td><td>0</td></tr><tr><td>Biscoe</td><td>36.4</td><td>17.1</td><td>184</td><td>2850</td><td>0</td></tr><tr><td>Biscoe</td><td>41.6</td><td>18</td><td>192</td><td>3950</td><td>0</td></tr><tr><td>Biscoe</td><td>35.5</td><td>16.2</td><td>195</td><td>3350</td><td>0</td></tr><tr><td>Biscoe</td><td>41.1</td><td>19.1</td><td>188</td><td>4100</td><td>0</td></tr><tr><td>Torgersen</td><td>35.9</td><td>16.6</td><td>190</td><td>3050</td><td>0</td></tr><tr><td>Torgersen</td><td>41.8</td><td>19.4</td><td>198</td><td>4450</td><td>0</td></tr><tr><td>Torgersen</td><td>33.5</td><td>19</td><td>190</td><td>3600</td><td>0</td></tr><tr><td>Torgersen</td><td>39.7</td><td>18.4</td><td>190</td><td>3900</td><td>0</td></tr><tr><td>Torgersen</td><td>39.6</td><td>17.2</td><td>196</td><td>3550</td><td>0</td></tr><tr><td>Torgersen</td><td>45.8</td><td>18.9</td><td>197</td><td>4150</td><td>0</td></tr><tr><td>Torgersen</td><td>35.5</td><td>17.5</td><td>190</td><td>3700</td><td>0</td></tr><tr><td>Torgersen</td><td>42.8</td><td>18.5</td><td>195</td><td>4250</td><td>0</td></tr><tr><td>Torgersen</td><td>40.9</td><td>16.8</td><td>191</td><td>3700</td><td>0</td></tr><tr><td>Torgersen</td><td>37.2</td><td>19.4</td><td>184</td><td>3900</td><td>0</td></tr><tr><td>Torgersen</td><td>36.2</td><td>16.1</td><td>187</td><td>3550</td><td>0</td></tr><tr><td>Torgersen</td><td>42.1</td><td>19.1</td><td>195</td><td>4000</td><td>0</td></tr><tr><td>Torgersen</td><td>34.6</td><td>17.2</td><td>189</td><td>3200</td><td>0</td></tr><tr><td>Torgersen</td><td>42.9</td><td>17.6</td><td>196</td><td>4700</td><td>0</td></tr><tr><td>Torgersen</td><td>36.7</td><td>18.8</td><td>187</td><td>3800</td><td>0</td></tr><tr><td>Torgersen</td><td>35.1</td><td>19.4</td><td>193</td><td>4200</td><td>0</td></tr><tr><td>Dream</td><td>37.3</td><td>17.8</td><td>191</td><td>3350</td><td>0</td></tr><tr><td>Dream</td><td>41.3</td><td>20.3</td><td>194</td><td>3550</td><td>0</td></tr><tr><td>Dream</td><td>36.3</td><td>19.5</td><td>190</td><td>3800</td><td>0</td></tr><tr><td>Dream</td><td>36.9</td><td>18.6</td><td>189</td><td>3500</td><td>0</td></tr><tr><td>Dream</td><td>38.3</td><td>19.2</td><td>189</td><td>3950</td><td>0</td></tr><tr><td>Dream</td><td>38.9</td><td>18.8</td><td>190</td><td>3600</td><td>0</td></tr><tr><td>Dream</td><td>35.7</td><td>18</td><td>202</td><td>3550</td><td>0</td></tr><tr><td>Dream</td><td>41.1</td><td>18.1</td><td>205</td><td>4300</td><td>0</td></tr><tr><td>Dream</td><td>34</td><td>17.1</td><td>185</td><td>3400</td><td>0</td></tr><tr><td>Dream</td><td>39.6</td><td>18.1</td><td>186</td><td>4450</td><td>0</td></tr><tr><td>Dream</td><td>36.2</td><td>17.3</td><td>187</td><td>3300</td><td>0</td></tr><tr><td>Dream</td><td>40.8</td><td>18.9</td><td>208</td><td>4300</td><td>0</td></tr><tr><td>Dream</td><td>38.1</td><td>18.6</td><td>190</td><td>3700</td><td>0</td></tr><tr><td>Dream</td><td>40.3</td><td>18.5</td><td>196</td><td>4350</td><td>0</td></tr><tr><td>Dream</td><td>33.1</td><td>16.1</td><td>178</td><td>2900</td><td>0</td></tr><tr><td>Dream</td><td>43.2</td><td>18.5</td><td>192</td><td>4100</td><td>0</td></tr><tr><td>Biscoe</td><td>35</td><td>17.9</td><td>192</td><td>3725</td><td>0</td></tr><tr><td>Biscoe</td><td>41</td><td>20</td><td>203</td><td>4725</td><td>0</td></tr><tr><td>Biscoe</td><td>37.7</td><td>16</td><td>183</td><td>3075</td><td>0</td></tr><tr><td>Biscoe</td><td>37.8</td><td>20</td><td>190</td><td>4250</td><td>0</td></tr><tr><td>Biscoe</td><td>37.9</td><td>18.6</td><td>193</td><td>2925</td><td>0</td></tr><tr><td>Biscoe</td><td>39.7</td><td>18.9</td><td>184</td><td>3550</td><td>0</td></tr><tr><td>Biscoe</td><td>38.6</td><td>17.2</td><td>199</td><td>3750</td><td>0</td></tr><tr><td>Biscoe</td><td>38.2</td><td>20</td><td>190</td><td>3900</td><td>0</td></tr><tr><td>Biscoe</td><td>38.1</td><td>17</td><td>181</td><td>3175</td><td>0</td></tr><tr><td>Biscoe</td><td>43.2</td><td>19</td><td>197</td><td>4775</td><td>0</td></tr><tr><td>Biscoe</td><td>38.1</td><td>16.5</td><td>198</td><td>3825</td><td>0</td></tr><tr><td>Biscoe</td><td>45.6</td><td>20.3</td><td>191</td><td>4600</td><td>0</td></tr><tr><td>Biscoe</td><td>39.7</td><td>17.7</td><td>193</td><td>3200</td><td>0</td></tr><tr><td>Biscoe</td><td>42.2</td><td>19.5</td><td>197</td><td>4275</td><td>0</td></tr><tr><td>Biscoe</td><td>39.6</td><td>20.7</td><td>191</td><td>3900</td><td>0</td></tr><tr><td>Biscoe</td><td>42.7</td><td>18.3</td><td>196</td><td>4075</td><td>0</td></tr><tr><td>Torgersen</td><td>38.6</td><td>17</td><td>188</td><td>2900</td><td>0</td></tr><tr><td>Torgersen</td><td>37.3</td><td>20.5</td><td>199</td><td>3775</td><td>0</td></tr><tr><td>Torgersen</td><td>35.7</td><td>17</td><td>189</td><td>3350</td><td>0</td></tr><tr><td>Torgersen</td><td>41.1</td><td>18.6</td><td>189</td><td>3325</td><td>0</td></tr><tr><td>Torgersen</td><td>36.2</td><td>17.2</td><td>187</td><td>3150</td><td>0</td></tr><tr><td>Torgersen</td><td>37.7</td><td>19.8</td><td>198</td><td>3500</td><td>0</td></tr><tr><td>Torgersen</td><td>40.2</td><td>17</td><td>176</td><td>3450</td><td>0</td></tr><tr><td>Torgersen</td><td>41.4</td><td>18.5</td><td>202</td><td>3875</td><td>0</td></tr><tr><td>Torgersen</td><td>35.2</td><td>15.9</td><td>186</td><td>3050</td><td>0</td></tr><tr><td>Torgersen</td><td>40.6</td><td>19</td><td>199</td><td>4000</td><td>0</td></tr><tr><td>Torgersen</td><td>38.8</td><td>17.6</td><td>191</td><td>3275</td><td>0</td></tr><tr><td>Torgersen</td><td>41.5</td><td>18.3</td><td>195</td><td>4300</td><td>0</td></tr><tr><td>Torgersen</td><td>39</td><td>17.1</td><td>191</td><td>3050</td><td>0</td></tr><tr><td>Torgersen</td><td>44.1</td><td>18</td><td>210</td><td>4000</td><td>0</td></tr><tr><td>Torgersen</td><td>38.5</td><td>17.9</td><td>190</td><td>3325</td><td>0</td></tr><tr><td>Torgersen</td><td>43.1</td><td>19.2</td><td>197</td><td>3500</td><td>0</td></tr><tr><td>Dream</td><td>36.8</td><td>18.5</td><td>193</td><td>3500</td><td>0</td></tr><tr><td>Dream</td><td>37.5</td><td>18.5</td><td>199</td><td>4475</td><td>0</td></tr><tr><td>Dream</td><td>38.1</td><td>17.6</td><td>187</td><td>3425</td><td>0</td></tr><tr><td>Dream</td><td>41.1</td><td>17.5</td><td>190</td><td>3900</td><td>0</td></tr><tr><td>Dream</td><td>35.6</td><td>17.5</td><td>191</td><td>3175</td><td>0</td></tr><tr><td>Dream</td><td>40.2</td><td>20.1</td><td>200</td><td>3975</td><td>0</td></tr><tr><td>Dream</td><td>37</td><td>16.5</td><td>185</td><td>3400</td><td>0</td></tr><tr><td>Dream</td><td>39.7</td><td>17.9</td><td>193</td><td>4250</td><td>0</td></tr><tr><td>Dream</td><td>40.2</td><td>17.1</td><td>193</td><td>3400</td><td>0</td></tr><tr><td>Dream</td><td>40.6</td><td>17.2</td><td>187</td><td>3475</td><td>0</td></tr><tr><td>Dream</td><td>32.1</td><td>15.5</td><td>188</td><td>3050</td><td>0</td></tr><tr><td>Dream</td><td>40.7</td><td>17</td><td>190</td><td>3725</td><td>0</td></tr><tr><td>Dream</td><td>37.3</td><td>16.8</td><td>192</td><td>3000</td><td>0</td></tr><tr><td>Dream</td><td>39</td><td>18.7</td><td>185</td><td>3650</td><td>0</td></tr><tr><td>Dream</td><td>39.2</td><td>18.6</td><td>190</td><td>4250</td><td>0</td></tr><tr><td>Dream</td><td>36.6</td><td>18.4</td><td>184</td><td>3475</td><td>0</td></tr><tr><td>Dream</td><td>36</td><td>17.8</td><td>195</td><td>3450</td><td>0</td></tr><tr><td>Dream</td><td>37.8</td><td>18.1</td><td>193</td><td>3750</td><td>0</td></tr><tr><td>Dream</td><td>36</td><td>17.1</td><td>187</td><td>3700</td><td>0</td></tr><tr><td>Dream</td><td>41.5</td><td>18.5</td><td>201</td><td>4000</td><td>0</td></tr><tr><td>Biscoe</td><td>46.1</td><td>13.2</td><td>211</td><td>4500</td><td>1</td></tr><tr><td>Biscoe</td><td>50</td><td>16.3</td><td>230</td><td>5700</td><td>1</td></tr><tr><td>Biscoe</td><td>48.7</td><td>14.1</td><td>210</td><td>4450</td><td>1</td></tr><tr><td>Biscoe</td><td>50</td><td>15.2</td><td>218</td><td>5700</td><td>1</td></tr><tr><td>Biscoe</td><td>47.6</td><td>14.5</td><td>215</td><td>5400</td><td>1</td></tr><tr><td>Biscoe</td><td>46.5</td><td>13.5</td><td>210</td><td>4550</td><td>1</td></tr><tr><td>Biscoe</td><td>45.4</td><td>14.6</td><td>211</td><td>4800</td><td>1</td></tr><tr><td>Biscoe</td><td>46.7</td><td>15.3</td><td>219</td><td>5200</td><td>1</td></tr><tr><td>Biscoe</td><td>43.3</td><td>13.4</td><td>209</td><td>4400</td><td>1</td></tr><tr><td>Biscoe</td><td>46.8</td><td>15.4</td><td>215</td><td>5150</td><td>1</td></tr><tr><td>Biscoe</td><td>40.9</td><td>13.7</td><td>214</td><td>4650</td><td>1</td></tr><tr><td>Biscoe</td><td>49</td><td>16.1</td><td>216</td><td>5550</td><td>1</td></tr><tr><td>Biscoe</td><td>45.5</td><td>13.7</td><td>214</td><td>4650</td><td>1</td></tr><tr><td>Biscoe</td><td>48.4</td><td>14.6</td><td>213</td><td>5850</td><td>1</td></tr><tr><td>Biscoe</td><td>45.8</td><td>14.6</td><td>210</td><td>4200</td><td>1</td></tr><tr><td>Biscoe</td><td>49.3</td><td>15.7</td><td>217</td><td>5850</td><td>1</td></tr><tr><td>Biscoe</td><td>42</td><td>13.5</td><td>210</td><td>4150</td><td>1</td></tr><tr><td>Biscoe</td><td>49.2</td><td>15.2</td><td>221</td><td>6300</td><td>1</td></tr><tr><td>Biscoe</td><td>46.2</td><td>14.5</td><td>209</td><td>4800</td><td>1</td></tr><tr><td>Biscoe</td><td>48.7</td><td>15.1</td><td>222</td><td>5350</td><td>1</td></tr><tr><td>Biscoe</td><td>50.2</td><td>14.3</td><td>218</td><td>5700</td><td>1</td></tr><tr><td>Biscoe</td><td>45.1</td><td>14.5</td><td>215</td><td>5000</td><td>1</td></tr><tr><td>Biscoe</td><td>46.5</td><td>14.5</td><td>213</td><td>4400</td><td>1</td></tr><tr><td>Biscoe</td><td>46.3</td><td>15.8</td><td>215</td><td>5050</td><td>1</td></tr><tr><td>Biscoe</td><td>42.9</td><td>13.1</td><td>215</td><td>5000</td><td>1</td></tr><tr><td>Biscoe</td><td>46.1</td><td>15.1</td><td>215</td><td>5100</td><td>1</td></tr><tr><td>Biscoe</td><td>44.5</td><td>14.3</td><td>216</td><td>4100</td><td>1</td></tr><tr><td>Biscoe</td><td>47.8</td><td>15</td><td>215</td><td>5650</td><td>1</td></tr><tr><td>Biscoe</td><td>48.2</td><td>14.3</td><td>210</td><td>4600</td><td>1</td></tr><tr><td>Biscoe</td><td>50</td><td>15.3</td><td>220</td><td>5550</td><td>1</td></tr><tr><td>Biscoe</td><td>47.3</td><td>15.3</td><td>222</td><td>5250</td><td>1</td></tr><tr><td>Biscoe</td><td>42.8</td><td>14.2</td><td>209</td><td>4700</td><td>1</td></tr><tr><td>Biscoe</td><td>45.1</td><td>14.5</td><td>207</td><td>5050</td><td>1</td></tr><tr><td>Biscoe</td><td>59.6</td><td>17</td><td>230</td><td>6050</td><td>1</td></tr><tr><td>Biscoe</td><td>49.1</td><td>14.8</td><td>220</td><td>5150</td><td>1</td></tr><tr><td>Biscoe</td><td>48.4</td><td>16.3</td><td>220</td><td>5400</td><td>1</td></tr><tr><td>Biscoe</td><td>42.6</td><td>13.7</td><td>213</td><td>4950</td><td>1</td></tr><tr><td>Biscoe</td><td>44.4</td><td>17.3</td><td>219</td><td>5250</td><td>1</td></tr><tr><td>Biscoe</td><td>44</td><td>13.6</td><td>208</td><td>4350</td><td>1</td></tr><tr><td>Biscoe</td><td>48.7</td><td>15.7</td><td>208</td><td>5350</td><td>1</td></tr><tr><td>Biscoe</td><td>42.7</td><td>13.7</td><td>208</td><td>3950</td><td>1</td></tr><tr><td>Biscoe</td><td>49.6</td><td>16</td><td>225</td><td>5700</td><td>1</td></tr><tr><td>Biscoe</td><td>45.3</td><td>13.7</td><td>210</td><td>4300</td><td>1</td></tr><tr><td>Biscoe</td><td>49.6</td><td>15</td><td>216</td><td>4750</td><td>1</td></tr><tr><td>Biscoe</td><td>50.5</td><td>15.9</td><td>222</td><td>5550</td><td>1</td></tr><tr><td>Biscoe</td><td>43.6</td><td>13.9</td><td>217</td><td>4900</td><td>1</td></tr><tr><td>Biscoe</td><td>45.5</td><td>13.9</td><td>210</td><td>4200</td><td>1</td></tr><tr><td>Biscoe</td><td>50.5</td><td>15.9</td><td>225</td><td>5400</td><td>1</td></tr><tr><td>Biscoe</td><td>44.9</td><td>13.3</td><td>213</td><td>5100</td><td>1</td></tr><tr><td>Biscoe</td><td>45.2</td><td>15.8</td><td>215</td><td>5300</td><td>1</td></tr><tr><td>Biscoe</td><td>46.6</td><td>14.2</td><td>210</td><td>4850</td><td>1</td></tr><tr><td>Biscoe</td><td>48.5</td><td>14.1</td><td>220</td><td>5300</td><td>1</td></tr><tr><td>Biscoe</td><td>45.1</td><td>14.4</td><td>210</td><td>4400</td><td>1</td></tr><tr><td>Biscoe</td><td>50.1</td><td>15</td><td>225</td><td>5000</td><td>1</td></tr><tr><td>Biscoe</td><td>46.5</td><td>14.4</td><td>217</td><td>4900</td><td>1</td></tr><tr><td>Biscoe</td><td>45</td><td>15.4</td><td>220</td><td>5050</td><td>1</td></tr><tr><td>Biscoe</td><td>43.8</td><td>13.9</td><td>208</td><td>4300</td><td>1</td></tr><tr><td>Biscoe</td><td>45.5</td><td>15</td><td>220</td><td>5000</td><td>1</td></tr><tr><td>Biscoe</td><td>43.2</td><td>14.5</td><td>208</td><td>4450</td><td>1</td></tr><tr><td>Biscoe</td><td>50.4</td><td>15.3</td><td>224</td><td>5550</td><td>1</td></tr><tr><td>Biscoe</td><td>45.3</td><td>13.8</td><td>208</td><td>4200</td><td>1</td></tr><tr><td>Biscoe</td><td>46.2</td><td>14.9</td><td>221</td><td>5300</td><td>1</td></tr><tr><td>Biscoe</td><td>45.7</td><td>13.9</td><td>214</td><td>4400</td><td>1</td></tr><tr><td>Biscoe</td><td>54.3</td><td>15.7</td><td>231</td><td>5650</td><td>1</td></tr><tr><td>Biscoe</td><td>45.8</td><td>14.2</td><td>219</td><td>4700</td><td>1</td></tr><tr><td>Biscoe</td><td>49.8</td><td>16.8</td><td>230</td><td>5700</td><td>1</td></tr><tr><td>Biscoe</td><td>46.2</td><td>14.4</td><td>214</td><td>4650</td><td>1</td></tr><tr><td>Biscoe</td><td>49.5</td><td>16.2</td><td>229</td><td>5800</td><td>1</td></tr><tr><td>Biscoe</td><td>43.5</td><td>14.2</td><td>220</td><td>4700</td><td>1</td></tr><tr><td>Biscoe</td><td>50.7</td><td>15</td><td>223</td><td>5550</td><td>1</td></tr><tr><td>Biscoe</td><td>47.7</td><td>15</td><td>216</td><td>4750</td><td>1</td></tr><tr><td>Biscoe</td><td>46.4</td><td>15.6</td><td>221</td><td>5000</td><td>1</td></tr><tr><td>Biscoe</td><td>48.2</td><td>15.6</td><td>221</td><td>5100</td><td>1</td></tr><tr><td>Biscoe</td><td>46.5</td><td>14.8</td><td>217</td><td>5200</td><td>1</td></tr><tr><td>Biscoe</td><td>46.4</td><td>15</td><td>216</td><td>4700</td><td>1</td></tr><tr><td>Biscoe</td><td>48.6</td><td>16</td><td>230</td><td>5800</td><td>1</td></tr><tr><td>Biscoe</td><td>47.5</td><td>14.2</td><td>209</td><td>4600</td><td>1</td></tr><tr><td>Biscoe</td><td>51.1</td><td>16.3</td><td>220</td><td>6000</td><td>1</td></tr><tr><td>Biscoe</td><td>45.2</td><td>13.8</td><td>215</td><td>4750</td><td>1</td></tr><tr><td>Biscoe</td><td>45.2</td><td>16.4</td><td>223</td><td>5950</td><td>1</td></tr><tr><td>Biscoe</td><td>49.1</td><td>14.5</td><td>212</td><td>4625</td><td>1</td></tr><tr><td>Biscoe</td><td>52.5</td><td>15.6</td><td>221</td><td>5450</td><td>1</td></tr><tr><td>Biscoe</td><td>47.4</td><td>14.6</td><td>212</td><td>4725</td><td>1</td></tr><tr><td>Biscoe</td><td>50</td><td>15.9</td><td>224</td><td>5350</td><td>1</td></tr><tr><td>Biscoe</td><td>44.9</td><td>13.8</td><td>212</td><td>4750</td><td>1</td></tr><tr><td>Biscoe</td><td>50.8</td><td>17.3</td><td>228</td><td>5600</td><td>1</td></tr><tr><td>Biscoe</td><td>43.4</td><td>14.4</td><td>218</td><td>4600</td><td>1</td></tr><tr><td>Biscoe</td><td>51.3</td><td>14.2</td><td>218</td><td>5300</td><td>1</td></tr><tr><td>Biscoe</td><td>47.5</td><td>14</td><td>212</td><td>4875</td><td>1</td></tr><tr><td>Biscoe</td><td>52.1</td><td>17</td><td>230</td><td>5550</td><td>1</td></tr><tr><td>Biscoe</td><td>47.5</td><td>15</td><td>218</td><td>4950</td><td>1</td></tr><tr><td>Biscoe</td><td>52.2</td><td>17.1</td><td>228</td><td>5400</td><td>1</td></tr><tr><td>Biscoe</td><td>45.5</td><td>14.5</td><td>212</td><td>4750</td><td>1</td></tr><tr><td>Biscoe</td><td>49.5</td><td>16.1</td><td>224</td><td>5650</td><td>1</td></tr><tr><td>Biscoe</td><td>44.5</td><td>14.7</td><td>214</td><td>4850</td><td>1</td></tr><tr><td>Biscoe</td><td>50.8</td><td>15.7</td><td>226</td><td>5200</td><td>1</td></tr><tr><td>Biscoe</td><td>49.4</td><td>15.8</td><td>216</td><td>4925</td><td>1</td></tr><tr><td>Biscoe</td><td>46.9</td><td>14.6</td><td>222</td><td>4875</td><td>1</td></tr><tr><td>Biscoe</td><td>48.4</td><td>14.4</td><td>203</td><td>4625</td><td>1</td></tr><tr><td>Biscoe</td><td>51.1</td><td>16.5</td><td>225</td><td>5250</td><td>1</td></tr><tr><td>Biscoe</td><td>48.5</td><td>15</td><td>219</td><td>4850</td><td>1</td></tr><tr><td>Biscoe</td><td>55.9</td><td>17</td><td>228</td><td>5600</td><td>1</td></tr><tr><td>Biscoe</td><td>47.2</td><td>15.5</td><td>215</td><td>4975</td><td>1</td></tr><tr><td>Biscoe</td><td>49.1</td><td>15</td><td>228</td><td>5500</td><td>1</td></tr><tr><td>Biscoe</td><td>47.3</td><td>13.8</td><td>216</td><td>4725</td><td>1</td></tr><tr><td>Biscoe</td><td>46.8</td><td>16.1</td><td>215</td><td>5500</td><td>1</td></tr><tr><td>Biscoe</td><td>41.7</td><td>14.7</td><td>210</td><td>4700</td><td>1</td></tr><tr><td>Biscoe</td><td>53.4</td><td>15.8</td><td>219</td><td>5500</td><td>1</td></tr><tr><td>Biscoe</td><td>43.3</td><td>14</td><td>208</td><td>4575</td><td>1</td></tr><tr><td>Biscoe</td><td>48.1</td><td>15.1</td><td>209</td><td>5500</td><td>1</td></tr><tr><td>Biscoe</td><td>50.5</td><td>15.2</td><td>216</td><td>5000</td><td>1</td></tr><tr><td>Biscoe</td><td>49.8</td><td>15.9</td><td>229</td><td>5950</td><td>1</td></tr><tr><td>Biscoe</td><td>43.5</td><td>15.2</td><td>213</td><td>4650</td><td>1</td></tr><tr><td>Biscoe</td><td>51.5</td><td>16.3</td><td>230</td><td>5500</td><td>1</td></tr><tr><td>Biscoe</td><td>46.2</td><td>14.1</td><td>217</td><td>4375</td><td>1</td></tr><tr><td>Biscoe</td><td>55.1</td><td>16</td><td>230</td><td>5850</td><td>1</td></tr><tr><td>Biscoe</td><td>44.5</td><td>15.7</td><td>217</td><td>4875</td><td>1</td></tr><tr><td>Biscoe</td><td>48.8</td><td>16.2</td><td>222</td><td>6000</td><td>1</td></tr><tr><td>Biscoe</td><td>47.2</td><td>13.7</td><td>214</td><td>4925</td><td>1</td></tr><tr><td>Biscoe</td><td>null</td><td>null</td><td>null</td><td>null</td><td>1</td></tr><tr><td>Biscoe</td><td>46.8</td><td>14.3</td><td>215</td><td>4850</td><td>1</td></tr><tr><td>Biscoe</td><td>50.4</td><td>15.7</td><td>222</td><td>5750</td><td>1</td></tr><tr><td>Biscoe</td><td>45.2</td><td>14.8</td><td>212</td><td>5200</td><td>1</td></tr><tr><td>Biscoe</td><td>49.9</td><td>16.1</td><td>213</td><td>5400</td><td>1</td></tr><tr><td>Dream</td><td>46.5</td><td>17.9</td><td>192</td><td>3500</td><td>2</td></tr><tr><td>Dream</td><td>50</td><td>19.5</td><td>196</td><td>3900</td><td>2</td></tr><tr><td>Dream</td><td>51.3</td><td>19.2</td><td>193</td><td>3650</td><td>2</td></tr><tr><td>Dream</td><td>45.4</td><td>18.7</td><td>188</td><td>3525</td><td>2</td></tr><tr><td>Dream</td><td>52.7</td><td>19.8</td><td>197</td><td>3725</td><td>2</td></tr><tr><td>Dream</td><td>45.2</td><td>17.8</td><td>198</td><td>3950</td><td>2</td></tr><tr><td>Dream</td><td>46.1</td><td>18.2</td><td>178</td><td>3250</td><td>2</td></tr><tr><td>Dream</td><td>51.3</td><td>18.2</td><td>197</td><td>3750</td><td>2</td></tr><tr><td>Dream</td><td>46</td><td>18.9</td><td>195</td><td>4150</td><td>2</td></tr><tr><td>Dream</td><td>51.3</td><td>19.9</td><td>198</td><td>3700</td><td>2</td></tr><tr><td>Dream</td><td>46.6</td><td>17.8</td><td>193</td><td>3800</td><td>2</td></tr><tr><td>Dream</td><td>51.7</td><td>20.3</td><td>194</td><td>3775</td><td>2</td></tr><tr><td>Dream</td><td>47</td><td>17.3</td><td>185</td><td>3700</td><td>2</td></tr><tr><td>Dream</td><td>52</td><td>18.1</td><td>201</td><td>4050</td><td>2</td></tr><tr><td>Dream</td><td>45.9</td><td>17.1</td><td>190</td><td>3575</td><td>2</td></tr><tr><td>Dream</td><td>50.5</td><td>19.6</td><td>201</td><td>4050</td><td>2</td></tr><tr><td>Dream</td><td>50.3</td><td>20</td><td>197</td><td>3300</td><td>2</td></tr><tr><td>Dream</td><td>58</td><td>17.8</td><td>181</td><td>3700</td><td>2</td></tr><tr><td>Dream</td><td>46.4</td><td>18.6</td><td>190</td><td>3450</td><td>2</td></tr><tr><td>Dream</td><td>49.2</td><td>18.2</td><td>195</td><td>4400</td><td>2</td></tr><tr><td>Dream</td><td>42.4</td><td>17.3</td><td>181</td><td>3600</td><td>2</td></tr><tr><td>Dream</td><td>48.5</td><td>17.5</td><td>191</td><td>3400</td><td>2</td></tr><tr><td>Dream</td><td>43.2</td><td>16.6</td><td>187</td><td>2900</td><td>2</td></tr><tr><td>Dream</td><td>50.6</td><td>19.4</td><td>193</td><td>3800</td><td>2</td></tr><tr><td>Dream</td><td>46.7</td><td>17.9</td><td>195</td><td>3300</td><td>2</td></tr><tr><td>Dream</td><td>52</td><td>19</td><td>197</td><td>4150</td><td>2</td></tr><tr><td>Dream</td><td>50.5</td><td>18.4</td><td>200</td><td>3400</td><td>2</td></tr><tr><td>Dream</td><td>49.5</td><td>19</td><td>200</td><td>3800</td><td>2</td></tr><tr><td>Dream</td><td>46.4</td><td>17.8</td><td>191</td><td>3700</td><td>2</td></tr><tr><td>Dream</td><td>52.8</td><td>20</td><td>205</td><td>4550</td><td>2</td></tr><tr><td>Dream</td><td>40.9</td><td>16.6</td><td>187</td><td>3200</td><td>2</td></tr><tr><td>Dream</td><td>54.2</td><td>20.8</td><td>201</td><td>4300</td><td>2</td></tr><tr><td>Dream</td><td>42.5</td><td>16.7</td><td>187</td><td>3350</td><td>2</td></tr><tr><td>Dream</td><td>51</td><td>18.8</td><td>203</td><td>4100</td><td>2</td></tr><tr><td>Dream</td><td>49.7</td><td>18.6</td><td>195</td><td>3600</td><td>2</td></tr><tr><td>Dream</td><td>47.5</td><td>16.8</td><td>199</td><td>3900</td><td>2</td></tr><tr><td>Dream</td><td>47.6</td><td>18.3</td><td>195</td><td>3850</td><td>2</td></tr><tr><td>Dream</td><td>52</td><td>20.7</td><td>210</td><td>4800</td><td>2</td></tr><tr><td>Dream</td><td>46.9</td><td>16.6</td><td>192</td><td>2700</td><td>2</td></tr><tr><td>Dream</td><td>53.5</td><td>19.9</td><td>205</td><td>4500</td><td>2</td></tr><tr><td>Dream</td><td>49</td><td>19.5</td><td>210</td><td>3950</td><td>2</td></tr><tr><td>Dream</td><td>46.2</td><td>17.5</td><td>187</td><td>3650</td><td>2</td></tr><tr><td>Dream</td><td>50.9</td><td>19.1</td><td>196</td><td>3550</td><td>2</td></tr><tr><td>Dream</td><td>45.5</td><td>17</td><td>196</td><td>3500</td><td>2</td></tr><tr><td>Dream</td><td>50.9</td><td>17.9</td><td>196</td><td>3675</td><td>2</td></tr><tr><td>Dream</td><td>50.8</td><td>18.5</td><td>201</td><td>4450</td><td>2</td></tr><tr><td>Dream</td><td>50.1</td><td>17.9</td><td>190</td><td>3400</td><td>2</td></tr><tr><td>Dream</td><td>49</td><td>19.6</td><td>212</td><td>4300</td><td>2</td></tr><tr><td>Dream</td><td>51.5</td><td>18.7</td><td>187</td><td>3250</td><td>2</td></tr><tr><td>Dream</td><td>49.8</td><td>17.3</td><td>198</td><td>3675</td><td>2</td></tr><tr><td>Dream</td><td>48.1</td><td>16.4</td><td>199</td><td>3325</td><td>2</td></tr><tr><td>Dream</td><td>51.4</td><td>19</td><td>201</td><td>3950</td><td>2</td></tr><tr><td>Dream</td><td>45.7</td><td>17.3</td><td>193</td><td>3600</td><td>2</td></tr><tr><td>Dream</td><td>50.7</td><td>19.7</td><td>203</td><td>4050</td><td>2</td></tr><tr><td>Dream</td><td>42.5</td><td>17.3</td><td>187</td><td>3350</td><td>2</td></tr><tr><td>Dream</td><td>52.2</td><td>18.8</td><td>197</td><td>3450</td><td>2</td></tr><tr><td>Dream</td><td>45.2</td><td>16.6</td><td>191</td><td>3250</td><td>2</td></tr><tr><td>Dream</td><td>49.3</td><td>19.9</td><td>203</td><td>4050</td><td>2</td></tr><tr><td>Dream</td><td>50.2</td><td>18.8</td><td>202</td><td>3800</td><td>2</td></tr><tr><td>Dream</td><td>45.6</td><td>19.4</td><td>194</td><td>3525</td><td>2</td></tr><tr><td>Dream</td><td>51.9</td><td>19.5</td><td>206</td><td>3950</td><td>2</td></tr><tr><td>Dream</td><td>46.8</td><td>16.5</td><td>189</td><td>3650</td><td>2</td></tr><tr><td>Dream</td><td>45.7</td><td>17</td><td>195</td><td>3650</td><td>2</td></tr><tr><td>Dream</td><td>55.8</td><td>19.8</td><td>207</td><td>4000</td><td>2</td></tr><tr><td>Dream</td><td>43.5</td><td>18.1</td><td>202</td><td>3400</td><td>2</td></tr><tr><td>Dream</td><td>49.6</td><td>18.2</td><td>193</td><td>3775</td><td>2</td></tr><tr><td>Dream</td><td>50.8</td><td>19</td><td>210</td><td>4100</td><td>2</td></tr><tr><td>Dream</td><td>50.2</td><td>18.7</td><td>198</td><td>3775</td><td>2</td></tr></tbody></table></div>"
      ]
     },
     "metadata": {
      "application/vnd.databricks.v1+output": {
       "addedWidgets": {},
       "aggData": [],
       "aggError": "",
       "aggOverflow": false,
       "aggSchema": [],
       "aggSeriesLimitReached": false,
       "aggType": "",
       "arguments": {},
       "columnCustomDisplayInfos": {},
       "data": [
        [
         "Torgersen",
         "39.1",
         "18.7",
         "181",
         "3750",
         "0"
        ],
        [
         "Torgersen",
         "39.5",
         "17.4",
         "186",
         "3800",
         "0"
        ],
        [
         "Torgersen",
         "40.3",
         "18",
         "195",
         "3250",
         "0"
        ],
        [
         "Torgersen",
         null,
         null,
         null,
         null,
         "0"
        ],
        [
         "Torgersen",
         "36.7",
         "19.3",
         "193",
         "3450",
         "0"
        ],
        [
         "Torgersen",
         "39.3",
         "20.6",
         "190",
         "3650",
         "0"
        ],
        [
         "Torgersen",
         "38.9",
         "17.8",
         "181",
         "3625",
         "0"
        ],
        [
         "Torgersen",
         "39.2",
         "19.6",
         "195",
         "4675",
         "0"
        ],
        [
         "Torgersen",
         "34.1",
         "18.1",
         "193",
         "3475",
         "0"
        ],
        [
         "Torgersen",
         "42",
         "20.2",
         "190",
         "4250",
         "0"
        ],
        [
         "Torgersen",
         "37.8",
         "17.1",
         "186",
         "3300",
         "0"
        ],
        [
         "Torgersen",
         "37.8",
         "17.3",
         "180",
         "3700",
         "0"
        ],
        [
         "Torgersen",
         "41.1",
         "17.6",
         "182",
         "3200",
         "0"
        ],
        [
         "Torgersen",
         "38.6",
         "21.2",
         "191",
         "3800",
         "0"
        ],
        [
         "Torgersen",
         "34.6",
         "21.1",
         "198",
         "4400",
         "0"
        ],
        [
         "Torgersen",
         "36.6",
         "17.8",
         "185",
         "3700",
         "0"
        ],
        [
         "Torgersen",
         "38.7",
         "19",
         "195",
         "3450",
         "0"
        ],
        [
         "Torgersen",
         "42.5",
         "20.7",
         "197",
         "4500",
         "0"
        ],
        [
         "Torgersen",
         "34.4",
         "18.4",
         "184",
         "3325",
         "0"
        ],
        [
         "Torgersen",
         "46",
         "21.5",
         "194",
         "4200",
         "0"
        ],
        [
         "Biscoe",
         "37.8",
         "18.3",
         "174",
         "3400",
         "0"
        ],
        [
         "Biscoe",
         "37.7",
         "18.7",
         "180",
         "3600",
         "0"
        ],
        [
         "Biscoe",
         "35.9",
         "19.2",
         "189",
         "3800",
         "0"
        ],
        [
         "Biscoe",
         "38.2",
         "18.1",
         "185",
         "3950",
         "0"
        ],
        [
         "Biscoe",
         "38.8",
         "17.2",
         "180",
         "3800",
         "0"
        ],
        [
         "Biscoe",
         "35.3",
         "18.9",
         "187",
         "3800",
         "0"
        ],
        [
         "Biscoe",
         "40.6",
         "18.6",
         "183",
         "3550",
         "0"
        ],
        [
         "Biscoe",
         "40.5",
         "17.9",
         "187",
         "3200",
         "0"
        ],
        [
         "Biscoe",
         "37.9",
         "18.6",
         "172",
         "3150",
         "0"
        ],
        [
         "Biscoe",
         "40.5",
         "18.9",
         "180",
         "3950",
         "0"
        ],
        [
         "Dream",
         "39.5",
         "16.7",
         "178",
         "3250",
         "0"
        ],
        [
         "Dream",
         "37.2",
         "18.1",
         "178",
         "3900",
         "0"
        ],
        [
         "Dream",
         "39.5",
         "17.8",
         "188",
         "3300",
         "0"
        ],
        [
         "Dream",
         "40.9",
         "18.9",
         "184",
         "3900",
         "0"
        ],
        [
         "Dream",
         "36.4",
         "17",
         "195",
         "3325",
         "0"
        ],
        [
         "Dream",
         "39.2",
         "21.1",
         "196",
         "4150",
         "0"
        ],
        [
         "Dream",
         "38.8",
         "20",
         "190",
         "3950",
         "0"
        ],
        [
         "Dream",
         "42.2",
         "18.5",
         "180",
         "3550",
         "0"
        ],
        [
         "Dream",
         "37.6",
         "19.3",
         "181",
         "3300",
         "0"
        ],
        [
         "Dream",
         "39.8",
         "19.1",
         "184",
         "4650",
         "0"
        ],
        [
         "Dream",
         "36.5",
         "18",
         "182",
         "3150",
         "0"
        ],
        [
         "Dream",
         "40.8",
         "18.4",
         "195",
         "3900",
         "0"
        ],
        [
         "Dream",
         "36",
         "18.5",
         "186",
         "3100",
         "0"
        ],
        [
         "Dream",
         "44.1",
         "19.7",
         "196",
         "4400",
         "0"
        ],
        [
         "Dream",
         "37",
         "16.9",
         "185",
         "3000",
         "0"
        ],
        [
         "Dream",
         "39.6",
         "18.8",
         "190",
         "4600",
         "0"
        ],
        [
         "Dream",
         "41.1",
         "19",
         "182",
         "3425",
         "0"
        ],
        [
         "Dream",
         "37.5",
         "18.9",
         "179",
         "2975",
         "0"
        ],
        [
         "Dream",
         "36",
         "17.9",
         "190",
         "3450",
         "0"
        ],
        [
         "Dream",
         "42.3",
         "21.2",
         "191",
         "4150",
         "0"
        ],
        [
         "Biscoe",
         "39.6",
         "17.7",
         "186",
         "3500",
         "0"
        ],
        [
         "Biscoe",
         "40.1",
         "18.9",
         "188",
         "4300",
         "0"
        ],
        [
         "Biscoe",
         "35",
         "17.9",
         "190",
         "3450",
         "0"
        ],
        [
         "Biscoe",
         "42",
         "19.5",
         "200",
         "4050",
         "0"
        ],
        [
         "Biscoe",
         "34.5",
         "18.1",
         "187",
         "2900",
         "0"
        ],
        [
         "Biscoe",
         "41.4",
         "18.6",
         "191",
         "3700",
         "0"
        ],
        [
         "Biscoe",
         "39",
         "17.5",
         "186",
         "3550",
         "0"
        ],
        [
         "Biscoe",
         "40.6",
         "18.8",
         "193",
         "3800",
         "0"
        ],
        [
         "Biscoe",
         "36.5",
         "16.6",
         "181",
         "2850",
         "0"
        ],
        [
         "Biscoe",
         "37.6",
         "19.1",
         "194",
         "3750",
         "0"
        ],
        [
         "Biscoe",
         "35.7",
         "16.9",
         "185",
         "3150",
         "0"
        ],
        [
         "Biscoe",
         "41.3",
         "21.1",
         "195",
         "4400",
         "0"
        ],
        [
         "Biscoe",
         "37.6",
         "17",
         "185",
         "3600",
         "0"
        ],
        [
         "Biscoe",
         "41.1",
         "18.2",
         "192",
         "4050",
         "0"
        ],
        [
         "Biscoe",
         "36.4",
         "17.1",
         "184",
         "2850",
         "0"
        ],
        [
         "Biscoe",
         "41.6",
         "18",
         "192",
         "3950",
         "0"
        ],
        [
         "Biscoe",
         "35.5",
         "16.2",
         "195",
         "3350",
         "0"
        ],
        [
         "Biscoe",
         "41.1",
         "19.1",
         "188",
         "4100",
         "0"
        ],
        [
         "Torgersen",
         "35.9",
         "16.6",
         "190",
         "3050",
         "0"
        ],
        [
         "Torgersen",
         "41.8",
         "19.4",
         "198",
         "4450",
         "0"
        ],
        [
         "Torgersen",
         "33.5",
         "19",
         "190",
         "3600",
         "0"
        ],
        [
         "Torgersen",
         "39.7",
         "18.4",
         "190",
         "3900",
         "0"
        ],
        [
         "Torgersen",
         "39.6",
         "17.2",
         "196",
         "3550",
         "0"
        ],
        [
         "Torgersen",
         "45.8",
         "18.9",
         "197",
         "4150",
         "0"
        ],
        [
         "Torgersen",
         "35.5",
         "17.5",
         "190",
         "3700",
         "0"
        ],
        [
         "Torgersen",
         "42.8",
         "18.5",
         "195",
         "4250",
         "0"
        ],
        [
         "Torgersen",
         "40.9",
         "16.8",
         "191",
         "3700",
         "0"
        ],
        [
         "Torgersen",
         "37.2",
         "19.4",
         "184",
         "3900",
         "0"
        ],
        [
         "Torgersen",
         "36.2",
         "16.1",
         "187",
         "3550",
         "0"
        ],
        [
         "Torgersen",
         "42.1",
         "19.1",
         "195",
         "4000",
         "0"
        ],
        [
         "Torgersen",
         "34.6",
         "17.2",
         "189",
         "3200",
         "0"
        ],
        [
         "Torgersen",
         "42.9",
         "17.6",
         "196",
         "4700",
         "0"
        ],
        [
         "Torgersen",
         "36.7",
         "18.8",
         "187",
         "3800",
         "0"
        ],
        [
         "Torgersen",
         "35.1",
         "19.4",
         "193",
         "4200",
         "0"
        ],
        [
         "Dream",
         "37.3",
         "17.8",
         "191",
         "3350",
         "0"
        ],
        [
         "Dream",
         "41.3",
         "20.3",
         "194",
         "3550",
         "0"
        ],
        [
         "Dream",
         "36.3",
         "19.5",
         "190",
         "3800",
         "0"
        ],
        [
         "Dream",
         "36.9",
         "18.6",
         "189",
         "3500",
         "0"
        ],
        [
         "Dream",
         "38.3",
         "19.2",
         "189",
         "3950",
         "0"
        ],
        [
         "Dream",
         "38.9",
         "18.8",
         "190",
         "3600",
         "0"
        ],
        [
         "Dream",
         "35.7",
         "18",
         "202",
         "3550",
         "0"
        ],
        [
         "Dream",
         "41.1",
         "18.1",
         "205",
         "4300",
         "0"
        ],
        [
         "Dream",
         "34",
         "17.1",
         "185",
         "3400",
         "0"
        ],
        [
         "Dream",
         "39.6",
         "18.1",
         "186",
         "4450",
         "0"
        ],
        [
         "Dream",
         "36.2",
         "17.3",
         "187",
         "3300",
         "0"
        ],
        [
         "Dream",
         "40.8",
         "18.9",
         "208",
         "4300",
         "0"
        ],
        [
         "Dream",
         "38.1",
         "18.6",
         "190",
         "3700",
         "0"
        ],
        [
         "Dream",
         "40.3",
         "18.5",
         "196",
         "4350",
         "0"
        ],
        [
         "Dream",
         "33.1",
         "16.1",
         "178",
         "2900",
         "0"
        ],
        [
         "Dream",
         "43.2",
         "18.5",
         "192",
         "4100",
         "0"
        ],
        [
         "Biscoe",
         "35",
         "17.9",
         "192",
         "3725",
         "0"
        ],
        [
         "Biscoe",
         "41",
         "20",
         "203",
         "4725",
         "0"
        ],
        [
         "Biscoe",
         "37.7",
         "16",
         "183",
         "3075",
         "0"
        ],
        [
         "Biscoe",
         "37.8",
         "20",
         "190",
         "4250",
         "0"
        ],
        [
         "Biscoe",
         "37.9",
         "18.6",
         "193",
         "2925",
         "0"
        ],
        [
         "Biscoe",
         "39.7",
         "18.9",
         "184",
         "3550",
         "0"
        ],
        [
         "Biscoe",
         "38.6",
         "17.2",
         "199",
         "3750",
         "0"
        ],
        [
         "Biscoe",
         "38.2",
         "20",
         "190",
         "3900",
         "0"
        ],
        [
         "Biscoe",
         "38.1",
         "17",
         "181",
         "3175",
         "0"
        ],
        [
         "Biscoe",
         "43.2",
         "19",
         "197",
         "4775",
         "0"
        ],
        [
         "Biscoe",
         "38.1",
         "16.5",
         "198",
         "3825",
         "0"
        ],
        [
         "Biscoe",
         "45.6",
         "20.3",
         "191",
         "4600",
         "0"
        ],
        [
         "Biscoe",
         "39.7",
         "17.7",
         "193",
         "3200",
         "0"
        ],
        [
         "Biscoe",
         "42.2",
         "19.5",
         "197",
         "4275",
         "0"
        ],
        [
         "Biscoe",
         "39.6",
         "20.7",
         "191",
         "3900",
         "0"
        ],
        [
         "Biscoe",
         "42.7",
         "18.3",
         "196",
         "4075",
         "0"
        ],
        [
         "Torgersen",
         "38.6",
         "17",
         "188",
         "2900",
         "0"
        ],
        [
         "Torgersen",
         "37.3",
         "20.5",
         "199",
         "3775",
         "0"
        ],
        [
         "Torgersen",
         "35.7",
         "17",
         "189",
         "3350",
         "0"
        ],
        [
         "Torgersen",
         "41.1",
         "18.6",
         "189",
         "3325",
         "0"
        ],
        [
         "Torgersen",
         "36.2",
         "17.2",
         "187",
         "3150",
         "0"
        ],
        [
         "Torgersen",
         "37.7",
         "19.8",
         "198",
         "3500",
         "0"
        ],
        [
         "Torgersen",
         "40.2",
         "17",
         "176",
         "3450",
         "0"
        ],
        [
         "Torgersen",
         "41.4",
         "18.5",
         "202",
         "3875",
         "0"
        ],
        [
         "Torgersen",
         "35.2",
         "15.9",
         "186",
         "3050",
         "0"
        ],
        [
         "Torgersen",
         "40.6",
         "19",
         "199",
         "4000",
         "0"
        ],
        [
         "Torgersen",
         "38.8",
         "17.6",
         "191",
         "3275",
         "0"
        ],
        [
         "Torgersen",
         "41.5",
         "18.3",
         "195",
         "4300",
         "0"
        ],
        [
         "Torgersen",
         "39",
         "17.1",
         "191",
         "3050",
         "0"
        ],
        [
         "Torgersen",
         "44.1",
         "18",
         "210",
         "4000",
         "0"
        ],
        [
         "Torgersen",
         "38.5",
         "17.9",
         "190",
         "3325",
         "0"
        ],
        [
         "Torgersen",
         "43.1",
         "19.2",
         "197",
         "3500",
         "0"
        ],
        [
         "Dream",
         "36.8",
         "18.5",
         "193",
         "3500",
         "0"
        ],
        [
         "Dream",
         "37.5",
         "18.5",
         "199",
         "4475",
         "0"
        ],
        [
         "Dream",
         "38.1",
         "17.6",
         "187",
         "3425",
         "0"
        ],
        [
         "Dream",
         "41.1",
         "17.5",
         "190",
         "3900",
         "0"
        ],
        [
         "Dream",
         "35.6",
         "17.5",
         "191",
         "3175",
         "0"
        ],
        [
         "Dream",
         "40.2",
         "20.1",
         "200",
         "3975",
         "0"
        ],
        [
         "Dream",
         "37",
         "16.5",
         "185",
         "3400",
         "0"
        ],
        [
         "Dream",
         "39.7",
         "17.9",
         "193",
         "4250",
         "0"
        ],
        [
         "Dream",
         "40.2",
         "17.1",
         "193",
         "3400",
         "0"
        ],
        [
         "Dream",
         "40.6",
         "17.2",
         "187",
         "3475",
         "0"
        ],
        [
         "Dream",
         "32.1",
         "15.5",
         "188",
         "3050",
         "0"
        ],
        [
         "Dream",
         "40.7",
         "17",
         "190",
         "3725",
         "0"
        ],
        [
         "Dream",
         "37.3",
         "16.8",
         "192",
         "3000",
         "0"
        ],
        [
         "Dream",
         "39",
         "18.7",
         "185",
         "3650",
         "0"
        ],
        [
         "Dream",
         "39.2",
         "18.6",
         "190",
         "4250",
         "0"
        ],
        [
         "Dream",
         "36.6",
         "18.4",
         "184",
         "3475",
         "0"
        ],
        [
         "Dream",
         "36",
         "17.8",
         "195",
         "3450",
         "0"
        ],
        [
         "Dream",
         "37.8",
         "18.1",
         "193",
         "3750",
         "0"
        ],
        [
         "Dream",
         "36",
         "17.1",
         "187",
         "3700",
         "0"
        ],
        [
         "Dream",
         "41.5",
         "18.5",
         "201",
         "4000",
         "0"
        ],
        [
         "Biscoe",
         "46.1",
         "13.2",
         "211",
         "4500",
         "1"
        ],
        [
         "Biscoe",
         "50",
         "16.3",
         "230",
         "5700",
         "1"
        ],
        [
         "Biscoe",
         "48.7",
         "14.1",
         "210",
         "4450",
         "1"
        ],
        [
         "Biscoe",
         "50",
         "15.2",
         "218",
         "5700",
         "1"
        ],
        [
         "Biscoe",
         "47.6",
         "14.5",
         "215",
         "5400",
         "1"
        ],
        [
         "Biscoe",
         "46.5",
         "13.5",
         "210",
         "4550",
         "1"
        ],
        [
         "Biscoe",
         "45.4",
         "14.6",
         "211",
         "4800",
         "1"
        ],
        [
         "Biscoe",
         "46.7",
         "15.3",
         "219",
         "5200",
         "1"
        ],
        [
         "Biscoe",
         "43.3",
         "13.4",
         "209",
         "4400",
         "1"
        ],
        [
         "Biscoe",
         "46.8",
         "15.4",
         "215",
         "5150",
         "1"
        ],
        [
         "Biscoe",
         "40.9",
         "13.7",
         "214",
         "4650",
         "1"
        ],
        [
         "Biscoe",
         "49",
         "16.1",
         "216",
         "5550",
         "1"
        ],
        [
         "Biscoe",
         "45.5",
         "13.7",
         "214",
         "4650",
         "1"
        ],
        [
         "Biscoe",
         "48.4",
         "14.6",
         "213",
         "5850",
         "1"
        ],
        [
         "Biscoe",
         "45.8",
         "14.6",
         "210",
         "4200",
         "1"
        ],
        [
         "Biscoe",
         "49.3",
         "15.7",
         "217",
         "5850",
         "1"
        ],
        [
         "Biscoe",
         "42",
         "13.5",
         "210",
         "4150",
         "1"
        ],
        [
         "Biscoe",
         "49.2",
         "15.2",
         "221",
         "6300",
         "1"
        ],
        [
         "Biscoe",
         "46.2",
         "14.5",
         "209",
         "4800",
         "1"
        ],
        [
         "Biscoe",
         "48.7",
         "15.1",
         "222",
         "5350",
         "1"
        ],
        [
         "Biscoe",
         "50.2",
         "14.3",
         "218",
         "5700",
         "1"
        ],
        [
         "Biscoe",
         "45.1",
         "14.5",
         "215",
         "5000",
         "1"
        ],
        [
         "Biscoe",
         "46.5",
         "14.5",
         "213",
         "4400",
         "1"
        ],
        [
         "Biscoe",
         "46.3",
         "15.8",
         "215",
         "5050",
         "1"
        ],
        [
         "Biscoe",
         "42.9",
         "13.1",
         "215",
         "5000",
         "1"
        ],
        [
         "Biscoe",
         "46.1",
         "15.1",
         "215",
         "5100",
         "1"
        ],
        [
         "Biscoe",
         "44.5",
         "14.3",
         "216",
         "4100",
         "1"
        ],
        [
         "Biscoe",
         "47.8",
         "15",
         "215",
         "5650",
         "1"
        ],
        [
         "Biscoe",
         "48.2",
         "14.3",
         "210",
         "4600",
         "1"
        ],
        [
         "Biscoe",
         "50",
         "15.3",
         "220",
         "5550",
         "1"
        ],
        [
         "Biscoe",
         "47.3",
         "15.3",
         "222",
         "5250",
         "1"
        ],
        [
         "Biscoe",
         "42.8",
         "14.2",
         "209",
         "4700",
         "1"
        ],
        [
         "Biscoe",
         "45.1",
         "14.5",
         "207",
         "5050",
         "1"
        ],
        [
         "Biscoe",
         "59.6",
         "17",
         "230",
         "6050",
         "1"
        ],
        [
         "Biscoe",
         "49.1",
         "14.8",
         "220",
         "5150",
         "1"
        ],
        [
         "Biscoe",
         "48.4",
         "16.3",
         "220",
         "5400",
         "1"
        ],
        [
         "Biscoe",
         "42.6",
         "13.7",
         "213",
         "4950",
         "1"
        ],
        [
         "Biscoe",
         "44.4",
         "17.3",
         "219",
         "5250",
         "1"
        ],
        [
         "Biscoe",
         "44",
         "13.6",
         "208",
         "4350",
         "1"
        ],
        [
         "Biscoe",
         "48.7",
         "15.7",
         "208",
         "5350",
         "1"
        ],
        [
         "Biscoe",
         "42.7",
         "13.7",
         "208",
         "3950",
         "1"
        ],
        [
         "Biscoe",
         "49.6",
         "16",
         "225",
         "5700",
         "1"
        ],
        [
         "Biscoe",
         "45.3",
         "13.7",
         "210",
         "4300",
         "1"
        ],
        [
         "Biscoe",
         "49.6",
         "15",
         "216",
         "4750",
         "1"
        ],
        [
         "Biscoe",
         "50.5",
         "15.9",
         "222",
         "5550",
         "1"
        ],
        [
         "Biscoe",
         "43.6",
         "13.9",
         "217",
         "4900",
         "1"
        ],
        [
         "Biscoe",
         "45.5",
         "13.9",
         "210",
         "4200",
         "1"
        ],
        [
         "Biscoe",
         "50.5",
         "15.9",
         "225",
         "5400",
         "1"
        ],
        [
         "Biscoe",
         "44.9",
         "13.3",
         "213",
         "5100",
         "1"
        ],
        [
         "Biscoe",
         "45.2",
         "15.8",
         "215",
         "5300",
         "1"
        ],
        [
         "Biscoe",
         "46.6",
         "14.2",
         "210",
         "4850",
         "1"
        ],
        [
         "Biscoe",
         "48.5",
         "14.1",
         "220",
         "5300",
         "1"
        ],
        [
         "Biscoe",
         "45.1",
         "14.4",
         "210",
         "4400",
         "1"
        ],
        [
         "Biscoe",
         "50.1",
         "15",
         "225",
         "5000",
         "1"
        ],
        [
         "Biscoe",
         "46.5",
         "14.4",
         "217",
         "4900",
         "1"
        ],
        [
         "Biscoe",
         "45",
         "15.4",
         "220",
         "5050",
         "1"
        ],
        [
         "Biscoe",
         "43.8",
         "13.9",
         "208",
         "4300",
         "1"
        ],
        [
         "Biscoe",
         "45.5",
         "15",
         "220",
         "5000",
         "1"
        ],
        [
         "Biscoe",
         "43.2",
         "14.5",
         "208",
         "4450",
         "1"
        ],
        [
         "Biscoe",
         "50.4",
         "15.3",
         "224",
         "5550",
         "1"
        ],
        [
         "Biscoe",
         "45.3",
         "13.8",
         "208",
         "4200",
         "1"
        ],
        [
         "Biscoe",
         "46.2",
         "14.9",
         "221",
         "5300",
         "1"
        ],
        [
         "Biscoe",
         "45.7",
         "13.9",
         "214",
         "4400",
         "1"
        ],
        [
         "Biscoe",
         "54.3",
         "15.7",
         "231",
         "5650",
         "1"
        ],
        [
         "Biscoe",
         "45.8",
         "14.2",
         "219",
         "4700",
         "1"
        ],
        [
         "Biscoe",
         "49.8",
         "16.8",
         "230",
         "5700",
         "1"
        ],
        [
         "Biscoe",
         "46.2",
         "14.4",
         "214",
         "4650",
         "1"
        ],
        [
         "Biscoe",
         "49.5",
         "16.2",
         "229",
         "5800",
         "1"
        ],
        [
         "Biscoe",
         "43.5",
         "14.2",
         "220",
         "4700",
         "1"
        ],
        [
         "Biscoe",
         "50.7",
         "15",
         "223",
         "5550",
         "1"
        ],
        [
         "Biscoe",
         "47.7",
         "15",
         "216",
         "4750",
         "1"
        ],
        [
         "Biscoe",
         "46.4",
         "15.6",
         "221",
         "5000",
         "1"
        ],
        [
         "Biscoe",
         "48.2",
         "15.6",
         "221",
         "5100",
         "1"
        ],
        [
         "Biscoe",
         "46.5",
         "14.8",
         "217",
         "5200",
         "1"
        ],
        [
         "Biscoe",
         "46.4",
         "15",
         "216",
         "4700",
         "1"
        ],
        [
         "Biscoe",
         "48.6",
         "16",
         "230",
         "5800",
         "1"
        ],
        [
         "Biscoe",
         "47.5",
         "14.2",
         "209",
         "4600",
         "1"
        ],
        [
         "Biscoe",
         "51.1",
         "16.3",
         "220",
         "6000",
         "1"
        ],
        [
         "Biscoe",
         "45.2",
         "13.8",
         "215",
         "4750",
         "1"
        ],
        [
         "Biscoe",
         "45.2",
         "16.4",
         "223",
         "5950",
         "1"
        ],
        [
         "Biscoe",
         "49.1",
         "14.5",
         "212",
         "4625",
         "1"
        ],
        [
         "Biscoe",
         "52.5",
         "15.6",
         "221",
         "5450",
         "1"
        ],
        [
         "Biscoe",
         "47.4",
         "14.6",
         "212",
         "4725",
         "1"
        ],
        [
         "Biscoe",
         "50",
         "15.9",
         "224",
         "5350",
         "1"
        ],
        [
         "Biscoe",
         "44.9",
         "13.8",
         "212",
         "4750",
         "1"
        ],
        [
         "Biscoe",
         "50.8",
         "17.3",
         "228",
         "5600",
         "1"
        ],
        [
         "Biscoe",
         "43.4",
         "14.4",
         "218",
         "4600",
         "1"
        ],
        [
         "Biscoe",
         "51.3",
         "14.2",
         "218",
         "5300",
         "1"
        ],
        [
         "Biscoe",
         "47.5",
         "14",
         "212",
         "4875",
         "1"
        ],
        [
         "Biscoe",
         "52.1",
         "17",
         "230",
         "5550",
         "1"
        ],
        [
         "Biscoe",
         "47.5",
         "15",
         "218",
         "4950",
         "1"
        ],
        [
         "Biscoe",
         "52.2",
         "17.1",
         "228",
         "5400",
         "1"
        ],
        [
         "Biscoe",
         "45.5",
         "14.5",
         "212",
         "4750",
         "1"
        ],
        [
         "Biscoe",
         "49.5",
         "16.1",
         "224",
         "5650",
         "1"
        ],
        [
         "Biscoe",
         "44.5",
         "14.7",
         "214",
         "4850",
         "1"
        ],
        [
         "Biscoe",
         "50.8",
         "15.7",
         "226",
         "5200",
         "1"
        ],
        [
         "Biscoe",
         "49.4",
         "15.8",
         "216",
         "4925",
         "1"
        ],
        [
         "Biscoe",
         "46.9",
         "14.6",
         "222",
         "4875",
         "1"
        ],
        [
         "Biscoe",
         "48.4",
         "14.4",
         "203",
         "4625",
         "1"
        ],
        [
         "Biscoe",
         "51.1",
         "16.5",
         "225",
         "5250",
         "1"
        ],
        [
         "Biscoe",
         "48.5",
         "15",
         "219",
         "4850",
         "1"
        ],
        [
         "Biscoe",
         "55.9",
         "17",
         "228",
         "5600",
         "1"
        ],
        [
         "Biscoe",
         "47.2",
         "15.5",
         "215",
         "4975",
         "1"
        ],
        [
         "Biscoe",
         "49.1",
         "15",
         "228",
         "5500",
         "1"
        ],
        [
         "Biscoe",
         "47.3",
         "13.8",
         "216",
         "4725",
         "1"
        ],
        [
         "Biscoe",
         "46.8",
         "16.1",
         "215",
         "5500",
         "1"
        ],
        [
         "Biscoe",
         "41.7",
         "14.7",
         "210",
         "4700",
         "1"
        ],
        [
         "Biscoe",
         "53.4",
         "15.8",
         "219",
         "5500",
         "1"
        ],
        [
         "Biscoe",
         "43.3",
         "14",
         "208",
         "4575",
         "1"
        ],
        [
         "Biscoe",
         "48.1",
         "15.1",
         "209",
         "5500",
         "1"
        ],
        [
         "Biscoe",
         "50.5",
         "15.2",
         "216",
         "5000",
         "1"
        ],
        [
         "Biscoe",
         "49.8",
         "15.9",
         "229",
         "5950",
         "1"
        ],
        [
         "Biscoe",
         "43.5",
         "15.2",
         "213",
         "4650",
         "1"
        ],
        [
         "Biscoe",
         "51.5",
         "16.3",
         "230",
         "5500",
         "1"
        ],
        [
         "Biscoe",
         "46.2",
         "14.1",
         "217",
         "4375",
         "1"
        ],
        [
         "Biscoe",
         "55.1",
         "16",
         "230",
         "5850",
         "1"
        ],
        [
         "Biscoe",
         "44.5",
         "15.7",
         "217",
         "4875",
         "1"
        ],
        [
         "Biscoe",
         "48.8",
         "16.2",
         "222",
         "6000",
         "1"
        ],
        [
         "Biscoe",
         "47.2",
         "13.7",
         "214",
         "4925",
         "1"
        ],
        [
         "Biscoe",
         null,
         null,
         null,
         null,
         "1"
        ],
        [
         "Biscoe",
         "46.8",
         "14.3",
         "215",
         "4850",
         "1"
        ],
        [
         "Biscoe",
         "50.4",
         "15.7",
         "222",
         "5750",
         "1"
        ],
        [
         "Biscoe",
         "45.2",
         "14.8",
         "212",
         "5200",
         "1"
        ],
        [
         "Biscoe",
         "49.9",
         "16.1",
         "213",
         "5400",
         "1"
        ],
        [
         "Dream",
         "46.5",
         "17.9",
         "192",
         "3500",
         "2"
        ],
        [
         "Dream",
         "50",
         "19.5",
         "196",
         "3900",
         "2"
        ],
        [
         "Dream",
         "51.3",
         "19.2",
         "193",
         "3650",
         "2"
        ],
        [
         "Dream",
         "45.4",
         "18.7",
         "188",
         "3525",
         "2"
        ],
        [
         "Dream",
         "52.7",
         "19.8",
         "197",
         "3725",
         "2"
        ],
        [
         "Dream",
         "45.2",
         "17.8",
         "198",
         "3950",
         "2"
        ],
        [
         "Dream",
         "46.1",
         "18.2",
         "178",
         "3250",
         "2"
        ],
        [
         "Dream",
         "51.3",
         "18.2",
         "197",
         "3750",
         "2"
        ],
        [
         "Dream",
         "46",
         "18.9",
         "195",
         "4150",
         "2"
        ],
        [
         "Dream",
         "51.3",
         "19.9",
         "198",
         "3700",
         "2"
        ],
        [
         "Dream",
         "46.6",
         "17.8",
         "193",
         "3800",
         "2"
        ],
        [
         "Dream",
         "51.7",
         "20.3",
         "194",
         "3775",
         "2"
        ],
        [
         "Dream",
         "47",
         "17.3",
         "185",
         "3700",
         "2"
        ],
        [
         "Dream",
         "52",
         "18.1",
         "201",
         "4050",
         "2"
        ],
        [
         "Dream",
         "45.9",
         "17.1",
         "190",
         "3575",
         "2"
        ],
        [
         "Dream",
         "50.5",
         "19.6",
         "201",
         "4050",
         "2"
        ],
        [
         "Dream",
         "50.3",
         "20",
         "197",
         "3300",
         "2"
        ],
        [
         "Dream",
         "58",
         "17.8",
         "181",
         "3700",
         "2"
        ],
        [
         "Dream",
         "46.4",
         "18.6",
         "190",
         "3450",
         "2"
        ],
        [
         "Dream",
         "49.2",
         "18.2",
         "195",
         "4400",
         "2"
        ],
        [
         "Dream",
         "42.4",
         "17.3",
         "181",
         "3600",
         "2"
        ],
        [
         "Dream",
         "48.5",
         "17.5",
         "191",
         "3400",
         "2"
        ],
        [
         "Dream",
         "43.2",
         "16.6",
         "187",
         "2900",
         "2"
        ],
        [
         "Dream",
         "50.6",
         "19.4",
         "193",
         "3800",
         "2"
        ],
        [
         "Dream",
         "46.7",
         "17.9",
         "195",
         "3300",
         "2"
        ],
        [
         "Dream",
         "52",
         "19",
         "197",
         "4150",
         "2"
        ],
        [
         "Dream",
         "50.5",
         "18.4",
         "200",
         "3400",
         "2"
        ],
        [
         "Dream",
         "49.5",
         "19",
         "200",
         "3800",
         "2"
        ],
        [
         "Dream",
         "46.4",
         "17.8",
         "191",
         "3700",
         "2"
        ],
        [
         "Dream",
         "52.8",
         "20",
         "205",
         "4550",
         "2"
        ],
        [
         "Dream",
         "40.9",
         "16.6",
         "187",
         "3200",
         "2"
        ],
        [
         "Dream",
         "54.2",
         "20.8",
         "201",
         "4300",
         "2"
        ],
        [
         "Dream",
         "42.5",
         "16.7",
         "187",
         "3350",
         "2"
        ],
        [
         "Dream",
         "51",
         "18.8",
         "203",
         "4100",
         "2"
        ],
        [
         "Dream",
         "49.7",
         "18.6",
         "195",
         "3600",
         "2"
        ],
        [
         "Dream",
         "47.5",
         "16.8",
         "199",
         "3900",
         "2"
        ],
        [
         "Dream",
         "47.6",
         "18.3",
         "195",
         "3850",
         "2"
        ],
        [
         "Dream",
         "52",
         "20.7",
         "210",
         "4800",
         "2"
        ],
        [
         "Dream",
         "46.9",
         "16.6",
         "192",
         "2700",
         "2"
        ],
        [
         "Dream",
         "53.5",
         "19.9",
         "205",
         "4500",
         "2"
        ],
        [
         "Dream",
         "49",
         "19.5",
         "210",
         "3950",
         "2"
        ],
        [
         "Dream",
         "46.2",
         "17.5",
         "187",
         "3650",
         "2"
        ],
        [
         "Dream",
         "50.9",
         "19.1",
         "196",
         "3550",
         "2"
        ],
        [
         "Dream",
         "45.5",
         "17",
         "196",
         "3500",
         "2"
        ],
        [
         "Dream",
         "50.9",
         "17.9",
         "196",
         "3675",
         "2"
        ],
        [
         "Dream",
         "50.8",
         "18.5",
         "201",
         "4450",
         "2"
        ],
        [
         "Dream",
         "50.1",
         "17.9",
         "190",
         "3400",
         "2"
        ],
        [
         "Dream",
         "49",
         "19.6",
         "212",
         "4300",
         "2"
        ],
        [
         "Dream",
         "51.5",
         "18.7",
         "187",
         "3250",
         "2"
        ],
        [
         "Dream",
         "49.8",
         "17.3",
         "198",
         "3675",
         "2"
        ],
        [
         "Dream",
         "48.1",
         "16.4",
         "199",
         "3325",
         "2"
        ],
        [
         "Dream",
         "51.4",
         "19",
         "201",
         "3950",
         "2"
        ],
        [
         "Dream",
         "45.7",
         "17.3",
         "193",
         "3600",
         "2"
        ],
        [
         "Dream",
         "50.7",
         "19.7",
         "203",
         "4050",
         "2"
        ],
        [
         "Dream",
         "42.5",
         "17.3",
         "187",
         "3350",
         "2"
        ],
        [
         "Dream",
         "52.2",
         "18.8",
         "197",
         "3450",
         "2"
        ],
        [
         "Dream",
         "45.2",
         "16.6",
         "191",
         "3250",
         "2"
        ],
        [
         "Dream",
         "49.3",
         "19.9",
         "203",
         "4050",
         "2"
        ],
        [
         "Dream",
         "50.2",
         "18.8",
         "202",
         "3800",
         "2"
        ],
        [
         "Dream",
         "45.6",
         "19.4",
         "194",
         "3525",
         "2"
        ],
        [
         "Dream",
         "51.9",
         "19.5",
         "206",
         "3950",
         "2"
        ],
        [
         "Dream",
         "46.8",
         "16.5",
         "189",
         "3650",
         "2"
        ],
        [
         "Dream",
         "45.7",
         "17",
         "195",
         "3650",
         "2"
        ],
        [
         "Dream",
         "55.8",
         "19.8",
         "207",
         "4000",
         "2"
        ],
        [
         "Dream",
         "43.5",
         "18.1",
         "202",
         "3400",
         "2"
        ],
        [
         "Dream",
         "49.6",
         "18.2",
         "193",
         "3775",
         "2"
        ],
        [
         "Dream",
         "50.8",
         "19",
         "210",
         "4100",
         "2"
        ],
        [
         "Dream",
         "50.2",
         "18.7",
         "198",
         "3775",
         "2"
        ]
       ],
       "datasetInfos": [],
       "dbfsResultPath": null,
       "isJsonSchema": true,
       "metadata": {},
       "overflow": false,
       "plotOptions": {
        "customPlotOptions": {},
        "displayType": "table",
        "pivotAggregation": null,
        "pivotColumns": null,
        "xColumns": null,
        "yColumns": null
       },
       "removedWidgets": [],
       "schema": [
        {
         "metadata": "{}",
         "name": "Island",
         "type": "\"string\""
        },
        {
         "metadata": "{}",
         "name": "CulmenLength",
         "type": "\"string\""
        },
        {
         "metadata": "{}",
         "name": "CulmenDepth",
         "type": "\"string\""
        },
        {
         "metadata": "{}",
         "name": "FlipperLength",
         "type": "\"string\""
        },
        {
         "metadata": "{}",
         "name": "BodyMass",
         "type": "\"string\""
        },
        {
         "metadata": "{}",
         "name": "Species",
         "type": "\"string\""
        }
       ],
       "type": "table"
      }
     },
     "output_type": "display_data"
    }
   ],
   "source": [
    "df = spark.read.format(\"csv\").option(\"header\", \"true\").load(\"file:/Workspace/Users/anshu.india@outlook.com/databricks/data/penguins.csv\")\n",
    "display(df)"
   ]
  },
  {
   "cell_type": "code",
   "execution_count": 0,
   "metadata": {
    "application/vnd.databricks.v1+cell": {
     "cellMetadata": {
      "byteLimit": 2048000,
      "rowLimit": 10000
     },
     "inputWidgets": {},
     "nuid": "24ad645c-ca45-4589-99fc-a941f1e7746f",
     "showTitle": false,
     "title": ""
    }
   },
   "outputs": [
    {
     "output_type": "display_data",
     "data": {
      "text/html": [
       "<style scoped>\n",
       "  .table-result-container {\n",
       "    max-height: 300px;\n",
       "    overflow: auto;\n",
       "  }\n",
       "  table, th, td {\n",
       "    border: 1px solid black;\n",
       "    border-collapse: collapse;\n",
       "  }\n",
       "  th, td {\n",
       "    padding: 5px;\n",
       "  }\n",
       "  th {\n",
       "    text-align: left;\n",
       "  }\n",
       "</style><div class='table-result-container'><table class='table-result'><thead style='background-color: white'><tr><th>Island</th><th>CulmenLength</th><th>CulmenDepth</th><th>FlipperLength</th><th>BodyMass</th><th>Species</th></tr></thead><tbody><tr><td>Torgersen</td><td>39.1</td><td>18.7</td><td>181.0</td><td>3750.0</td><td>0</td></tr><tr><td>Torgersen</td><td>39.5</td><td>17.4</td><td>186.0</td><td>3800.0</td><td>0</td></tr><tr><td>Torgersen</td><td>40.3</td><td>18.0</td><td>195.0</td><td>3250.0</td><td>0</td></tr><tr><td>Torgersen</td><td>36.7</td><td>19.3</td><td>193.0</td><td>3450.0</td><td>0</td></tr><tr><td>Torgersen</td><td>39.3</td><td>20.6</td><td>190.0</td><td>3650.0</td><td>0</td></tr><tr><td>Torgersen</td><td>38.9</td><td>17.8</td><td>181.0</td><td>3625.0</td><td>0</td></tr><tr><td>Torgersen</td><td>39.2</td><td>19.6</td><td>195.0</td><td>4675.0</td><td>0</td></tr><tr><td>Torgersen</td><td>34.1</td><td>18.1</td><td>193.0</td><td>3475.0</td><td>0</td></tr><tr><td>Torgersen</td><td>42.0</td><td>20.2</td><td>190.0</td><td>4250.0</td><td>0</td></tr><tr><td>Torgersen</td><td>37.8</td><td>17.1</td><td>186.0</td><td>3300.0</td><td>0</td></tr><tr><td>Torgersen</td><td>37.8</td><td>17.3</td><td>180.0</td><td>3700.0</td><td>0</td></tr><tr><td>Torgersen</td><td>41.1</td><td>17.6</td><td>182.0</td><td>3200.0</td><td>0</td></tr><tr><td>Torgersen</td><td>38.6</td><td>21.2</td><td>191.0</td><td>3800.0</td><td>0</td></tr><tr><td>Torgersen</td><td>34.6</td><td>21.1</td><td>198.0</td><td>4400.0</td><td>0</td></tr><tr><td>Torgersen</td><td>36.6</td><td>17.8</td><td>185.0</td><td>3700.0</td><td>0</td></tr><tr><td>Torgersen</td><td>38.7</td><td>19.0</td><td>195.0</td><td>3450.0</td><td>0</td></tr><tr><td>Torgersen</td><td>42.5</td><td>20.7</td><td>197.0</td><td>4500.0</td><td>0</td></tr><tr><td>Torgersen</td><td>34.4</td><td>18.4</td><td>184.0</td><td>3325.0</td><td>0</td></tr><tr><td>Torgersen</td><td>46.0</td><td>21.5</td><td>194.0</td><td>4200.0</td><td>0</td></tr><tr><td>Biscoe</td><td>37.8</td><td>18.3</td><td>174.0</td><td>3400.0</td><td>0</td></tr><tr><td>Biscoe</td><td>37.7</td><td>18.7</td><td>180.0</td><td>3600.0</td><td>0</td></tr><tr><td>Biscoe</td><td>35.9</td><td>19.2</td><td>189.0</td><td>3800.0</td><td>0</td></tr><tr><td>Biscoe</td><td>38.2</td><td>18.1</td><td>185.0</td><td>3950.0</td><td>0</td></tr><tr><td>Biscoe</td><td>38.8</td><td>17.2</td><td>180.0</td><td>3800.0</td><td>0</td></tr><tr><td>Biscoe</td><td>35.3</td><td>18.9</td><td>187.0</td><td>3800.0</td><td>0</td></tr><tr><td>Biscoe</td><td>40.6</td><td>18.6</td><td>183.0</td><td>3550.0</td><td>0</td></tr><tr><td>Biscoe</td><td>40.5</td><td>17.9</td><td>187.0</td><td>3200.0</td><td>0</td></tr><tr><td>Biscoe</td><td>37.9</td><td>18.6</td><td>172.0</td><td>3150.0</td><td>0</td></tr><tr><td>Biscoe</td><td>40.5</td><td>18.9</td><td>180.0</td><td>3950.0</td><td>0</td></tr><tr><td>Dream</td><td>39.5</td><td>16.7</td><td>178.0</td><td>3250.0</td><td>0</td></tr><tr><td>Dream</td><td>37.2</td><td>18.1</td><td>178.0</td><td>3900.0</td><td>0</td></tr><tr><td>Dream</td><td>39.5</td><td>17.8</td><td>188.0</td><td>3300.0</td><td>0</td></tr><tr><td>Dream</td><td>40.9</td><td>18.9</td><td>184.0</td><td>3900.0</td><td>0</td></tr><tr><td>Dream</td><td>36.4</td><td>17.0</td><td>195.0</td><td>3325.0</td><td>0</td></tr><tr><td>Dream</td><td>39.2</td><td>21.1</td><td>196.0</td><td>4150.0</td><td>0</td></tr><tr><td>Dream</td><td>38.8</td><td>20.0</td><td>190.0</td><td>3950.0</td><td>0</td></tr><tr><td>Dream</td><td>42.2</td><td>18.5</td><td>180.0</td><td>3550.0</td><td>0</td></tr><tr><td>Dream</td><td>37.6</td><td>19.3</td><td>181.0</td><td>3300.0</td><td>0</td></tr><tr><td>Dream</td><td>39.8</td><td>19.1</td><td>184.0</td><td>4650.0</td><td>0</td></tr><tr><td>Dream</td><td>36.5</td><td>18.0</td><td>182.0</td><td>3150.0</td><td>0</td></tr><tr><td>Dream</td><td>40.8</td><td>18.4</td><td>195.0</td><td>3900.0</td><td>0</td></tr><tr><td>Dream</td><td>36.0</td><td>18.5</td><td>186.0</td><td>3100.0</td><td>0</td></tr><tr><td>Dream</td><td>44.1</td><td>19.7</td><td>196.0</td><td>4400.0</td><td>0</td></tr><tr><td>Dream</td><td>37.0</td><td>16.9</td><td>185.0</td><td>3000.0</td><td>0</td></tr><tr><td>Dream</td><td>39.6</td><td>18.8</td><td>190.0</td><td>4600.0</td><td>0</td></tr><tr><td>Dream</td><td>41.1</td><td>19.0</td><td>182.0</td><td>3425.0</td><td>0</td></tr><tr><td>Dream</td><td>37.5</td><td>18.9</td><td>179.0</td><td>2975.0</td><td>0</td></tr><tr><td>Dream</td><td>36.0</td><td>17.9</td><td>190.0</td><td>3450.0</td><td>0</td></tr><tr><td>Dream</td><td>42.3</td><td>21.2</td><td>191.0</td><td>4150.0</td><td>0</td></tr><tr><td>Biscoe</td><td>39.6</td><td>17.7</td><td>186.0</td><td>3500.0</td><td>0</td></tr><tr><td>Biscoe</td><td>40.1</td><td>18.9</td><td>188.0</td><td>4300.0</td><td>0</td></tr><tr><td>Biscoe</td><td>35.0</td><td>17.9</td><td>190.0</td><td>3450.0</td><td>0</td></tr><tr><td>Biscoe</td><td>42.0</td><td>19.5</td><td>200.0</td><td>4050.0</td><td>0</td></tr><tr><td>Biscoe</td><td>34.5</td><td>18.1</td><td>187.0</td><td>2900.0</td><td>0</td></tr><tr><td>Biscoe</td><td>41.4</td><td>18.6</td><td>191.0</td><td>3700.0</td><td>0</td></tr><tr><td>Biscoe</td><td>39.0</td><td>17.5</td><td>186.0</td><td>3550.0</td><td>0</td></tr><tr><td>Biscoe</td><td>40.6</td><td>18.8</td><td>193.0</td><td>3800.0</td><td>0</td></tr><tr><td>Biscoe</td><td>36.5</td><td>16.6</td><td>181.0</td><td>2850.0</td><td>0</td></tr><tr><td>Biscoe</td><td>37.6</td><td>19.1</td><td>194.0</td><td>3750.0</td><td>0</td></tr><tr><td>Biscoe</td><td>35.7</td><td>16.9</td><td>185.0</td><td>3150.0</td><td>0</td></tr><tr><td>Biscoe</td><td>41.3</td><td>21.1</td><td>195.0</td><td>4400.0</td><td>0</td></tr><tr><td>Biscoe</td><td>37.6</td><td>17.0</td><td>185.0</td><td>3600.0</td><td>0</td></tr><tr><td>Biscoe</td><td>41.1</td><td>18.2</td><td>192.0</td><td>4050.0</td><td>0</td></tr><tr><td>Biscoe</td><td>36.4</td><td>17.1</td><td>184.0</td><td>2850.0</td><td>0</td></tr><tr><td>Biscoe</td><td>41.6</td><td>18.0</td><td>192.0</td><td>3950.0</td><td>0</td></tr><tr><td>Biscoe</td><td>35.5</td><td>16.2</td><td>195.0</td><td>3350.0</td><td>0</td></tr><tr><td>Biscoe</td><td>41.1</td><td>19.1</td><td>188.0</td><td>4100.0</td><td>0</td></tr><tr><td>Torgersen</td><td>35.9</td><td>16.6</td><td>190.0</td><td>3050.0</td><td>0</td></tr><tr><td>Torgersen</td><td>41.8</td><td>19.4</td><td>198.0</td><td>4450.0</td><td>0</td></tr><tr><td>Torgersen</td><td>33.5</td><td>19.0</td><td>190.0</td><td>3600.0</td><td>0</td></tr><tr><td>Torgersen</td><td>39.7</td><td>18.4</td><td>190.0</td><td>3900.0</td><td>0</td></tr><tr><td>Torgersen</td><td>39.6</td><td>17.2</td><td>196.0</td><td>3550.0</td><td>0</td></tr><tr><td>Torgersen</td><td>45.8</td><td>18.9</td><td>197.0</td><td>4150.0</td><td>0</td></tr><tr><td>Torgersen</td><td>35.5</td><td>17.5</td><td>190.0</td><td>3700.0</td><td>0</td></tr><tr><td>Torgersen</td><td>42.8</td><td>18.5</td><td>195.0</td><td>4250.0</td><td>0</td></tr><tr><td>Torgersen</td><td>40.9</td><td>16.8</td><td>191.0</td><td>3700.0</td><td>0</td></tr><tr><td>Torgersen</td><td>37.2</td><td>19.4</td><td>184.0</td><td>3900.0</td><td>0</td></tr><tr><td>Torgersen</td><td>36.2</td><td>16.1</td><td>187.0</td><td>3550.0</td><td>0</td></tr><tr><td>Torgersen</td><td>42.1</td><td>19.1</td><td>195.0</td><td>4000.0</td><td>0</td></tr><tr><td>Torgersen</td><td>34.6</td><td>17.2</td><td>189.0</td><td>3200.0</td><td>0</td></tr><tr><td>Torgersen</td><td>42.9</td><td>17.6</td><td>196.0</td><td>4700.0</td><td>0</td></tr><tr><td>Torgersen</td><td>36.7</td><td>18.8</td><td>187.0</td><td>3800.0</td><td>0</td></tr><tr><td>Torgersen</td><td>35.1</td><td>19.4</td><td>193.0</td><td>4200.0</td><td>0</td></tr><tr><td>Dream</td><td>37.3</td><td>17.8</td><td>191.0</td><td>3350.0</td><td>0</td></tr><tr><td>Dream</td><td>41.3</td><td>20.3</td><td>194.0</td><td>3550.0</td><td>0</td></tr><tr><td>Dream</td><td>36.3</td><td>19.5</td><td>190.0</td><td>3800.0</td><td>0</td></tr><tr><td>Dream</td><td>36.9</td><td>18.6</td><td>189.0</td><td>3500.0</td><td>0</td></tr><tr><td>Dream</td><td>38.3</td><td>19.2</td><td>189.0</td><td>3950.0</td><td>0</td></tr><tr><td>Dream</td><td>38.9</td><td>18.8</td><td>190.0</td><td>3600.0</td><td>0</td></tr><tr><td>Dream</td><td>35.7</td><td>18.0</td><td>202.0</td><td>3550.0</td><td>0</td></tr><tr><td>Dream</td><td>41.1</td><td>18.1</td><td>205.0</td><td>4300.0</td><td>0</td></tr><tr><td>Dream</td><td>34.0</td><td>17.1</td><td>185.0</td><td>3400.0</td><td>0</td></tr><tr><td>Dream</td><td>39.6</td><td>18.1</td><td>186.0</td><td>4450.0</td><td>0</td></tr><tr><td>Dream</td><td>36.2</td><td>17.3</td><td>187.0</td><td>3300.0</td><td>0</td></tr><tr><td>Dream</td><td>40.8</td><td>18.9</td><td>208.0</td><td>4300.0</td><td>0</td></tr><tr><td>Dream</td><td>38.1</td><td>18.6</td><td>190.0</td><td>3700.0</td><td>0</td></tr><tr><td>Dream</td><td>40.3</td><td>18.5</td><td>196.0</td><td>4350.0</td><td>0</td></tr><tr><td>Dream</td><td>33.1</td><td>16.1</td><td>178.0</td><td>2900.0</td><td>0</td></tr><tr><td>Dream</td><td>43.2</td><td>18.5</td><td>192.0</td><td>4100.0</td><td>0</td></tr><tr><td>Biscoe</td><td>35.0</td><td>17.9</td><td>192.0</td><td>3725.0</td><td>0</td></tr><tr><td>Biscoe</td><td>41.0</td><td>20.0</td><td>203.0</td><td>4725.0</td><td>0</td></tr><tr><td>Biscoe</td><td>37.7</td><td>16.0</td><td>183.0</td><td>3075.0</td><td>0</td></tr><tr><td>Biscoe</td><td>37.8</td><td>20.0</td><td>190.0</td><td>4250.0</td><td>0</td></tr><tr><td>Biscoe</td><td>37.9</td><td>18.6</td><td>193.0</td><td>2925.0</td><td>0</td></tr><tr><td>Biscoe</td><td>39.7</td><td>18.9</td><td>184.0</td><td>3550.0</td><td>0</td></tr><tr><td>Biscoe</td><td>38.6</td><td>17.2</td><td>199.0</td><td>3750.0</td><td>0</td></tr><tr><td>Biscoe</td><td>38.2</td><td>20.0</td><td>190.0</td><td>3900.0</td><td>0</td></tr><tr><td>Biscoe</td><td>38.1</td><td>17.0</td><td>181.0</td><td>3175.0</td><td>0</td></tr><tr><td>Biscoe</td><td>43.2</td><td>19.0</td><td>197.0</td><td>4775.0</td><td>0</td></tr><tr><td>Biscoe</td><td>38.1</td><td>16.5</td><td>198.0</td><td>3825.0</td><td>0</td></tr><tr><td>Biscoe</td><td>45.6</td><td>20.3</td><td>191.0</td><td>4600.0</td><td>0</td></tr><tr><td>Biscoe</td><td>39.7</td><td>17.7</td><td>193.0</td><td>3200.0</td><td>0</td></tr><tr><td>Biscoe</td><td>42.2</td><td>19.5</td><td>197.0</td><td>4275.0</td><td>0</td></tr><tr><td>Biscoe</td><td>39.6</td><td>20.7</td><td>191.0</td><td>3900.0</td><td>0</td></tr><tr><td>Biscoe</td><td>42.7</td><td>18.3</td><td>196.0</td><td>4075.0</td><td>0</td></tr><tr><td>Torgersen</td><td>38.6</td><td>17.0</td><td>188.0</td><td>2900.0</td><td>0</td></tr><tr><td>Torgersen</td><td>37.3</td><td>20.5</td><td>199.0</td><td>3775.0</td><td>0</td></tr><tr><td>Torgersen</td><td>35.7</td><td>17.0</td><td>189.0</td><td>3350.0</td><td>0</td></tr><tr><td>Torgersen</td><td>41.1</td><td>18.6</td><td>189.0</td><td>3325.0</td><td>0</td></tr><tr><td>Torgersen</td><td>36.2</td><td>17.2</td><td>187.0</td><td>3150.0</td><td>0</td></tr><tr><td>Torgersen</td><td>37.7</td><td>19.8</td><td>198.0</td><td>3500.0</td><td>0</td></tr><tr><td>Torgersen</td><td>40.2</td><td>17.0</td><td>176.0</td><td>3450.0</td><td>0</td></tr><tr><td>Torgersen</td><td>41.4</td><td>18.5</td><td>202.0</td><td>3875.0</td><td>0</td></tr><tr><td>Torgersen</td><td>35.2</td><td>15.9</td><td>186.0</td><td>3050.0</td><td>0</td></tr><tr><td>Torgersen</td><td>40.6</td><td>19.0</td><td>199.0</td><td>4000.0</td><td>0</td></tr><tr><td>Torgersen</td><td>38.8</td><td>17.6</td><td>191.0</td><td>3275.0</td><td>0</td></tr><tr><td>Torgersen</td><td>41.5</td><td>18.3</td><td>195.0</td><td>4300.0</td><td>0</td></tr><tr><td>Torgersen</td><td>39.0</td><td>17.1</td><td>191.0</td><td>3050.0</td><td>0</td></tr><tr><td>Torgersen</td><td>44.1</td><td>18.0</td><td>210.0</td><td>4000.0</td><td>0</td></tr><tr><td>Torgersen</td><td>38.5</td><td>17.9</td><td>190.0</td><td>3325.0</td><td>0</td></tr><tr><td>Torgersen</td><td>43.1</td><td>19.2</td><td>197.0</td><td>3500.0</td><td>0</td></tr><tr><td>Dream</td><td>36.8</td><td>18.5</td><td>193.0</td><td>3500.0</td><td>0</td></tr><tr><td>Dream</td><td>37.5</td><td>18.5</td><td>199.0</td><td>4475.0</td><td>0</td></tr><tr><td>Dream</td><td>38.1</td><td>17.6</td><td>187.0</td><td>3425.0</td><td>0</td></tr><tr><td>Dream</td><td>41.1</td><td>17.5</td><td>190.0</td><td>3900.0</td><td>0</td></tr><tr><td>Dream</td><td>35.6</td><td>17.5</td><td>191.0</td><td>3175.0</td><td>0</td></tr><tr><td>Dream</td><td>40.2</td><td>20.1</td><td>200.0</td><td>3975.0</td><td>0</td></tr><tr><td>Dream</td><td>37.0</td><td>16.5</td><td>185.0</td><td>3400.0</td><td>0</td></tr><tr><td>Dream</td><td>39.7</td><td>17.9</td><td>193.0</td><td>4250.0</td><td>0</td></tr><tr><td>Dream</td><td>40.2</td><td>17.1</td><td>193.0</td><td>3400.0</td><td>0</td></tr><tr><td>Dream</td><td>40.6</td><td>17.2</td><td>187.0</td><td>3475.0</td><td>0</td></tr><tr><td>Dream</td><td>32.1</td><td>15.5</td><td>188.0</td><td>3050.0</td><td>0</td></tr><tr><td>Dream</td><td>40.7</td><td>17.0</td><td>190.0</td><td>3725.0</td><td>0</td></tr><tr><td>Dream</td><td>37.3</td><td>16.8</td><td>192.0</td><td>3000.0</td><td>0</td></tr><tr><td>Dream</td><td>39.0</td><td>18.7</td><td>185.0</td><td>3650.0</td><td>0</td></tr><tr><td>Dream</td><td>39.2</td><td>18.6</td><td>190.0</td><td>4250.0</td><td>0</td></tr><tr><td>Dream</td><td>36.6</td><td>18.4</td><td>184.0</td><td>3475.0</td><td>0</td></tr><tr><td>Dream</td><td>36.0</td><td>17.8</td><td>195.0</td><td>3450.0</td><td>0</td></tr><tr><td>Dream</td><td>37.8</td><td>18.1</td><td>193.0</td><td>3750.0</td><td>0</td></tr><tr><td>Dream</td><td>36.0</td><td>17.1</td><td>187.0</td><td>3700.0</td><td>0</td></tr><tr><td>Dream</td><td>41.5</td><td>18.5</td><td>201.0</td><td>4000.0</td><td>0</td></tr><tr><td>Biscoe</td><td>46.1</td><td>13.2</td><td>211.0</td><td>4500.0</td><td>1</td></tr><tr><td>Biscoe</td><td>50.0</td><td>16.3</td><td>230.0</td><td>5700.0</td><td>1</td></tr><tr><td>Biscoe</td><td>48.7</td><td>14.1</td><td>210.0</td><td>4450.0</td><td>1</td></tr><tr><td>Biscoe</td><td>50.0</td><td>15.2</td><td>218.0</td><td>5700.0</td><td>1</td></tr><tr><td>Biscoe</td><td>47.6</td><td>14.5</td><td>215.0</td><td>5400.0</td><td>1</td></tr><tr><td>Biscoe</td><td>46.5</td><td>13.5</td><td>210.0</td><td>4550.0</td><td>1</td></tr><tr><td>Biscoe</td><td>45.4</td><td>14.6</td><td>211.0</td><td>4800.0</td><td>1</td></tr><tr><td>Biscoe</td><td>46.7</td><td>15.3</td><td>219.0</td><td>5200.0</td><td>1</td></tr><tr><td>Biscoe</td><td>43.3</td><td>13.4</td><td>209.0</td><td>4400.0</td><td>1</td></tr><tr><td>Biscoe</td><td>46.8</td><td>15.4</td><td>215.0</td><td>5150.0</td><td>1</td></tr><tr><td>Biscoe</td><td>40.9</td><td>13.7</td><td>214.0</td><td>4650.0</td><td>1</td></tr><tr><td>Biscoe</td><td>49.0</td><td>16.1</td><td>216.0</td><td>5550.0</td><td>1</td></tr><tr><td>Biscoe</td><td>45.5</td><td>13.7</td><td>214.0</td><td>4650.0</td><td>1</td></tr><tr><td>Biscoe</td><td>48.4</td><td>14.6</td><td>213.0</td><td>5850.0</td><td>1</td></tr><tr><td>Biscoe</td><td>45.8</td><td>14.6</td><td>210.0</td><td>4200.0</td><td>1</td></tr><tr><td>Biscoe</td><td>49.3</td><td>15.7</td><td>217.0</td><td>5850.0</td><td>1</td></tr><tr><td>Biscoe</td><td>42.0</td><td>13.5</td><td>210.0</td><td>4150.0</td><td>1</td></tr><tr><td>Biscoe</td><td>49.2</td><td>15.2</td><td>221.0</td><td>6300.0</td><td>1</td></tr><tr><td>Biscoe</td><td>46.2</td><td>14.5</td><td>209.0</td><td>4800.0</td><td>1</td></tr><tr><td>Biscoe</td><td>48.7</td><td>15.1</td><td>222.0</td><td>5350.0</td><td>1</td></tr><tr><td>Biscoe</td><td>50.2</td><td>14.3</td><td>218.0</td><td>5700.0</td><td>1</td></tr><tr><td>Biscoe</td><td>45.1</td><td>14.5</td><td>215.0</td><td>5000.0</td><td>1</td></tr><tr><td>Biscoe</td><td>46.5</td><td>14.5</td><td>213.0</td><td>4400.0</td><td>1</td></tr><tr><td>Biscoe</td><td>46.3</td><td>15.8</td><td>215.0</td><td>5050.0</td><td>1</td></tr><tr><td>Biscoe</td><td>42.9</td><td>13.1</td><td>215.0</td><td>5000.0</td><td>1</td></tr><tr><td>Biscoe</td><td>46.1</td><td>15.1</td><td>215.0</td><td>5100.0</td><td>1</td></tr><tr><td>Biscoe</td><td>44.5</td><td>14.3</td><td>216.0</td><td>4100.0</td><td>1</td></tr><tr><td>Biscoe</td><td>47.8</td><td>15.0</td><td>215.0</td><td>5650.0</td><td>1</td></tr><tr><td>Biscoe</td><td>48.2</td><td>14.3</td><td>210.0</td><td>4600.0</td><td>1</td></tr><tr><td>Biscoe</td><td>50.0</td><td>15.3</td><td>220.0</td><td>5550.0</td><td>1</td></tr><tr><td>Biscoe</td><td>47.3</td><td>15.3</td><td>222.0</td><td>5250.0</td><td>1</td></tr><tr><td>Biscoe</td><td>42.8</td><td>14.2</td><td>209.0</td><td>4700.0</td><td>1</td></tr><tr><td>Biscoe</td><td>45.1</td><td>14.5</td><td>207.0</td><td>5050.0</td><td>1</td></tr><tr><td>Biscoe</td><td>59.6</td><td>17.0</td><td>230.0</td><td>6050.0</td><td>1</td></tr><tr><td>Biscoe</td><td>49.1</td><td>14.8</td><td>220.0</td><td>5150.0</td><td>1</td></tr><tr><td>Biscoe</td><td>48.4</td><td>16.3</td><td>220.0</td><td>5400.0</td><td>1</td></tr><tr><td>Biscoe</td><td>42.6</td><td>13.7</td><td>213.0</td><td>4950.0</td><td>1</td></tr><tr><td>Biscoe</td><td>44.4</td><td>17.3</td><td>219.0</td><td>5250.0</td><td>1</td></tr><tr><td>Biscoe</td><td>44.0</td><td>13.6</td><td>208.0</td><td>4350.0</td><td>1</td></tr><tr><td>Biscoe</td><td>48.7</td><td>15.7</td><td>208.0</td><td>5350.0</td><td>1</td></tr><tr><td>Biscoe</td><td>42.7</td><td>13.7</td><td>208.0</td><td>3950.0</td><td>1</td></tr><tr><td>Biscoe</td><td>49.6</td><td>16.0</td><td>225.0</td><td>5700.0</td><td>1</td></tr><tr><td>Biscoe</td><td>45.3</td><td>13.7</td><td>210.0</td><td>4300.0</td><td>1</td></tr><tr><td>Biscoe</td><td>49.6</td><td>15.0</td><td>216.0</td><td>4750.0</td><td>1</td></tr><tr><td>Biscoe</td><td>50.5</td><td>15.9</td><td>222.0</td><td>5550.0</td><td>1</td></tr><tr><td>Biscoe</td><td>43.6</td><td>13.9</td><td>217.0</td><td>4900.0</td><td>1</td></tr><tr><td>Biscoe</td><td>45.5</td><td>13.9</td><td>210.0</td><td>4200.0</td><td>1</td></tr><tr><td>Biscoe</td><td>50.5</td><td>15.9</td><td>225.0</td><td>5400.0</td><td>1</td></tr><tr><td>Biscoe</td><td>44.9</td><td>13.3</td><td>213.0</td><td>5100.0</td><td>1</td></tr><tr><td>Biscoe</td><td>45.2</td><td>15.8</td><td>215.0</td><td>5300.0</td><td>1</td></tr><tr><td>Biscoe</td><td>46.6</td><td>14.2</td><td>210.0</td><td>4850.0</td><td>1</td></tr><tr><td>Biscoe</td><td>48.5</td><td>14.1</td><td>220.0</td><td>5300.0</td><td>1</td></tr><tr><td>Biscoe</td><td>45.1</td><td>14.4</td><td>210.0</td><td>4400.0</td><td>1</td></tr><tr><td>Biscoe</td><td>50.1</td><td>15.0</td><td>225.0</td><td>5000.0</td><td>1</td></tr><tr><td>Biscoe</td><td>46.5</td><td>14.4</td><td>217.0</td><td>4900.0</td><td>1</td></tr><tr><td>Biscoe</td><td>45.0</td><td>15.4</td><td>220.0</td><td>5050.0</td><td>1</td></tr><tr><td>Biscoe</td><td>43.8</td><td>13.9</td><td>208.0</td><td>4300.0</td><td>1</td></tr><tr><td>Biscoe</td><td>45.5</td><td>15.0</td><td>220.0</td><td>5000.0</td><td>1</td></tr><tr><td>Biscoe</td><td>43.2</td><td>14.5</td><td>208.0</td><td>4450.0</td><td>1</td></tr><tr><td>Biscoe</td><td>50.4</td><td>15.3</td><td>224.0</td><td>5550.0</td><td>1</td></tr><tr><td>Biscoe</td><td>45.3</td><td>13.8</td><td>208.0</td><td>4200.0</td><td>1</td></tr><tr><td>Biscoe</td><td>46.2</td><td>14.9</td><td>221.0</td><td>5300.0</td><td>1</td></tr><tr><td>Biscoe</td><td>45.7</td><td>13.9</td><td>214.0</td><td>4400.0</td><td>1</td></tr><tr><td>Biscoe</td><td>54.3</td><td>15.7</td><td>231.0</td><td>5650.0</td><td>1</td></tr><tr><td>Biscoe</td><td>45.8</td><td>14.2</td><td>219.0</td><td>4700.0</td><td>1</td></tr><tr><td>Biscoe</td><td>49.8</td><td>16.8</td><td>230.0</td><td>5700.0</td><td>1</td></tr><tr><td>Biscoe</td><td>46.2</td><td>14.4</td><td>214.0</td><td>4650.0</td><td>1</td></tr><tr><td>Biscoe</td><td>49.5</td><td>16.2</td><td>229.0</td><td>5800.0</td><td>1</td></tr><tr><td>Biscoe</td><td>43.5</td><td>14.2</td><td>220.0</td><td>4700.0</td><td>1</td></tr><tr><td>Biscoe</td><td>50.7</td><td>15.0</td><td>223.0</td><td>5550.0</td><td>1</td></tr><tr><td>Biscoe</td><td>47.7</td><td>15.0</td><td>216.0</td><td>4750.0</td><td>1</td></tr><tr><td>Biscoe</td><td>46.4</td><td>15.6</td><td>221.0</td><td>5000.0</td><td>1</td></tr><tr><td>Biscoe</td><td>48.2</td><td>15.6</td><td>221.0</td><td>5100.0</td><td>1</td></tr><tr><td>Biscoe</td><td>46.5</td><td>14.8</td><td>217.0</td><td>5200.0</td><td>1</td></tr><tr><td>Biscoe</td><td>46.4</td><td>15.0</td><td>216.0</td><td>4700.0</td><td>1</td></tr><tr><td>Biscoe</td><td>48.6</td><td>16.0</td><td>230.0</td><td>5800.0</td><td>1</td></tr><tr><td>Biscoe</td><td>47.5</td><td>14.2</td><td>209.0</td><td>4600.0</td><td>1</td></tr><tr><td>Biscoe</td><td>51.1</td><td>16.3</td><td>220.0</td><td>6000.0</td><td>1</td></tr><tr><td>Biscoe</td><td>45.2</td><td>13.8</td><td>215.0</td><td>4750.0</td><td>1</td></tr><tr><td>Biscoe</td><td>45.2</td><td>16.4</td><td>223.0</td><td>5950.0</td><td>1</td></tr><tr><td>Biscoe</td><td>49.1</td><td>14.5</td><td>212.0</td><td>4625.0</td><td>1</td></tr><tr><td>Biscoe</td><td>52.5</td><td>15.6</td><td>221.0</td><td>5450.0</td><td>1</td></tr><tr><td>Biscoe</td><td>47.4</td><td>14.6</td><td>212.0</td><td>4725.0</td><td>1</td></tr><tr><td>Biscoe</td><td>50.0</td><td>15.9</td><td>224.0</td><td>5350.0</td><td>1</td></tr><tr><td>Biscoe</td><td>44.9</td><td>13.8</td><td>212.0</td><td>4750.0</td><td>1</td></tr><tr><td>Biscoe</td><td>50.8</td><td>17.3</td><td>228.0</td><td>5600.0</td><td>1</td></tr><tr><td>Biscoe</td><td>43.4</td><td>14.4</td><td>218.0</td><td>4600.0</td><td>1</td></tr><tr><td>Biscoe</td><td>51.3</td><td>14.2</td><td>218.0</td><td>5300.0</td><td>1</td></tr><tr><td>Biscoe</td><td>47.5</td><td>14.0</td><td>212.0</td><td>4875.0</td><td>1</td></tr><tr><td>Biscoe</td><td>52.1</td><td>17.0</td><td>230.0</td><td>5550.0</td><td>1</td></tr><tr><td>Biscoe</td><td>47.5</td><td>15.0</td><td>218.0</td><td>4950.0</td><td>1</td></tr><tr><td>Biscoe</td><td>52.2</td><td>17.1</td><td>228.0</td><td>5400.0</td><td>1</td></tr><tr><td>Biscoe</td><td>45.5</td><td>14.5</td><td>212.0</td><td>4750.0</td><td>1</td></tr><tr><td>Biscoe</td><td>49.5</td><td>16.1</td><td>224.0</td><td>5650.0</td><td>1</td></tr><tr><td>Biscoe</td><td>44.5</td><td>14.7</td><td>214.0</td><td>4850.0</td><td>1</td></tr><tr><td>Biscoe</td><td>50.8</td><td>15.7</td><td>226.0</td><td>5200.0</td><td>1</td></tr><tr><td>Biscoe</td><td>49.4</td><td>15.8</td><td>216.0</td><td>4925.0</td><td>1</td></tr><tr><td>Biscoe</td><td>46.9</td><td>14.6</td><td>222.0</td><td>4875.0</td><td>1</td></tr><tr><td>Biscoe</td><td>48.4</td><td>14.4</td><td>203.0</td><td>4625.0</td><td>1</td></tr><tr><td>Biscoe</td><td>51.1</td><td>16.5</td><td>225.0</td><td>5250.0</td><td>1</td></tr><tr><td>Biscoe</td><td>48.5</td><td>15.0</td><td>219.0</td><td>4850.0</td><td>1</td></tr><tr><td>Biscoe</td><td>55.9</td><td>17.0</td><td>228.0</td><td>5600.0</td><td>1</td></tr><tr><td>Biscoe</td><td>47.2</td><td>15.5</td><td>215.0</td><td>4975.0</td><td>1</td></tr><tr><td>Biscoe</td><td>49.1</td><td>15.0</td><td>228.0</td><td>5500.0</td><td>1</td></tr><tr><td>Biscoe</td><td>47.3</td><td>13.8</td><td>216.0</td><td>4725.0</td><td>1</td></tr><tr><td>Biscoe</td><td>46.8</td><td>16.1</td><td>215.0</td><td>5500.0</td><td>1</td></tr><tr><td>Biscoe</td><td>41.7</td><td>14.7</td><td>210.0</td><td>4700.0</td><td>1</td></tr><tr><td>Biscoe</td><td>53.4</td><td>15.8</td><td>219.0</td><td>5500.0</td><td>1</td></tr><tr><td>Biscoe</td><td>43.3</td><td>14.0</td><td>208.0</td><td>4575.0</td><td>1</td></tr><tr><td>Biscoe</td><td>48.1</td><td>15.1</td><td>209.0</td><td>5500.0</td><td>1</td></tr><tr><td>Biscoe</td><td>50.5</td><td>15.2</td><td>216.0</td><td>5000.0</td><td>1</td></tr><tr><td>Biscoe</td><td>49.8</td><td>15.9</td><td>229.0</td><td>5950.0</td><td>1</td></tr><tr><td>Biscoe</td><td>43.5</td><td>15.2</td><td>213.0</td><td>4650.0</td><td>1</td></tr><tr><td>Biscoe</td><td>51.5</td><td>16.3</td><td>230.0</td><td>5500.0</td><td>1</td></tr><tr><td>Biscoe</td><td>46.2</td><td>14.1</td><td>217.0</td><td>4375.0</td><td>1</td></tr><tr><td>Biscoe</td><td>55.1</td><td>16.0</td><td>230.0</td><td>5850.0</td><td>1</td></tr><tr><td>Biscoe</td><td>44.5</td><td>15.7</td><td>217.0</td><td>4875.0</td><td>1</td></tr><tr><td>Biscoe</td><td>48.8</td><td>16.2</td><td>222.0</td><td>6000.0</td><td>1</td></tr><tr><td>Biscoe</td><td>47.2</td><td>13.7</td><td>214.0</td><td>4925.0</td><td>1</td></tr><tr><td>Biscoe</td><td>46.8</td><td>14.3</td><td>215.0</td><td>4850.0</td><td>1</td></tr><tr><td>Biscoe</td><td>50.4</td><td>15.7</td><td>222.0</td><td>5750.0</td><td>1</td></tr><tr><td>Biscoe</td><td>45.2</td><td>14.8</td><td>212.0</td><td>5200.0</td><td>1</td></tr><tr><td>Biscoe</td><td>49.9</td><td>16.1</td><td>213.0</td><td>5400.0</td><td>1</td></tr><tr><td>Dream</td><td>46.5</td><td>17.9</td><td>192.0</td><td>3500.0</td><td>2</td></tr><tr><td>Dream</td><td>50.0</td><td>19.5</td><td>196.0</td><td>3900.0</td><td>2</td></tr><tr><td>Dream</td><td>51.3</td><td>19.2</td><td>193.0</td><td>3650.0</td><td>2</td></tr><tr><td>Dream</td><td>45.4</td><td>18.7</td><td>188.0</td><td>3525.0</td><td>2</td></tr><tr><td>Dream</td><td>52.7</td><td>19.8</td><td>197.0</td><td>3725.0</td><td>2</td></tr><tr><td>Dream</td><td>45.2</td><td>17.8</td><td>198.0</td><td>3950.0</td><td>2</td></tr><tr><td>Dream</td><td>46.1</td><td>18.2</td><td>178.0</td><td>3250.0</td><td>2</td></tr><tr><td>Dream</td><td>51.3</td><td>18.2</td><td>197.0</td><td>3750.0</td><td>2</td></tr><tr><td>Dream</td><td>46.0</td><td>18.9</td><td>195.0</td><td>4150.0</td><td>2</td></tr><tr><td>Dream</td><td>51.3</td><td>19.9</td><td>198.0</td><td>3700.0</td><td>2</td></tr><tr><td>Dream</td><td>46.6</td><td>17.8</td><td>193.0</td><td>3800.0</td><td>2</td></tr><tr><td>Dream</td><td>51.7</td><td>20.3</td><td>194.0</td><td>3775.0</td><td>2</td></tr><tr><td>Dream</td><td>47.0</td><td>17.3</td><td>185.0</td><td>3700.0</td><td>2</td></tr><tr><td>Dream</td><td>52.0</td><td>18.1</td><td>201.0</td><td>4050.0</td><td>2</td></tr><tr><td>Dream</td><td>45.9</td><td>17.1</td><td>190.0</td><td>3575.0</td><td>2</td></tr><tr><td>Dream</td><td>50.5</td><td>19.6</td><td>201.0</td><td>4050.0</td><td>2</td></tr><tr><td>Dream</td><td>50.3</td><td>20.0</td><td>197.0</td><td>3300.0</td><td>2</td></tr><tr><td>Dream</td><td>58.0</td><td>17.8</td><td>181.0</td><td>3700.0</td><td>2</td></tr><tr><td>Dream</td><td>46.4</td><td>18.6</td><td>190.0</td><td>3450.0</td><td>2</td></tr><tr><td>Dream</td><td>49.2</td><td>18.2</td><td>195.0</td><td>4400.0</td><td>2</td></tr><tr><td>Dream</td><td>42.4</td><td>17.3</td><td>181.0</td><td>3600.0</td><td>2</td></tr><tr><td>Dream</td><td>48.5</td><td>17.5</td><td>191.0</td><td>3400.0</td><td>2</td></tr><tr><td>Dream</td><td>43.2</td><td>16.6</td><td>187.0</td><td>2900.0</td><td>2</td></tr><tr><td>Dream</td><td>50.6</td><td>19.4</td><td>193.0</td><td>3800.0</td><td>2</td></tr><tr><td>Dream</td><td>46.7</td><td>17.9</td><td>195.0</td><td>3300.0</td><td>2</td></tr><tr><td>Dream</td><td>52.0</td><td>19.0</td><td>197.0</td><td>4150.0</td><td>2</td></tr><tr><td>Dream</td><td>50.5</td><td>18.4</td><td>200.0</td><td>3400.0</td><td>2</td></tr><tr><td>Dream</td><td>49.5</td><td>19.0</td><td>200.0</td><td>3800.0</td><td>2</td></tr><tr><td>Dream</td><td>46.4</td><td>17.8</td><td>191.0</td><td>3700.0</td><td>2</td></tr><tr><td>Dream</td><td>52.8</td><td>20.0</td><td>205.0</td><td>4550.0</td><td>2</td></tr><tr><td>Dream</td><td>40.9</td><td>16.6</td><td>187.0</td><td>3200.0</td><td>2</td></tr><tr><td>Dream</td><td>54.2</td><td>20.8</td><td>201.0</td><td>4300.0</td><td>2</td></tr><tr><td>Dream</td><td>42.5</td><td>16.7</td><td>187.0</td><td>3350.0</td><td>2</td></tr><tr><td>Dream</td><td>51.0</td><td>18.8</td><td>203.0</td><td>4100.0</td><td>2</td></tr><tr><td>Dream</td><td>49.7</td><td>18.6</td><td>195.0</td><td>3600.0</td><td>2</td></tr><tr><td>Dream</td><td>47.5</td><td>16.8</td><td>199.0</td><td>3900.0</td><td>2</td></tr><tr><td>Dream</td><td>47.6</td><td>18.3</td><td>195.0</td><td>3850.0</td><td>2</td></tr><tr><td>Dream</td><td>52.0</td><td>20.7</td><td>210.0</td><td>4800.0</td><td>2</td></tr><tr><td>Dream</td><td>46.9</td><td>16.6</td><td>192.0</td><td>2700.0</td><td>2</td></tr><tr><td>Dream</td><td>53.5</td><td>19.9</td><td>205.0</td><td>4500.0</td><td>2</td></tr><tr><td>Dream</td><td>49.0</td><td>19.5</td><td>210.0</td><td>3950.0</td><td>2</td></tr><tr><td>Dream</td><td>46.2</td><td>17.5</td><td>187.0</td><td>3650.0</td><td>2</td></tr><tr><td>Dream</td><td>50.9</td><td>19.1</td><td>196.0</td><td>3550.0</td><td>2</td></tr><tr><td>Dream</td><td>45.5</td><td>17.0</td><td>196.0</td><td>3500.0</td><td>2</td></tr><tr><td>Dream</td><td>50.9</td><td>17.9</td><td>196.0</td><td>3675.0</td><td>2</td></tr><tr><td>Dream</td><td>50.8</td><td>18.5</td><td>201.0</td><td>4450.0</td><td>2</td></tr><tr><td>Dream</td><td>50.1</td><td>17.9</td><td>190.0</td><td>3400.0</td><td>2</td></tr><tr><td>Dream</td><td>49.0</td><td>19.6</td><td>212.0</td><td>4300.0</td><td>2</td></tr><tr><td>Dream</td><td>51.5</td><td>18.7</td><td>187.0</td><td>3250.0</td><td>2</td></tr><tr><td>Dream</td><td>49.8</td><td>17.3</td><td>198.0</td><td>3675.0</td><td>2</td></tr><tr><td>Dream</td><td>48.1</td><td>16.4</td><td>199.0</td><td>3325.0</td><td>2</td></tr><tr><td>Dream</td><td>51.4</td><td>19.0</td><td>201.0</td><td>3950.0</td><td>2</td></tr><tr><td>Dream</td><td>45.7</td><td>17.3</td><td>193.0</td><td>3600.0</td><td>2</td></tr><tr><td>Dream</td><td>50.7</td><td>19.7</td><td>203.0</td><td>4050.0</td><td>2</td></tr><tr><td>Dream</td><td>42.5</td><td>17.3</td><td>187.0</td><td>3350.0</td><td>2</td></tr><tr><td>Dream</td><td>52.2</td><td>18.8</td><td>197.0</td><td>3450.0</td><td>2</td></tr><tr><td>Dream</td><td>45.2</td><td>16.6</td><td>191.0</td><td>3250.0</td><td>2</td></tr><tr><td>Dream</td><td>49.3</td><td>19.9</td><td>203.0</td><td>4050.0</td><td>2</td></tr><tr><td>Dream</td><td>50.2</td><td>18.8</td><td>202.0</td><td>3800.0</td><td>2</td></tr><tr><td>Dream</td><td>45.6</td><td>19.4</td><td>194.0</td><td>3525.0</td><td>2</td></tr><tr><td>Dream</td><td>51.9</td><td>19.5</td><td>206.0</td><td>3950.0</td><td>2</td></tr><tr><td>Dream</td><td>46.8</td><td>16.5</td><td>189.0</td><td>3650.0</td><td>2</td></tr><tr><td>Dream</td><td>45.7</td><td>17.0</td><td>195.0</td><td>3650.0</td><td>2</td></tr><tr><td>Dream</td><td>55.8</td><td>19.8</td><td>207.0</td><td>4000.0</td><td>2</td></tr><tr><td>Dream</td><td>43.5</td><td>18.1</td><td>202.0</td><td>3400.0</td><td>2</td></tr><tr><td>Dream</td><td>49.6</td><td>18.2</td><td>193.0</td><td>3775.0</td><td>2</td></tr><tr><td>Dream</td><td>50.8</td><td>19.0</td><td>210.0</td><td>4100.0</td><td>2</td></tr><tr><td>Dream</td><td>50.2</td><td>18.7</td><td>198.0</td><td>3775.0</td><td>2</td></tr></tbody></table></div>"
      ]
     },
     "metadata": {
      "application/vnd.databricks.v1+output": {
       "addedWidgets": {},
       "aggData": [],
       "aggError": "",
       "aggOverflow": false,
       "aggSchema": [],
       "aggSeriesLimitReached": false,
       "aggType": "",
       "arguments": {},
       "columnCustomDisplayInfos": {},
       "data": [
        [
         "Torgersen",
         39.1,
         18.7,
         181.0,
         3750.0,
         0
        ],
        [
         "Torgersen",
         39.5,
         17.4,
         186.0,
         3800.0,
         0
        ],
        [
         "Torgersen",
         40.3,
         18.0,
         195.0,
         3250.0,
         0
        ],
        [
         "Torgersen",
         36.7,
         19.3,
         193.0,
         3450.0,
         0
        ],
        [
         "Torgersen",
         39.3,
         20.6,
         190.0,
         3650.0,
         0
        ],
        [
         "Torgersen",
         38.9,
         17.8,
         181.0,
         3625.0,
         0
        ],
        [
         "Torgersen",
         39.2,
         19.6,
         195.0,
         4675.0,
         0
        ],
        [
         "Torgersen",
         34.1,
         18.1,
         193.0,
         3475.0,
         0
        ],
        [
         "Torgersen",
         42.0,
         20.2,
         190.0,
         4250.0,
         0
        ],
        [
         "Torgersen",
         37.8,
         17.1,
         186.0,
         3300.0,
         0
        ],
        [
         "Torgersen",
         37.8,
         17.3,
         180.0,
         3700.0,
         0
        ],
        [
         "Torgersen",
         41.1,
         17.6,
         182.0,
         3200.0,
         0
        ],
        [
         "Torgersen",
         38.6,
         21.2,
         191.0,
         3800.0,
         0
        ],
        [
         "Torgersen",
         34.6,
         21.1,
         198.0,
         4400.0,
         0
        ],
        [
         "Torgersen",
         36.6,
         17.8,
         185.0,
         3700.0,
         0
        ],
        [
         "Torgersen",
         38.7,
         19.0,
         195.0,
         3450.0,
         0
        ],
        [
         "Torgersen",
         42.5,
         20.7,
         197.0,
         4500.0,
         0
        ],
        [
         "Torgersen",
         34.4,
         18.4,
         184.0,
         3325.0,
         0
        ],
        [
         "Torgersen",
         46.0,
         21.5,
         194.0,
         4200.0,
         0
        ],
        [
         "Biscoe",
         37.8,
         18.3,
         174.0,
         3400.0,
         0
        ],
        [
         "Biscoe",
         37.7,
         18.7,
         180.0,
         3600.0,
         0
        ],
        [
         "Biscoe",
         35.9,
         19.2,
         189.0,
         3800.0,
         0
        ],
        [
         "Biscoe",
         38.2,
         18.1,
         185.0,
         3950.0,
         0
        ],
        [
         "Biscoe",
         38.8,
         17.2,
         180.0,
         3800.0,
         0
        ],
        [
         "Biscoe",
         35.3,
         18.9,
         187.0,
         3800.0,
         0
        ],
        [
         "Biscoe",
         40.6,
         18.6,
         183.0,
         3550.0,
         0
        ],
        [
         "Biscoe",
         40.5,
         17.9,
         187.0,
         3200.0,
         0
        ],
        [
         "Biscoe",
         37.9,
         18.6,
         172.0,
         3150.0,
         0
        ],
        [
         "Biscoe",
         40.5,
         18.9,
         180.0,
         3950.0,
         0
        ],
        [
         "Dream",
         39.5,
         16.7,
         178.0,
         3250.0,
         0
        ],
        [
         "Dream",
         37.2,
         18.1,
         178.0,
         3900.0,
         0
        ],
        [
         "Dream",
         39.5,
         17.8,
         188.0,
         3300.0,
         0
        ],
        [
         "Dream",
         40.9,
         18.9,
         184.0,
         3900.0,
         0
        ],
        [
         "Dream",
         36.4,
         17.0,
         195.0,
         3325.0,
         0
        ],
        [
         "Dream",
         39.2,
         21.1,
         196.0,
         4150.0,
         0
        ],
        [
         "Dream",
         38.8,
         20.0,
         190.0,
         3950.0,
         0
        ],
        [
         "Dream",
         42.2,
         18.5,
         180.0,
         3550.0,
         0
        ],
        [
         "Dream",
         37.6,
         19.3,
         181.0,
         3300.0,
         0
        ],
        [
         "Dream",
         39.8,
         19.1,
         184.0,
         4650.0,
         0
        ],
        [
         "Dream",
         36.5,
         18.0,
         182.0,
         3150.0,
         0
        ],
        [
         "Dream",
         40.8,
         18.4,
         195.0,
         3900.0,
         0
        ],
        [
         "Dream",
         36.0,
         18.5,
         186.0,
         3100.0,
         0
        ],
        [
         "Dream",
         44.1,
         19.7,
         196.0,
         4400.0,
         0
        ],
        [
         "Dream",
         37.0,
         16.9,
         185.0,
         3000.0,
         0
        ],
        [
         "Dream",
         39.6,
         18.8,
         190.0,
         4600.0,
         0
        ],
        [
         "Dream",
         41.1,
         19.0,
         182.0,
         3425.0,
         0
        ],
        [
         "Dream",
         37.5,
         18.9,
         179.0,
         2975.0,
         0
        ],
        [
         "Dream",
         36.0,
         17.9,
         190.0,
         3450.0,
         0
        ],
        [
         "Dream",
         42.3,
         21.2,
         191.0,
         4150.0,
         0
        ],
        [
         "Biscoe",
         39.6,
         17.7,
         186.0,
         3500.0,
         0
        ],
        [
         "Biscoe",
         40.1,
         18.9,
         188.0,
         4300.0,
         0
        ],
        [
         "Biscoe",
         35.0,
         17.9,
         190.0,
         3450.0,
         0
        ],
        [
         "Biscoe",
         42.0,
         19.5,
         200.0,
         4050.0,
         0
        ],
        [
         "Biscoe",
         34.5,
         18.1,
         187.0,
         2900.0,
         0
        ],
        [
         "Biscoe",
         41.4,
         18.6,
         191.0,
         3700.0,
         0
        ],
        [
         "Biscoe",
         39.0,
         17.5,
         186.0,
         3550.0,
         0
        ],
        [
         "Biscoe",
         40.6,
         18.8,
         193.0,
         3800.0,
         0
        ],
        [
         "Biscoe",
         36.5,
         16.6,
         181.0,
         2850.0,
         0
        ],
        [
         "Biscoe",
         37.6,
         19.1,
         194.0,
         3750.0,
         0
        ],
        [
         "Biscoe",
         35.7,
         16.9,
         185.0,
         3150.0,
         0
        ],
        [
         "Biscoe",
         41.3,
         21.1,
         195.0,
         4400.0,
         0
        ],
        [
         "Biscoe",
         37.6,
         17.0,
         185.0,
         3600.0,
         0
        ],
        [
         "Biscoe",
         41.1,
         18.2,
         192.0,
         4050.0,
         0
        ],
        [
         "Biscoe",
         36.4,
         17.1,
         184.0,
         2850.0,
         0
        ],
        [
         "Biscoe",
         41.6,
         18.0,
         192.0,
         3950.0,
         0
        ],
        [
         "Biscoe",
         35.5,
         16.2,
         195.0,
         3350.0,
         0
        ],
        [
         "Biscoe",
         41.1,
         19.1,
         188.0,
         4100.0,
         0
        ],
        [
         "Torgersen",
         35.9,
         16.6,
         190.0,
         3050.0,
         0
        ],
        [
         "Torgersen",
         41.8,
         19.4,
         198.0,
         4450.0,
         0
        ],
        [
         "Torgersen",
         33.5,
         19.0,
         190.0,
         3600.0,
         0
        ],
        [
         "Torgersen",
         39.7,
         18.4,
         190.0,
         3900.0,
         0
        ],
        [
         "Torgersen",
         39.6,
         17.2,
         196.0,
         3550.0,
         0
        ],
        [
         "Torgersen",
         45.8,
         18.9,
         197.0,
         4150.0,
         0
        ],
        [
         "Torgersen",
         35.5,
         17.5,
         190.0,
         3700.0,
         0
        ],
        [
         "Torgersen",
         42.8,
         18.5,
         195.0,
         4250.0,
         0
        ],
        [
         "Torgersen",
         40.9,
         16.8,
         191.0,
         3700.0,
         0
        ],
        [
         "Torgersen",
         37.2,
         19.4,
         184.0,
         3900.0,
         0
        ],
        [
         "Torgersen",
         36.2,
         16.1,
         187.0,
         3550.0,
         0
        ],
        [
         "Torgersen",
         42.1,
         19.1,
         195.0,
         4000.0,
         0
        ],
        [
         "Torgersen",
         34.6,
         17.2,
         189.0,
         3200.0,
         0
        ],
        [
         "Torgersen",
         42.9,
         17.6,
         196.0,
         4700.0,
         0
        ],
        [
         "Torgersen",
         36.7,
         18.8,
         187.0,
         3800.0,
         0
        ],
        [
         "Torgersen",
         35.1,
         19.4,
         193.0,
         4200.0,
         0
        ],
        [
         "Dream",
         37.3,
         17.8,
         191.0,
         3350.0,
         0
        ],
        [
         "Dream",
         41.3,
         20.3,
         194.0,
         3550.0,
         0
        ],
        [
         "Dream",
         36.3,
         19.5,
         190.0,
         3800.0,
         0
        ],
        [
         "Dream",
         36.9,
         18.6,
         189.0,
         3500.0,
         0
        ],
        [
         "Dream",
         38.3,
         19.2,
         189.0,
         3950.0,
         0
        ],
        [
         "Dream",
         38.9,
         18.8,
         190.0,
         3600.0,
         0
        ],
        [
         "Dream",
         35.7,
         18.0,
         202.0,
         3550.0,
         0
        ],
        [
         "Dream",
         41.1,
         18.1,
         205.0,
         4300.0,
         0
        ],
        [
         "Dream",
         34.0,
         17.1,
         185.0,
         3400.0,
         0
        ],
        [
         "Dream",
         39.6,
         18.1,
         186.0,
         4450.0,
         0
        ],
        [
         "Dream",
         36.2,
         17.3,
         187.0,
         3300.0,
         0
        ],
        [
         "Dream",
         40.8,
         18.9,
         208.0,
         4300.0,
         0
        ],
        [
         "Dream",
         38.1,
         18.6,
         190.0,
         3700.0,
         0
        ],
        [
         "Dream",
         40.3,
         18.5,
         196.0,
         4350.0,
         0
        ],
        [
         "Dream",
         33.1,
         16.1,
         178.0,
         2900.0,
         0
        ],
        [
         "Dream",
         43.2,
         18.5,
         192.0,
         4100.0,
         0
        ],
        [
         "Biscoe",
         35.0,
         17.9,
         192.0,
         3725.0,
         0
        ],
        [
         "Biscoe",
         41.0,
         20.0,
         203.0,
         4725.0,
         0
        ],
        [
         "Biscoe",
         37.7,
         16.0,
         183.0,
         3075.0,
         0
        ],
        [
         "Biscoe",
         37.8,
         20.0,
         190.0,
         4250.0,
         0
        ],
        [
         "Biscoe",
         37.9,
         18.6,
         193.0,
         2925.0,
         0
        ],
        [
         "Biscoe",
         39.7,
         18.9,
         184.0,
         3550.0,
         0
        ],
        [
         "Biscoe",
         38.6,
         17.2,
         199.0,
         3750.0,
         0
        ],
        [
         "Biscoe",
         38.2,
         20.0,
         190.0,
         3900.0,
         0
        ],
        [
         "Biscoe",
         38.1,
         17.0,
         181.0,
         3175.0,
         0
        ],
        [
         "Biscoe",
         43.2,
         19.0,
         197.0,
         4775.0,
         0
        ],
        [
         "Biscoe",
         38.1,
         16.5,
         198.0,
         3825.0,
         0
        ],
        [
         "Biscoe",
         45.6,
         20.3,
         191.0,
         4600.0,
         0
        ],
        [
         "Biscoe",
         39.7,
         17.7,
         193.0,
         3200.0,
         0
        ],
        [
         "Biscoe",
         42.2,
         19.5,
         197.0,
         4275.0,
         0
        ],
        [
         "Biscoe",
         39.6,
         20.7,
         191.0,
         3900.0,
         0
        ],
        [
         "Biscoe",
         42.7,
         18.3,
         196.0,
         4075.0,
         0
        ],
        [
         "Torgersen",
         38.6,
         17.0,
         188.0,
         2900.0,
         0
        ],
        [
         "Torgersen",
         37.3,
         20.5,
         199.0,
         3775.0,
         0
        ],
        [
         "Torgersen",
         35.7,
         17.0,
         189.0,
         3350.0,
         0
        ],
        [
         "Torgersen",
         41.1,
         18.6,
         189.0,
         3325.0,
         0
        ],
        [
         "Torgersen",
         36.2,
         17.2,
         187.0,
         3150.0,
         0
        ],
        [
         "Torgersen",
         37.7,
         19.8,
         198.0,
         3500.0,
         0
        ],
        [
         "Torgersen",
         40.2,
         17.0,
         176.0,
         3450.0,
         0
        ],
        [
         "Torgersen",
         41.4,
         18.5,
         202.0,
         3875.0,
         0
        ],
        [
         "Torgersen",
         35.2,
         15.9,
         186.0,
         3050.0,
         0
        ],
        [
         "Torgersen",
         40.6,
         19.0,
         199.0,
         4000.0,
         0
        ],
        [
         "Torgersen",
         38.8,
         17.6,
         191.0,
         3275.0,
         0
        ],
        [
         "Torgersen",
         41.5,
         18.3,
         195.0,
         4300.0,
         0
        ],
        [
         "Torgersen",
         39.0,
         17.1,
         191.0,
         3050.0,
         0
        ],
        [
         "Torgersen",
         44.1,
         18.0,
         210.0,
         4000.0,
         0
        ],
        [
         "Torgersen",
         38.5,
         17.9,
         190.0,
         3325.0,
         0
        ],
        [
         "Torgersen",
         43.1,
         19.2,
         197.0,
         3500.0,
         0
        ],
        [
         "Dream",
         36.8,
         18.5,
         193.0,
         3500.0,
         0
        ],
        [
         "Dream",
         37.5,
         18.5,
         199.0,
         4475.0,
         0
        ],
        [
         "Dream",
         38.1,
         17.6,
         187.0,
         3425.0,
         0
        ],
        [
         "Dream",
         41.1,
         17.5,
         190.0,
         3900.0,
         0
        ],
        [
         "Dream",
         35.6,
         17.5,
         191.0,
         3175.0,
         0
        ],
        [
         "Dream",
         40.2,
         20.1,
         200.0,
         3975.0,
         0
        ],
        [
         "Dream",
         37.0,
         16.5,
         185.0,
         3400.0,
         0
        ],
        [
         "Dream",
         39.7,
         17.9,
         193.0,
         4250.0,
         0
        ],
        [
         "Dream",
         40.2,
         17.1,
         193.0,
         3400.0,
         0
        ],
        [
         "Dream",
         40.6,
         17.2,
         187.0,
         3475.0,
         0
        ],
        [
         "Dream",
         32.1,
         15.5,
         188.0,
         3050.0,
         0
        ],
        [
         "Dream",
         40.7,
         17.0,
         190.0,
         3725.0,
         0
        ],
        [
         "Dream",
         37.3,
         16.8,
         192.0,
         3000.0,
         0
        ],
        [
         "Dream",
         39.0,
         18.7,
         185.0,
         3650.0,
         0
        ],
        [
         "Dream",
         39.2,
         18.6,
         190.0,
         4250.0,
         0
        ],
        [
         "Dream",
         36.6,
         18.4,
         184.0,
         3475.0,
         0
        ],
        [
         "Dream",
         36.0,
         17.8,
         195.0,
         3450.0,
         0
        ],
        [
         "Dream",
         37.8,
         18.1,
         193.0,
         3750.0,
         0
        ],
        [
         "Dream",
         36.0,
         17.1,
         187.0,
         3700.0,
         0
        ],
        [
         "Dream",
         41.5,
         18.5,
         201.0,
         4000.0,
         0
        ],
        [
         "Biscoe",
         46.1,
         13.2,
         211.0,
         4500.0,
         1
        ],
        [
         "Biscoe",
         50.0,
         16.3,
         230.0,
         5700.0,
         1
        ],
        [
         "Biscoe",
         48.7,
         14.1,
         210.0,
         4450.0,
         1
        ],
        [
         "Biscoe",
         50.0,
         15.2,
         218.0,
         5700.0,
         1
        ],
        [
         "Biscoe",
         47.6,
         14.5,
         215.0,
         5400.0,
         1
        ],
        [
         "Biscoe",
         46.5,
         13.5,
         210.0,
         4550.0,
         1
        ],
        [
         "Biscoe",
         45.4,
         14.6,
         211.0,
         4800.0,
         1
        ],
        [
         "Biscoe",
         46.7,
         15.3,
         219.0,
         5200.0,
         1
        ],
        [
         "Biscoe",
         43.3,
         13.4,
         209.0,
         4400.0,
         1
        ],
        [
         "Biscoe",
         46.8,
         15.4,
         215.0,
         5150.0,
         1
        ],
        [
         "Biscoe",
         40.9,
         13.7,
         214.0,
         4650.0,
         1
        ],
        [
         "Biscoe",
         49.0,
         16.1,
         216.0,
         5550.0,
         1
        ],
        [
         "Biscoe",
         45.5,
         13.7,
         214.0,
         4650.0,
         1
        ],
        [
         "Biscoe",
         48.4,
         14.6,
         213.0,
         5850.0,
         1
        ],
        [
         "Biscoe",
         45.8,
         14.6,
         210.0,
         4200.0,
         1
        ],
        [
         "Biscoe",
         49.3,
         15.7,
         217.0,
         5850.0,
         1
        ],
        [
         "Biscoe",
         42.0,
         13.5,
         210.0,
         4150.0,
         1
        ],
        [
         "Biscoe",
         49.2,
         15.2,
         221.0,
         6300.0,
         1
        ],
        [
         "Biscoe",
         46.2,
         14.5,
         209.0,
         4800.0,
         1
        ],
        [
         "Biscoe",
         48.7,
         15.1,
         222.0,
         5350.0,
         1
        ],
        [
         "Biscoe",
         50.2,
         14.3,
         218.0,
         5700.0,
         1
        ],
        [
         "Biscoe",
         45.1,
         14.5,
         215.0,
         5000.0,
         1
        ],
        [
         "Biscoe",
         46.5,
         14.5,
         213.0,
         4400.0,
         1
        ],
        [
         "Biscoe",
         46.3,
         15.8,
         215.0,
         5050.0,
         1
        ],
        [
         "Biscoe",
         42.9,
         13.1,
         215.0,
         5000.0,
         1
        ],
        [
         "Biscoe",
         46.1,
         15.1,
         215.0,
         5100.0,
         1
        ],
        [
         "Biscoe",
         44.5,
         14.3,
         216.0,
         4100.0,
         1
        ],
        [
         "Biscoe",
         47.8,
         15.0,
         215.0,
         5650.0,
         1
        ],
        [
         "Biscoe",
         48.2,
         14.3,
         210.0,
         4600.0,
         1
        ],
        [
         "Biscoe",
         50.0,
         15.3,
         220.0,
         5550.0,
         1
        ],
        [
         "Biscoe",
         47.3,
         15.3,
         222.0,
         5250.0,
         1
        ],
        [
         "Biscoe",
         42.8,
         14.2,
         209.0,
         4700.0,
         1
        ],
        [
         "Biscoe",
         45.1,
         14.5,
         207.0,
         5050.0,
         1
        ],
        [
         "Biscoe",
         59.6,
         17.0,
         230.0,
         6050.0,
         1
        ],
        [
         "Biscoe",
         49.1,
         14.8,
         220.0,
         5150.0,
         1
        ],
        [
         "Biscoe",
         48.4,
         16.3,
         220.0,
         5400.0,
         1
        ],
        [
         "Biscoe",
         42.6,
         13.7,
         213.0,
         4950.0,
         1
        ],
        [
         "Biscoe",
         44.4,
         17.3,
         219.0,
         5250.0,
         1
        ],
        [
         "Biscoe",
         44.0,
         13.6,
         208.0,
         4350.0,
         1
        ],
        [
         "Biscoe",
         48.7,
         15.7,
         208.0,
         5350.0,
         1
        ],
        [
         "Biscoe",
         42.7,
         13.7,
         208.0,
         3950.0,
         1
        ],
        [
         "Biscoe",
         49.6,
         16.0,
         225.0,
         5700.0,
         1
        ],
        [
         "Biscoe",
         45.3,
         13.7,
         210.0,
         4300.0,
         1
        ],
        [
         "Biscoe",
         49.6,
         15.0,
         216.0,
         4750.0,
         1
        ],
        [
         "Biscoe",
         50.5,
         15.9,
         222.0,
         5550.0,
         1
        ],
        [
         "Biscoe",
         43.6,
         13.9,
         217.0,
         4900.0,
         1
        ],
        [
         "Biscoe",
         45.5,
         13.9,
         210.0,
         4200.0,
         1
        ],
        [
         "Biscoe",
         50.5,
         15.9,
         225.0,
         5400.0,
         1
        ],
        [
         "Biscoe",
         44.9,
         13.3,
         213.0,
         5100.0,
         1
        ],
        [
         "Biscoe",
         45.2,
         15.8,
         215.0,
         5300.0,
         1
        ],
        [
         "Biscoe",
         46.6,
         14.2,
         210.0,
         4850.0,
         1
        ],
        [
         "Biscoe",
         48.5,
         14.1,
         220.0,
         5300.0,
         1
        ],
        [
         "Biscoe",
         45.1,
         14.4,
         210.0,
         4400.0,
         1
        ],
        [
         "Biscoe",
         50.1,
         15.0,
         225.0,
         5000.0,
         1
        ],
        [
         "Biscoe",
         46.5,
         14.4,
         217.0,
         4900.0,
         1
        ],
        [
         "Biscoe",
         45.0,
         15.4,
         220.0,
         5050.0,
         1
        ],
        [
         "Biscoe",
         43.8,
         13.9,
         208.0,
         4300.0,
         1
        ],
        [
         "Biscoe",
         45.5,
         15.0,
         220.0,
         5000.0,
         1
        ],
        [
         "Biscoe",
         43.2,
         14.5,
         208.0,
         4450.0,
         1
        ],
        [
         "Biscoe",
         50.4,
         15.3,
         224.0,
         5550.0,
         1
        ],
        [
         "Biscoe",
         45.3,
         13.8,
         208.0,
         4200.0,
         1
        ],
        [
         "Biscoe",
         46.2,
         14.9,
         221.0,
         5300.0,
         1
        ],
        [
         "Biscoe",
         45.7,
         13.9,
         214.0,
         4400.0,
         1
        ],
        [
         "Biscoe",
         54.3,
         15.7,
         231.0,
         5650.0,
         1
        ],
        [
         "Biscoe",
         45.8,
         14.2,
         219.0,
         4700.0,
         1
        ],
        [
         "Biscoe",
         49.8,
         16.8,
         230.0,
         5700.0,
         1
        ],
        [
         "Biscoe",
         46.2,
         14.4,
         214.0,
         4650.0,
         1
        ],
        [
         "Biscoe",
         49.5,
         16.2,
         229.0,
         5800.0,
         1
        ],
        [
         "Biscoe",
         43.5,
         14.2,
         220.0,
         4700.0,
         1
        ],
        [
         "Biscoe",
         50.7,
         15.0,
         223.0,
         5550.0,
         1
        ],
        [
         "Biscoe",
         47.7,
         15.0,
         216.0,
         4750.0,
         1
        ],
        [
         "Biscoe",
         46.4,
         15.6,
         221.0,
         5000.0,
         1
        ],
        [
         "Biscoe",
         48.2,
         15.6,
         221.0,
         5100.0,
         1
        ],
        [
         "Biscoe",
         46.5,
         14.8,
         217.0,
         5200.0,
         1
        ],
        [
         "Biscoe",
         46.4,
         15.0,
         216.0,
         4700.0,
         1
        ],
        [
         "Biscoe",
         48.6,
         16.0,
         230.0,
         5800.0,
         1
        ],
        [
         "Biscoe",
         47.5,
         14.2,
         209.0,
         4600.0,
         1
        ],
        [
         "Biscoe",
         51.1,
         16.3,
         220.0,
         6000.0,
         1
        ],
        [
         "Biscoe",
         45.2,
         13.8,
         215.0,
         4750.0,
         1
        ],
        [
         "Biscoe",
         45.2,
         16.4,
         223.0,
         5950.0,
         1
        ],
        [
         "Biscoe",
         49.1,
         14.5,
         212.0,
         4625.0,
         1
        ],
        [
         "Biscoe",
         52.5,
         15.6,
         221.0,
         5450.0,
         1
        ],
        [
         "Biscoe",
         47.4,
         14.6,
         212.0,
         4725.0,
         1
        ],
        [
         "Biscoe",
         50.0,
         15.9,
         224.0,
         5350.0,
         1
        ],
        [
         "Biscoe",
         44.9,
         13.8,
         212.0,
         4750.0,
         1
        ],
        [
         "Biscoe",
         50.8,
         17.3,
         228.0,
         5600.0,
         1
        ],
        [
         "Biscoe",
         43.4,
         14.4,
         218.0,
         4600.0,
         1
        ],
        [
         "Biscoe",
         51.3,
         14.2,
         218.0,
         5300.0,
         1
        ],
        [
         "Biscoe",
         47.5,
         14.0,
         212.0,
         4875.0,
         1
        ],
        [
         "Biscoe",
         52.1,
         17.0,
         230.0,
         5550.0,
         1
        ],
        [
         "Biscoe",
         47.5,
         15.0,
         218.0,
         4950.0,
         1
        ],
        [
         "Biscoe",
         52.2,
         17.1,
         228.0,
         5400.0,
         1
        ],
        [
         "Biscoe",
         45.5,
         14.5,
         212.0,
         4750.0,
         1
        ],
        [
         "Biscoe",
         49.5,
         16.1,
         224.0,
         5650.0,
         1
        ],
        [
         "Biscoe",
         44.5,
         14.7,
         214.0,
         4850.0,
         1
        ],
        [
         "Biscoe",
         50.8,
         15.7,
         226.0,
         5200.0,
         1
        ],
        [
         "Biscoe",
         49.4,
         15.8,
         216.0,
         4925.0,
         1
        ],
        [
         "Biscoe",
         46.9,
         14.6,
         222.0,
         4875.0,
         1
        ],
        [
         "Biscoe",
         48.4,
         14.4,
         203.0,
         4625.0,
         1
        ],
        [
         "Biscoe",
         51.1,
         16.5,
         225.0,
         5250.0,
         1
        ],
        [
         "Biscoe",
         48.5,
         15.0,
         219.0,
         4850.0,
         1
        ],
        [
         "Biscoe",
         55.9,
         17.0,
         228.0,
         5600.0,
         1
        ],
        [
         "Biscoe",
         47.2,
         15.5,
         215.0,
         4975.0,
         1
        ],
        [
         "Biscoe",
         49.1,
         15.0,
         228.0,
         5500.0,
         1
        ],
        [
         "Biscoe",
         47.3,
         13.8,
         216.0,
         4725.0,
         1
        ],
        [
         "Biscoe",
         46.8,
         16.1,
         215.0,
         5500.0,
         1
        ],
        [
         "Biscoe",
         41.7,
         14.7,
         210.0,
         4700.0,
         1
        ],
        [
         "Biscoe",
         53.4,
         15.8,
         219.0,
         5500.0,
         1
        ],
        [
         "Biscoe",
         43.3,
         14.0,
         208.0,
         4575.0,
         1
        ],
        [
         "Biscoe",
         48.1,
         15.1,
         209.0,
         5500.0,
         1
        ],
        [
         "Biscoe",
         50.5,
         15.2,
         216.0,
         5000.0,
         1
        ],
        [
         "Biscoe",
         49.8,
         15.9,
         229.0,
         5950.0,
         1
        ],
        [
         "Biscoe",
         43.5,
         15.2,
         213.0,
         4650.0,
         1
        ],
        [
         "Biscoe",
         51.5,
         16.3,
         230.0,
         5500.0,
         1
        ],
        [
         "Biscoe",
         46.2,
         14.1,
         217.0,
         4375.0,
         1
        ],
        [
         "Biscoe",
         55.1,
         16.0,
         230.0,
         5850.0,
         1
        ],
        [
         "Biscoe",
         44.5,
         15.7,
         217.0,
         4875.0,
         1
        ],
        [
         "Biscoe",
         48.8,
         16.2,
         222.0,
         6000.0,
         1
        ],
        [
         "Biscoe",
         47.2,
         13.7,
         214.0,
         4925.0,
         1
        ],
        [
         "Biscoe",
         46.8,
         14.3,
         215.0,
         4850.0,
         1
        ],
        [
         "Biscoe",
         50.4,
         15.7,
         222.0,
         5750.0,
         1
        ],
        [
         "Biscoe",
         45.2,
         14.8,
         212.0,
         5200.0,
         1
        ],
        [
         "Biscoe",
         49.9,
         16.1,
         213.0,
         5400.0,
         1
        ],
        [
         "Dream",
         46.5,
         17.9,
         192.0,
         3500.0,
         2
        ],
        [
         "Dream",
         50.0,
         19.5,
         196.0,
         3900.0,
         2
        ],
        [
         "Dream",
         51.3,
         19.2,
         193.0,
         3650.0,
         2
        ],
        [
         "Dream",
         45.4,
         18.7,
         188.0,
         3525.0,
         2
        ],
        [
         "Dream",
         52.7,
         19.8,
         197.0,
         3725.0,
         2
        ],
        [
         "Dream",
         45.2,
         17.8,
         198.0,
         3950.0,
         2
        ],
        [
         "Dream",
         46.1,
         18.2,
         178.0,
         3250.0,
         2
        ],
        [
         "Dream",
         51.3,
         18.2,
         197.0,
         3750.0,
         2
        ],
        [
         "Dream",
         46.0,
         18.9,
         195.0,
         4150.0,
         2
        ],
        [
         "Dream",
         51.3,
         19.9,
         198.0,
         3700.0,
         2
        ],
        [
         "Dream",
         46.6,
         17.8,
         193.0,
         3800.0,
         2
        ],
        [
         "Dream",
         51.7,
         20.3,
         194.0,
         3775.0,
         2
        ],
        [
         "Dream",
         47.0,
         17.3,
         185.0,
         3700.0,
         2
        ],
        [
         "Dream",
         52.0,
         18.1,
         201.0,
         4050.0,
         2
        ],
        [
         "Dream",
         45.9,
         17.1,
         190.0,
         3575.0,
         2
        ],
        [
         "Dream",
         50.5,
         19.6,
         201.0,
         4050.0,
         2
        ],
        [
         "Dream",
         50.3,
         20.0,
         197.0,
         3300.0,
         2
        ],
        [
         "Dream",
         58.0,
         17.8,
         181.0,
         3700.0,
         2
        ],
        [
         "Dream",
         46.4,
         18.6,
         190.0,
         3450.0,
         2
        ],
        [
         "Dream",
         49.2,
         18.2,
         195.0,
         4400.0,
         2
        ],
        [
         "Dream",
         42.4,
         17.3,
         181.0,
         3600.0,
         2
        ],
        [
         "Dream",
         48.5,
         17.5,
         191.0,
         3400.0,
         2
        ],
        [
         "Dream",
         43.2,
         16.6,
         187.0,
         2900.0,
         2
        ],
        [
         "Dream",
         50.6,
         19.4,
         193.0,
         3800.0,
         2
        ],
        [
         "Dream",
         46.7,
         17.9,
         195.0,
         3300.0,
         2
        ],
        [
         "Dream",
         52.0,
         19.0,
         197.0,
         4150.0,
         2
        ],
        [
         "Dream",
         50.5,
         18.4,
         200.0,
         3400.0,
         2
        ],
        [
         "Dream",
         49.5,
         19.0,
         200.0,
         3800.0,
         2
        ],
        [
         "Dream",
         46.4,
         17.8,
         191.0,
         3700.0,
         2
        ],
        [
         "Dream",
         52.8,
         20.0,
         205.0,
         4550.0,
         2
        ],
        [
         "Dream",
         40.9,
         16.6,
         187.0,
         3200.0,
         2
        ],
        [
         "Dream",
         54.2,
         20.8,
         201.0,
         4300.0,
         2
        ],
        [
         "Dream",
         42.5,
         16.7,
         187.0,
         3350.0,
         2
        ],
        [
         "Dream",
         51.0,
         18.8,
         203.0,
         4100.0,
         2
        ],
        [
         "Dream",
         49.7,
         18.6,
         195.0,
         3600.0,
         2
        ],
        [
         "Dream",
         47.5,
         16.8,
         199.0,
         3900.0,
         2
        ],
        [
         "Dream",
         47.6,
         18.3,
         195.0,
         3850.0,
         2
        ],
        [
         "Dream",
         52.0,
         20.7,
         210.0,
         4800.0,
         2
        ],
        [
         "Dream",
         46.9,
         16.6,
         192.0,
         2700.0,
         2
        ],
        [
         "Dream",
         53.5,
         19.9,
         205.0,
         4500.0,
         2
        ],
        [
         "Dream",
         49.0,
         19.5,
         210.0,
         3950.0,
         2
        ],
        [
         "Dream",
         46.2,
         17.5,
         187.0,
         3650.0,
         2
        ],
        [
         "Dream",
         50.9,
         19.1,
         196.0,
         3550.0,
         2
        ],
        [
         "Dream",
         45.5,
         17.0,
         196.0,
         3500.0,
         2
        ],
        [
         "Dream",
         50.9,
         17.9,
         196.0,
         3675.0,
         2
        ],
        [
         "Dream",
         50.8,
         18.5,
         201.0,
         4450.0,
         2
        ],
        [
         "Dream",
         50.1,
         17.9,
         190.0,
         3400.0,
         2
        ],
        [
         "Dream",
         49.0,
         19.6,
         212.0,
         4300.0,
         2
        ],
        [
         "Dream",
         51.5,
         18.7,
         187.0,
         3250.0,
         2
        ],
        [
         "Dream",
         49.8,
         17.3,
         198.0,
         3675.0,
         2
        ],
        [
         "Dream",
         48.1,
         16.4,
         199.0,
         3325.0,
         2
        ],
        [
         "Dream",
         51.4,
         19.0,
         201.0,
         3950.0,
         2
        ],
        [
         "Dream",
         45.7,
         17.3,
         193.0,
         3600.0,
         2
        ],
        [
         "Dream",
         50.7,
         19.7,
         203.0,
         4050.0,
         2
        ],
        [
         "Dream",
         42.5,
         17.3,
         187.0,
         3350.0,
         2
        ],
        [
         "Dream",
         52.2,
         18.8,
         197.0,
         3450.0,
         2
        ],
        [
         "Dream",
         45.2,
         16.6,
         191.0,
         3250.0,
         2
        ],
        [
         "Dream",
         49.3,
         19.9,
         203.0,
         4050.0,
         2
        ],
        [
         "Dream",
         50.2,
         18.8,
         202.0,
         3800.0,
         2
        ],
        [
         "Dream",
         45.6,
         19.4,
         194.0,
         3525.0,
         2
        ],
        [
         "Dream",
         51.9,
         19.5,
         206.0,
         3950.0,
         2
        ],
        [
         "Dream",
         46.8,
         16.5,
         189.0,
         3650.0,
         2
        ],
        [
         "Dream",
         45.7,
         17.0,
         195.0,
         3650.0,
         2
        ],
        [
         "Dream",
         55.8,
         19.8,
         207.0,
         4000.0,
         2
        ],
        [
         "Dream",
         43.5,
         18.1,
         202.0,
         3400.0,
         2
        ],
        [
         "Dream",
         49.6,
         18.2,
         193.0,
         3775.0,
         2
        ],
        [
         "Dream",
         50.8,
         19.0,
         210.0,
         4100.0,
         2
        ],
        [
         "Dream",
         50.2,
         18.7,
         198.0,
         3775.0,
         2
        ]
       ],
       "datasetInfos": [],
       "dbfsResultPath": null,
       "isJsonSchema": true,
       "metadata": {},
       "overflow": false,
       "plotOptions": {
        "customPlotOptions": {},
        "displayType": "table",
        "pivotAggregation": null,
        "pivotColumns": null,
        "xColumns": null,
        "yColumns": null
       },
       "removedWidgets": [],
       "schema": [
        {
         "metadata": "{}",
         "name": "Island",
         "type": "\"string\""
        },
        {
         "metadata": "{}",
         "name": "CulmenLength",
         "type": "\"float\""
        },
        {
         "metadata": "{}",
         "name": "CulmenDepth",
         "type": "\"float\""
        },
        {
         "metadata": "{}",
         "name": "FlipperLength",
         "type": "\"float\""
        },
        {
         "metadata": "{}",
         "name": "BodyMass",
         "type": "\"float\""
        },
        {
         "metadata": "{}",
         "name": "Species",
         "type": "\"integer\""
        }
       ],
       "type": "table"
      }
     },
     "output_type": "display_data"
    }
   ],
   "source": [
    "from pyspark.sql.types import *\n",
    "from pyspark.sql.functions import *\n",
    "\n",
    "data = df.dropna().select(col(\"Island\").astype(\"string\"),\n",
    "                          col(\"CulmenLength\").astype(\"float\"),\n",
    "                         col(\"CulmenDepth\").astype(\"float\"),\n",
    "                         col(\"FlipperLength\").astype(\"float\"),\n",
    "                         col(\"BodyMass\").astype(\"float\"),\n",
    "                         col(\"Species\").astype(\"int\")\n",
    "                         )\n",
    "display(data)"
   ]
  },
  {
   "cell_type": "code",
   "execution_count": 0,
   "metadata": {
    "application/vnd.databricks.v1+cell": {
     "cellMetadata": {
      "byteLimit": 2048000,
      "rowLimit": 10000
     },
     "inputWidgets": {},
     "nuid": "b2fa58c5-6dbb-43f2-8926-cca398b9a625",
     "showTitle": false,
     "title": ""
    }
   },
   "outputs": [
    {
     "output_type": "stream",
     "name": "stdout",
     "output_type": "stream",
     "text": [
      "Training Rows: 234  Testing Rows: 97\n"
     ]
    }
   ],
   "source": [
    "splits = data.randomSplit([0.7, 0.3])\n",
    "train = splits[0]\n",
    "test = splits[1]\n",
    "print (\"Training Rows:\", train.count(), \" Testing Rows:\", test.count())"
   ]
  },
  {
   "cell_type": "code",
   "execution_count": 0,
   "metadata": {
    "application/vnd.databricks.v1+cell": {
     "cellMetadata": {
      "byteLimit": 2048000,
      "rowLimit": 10000
     },
     "inputWidgets": {},
     "nuid": "c28f4272-9d72-4aa3-a378-c422a482600d",
     "showTitle": false,
     "title": ""
    }
   },
   "outputs": [
    {
     "output_type": "display_data",
     "data": {
      "text/html": [
       "<style scoped>\n",
       "  .table-result-container {\n",
       "    max-height: 300px;\n",
       "    overflow: auto;\n",
       "  }\n",
       "  table, th, td {\n",
       "    border: 1px solid black;\n",
       "    border-collapse: collapse;\n",
       "  }\n",
       "  th, td {\n",
       "    padding: 5px;\n",
       "  }\n",
       "  th {\n",
       "    text-align: left;\n",
       "  }\n",
       "</style><div class='table-result-container'><table class='table-result'><thead style='background-color: white'><tr><th>CulmenLength</th><th>CulmenDepth</th><th>FlipperLength</th><th>BodyMass</th><th>Species</th><th>IslandIdx</th></tr></thead><tbody><tr><td>34.5</td><td>18.1</td><td>187.0</td><td>2900.0</td><td>0</td><td>0.0</td></tr><tr><td>35.0</td><td>17.9</td><td>190.0</td><td>3450.0</td><td>0</td><td>0.0</td></tr><tr><td>35.0</td><td>17.9</td><td>192.0</td><td>3725.0</td><td>0</td><td>0.0</td></tr><tr><td>35.3</td><td>18.9</td><td>187.0</td><td>3800.0</td><td>0</td><td>0.0</td></tr><tr><td>35.5</td><td>16.2</td><td>195.0</td><td>3350.0</td><td>0</td><td>0.0</td></tr><tr><td>35.7</td><td>16.9</td><td>185.0</td><td>3150.0</td><td>0</td><td>0.0</td></tr><tr><td>36.4</td><td>17.1</td><td>184.0</td><td>2850.0</td><td>0</td><td>0.0</td></tr><tr><td>36.5</td><td>16.6</td><td>181.0</td><td>2850.0</td><td>0</td><td>0.0</td></tr><tr><td>37.6</td><td>19.1</td><td>194.0</td><td>3750.0</td><td>0</td><td>0.0</td></tr><tr><td>37.7</td><td>16.0</td><td>183.0</td><td>3075.0</td><td>0</td><td>0.0</td></tr><tr><td>37.7</td><td>18.7</td><td>180.0</td><td>3600.0</td><td>0</td><td>0.0</td></tr><tr><td>37.9</td><td>18.6</td><td>172.0</td><td>3150.0</td><td>0</td><td>0.0</td></tr><tr><td>38.2</td><td>18.1</td><td>185.0</td><td>3950.0</td><td>0</td><td>0.0</td></tr><tr><td>38.2</td><td>20.0</td><td>190.0</td><td>3900.0</td><td>0</td><td>0.0</td></tr><tr><td>38.6</td><td>17.2</td><td>199.0</td><td>3750.0</td><td>0</td><td>0.0</td></tr><tr><td>39.0</td><td>17.5</td><td>186.0</td><td>3550.0</td><td>0</td><td>0.0</td></tr><tr><td>39.6</td><td>20.7</td><td>191.0</td><td>3900.0</td><td>0</td><td>0.0</td></tr><tr><td>39.7</td><td>17.7</td><td>193.0</td><td>3200.0</td><td>0</td><td>0.0</td></tr><tr><td>39.7</td><td>18.9</td><td>184.0</td><td>3550.0</td><td>0</td><td>0.0</td></tr><tr><td>40.1</td><td>18.9</td><td>188.0</td><td>4300.0</td><td>0</td><td>0.0</td></tr><tr><td>40.5</td><td>17.9</td><td>187.0</td><td>3200.0</td><td>0</td><td>0.0</td></tr><tr><td>40.5</td><td>18.9</td><td>180.0</td><td>3950.0</td><td>0</td><td>0.0</td></tr><tr><td>41.0</td><td>20.0</td><td>203.0</td><td>4725.0</td><td>0</td><td>0.0</td></tr><tr><td>41.1</td><td>18.2</td><td>192.0</td><td>4050.0</td><td>0</td><td>0.0</td></tr><tr><td>41.1</td><td>19.1</td><td>188.0</td><td>4100.0</td><td>0</td><td>0.0</td></tr><tr><td>41.3</td><td>21.1</td><td>195.0</td><td>4400.0</td><td>0</td><td>0.0</td></tr><tr><td>41.6</td><td>18.0</td><td>192.0</td><td>3950.0</td><td>0</td><td>0.0</td></tr><tr><td>41.7</td><td>14.7</td><td>210.0</td><td>4700.0</td><td>1</td><td>0.0</td></tr><tr><td>42.2</td><td>19.5</td><td>197.0</td><td>4275.0</td><td>0</td><td>0.0</td></tr><tr><td>42.6</td><td>13.7</td><td>213.0</td><td>4950.0</td><td>1</td><td>0.0</td></tr><tr><td>42.7</td><td>18.3</td><td>196.0</td><td>4075.0</td><td>0</td><td>0.0</td></tr><tr><td>42.8</td><td>14.2</td><td>209.0</td><td>4700.0</td><td>1</td><td>0.0</td></tr><tr><td>43.2</td><td>14.5</td><td>208.0</td><td>4450.0</td><td>1</td><td>0.0</td></tr><tr><td>43.2</td><td>19.0</td><td>197.0</td><td>4775.0</td><td>0</td><td>0.0</td></tr><tr><td>43.3</td><td>14.0</td><td>208.0</td><td>4575.0</td><td>1</td><td>0.0</td></tr><tr><td>43.4</td><td>14.4</td><td>218.0</td><td>4600.0</td><td>1</td><td>0.0</td></tr><tr><td>43.5</td><td>15.2</td><td>213.0</td><td>4650.0</td><td>1</td><td>0.0</td></tr><tr><td>43.8</td><td>13.9</td><td>208.0</td><td>4300.0</td><td>1</td><td>0.0</td></tr><tr><td>44.4</td><td>17.3</td><td>219.0</td><td>5250.0</td><td>1</td><td>0.0</td></tr><tr><td>44.5</td><td>14.3</td><td>216.0</td><td>4100.0</td><td>1</td><td>0.0</td></tr><tr><td>44.5</td><td>14.7</td><td>214.0</td><td>4850.0</td><td>1</td><td>0.0</td></tr><tr><td>44.5</td><td>15.7</td><td>217.0</td><td>4875.0</td><td>1</td><td>0.0</td></tr><tr><td>44.9</td><td>13.8</td><td>212.0</td><td>4750.0</td><td>1</td><td>0.0</td></tr><tr><td>45.0</td><td>15.4</td><td>220.0</td><td>5050.0</td><td>1</td><td>0.0</td></tr><tr><td>45.1</td><td>14.5</td><td>207.0</td><td>5050.0</td><td>1</td><td>0.0</td></tr><tr><td>45.1</td><td>14.5</td><td>215.0</td><td>5000.0</td><td>1</td><td>0.0</td></tr><tr><td>45.2</td><td>13.8</td><td>215.0</td><td>4750.0</td><td>1</td><td>0.0</td></tr><tr><td>45.2</td><td>14.8</td><td>212.0</td><td>5200.0</td><td>1</td><td>0.0</td></tr><tr><td>45.2</td><td>15.8</td><td>215.0</td><td>5300.0</td><td>1</td><td>0.0</td></tr><tr><td>45.4</td><td>14.6</td><td>211.0</td><td>4800.0</td><td>1</td><td>0.0</td></tr><tr><td>45.5</td><td>13.9</td><td>210.0</td><td>4200.0</td><td>1</td><td>0.0</td></tr><tr><td>45.5</td><td>14.5</td><td>212.0</td><td>4750.0</td><td>1</td><td>0.0</td></tr><tr><td>45.6</td><td>20.3</td><td>191.0</td><td>4600.0</td><td>0</td><td>0.0</td></tr><tr><td>45.7</td><td>13.9</td><td>214.0</td><td>4400.0</td><td>1</td><td>0.0</td></tr><tr><td>45.8</td><td>14.6</td><td>210.0</td><td>4200.0</td><td>1</td><td>0.0</td></tr><tr><td>46.1</td><td>13.2</td><td>211.0</td><td>4500.0</td><td>1</td><td>0.0</td></tr><tr><td>46.2</td><td>14.1</td><td>217.0</td><td>4375.0</td><td>1</td><td>0.0</td></tr><tr><td>46.2</td><td>14.5</td><td>209.0</td><td>4800.0</td><td>1</td><td>0.0</td></tr><tr><td>46.3</td><td>15.8</td><td>215.0</td><td>5050.0</td><td>1</td><td>0.0</td></tr><tr><td>46.4</td><td>15.0</td><td>216.0</td><td>4700.0</td><td>1</td><td>0.0</td></tr><tr><td>46.5</td><td>13.5</td><td>210.0</td><td>4550.0</td><td>1</td><td>0.0</td></tr><tr><td>46.5</td><td>14.4</td><td>217.0</td><td>4900.0</td><td>1</td><td>0.0</td></tr><tr><td>46.5</td><td>14.5</td><td>213.0</td><td>4400.0</td><td>1</td><td>0.0</td></tr><tr><td>46.5</td><td>14.8</td><td>217.0</td><td>5200.0</td><td>1</td><td>0.0</td></tr><tr><td>46.6</td><td>14.2</td><td>210.0</td><td>4850.0</td><td>1</td><td>0.0</td></tr><tr><td>46.7</td><td>15.3</td><td>219.0</td><td>5200.0</td><td>1</td><td>0.0</td></tr><tr><td>46.8</td><td>14.3</td><td>215.0</td><td>4850.0</td><td>1</td><td>0.0</td></tr><tr><td>46.8</td><td>15.4</td><td>215.0</td><td>5150.0</td><td>1</td><td>0.0</td></tr><tr><td>46.8</td><td>16.1</td><td>215.0</td><td>5500.0</td><td>1</td><td>0.0</td></tr><tr><td>46.9</td><td>14.6</td><td>222.0</td><td>4875.0</td><td>1</td><td>0.0</td></tr><tr><td>47.2</td><td>13.7</td><td>214.0</td><td>4925.0</td><td>1</td><td>0.0</td></tr><tr><td>47.3</td><td>13.8</td><td>216.0</td><td>4725.0</td><td>1</td><td>0.0</td></tr><tr><td>47.3</td><td>15.3</td><td>222.0</td><td>5250.0</td><td>1</td><td>0.0</td></tr><tr><td>47.5</td><td>14.0</td><td>212.0</td><td>4875.0</td><td>1</td><td>0.0</td></tr><tr><td>47.5</td><td>14.2</td><td>209.0</td><td>4600.0</td><td>1</td><td>0.0</td></tr><tr><td>47.5</td><td>15.0</td><td>218.0</td><td>4950.0</td><td>1</td><td>0.0</td></tr><tr><td>47.6</td><td>14.5</td><td>215.0</td><td>5400.0</td><td>1</td><td>0.0</td></tr><tr><td>47.7</td><td>15.0</td><td>216.0</td><td>4750.0</td><td>1</td><td>0.0</td></tr><tr><td>47.8</td><td>15.0</td><td>215.0</td><td>5650.0</td><td>1</td><td>0.0</td></tr><tr><td>48.1</td><td>15.1</td><td>209.0</td><td>5500.0</td><td>1</td><td>0.0</td></tr><tr><td>48.2</td><td>15.6</td><td>221.0</td><td>5100.0</td><td>1</td><td>0.0</td></tr><tr><td>48.4</td><td>14.4</td><td>203.0</td><td>4625.0</td><td>1</td><td>0.0</td></tr><tr><td>48.4</td><td>14.6</td><td>213.0</td><td>5850.0</td><td>1</td><td>0.0</td></tr><tr><td>48.4</td><td>16.3</td><td>220.0</td><td>5400.0</td><td>1</td><td>0.0</td></tr><tr><td>48.5</td><td>14.1</td><td>220.0</td><td>5300.0</td><td>1</td><td>0.0</td></tr><tr><td>48.5</td><td>15.0</td><td>219.0</td><td>4850.0</td><td>1</td><td>0.0</td></tr><tr><td>48.7</td><td>15.7</td><td>208.0</td><td>5350.0</td><td>1</td><td>0.0</td></tr><tr><td>48.8</td><td>16.2</td><td>222.0</td><td>6000.0</td><td>1</td><td>0.0</td></tr><tr><td>49.0</td><td>16.1</td><td>216.0</td><td>5550.0</td><td>1</td><td>0.0</td></tr><tr><td>49.1</td><td>14.5</td><td>212.0</td><td>4625.0</td><td>1</td><td>0.0</td></tr><tr><td>49.1</td><td>14.8</td><td>220.0</td><td>5150.0</td><td>1</td><td>0.0</td></tr><tr><td>49.1</td><td>15.0</td><td>228.0</td><td>5500.0</td><td>1</td><td>0.0</td></tr><tr><td>49.2</td><td>15.2</td><td>221.0</td><td>6300.0</td><td>1</td><td>0.0</td></tr><tr><td>49.3</td><td>15.7</td><td>217.0</td><td>5850.0</td><td>1</td><td>0.0</td></tr><tr><td>49.4</td><td>15.8</td><td>216.0</td><td>4925.0</td><td>1</td><td>0.0</td></tr><tr><td>49.5</td><td>16.2</td><td>229.0</td><td>5800.0</td><td>1</td><td>0.0</td></tr><tr><td>49.8</td><td>15.9</td><td>229.0</td><td>5950.0</td><td>1</td><td>0.0</td></tr><tr><td>49.8</td><td>16.8</td><td>230.0</td><td>5700.0</td><td>1</td><td>0.0</td></tr><tr><td>49.9</td><td>16.1</td><td>213.0</td><td>5400.0</td><td>1</td><td>0.0</td></tr><tr><td>50.0</td><td>15.2</td><td>218.0</td><td>5700.0</td><td>1</td><td>0.0</td></tr><tr><td>50.0</td><td>16.3</td><td>230.0</td><td>5700.0</td><td>1</td><td>0.0</td></tr><tr><td>50.1</td><td>15.0</td><td>225.0</td><td>5000.0</td><td>1</td><td>0.0</td></tr><tr><td>50.2</td><td>14.3</td><td>218.0</td><td>5700.0</td><td>1</td><td>0.0</td></tr><tr><td>50.4</td><td>15.7</td><td>222.0</td><td>5750.0</td><td>1</td><td>0.0</td></tr><tr><td>50.5</td><td>15.9</td><td>225.0</td><td>5400.0</td><td>1</td><td>0.0</td></tr><tr><td>50.7</td><td>15.0</td><td>223.0</td><td>5550.0</td><td>1</td><td>0.0</td></tr><tr><td>50.8</td><td>17.3</td><td>228.0</td><td>5600.0</td><td>1</td><td>0.0</td></tr><tr><td>51.1</td><td>16.5</td><td>225.0</td><td>5250.0</td><td>1</td><td>0.0</td></tr><tr><td>51.5</td><td>16.3</td><td>230.0</td><td>5500.0</td><td>1</td><td>0.0</td></tr><tr><td>52.1</td><td>17.0</td><td>230.0</td><td>5550.0</td><td>1</td><td>0.0</td></tr><tr><td>52.2</td><td>17.1</td><td>228.0</td><td>5400.0</td><td>1</td><td>0.0</td></tr><tr><td>52.5</td><td>15.6</td><td>221.0</td><td>5450.0</td><td>1</td><td>0.0</td></tr><tr><td>53.4</td><td>15.8</td><td>219.0</td><td>5500.0</td><td>1</td><td>0.0</td></tr><tr><td>54.3</td><td>15.7</td><td>231.0</td><td>5650.0</td><td>1</td><td>0.0</td></tr><tr><td>55.1</td><td>16.0</td><td>230.0</td><td>5850.0</td><td>1</td><td>0.0</td></tr><tr><td>55.9</td><td>17.0</td><td>228.0</td><td>5600.0</td><td>1</td><td>0.0</td></tr><tr><td>59.6</td><td>17.0</td><td>230.0</td><td>6050.0</td><td>1</td><td>0.0</td></tr><tr><td>32.1</td><td>15.5</td><td>188.0</td><td>3050.0</td><td>0</td><td>1.0</td></tr><tr><td>33.1</td><td>16.1</td><td>178.0</td><td>2900.0</td><td>0</td><td>1.0</td></tr><tr><td>35.6</td><td>17.5</td><td>191.0</td><td>3175.0</td><td>0</td><td>1.0</td></tr><tr><td>36.0</td><td>17.1</td><td>187.0</td><td>3700.0</td><td>0</td><td>1.0</td></tr><tr><td>36.0</td><td>17.8</td><td>195.0</td><td>3450.0</td><td>0</td><td>1.0</td></tr><tr><td>36.0</td><td>17.9</td><td>190.0</td><td>3450.0</td><td>0</td><td>1.0</td></tr><tr><td>36.0</td><td>18.5</td><td>186.0</td><td>3100.0</td><td>0</td><td>1.0</td></tr><tr><td>36.2</td><td>17.3</td><td>187.0</td><td>3300.0</td><td>0</td><td>1.0</td></tr><tr><td>36.3</td><td>19.5</td><td>190.0</td><td>3800.0</td><td>0</td><td>1.0</td></tr><tr><td>36.5</td><td>18.0</td><td>182.0</td><td>3150.0</td><td>0</td><td>1.0</td></tr><tr><td>36.6</td><td>18.4</td><td>184.0</td><td>3475.0</td><td>0</td><td>1.0</td></tr><tr><td>36.8</td><td>18.5</td><td>193.0</td><td>3500.0</td><td>0</td><td>1.0</td></tr><tr><td>36.9</td><td>18.6</td><td>189.0</td><td>3500.0</td><td>0</td><td>1.0</td></tr><tr><td>37.0</td><td>16.5</td><td>185.0</td><td>3400.0</td><td>0</td><td>1.0</td></tr><tr><td>37.2</td><td>18.1</td><td>178.0</td><td>3900.0</td><td>0</td><td>1.0</td></tr><tr><td>37.3</td><td>16.8</td><td>192.0</td><td>3000.0</td><td>0</td><td>1.0</td></tr><tr><td>37.5</td><td>18.9</td><td>179.0</td><td>2975.0</td><td>0</td><td>1.0</td></tr><tr><td>37.6</td><td>19.3</td><td>181.0</td><td>3300.0</td><td>0</td><td>1.0</td></tr><tr><td>37.8</td><td>18.1</td><td>193.0</td><td>3750.0</td><td>0</td><td>1.0</td></tr><tr><td>38.1</td><td>17.6</td><td>187.0</td><td>3425.0</td><td>0</td><td>1.0</td></tr><tr><td>38.1</td><td>18.6</td><td>190.0</td><td>3700.0</td><td>0</td><td>1.0</td></tr><tr><td>38.8</td><td>20.0</td><td>190.0</td><td>3950.0</td><td>0</td><td>1.0</td></tr><tr><td>39.0</td><td>18.7</td><td>185.0</td><td>3650.0</td><td>0</td><td>1.0</td></tr><tr><td>39.2</td><td>18.6</td><td>190.0</td><td>4250.0</td><td>0</td><td>1.0</td></tr><tr><td>39.2</td><td>21.1</td><td>196.0</td><td>4150.0</td><td>0</td><td>1.0</td></tr><tr><td>39.6</td><td>18.1</td><td>186.0</td><td>4450.0</td><td>0</td><td>1.0</td></tr><tr><td>39.6</td><td>18.8</td><td>190.0</td><td>4600.0</td><td>0</td><td>1.0</td></tr><tr><td>39.7</td><td>17.9</td><td>193.0</td><td>4250.0</td><td>0</td><td>1.0</td></tr><tr><td>39.8</td><td>19.1</td><td>184.0</td><td>4650.0</td><td>0</td><td>1.0</td></tr><tr><td>40.6</td><td>17.2</td><td>187.0</td><td>3475.0</td><td>0</td><td>1.0</td></tr><tr><td>40.8</td><td>18.9</td><td>208.0</td><td>4300.0</td><td>0</td><td>1.0</td></tr><tr><td>40.9</td><td>16.6</td><td>187.0</td><td>3200.0</td><td>2</td><td>1.0</td></tr><tr><td>40.9</td><td>18.9</td><td>184.0</td><td>3900.0</td><td>0</td><td>1.0</td></tr><tr><td>41.1</td><td>18.1</td><td>205.0</td><td>4300.0</td><td>0</td><td>1.0</td></tr><tr><td>41.1</td><td>19.0</td><td>182.0</td><td>3425.0</td><td>0</td><td>1.0</td></tr><tr><td>41.3</td><td>20.3</td><td>194.0</td><td>3550.0</td><td>0</td><td>1.0</td></tr><tr><td>41.5</td><td>18.5</td><td>201.0</td><td>4000.0</td><td>0</td><td>1.0</td></tr><tr><td>42.2</td><td>18.5</td><td>180.0</td><td>3550.0</td><td>0</td><td>1.0</td></tr><tr><td>42.3</td><td>21.2</td><td>191.0</td><td>4150.0</td><td>0</td><td>1.0</td></tr><tr><td>42.4</td><td>17.3</td><td>181.0</td><td>3600.0</td><td>2</td><td>1.0</td></tr><tr><td>42.5</td><td>16.7</td><td>187.0</td><td>3350.0</td><td>2</td><td>1.0</td></tr><tr><td>42.5</td><td>17.3</td><td>187.0</td><td>3350.0</td><td>2</td><td>1.0</td></tr><tr><td>43.2</td><td>16.6</td><td>187.0</td><td>2900.0</td><td>2</td><td>1.0</td></tr><tr><td>44.1</td><td>19.7</td><td>196.0</td><td>4400.0</td><td>0</td><td>1.0</td></tr><tr><td>45.2</td><td>16.6</td><td>191.0</td><td>3250.0</td><td>2</td><td>1.0</td></tr><tr><td>45.5</td><td>17.0</td><td>196.0</td><td>3500.0</td><td>2</td><td>1.0</td></tr><tr><td>45.6</td><td>19.4</td><td>194.0</td><td>3525.0</td><td>2</td><td>1.0</td></tr><tr><td>46.0</td><td>18.9</td><td>195.0</td><td>4150.0</td><td>2</td><td>1.0</td></tr><tr><td>46.1</td><td>18.2</td><td>178.0</td><td>3250.0</td><td>2</td><td>1.0</td></tr><tr><td>46.2</td><td>17.5</td><td>187.0</td><td>3650.0</td><td>2</td><td>1.0</td></tr><tr><td>46.4</td><td>17.8</td><td>191.0</td><td>3700.0</td><td>2</td><td>1.0</td></tr><tr><td>46.4</td><td>18.6</td><td>190.0</td><td>3450.0</td><td>2</td><td>1.0</td></tr><tr><td>46.5</td><td>17.9</td><td>192.0</td><td>3500.0</td><td>2</td><td>1.0</td></tr><tr><td>46.6</td><td>17.8</td><td>193.0</td><td>3800.0</td><td>2</td><td>1.0</td></tr><tr><td>46.7</td><td>17.9</td><td>195.0</td><td>3300.0</td><td>2</td><td>1.0</td></tr><tr><td>46.8</td><td>16.5</td><td>189.0</td><td>3650.0</td><td>2</td><td>1.0</td></tr><tr><td>47.0</td><td>17.3</td><td>185.0</td><td>3700.0</td><td>2</td><td>1.0</td></tr><tr><td>47.5</td><td>16.8</td><td>199.0</td><td>3900.0</td><td>2</td><td>1.0</td></tr><tr><td>47.6</td><td>18.3</td><td>195.0</td><td>3850.0</td><td>2</td><td>1.0</td></tr><tr><td>48.1</td><td>16.4</td><td>199.0</td><td>3325.0</td><td>2</td><td>1.0</td></tr><tr><td>48.5</td><td>17.5</td><td>191.0</td><td>3400.0</td><td>2</td><td>1.0</td></tr><tr><td>49.0</td><td>19.6</td><td>212.0</td><td>4300.0</td><td>2</td><td>1.0</td></tr><tr><td>49.2</td><td>18.2</td><td>195.0</td><td>4400.0</td><td>2</td><td>1.0</td></tr><tr><td>49.3</td><td>19.9</td><td>203.0</td><td>4050.0</td><td>2</td><td>1.0</td></tr><tr><td>49.5</td><td>19.0</td><td>200.0</td><td>3800.0</td><td>2</td><td>1.0</td></tr><tr><td>49.6</td><td>18.2</td><td>193.0</td><td>3775.0</td><td>2</td><td>1.0</td></tr><tr><td>49.8</td><td>17.3</td><td>198.0</td><td>3675.0</td><td>2</td><td>1.0</td></tr><tr><td>50.1</td><td>17.9</td><td>190.0</td><td>3400.0</td><td>2</td><td>1.0</td></tr><tr><td>50.3</td><td>20.0</td><td>197.0</td><td>3300.0</td><td>2</td><td>1.0</td></tr><tr><td>50.5</td><td>19.6</td><td>201.0</td><td>4050.0</td><td>2</td><td>1.0</td></tr><tr><td>50.8</td><td>18.5</td><td>201.0</td><td>4450.0</td><td>2</td><td>1.0</td></tr><tr><td>50.8</td><td>19.0</td><td>210.0</td><td>4100.0</td><td>2</td><td>1.0</td></tr><tr><td>50.9</td><td>19.1</td><td>196.0</td><td>3550.0</td><td>2</td><td>1.0</td></tr><tr><td>51.0</td><td>18.8</td><td>203.0</td><td>4100.0</td><td>2</td><td>1.0</td></tr><tr><td>51.3</td><td>18.2</td><td>197.0</td><td>3750.0</td><td>2</td><td>1.0</td></tr><tr><td>51.3</td><td>19.2</td><td>193.0</td><td>3650.0</td><td>2</td><td>1.0</td></tr><tr><td>51.4</td><td>19.0</td><td>201.0</td><td>3950.0</td><td>2</td><td>1.0</td></tr><tr><td>51.5</td><td>18.7</td><td>187.0</td><td>3250.0</td><td>2</td><td>1.0</td></tr><tr><td>52.0</td><td>19.0</td><td>197.0</td><td>4150.0</td><td>2</td><td>1.0</td></tr><tr><td>52.0</td><td>20.7</td><td>210.0</td><td>4800.0</td><td>2</td><td>1.0</td></tr><tr><td>52.7</td><td>19.8</td><td>197.0</td><td>3725.0</td><td>2</td><td>1.0</td></tr><tr><td>52.8</td><td>20.0</td><td>205.0</td><td>4550.0</td><td>2</td><td>1.0</td></tr><tr><td>53.5</td><td>19.9</td><td>205.0</td><td>4500.0</td><td>2</td><td>1.0</td></tr><tr><td>54.2</td><td>20.8</td><td>201.0</td><td>4300.0</td><td>2</td><td>1.0</td></tr><tr><td>58.0</td><td>17.8</td><td>181.0</td><td>3700.0</td><td>2</td><td>1.0</td></tr><tr><td>33.5</td><td>19.0</td><td>190.0</td><td>3600.0</td><td>0</td><td>2.0</td></tr><tr><td>34.4</td><td>18.4</td><td>184.0</td><td>3325.0</td><td>0</td><td>2.0</td></tr><tr><td>34.6</td><td>21.1</td><td>198.0</td><td>4400.0</td><td>0</td><td>2.0</td></tr><tr><td>35.2</td><td>15.9</td><td>186.0</td><td>3050.0</td><td>0</td><td>2.0</td></tr><tr><td>35.5</td><td>17.5</td><td>190.0</td><td>3700.0</td><td>0</td><td>2.0</td></tr><tr><td>35.7</td><td>17.0</td><td>189.0</td><td>3350.0</td><td>0</td><td>2.0</td></tr><tr><td>36.2</td><td>16.1</td><td>187.0</td><td>3550.0</td><td>0</td><td>2.0</td></tr><tr><td>36.7</td><td>19.3</td><td>193.0</td><td>3450.0</td><td>0</td><td>2.0</td></tr><tr><td>37.2</td><td>19.4</td><td>184.0</td><td>3900.0</td><td>0</td><td>2.0</td></tr><tr><td>37.7</td><td>19.8</td><td>198.0</td><td>3500.0</td><td>0</td><td>2.0</td></tr><tr><td>37.8</td><td>17.1</td><td>186.0</td><td>3300.0</td><td>0</td><td>2.0</td></tr><tr><td>38.7</td><td>19.0</td><td>195.0</td><td>3450.0</td><td>0</td><td>2.0</td></tr><tr><td>38.8</td><td>17.6</td><td>191.0</td><td>3275.0</td><td>0</td><td>2.0</td></tr><tr><td>38.9</td><td>17.8</td><td>181.0</td><td>3625.0</td><td>0</td><td>2.0</td></tr><tr><td>39.0</td><td>17.1</td><td>191.0</td><td>3050.0</td><td>0</td><td>2.0</td></tr><tr><td>39.1</td><td>18.7</td><td>181.0</td><td>3750.0</td><td>0</td><td>2.0</td></tr><tr><td>39.2</td><td>19.6</td><td>195.0</td><td>4675.0</td><td>0</td><td>2.0</td></tr><tr><td>39.6</td><td>17.2</td><td>196.0</td><td>3550.0</td><td>0</td><td>2.0</td></tr><tr><td>40.3</td><td>18.0</td><td>195.0</td><td>3250.0</td><td>0</td><td>2.0</td></tr><tr><td>40.9</td><td>16.8</td><td>191.0</td><td>3700.0</td><td>0</td><td>2.0</td></tr><tr><td>41.1</td><td>17.6</td><td>182.0</td><td>3200.0</td><td>0</td><td>2.0</td></tr><tr><td>41.1</td><td>18.6</td><td>189.0</td><td>3325.0</td><td>0</td><td>2.0</td></tr><tr><td>41.4</td><td>18.5</td><td>202.0</td><td>3875.0</td><td>0</td><td>2.0</td></tr><tr><td>41.5</td><td>18.3</td><td>195.0</td><td>4300.0</td><td>0</td><td>2.0</td></tr><tr><td>41.8</td><td>19.4</td><td>198.0</td><td>4450.0</td><td>0</td><td>2.0</td></tr><tr><td>42.0</td><td>20.2</td><td>190.0</td><td>4250.0</td><td>0</td><td>2.0</td></tr><tr><td>42.1</td><td>19.1</td><td>195.0</td><td>4000.0</td><td>0</td><td>2.0</td></tr><tr><td>42.5</td><td>20.7</td><td>197.0</td><td>4500.0</td><td>0</td><td>2.0</td></tr><tr><td>42.8</td><td>18.5</td><td>195.0</td><td>4250.0</td><td>0</td><td>2.0</td></tr><tr><td>42.9</td><td>17.6</td><td>196.0</td><td>4700.0</td><td>0</td><td>2.0</td></tr><tr><td>44.1</td><td>18.0</td><td>210.0</td><td>4000.0</td><td>0</td><td>2.0</td></tr><tr><td>46.0</td><td>21.5</td><td>194.0</td><td>4200.0</td><td>0</td><td>2.0</td></tr></tbody></table></div>"
      ]
     },
     "metadata": {
      "application/vnd.databricks.v1+output": {
       "addedWidgets": {},
       "aggData": [],
       "aggError": "",
       "aggOverflow": false,
       "aggSchema": [],
       "aggSeriesLimitReached": false,
       "aggType": "",
       "arguments": {},
       "columnCustomDisplayInfos": {},
       "data": [
        [
         34.5,
         18.1,
         187.0,
         2900.0,
         0,
         0.0
        ],
        [
         35.0,
         17.9,
         190.0,
         3450.0,
         0,
         0.0
        ],
        [
         35.0,
         17.9,
         192.0,
         3725.0,
         0,
         0.0
        ],
        [
         35.3,
         18.9,
         187.0,
         3800.0,
         0,
         0.0
        ],
        [
         35.5,
         16.2,
         195.0,
         3350.0,
         0,
         0.0
        ],
        [
         35.7,
         16.9,
         185.0,
         3150.0,
         0,
         0.0
        ],
        [
         36.4,
         17.1,
         184.0,
         2850.0,
         0,
         0.0
        ],
        [
         36.5,
         16.6,
         181.0,
         2850.0,
         0,
         0.0
        ],
        [
         37.6,
         19.1,
         194.0,
         3750.0,
         0,
         0.0
        ],
        [
         37.7,
         16.0,
         183.0,
         3075.0,
         0,
         0.0
        ],
        [
         37.7,
         18.7,
         180.0,
         3600.0,
         0,
         0.0
        ],
        [
         37.9,
         18.6,
         172.0,
         3150.0,
         0,
         0.0
        ],
        [
         38.2,
         18.1,
         185.0,
         3950.0,
         0,
         0.0
        ],
        [
         38.2,
         20.0,
         190.0,
         3900.0,
         0,
         0.0
        ],
        [
         38.6,
         17.2,
         199.0,
         3750.0,
         0,
         0.0
        ],
        [
         39.0,
         17.5,
         186.0,
         3550.0,
         0,
         0.0
        ],
        [
         39.6,
         20.7,
         191.0,
         3900.0,
         0,
         0.0
        ],
        [
         39.7,
         17.7,
         193.0,
         3200.0,
         0,
         0.0
        ],
        [
         39.7,
         18.9,
         184.0,
         3550.0,
         0,
         0.0
        ],
        [
         40.1,
         18.9,
         188.0,
         4300.0,
         0,
         0.0
        ],
        [
         40.5,
         17.9,
         187.0,
         3200.0,
         0,
         0.0
        ],
        [
         40.5,
         18.9,
         180.0,
         3950.0,
         0,
         0.0
        ],
        [
         41.0,
         20.0,
         203.0,
         4725.0,
         0,
         0.0
        ],
        [
         41.1,
         18.2,
         192.0,
         4050.0,
         0,
         0.0
        ],
        [
         41.1,
         19.1,
         188.0,
         4100.0,
         0,
         0.0
        ],
        [
         41.3,
         21.1,
         195.0,
         4400.0,
         0,
         0.0
        ],
        [
         41.6,
         18.0,
         192.0,
         3950.0,
         0,
         0.0
        ],
        [
         41.7,
         14.7,
         210.0,
         4700.0,
         1,
         0.0
        ],
        [
         42.2,
         19.5,
         197.0,
         4275.0,
         0,
         0.0
        ],
        [
         42.6,
         13.7,
         213.0,
         4950.0,
         1,
         0.0
        ],
        [
         42.7,
         18.3,
         196.0,
         4075.0,
         0,
         0.0
        ],
        [
         42.8,
         14.2,
         209.0,
         4700.0,
         1,
         0.0
        ],
        [
         43.2,
         14.5,
         208.0,
         4450.0,
         1,
         0.0
        ],
        [
         43.2,
         19.0,
         197.0,
         4775.0,
         0,
         0.0
        ],
        [
         43.3,
         14.0,
         208.0,
         4575.0,
         1,
         0.0
        ],
        [
         43.4,
         14.4,
         218.0,
         4600.0,
         1,
         0.0
        ],
        [
         43.5,
         15.2,
         213.0,
         4650.0,
         1,
         0.0
        ],
        [
         43.8,
         13.9,
         208.0,
         4300.0,
         1,
         0.0
        ],
        [
         44.4,
         17.3,
         219.0,
         5250.0,
         1,
         0.0
        ],
        [
         44.5,
         14.3,
         216.0,
         4100.0,
         1,
         0.0
        ],
        [
         44.5,
         14.7,
         214.0,
         4850.0,
         1,
         0.0
        ],
        [
         44.5,
         15.7,
         217.0,
         4875.0,
         1,
         0.0
        ],
        [
         44.9,
         13.8,
         212.0,
         4750.0,
         1,
         0.0
        ],
        [
         45.0,
         15.4,
         220.0,
         5050.0,
         1,
         0.0
        ],
        [
         45.1,
         14.5,
         207.0,
         5050.0,
         1,
         0.0
        ],
        [
         45.1,
         14.5,
         215.0,
         5000.0,
         1,
         0.0
        ],
        [
         45.2,
         13.8,
         215.0,
         4750.0,
         1,
         0.0
        ],
        [
         45.2,
         14.8,
         212.0,
         5200.0,
         1,
         0.0
        ],
        [
         45.2,
         15.8,
         215.0,
         5300.0,
         1,
         0.0
        ],
        [
         45.4,
         14.6,
         211.0,
         4800.0,
         1,
         0.0
        ],
        [
         45.5,
         13.9,
         210.0,
         4200.0,
         1,
         0.0
        ],
        [
         45.5,
         14.5,
         212.0,
         4750.0,
         1,
         0.0
        ],
        [
         45.6,
         20.3,
         191.0,
         4600.0,
         0,
         0.0
        ],
        [
         45.7,
         13.9,
         214.0,
         4400.0,
         1,
         0.0
        ],
        [
         45.8,
         14.6,
         210.0,
         4200.0,
         1,
         0.0
        ],
        [
         46.1,
         13.2,
         211.0,
         4500.0,
         1,
         0.0
        ],
        [
         46.2,
         14.1,
         217.0,
         4375.0,
         1,
         0.0
        ],
        [
         46.2,
         14.5,
         209.0,
         4800.0,
         1,
         0.0
        ],
        [
         46.3,
         15.8,
         215.0,
         5050.0,
         1,
         0.0
        ],
        [
         46.4,
         15.0,
         216.0,
         4700.0,
         1,
         0.0
        ],
        [
         46.5,
         13.5,
         210.0,
         4550.0,
         1,
         0.0
        ],
        [
         46.5,
         14.4,
         217.0,
         4900.0,
         1,
         0.0
        ],
        [
         46.5,
         14.5,
         213.0,
         4400.0,
         1,
         0.0
        ],
        [
         46.5,
         14.8,
         217.0,
         5200.0,
         1,
         0.0
        ],
        [
         46.6,
         14.2,
         210.0,
         4850.0,
         1,
         0.0
        ],
        [
         46.7,
         15.3,
         219.0,
         5200.0,
         1,
         0.0
        ],
        [
         46.8,
         14.3,
         215.0,
         4850.0,
         1,
         0.0
        ],
        [
         46.8,
         15.4,
         215.0,
         5150.0,
         1,
         0.0
        ],
        [
         46.8,
         16.1,
         215.0,
         5500.0,
         1,
         0.0
        ],
        [
         46.9,
         14.6,
         222.0,
         4875.0,
         1,
         0.0
        ],
        [
         47.2,
         13.7,
         214.0,
         4925.0,
         1,
         0.0
        ],
        [
         47.3,
         13.8,
         216.0,
         4725.0,
         1,
         0.0
        ],
        [
         47.3,
         15.3,
         222.0,
         5250.0,
         1,
         0.0
        ],
        [
         47.5,
         14.0,
         212.0,
         4875.0,
         1,
         0.0
        ],
        [
         47.5,
         14.2,
         209.0,
         4600.0,
         1,
         0.0
        ],
        [
         47.5,
         15.0,
         218.0,
         4950.0,
         1,
         0.0
        ],
        [
         47.6,
         14.5,
         215.0,
         5400.0,
         1,
         0.0
        ],
        [
         47.7,
         15.0,
         216.0,
         4750.0,
         1,
         0.0
        ],
        [
         47.8,
         15.0,
         215.0,
         5650.0,
         1,
         0.0
        ],
        [
         48.1,
         15.1,
         209.0,
         5500.0,
         1,
         0.0
        ],
        [
         48.2,
         15.6,
         221.0,
         5100.0,
         1,
         0.0
        ],
        [
         48.4,
         14.4,
         203.0,
         4625.0,
         1,
         0.0
        ],
        [
         48.4,
         14.6,
         213.0,
         5850.0,
         1,
         0.0
        ],
        [
         48.4,
         16.3,
         220.0,
         5400.0,
         1,
         0.0
        ],
        [
         48.5,
         14.1,
         220.0,
         5300.0,
         1,
         0.0
        ],
        [
         48.5,
         15.0,
         219.0,
         4850.0,
         1,
         0.0
        ],
        [
         48.7,
         15.7,
         208.0,
         5350.0,
         1,
         0.0
        ],
        [
         48.8,
         16.2,
         222.0,
         6000.0,
         1,
         0.0
        ],
        [
         49.0,
         16.1,
         216.0,
         5550.0,
         1,
         0.0
        ],
        [
         49.1,
         14.5,
         212.0,
         4625.0,
         1,
         0.0
        ],
        [
         49.1,
         14.8,
         220.0,
         5150.0,
         1,
         0.0
        ],
        [
         49.1,
         15.0,
         228.0,
         5500.0,
         1,
         0.0
        ],
        [
         49.2,
         15.2,
         221.0,
         6300.0,
         1,
         0.0
        ],
        [
         49.3,
         15.7,
         217.0,
         5850.0,
         1,
         0.0
        ],
        [
         49.4,
         15.8,
         216.0,
         4925.0,
         1,
         0.0
        ],
        [
         49.5,
         16.2,
         229.0,
         5800.0,
         1,
         0.0
        ],
        [
         49.8,
         15.9,
         229.0,
         5950.0,
         1,
         0.0
        ],
        [
         49.8,
         16.8,
         230.0,
         5700.0,
         1,
         0.0
        ],
        [
         49.9,
         16.1,
         213.0,
         5400.0,
         1,
         0.0
        ],
        [
         50.0,
         15.2,
         218.0,
         5700.0,
         1,
         0.0
        ],
        [
         50.0,
         16.3,
         230.0,
         5700.0,
         1,
         0.0
        ],
        [
         50.1,
         15.0,
         225.0,
         5000.0,
         1,
         0.0
        ],
        [
         50.2,
         14.3,
         218.0,
         5700.0,
         1,
         0.0
        ],
        [
         50.4,
         15.7,
         222.0,
         5750.0,
         1,
         0.0
        ],
        [
         50.5,
         15.9,
         225.0,
         5400.0,
         1,
         0.0
        ],
        [
         50.7,
         15.0,
         223.0,
         5550.0,
         1,
         0.0
        ],
        [
         50.8,
         17.3,
         228.0,
         5600.0,
         1,
         0.0
        ],
        [
         51.1,
         16.5,
         225.0,
         5250.0,
         1,
         0.0
        ],
        [
         51.5,
         16.3,
         230.0,
         5500.0,
         1,
         0.0
        ],
        [
         52.1,
         17.0,
         230.0,
         5550.0,
         1,
         0.0
        ],
        [
         52.2,
         17.1,
         228.0,
         5400.0,
         1,
         0.0
        ],
        [
         52.5,
         15.6,
         221.0,
         5450.0,
         1,
         0.0
        ],
        [
         53.4,
         15.8,
         219.0,
         5500.0,
         1,
         0.0
        ],
        [
         54.3,
         15.7,
         231.0,
         5650.0,
         1,
         0.0
        ],
        [
         55.1,
         16.0,
         230.0,
         5850.0,
         1,
         0.0
        ],
        [
         55.9,
         17.0,
         228.0,
         5600.0,
         1,
         0.0
        ],
        [
         59.6,
         17.0,
         230.0,
         6050.0,
         1,
         0.0
        ],
        [
         32.1,
         15.5,
         188.0,
         3050.0,
         0,
         1.0
        ],
        [
         33.1,
         16.1,
         178.0,
         2900.0,
         0,
         1.0
        ],
        [
         35.6,
         17.5,
         191.0,
         3175.0,
         0,
         1.0
        ],
        [
         36.0,
         17.1,
         187.0,
         3700.0,
         0,
         1.0
        ],
        [
         36.0,
         17.8,
         195.0,
         3450.0,
         0,
         1.0
        ],
        [
         36.0,
         17.9,
         190.0,
         3450.0,
         0,
         1.0
        ],
        [
         36.0,
         18.5,
         186.0,
         3100.0,
         0,
         1.0
        ],
        [
         36.2,
         17.3,
         187.0,
         3300.0,
         0,
         1.0
        ],
        [
         36.3,
         19.5,
         190.0,
         3800.0,
         0,
         1.0
        ],
        [
         36.5,
         18.0,
         182.0,
         3150.0,
         0,
         1.0
        ],
        [
         36.6,
         18.4,
         184.0,
         3475.0,
         0,
         1.0
        ],
        [
         36.8,
         18.5,
         193.0,
         3500.0,
         0,
         1.0
        ],
        [
         36.9,
         18.6,
         189.0,
         3500.0,
         0,
         1.0
        ],
        [
         37.0,
         16.5,
         185.0,
         3400.0,
         0,
         1.0
        ],
        [
         37.2,
         18.1,
         178.0,
         3900.0,
         0,
         1.0
        ],
        [
         37.3,
         16.8,
         192.0,
         3000.0,
         0,
         1.0
        ],
        [
         37.5,
         18.9,
         179.0,
         2975.0,
         0,
         1.0
        ],
        [
         37.6,
         19.3,
         181.0,
         3300.0,
         0,
         1.0
        ],
        [
         37.8,
         18.1,
         193.0,
         3750.0,
         0,
         1.0
        ],
        [
         38.1,
         17.6,
         187.0,
         3425.0,
         0,
         1.0
        ],
        [
         38.1,
         18.6,
         190.0,
         3700.0,
         0,
         1.0
        ],
        [
         38.8,
         20.0,
         190.0,
         3950.0,
         0,
         1.0
        ],
        [
         39.0,
         18.7,
         185.0,
         3650.0,
         0,
         1.0
        ],
        [
         39.2,
         18.6,
         190.0,
         4250.0,
         0,
         1.0
        ],
        [
         39.2,
         21.1,
         196.0,
         4150.0,
         0,
         1.0
        ],
        [
         39.6,
         18.1,
         186.0,
         4450.0,
         0,
         1.0
        ],
        [
         39.6,
         18.8,
         190.0,
         4600.0,
         0,
         1.0
        ],
        [
         39.7,
         17.9,
         193.0,
         4250.0,
         0,
         1.0
        ],
        [
         39.8,
         19.1,
         184.0,
         4650.0,
         0,
         1.0
        ],
        [
         40.6,
         17.2,
         187.0,
         3475.0,
         0,
         1.0
        ],
        [
         40.8,
         18.9,
         208.0,
         4300.0,
         0,
         1.0
        ],
        [
         40.9,
         16.6,
         187.0,
         3200.0,
         2,
         1.0
        ],
        [
         40.9,
         18.9,
         184.0,
         3900.0,
         0,
         1.0
        ],
        [
         41.1,
         18.1,
         205.0,
         4300.0,
         0,
         1.0
        ],
        [
         41.1,
         19.0,
         182.0,
         3425.0,
         0,
         1.0
        ],
        [
         41.3,
         20.3,
         194.0,
         3550.0,
         0,
         1.0
        ],
        [
         41.5,
         18.5,
         201.0,
         4000.0,
         0,
         1.0
        ],
        [
         42.2,
         18.5,
         180.0,
         3550.0,
         0,
         1.0
        ],
        [
         42.3,
         21.2,
         191.0,
         4150.0,
         0,
         1.0
        ],
        [
         42.4,
         17.3,
         181.0,
         3600.0,
         2,
         1.0
        ],
        [
         42.5,
         16.7,
         187.0,
         3350.0,
         2,
         1.0
        ],
        [
         42.5,
         17.3,
         187.0,
         3350.0,
         2,
         1.0
        ],
        [
         43.2,
         16.6,
         187.0,
         2900.0,
         2,
         1.0
        ],
        [
         44.1,
         19.7,
         196.0,
         4400.0,
         0,
         1.0
        ],
        [
         45.2,
         16.6,
         191.0,
         3250.0,
         2,
         1.0
        ],
        [
         45.5,
         17.0,
         196.0,
         3500.0,
         2,
         1.0
        ],
        [
         45.6,
         19.4,
         194.0,
         3525.0,
         2,
         1.0
        ],
        [
         46.0,
         18.9,
         195.0,
         4150.0,
         2,
         1.0
        ],
        [
         46.1,
         18.2,
         178.0,
         3250.0,
         2,
         1.0
        ],
        [
         46.2,
         17.5,
         187.0,
         3650.0,
         2,
         1.0
        ],
        [
         46.4,
         17.8,
         191.0,
         3700.0,
         2,
         1.0
        ],
        [
         46.4,
         18.6,
         190.0,
         3450.0,
         2,
         1.0
        ],
        [
         46.5,
         17.9,
         192.0,
         3500.0,
         2,
         1.0
        ],
        [
         46.6,
         17.8,
         193.0,
         3800.0,
         2,
         1.0
        ],
        [
         46.7,
         17.9,
         195.0,
         3300.0,
         2,
         1.0
        ],
        [
         46.8,
         16.5,
         189.0,
         3650.0,
         2,
         1.0
        ],
        [
         47.0,
         17.3,
         185.0,
         3700.0,
         2,
         1.0
        ],
        [
         47.5,
         16.8,
         199.0,
         3900.0,
         2,
         1.0
        ],
        [
         47.6,
         18.3,
         195.0,
         3850.0,
         2,
         1.0
        ],
        [
         48.1,
         16.4,
         199.0,
         3325.0,
         2,
         1.0
        ],
        [
         48.5,
         17.5,
         191.0,
         3400.0,
         2,
         1.0
        ],
        [
         49.0,
         19.6,
         212.0,
         4300.0,
         2,
         1.0
        ],
        [
         49.2,
         18.2,
         195.0,
         4400.0,
         2,
         1.0
        ],
        [
         49.3,
         19.9,
         203.0,
         4050.0,
         2,
         1.0
        ],
        [
         49.5,
         19.0,
         200.0,
         3800.0,
         2,
         1.0
        ],
        [
         49.6,
         18.2,
         193.0,
         3775.0,
         2,
         1.0
        ],
        [
         49.8,
         17.3,
         198.0,
         3675.0,
         2,
         1.0
        ],
        [
         50.1,
         17.9,
         190.0,
         3400.0,
         2,
         1.0
        ],
        [
         50.3,
         20.0,
         197.0,
         3300.0,
         2,
         1.0
        ],
        [
         50.5,
         19.6,
         201.0,
         4050.0,
         2,
         1.0
        ],
        [
         50.8,
         18.5,
         201.0,
         4450.0,
         2,
         1.0
        ],
        [
         50.8,
         19.0,
         210.0,
         4100.0,
         2,
         1.0
        ],
        [
         50.9,
         19.1,
         196.0,
         3550.0,
         2,
         1.0
        ],
        [
         51.0,
         18.8,
         203.0,
         4100.0,
         2,
         1.0
        ],
        [
         51.3,
         18.2,
         197.0,
         3750.0,
         2,
         1.0
        ],
        [
         51.3,
         19.2,
         193.0,
         3650.0,
         2,
         1.0
        ],
        [
         51.4,
         19.0,
         201.0,
         3950.0,
         2,
         1.0
        ],
        [
         51.5,
         18.7,
         187.0,
         3250.0,
         2,
         1.0
        ],
        [
         52.0,
         19.0,
         197.0,
         4150.0,
         2,
         1.0
        ],
        [
         52.0,
         20.7,
         210.0,
         4800.0,
         2,
         1.0
        ],
        [
         52.7,
         19.8,
         197.0,
         3725.0,
         2,
         1.0
        ],
        [
         52.8,
         20.0,
         205.0,
         4550.0,
         2,
         1.0
        ],
        [
         53.5,
         19.9,
         205.0,
         4500.0,
         2,
         1.0
        ],
        [
         54.2,
         20.8,
         201.0,
         4300.0,
         2,
         1.0
        ],
        [
         58.0,
         17.8,
         181.0,
         3700.0,
         2,
         1.0
        ],
        [
         33.5,
         19.0,
         190.0,
         3600.0,
         0,
         2.0
        ],
        [
         34.4,
         18.4,
         184.0,
         3325.0,
         0,
         2.0
        ],
        [
         34.6,
         21.1,
         198.0,
         4400.0,
         0,
         2.0
        ],
        [
         35.2,
         15.9,
         186.0,
         3050.0,
         0,
         2.0
        ],
        [
         35.5,
         17.5,
         190.0,
         3700.0,
         0,
         2.0
        ],
        [
         35.7,
         17.0,
         189.0,
         3350.0,
         0,
         2.0
        ],
        [
         36.2,
         16.1,
         187.0,
         3550.0,
         0,
         2.0
        ],
        [
         36.7,
         19.3,
         193.0,
         3450.0,
         0,
         2.0
        ],
        [
         37.2,
         19.4,
         184.0,
         3900.0,
         0,
         2.0
        ],
        [
         37.7,
         19.8,
         198.0,
         3500.0,
         0,
         2.0
        ],
        [
         37.8,
         17.1,
         186.0,
         3300.0,
         0,
         2.0
        ],
        [
         38.7,
         19.0,
         195.0,
         3450.0,
         0,
         2.0
        ],
        [
         38.8,
         17.6,
         191.0,
         3275.0,
         0,
         2.0
        ],
        [
         38.9,
         17.8,
         181.0,
         3625.0,
         0,
         2.0
        ],
        [
         39.0,
         17.1,
         191.0,
         3050.0,
         0,
         2.0
        ],
        [
         39.1,
         18.7,
         181.0,
         3750.0,
         0,
         2.0
        ],
        [
         39.2,
         19.6,
         195.0,
         4675.0,
         0,
         2.0
        ],
        [
         39.6,
         17.2,
         196.0,
         3550.0,
         0,
         2.0
        ],
        [
         40.3,
         18.0,
         195.0,
         3250.0,
         0,
         2.0
        ],
        [
         40.9,
         16.8,
         191.0,
         3700.0,
         0,
         2.0
        ],
        [
         41.1,
         17.6,
         182.0,
         3200.0,
         0,
         2.0
        ],
        [
         41.1,
         18.6,
         189.0,
         3325.0,
         0,
         2.0
        ],
        [
         41.4,
         18.5,
         202.0,
         3875.0,
         0,
         2.0
        ],
        [
         41.5,
         18.3,
         195.0,
         4300.0,
         0,
         2.0
        ],
        [
         41.8,
         19.4,
         198.0,
         4450.0,
         0,
         2.0
        ],
        [
         42.0,
         20.2,
         190.0,
         4250.0,
         0,
         2.0
        ],
        [
         42.1,
         19.1,
         195.0,
         4000.0,
         0,
         2.0
        ],
        [
         42.5,
         20.7,
         197.0,
         4500.0,
         0,
         2.0
        ],
        [
         42.8,
         18.5,
         195.0,
         4250.0,
         0,
         2.0
        ],
        [
         42.9,
         17.6,
         196.0,
         4700.0,
         0,
         2.0
        ],
        [
         44.1,
         18.0,
         210.0,
         4000.0,
         0,
         2.0
        ],
        [
         46.0,
         21.5,
         194.0,
         4200.0,
         0,
         2.0
        ]
       ],
       "datasetInfos": [],
       "dbfsResultPath": null,
       "isJsonSchema": true,
       "metadata": {},
       "overflow": false,
       "plotOptions": {
        "customPlotOptions": {},
        "displayType": "table",
        "pivotAggregation": null,
        "pivotColumns": null,
        "xColumns": null,
        "yColumns": null
       },
       "removedWidgets": [],
       "schema": [
        {
         "metadata": "{}",
         "name": "CulmenLength",
         "type": "\"float\""
        },
        {
         "metadata": "{}",
         "name": "CulmenDepth",
         "type": "\"float\""
        },
        {
         "metadata": "{}",
         "name": "FlipperLength",
         "type": "\"float\""
        },
        {
         "metadata": "{}",
         "name": "BodyMass",
         "type": "\"float\""
        },
        {
         "metadata": "{}",
         "name": "Species",
         "type": "\"integer\""
        },
        {
         "metadata": "{\"ml_attr\":{\"vals\":[\"Biscoe\",\"Dream\",\"Torgersen\"],\"type\":\"nominal\",\"name\":\"IslandIdx\"}}",
         "name": "IslandIdx",
         "type": "\"double\""
        }
       ],
       "type": "table"
      }
     },
     "output_type": "display_data"
    }
   ],
   "source": [
    "from pyspark.ml.feature import StringIndexer\n",
    "\n",
    "indexer = StringIndexer(inputCol=\"Island\", outputCol=\"IslandIdx\")\n",
    "indexedData = indexer.fit(train).transform(train).drop(\"Island\")\n",
    "display(indexedData)"
   ]
  },
  {
   "cell_type": "code",
   "execution_count": 0,
   "metadata": {
    "application/vnd.databricks.v1+cell": {
     "cellMetadata": {
      "byteLimit": 2048000,
      "rowLimit": 10000
     },
     "inputWidgets": {},
     "nuid": "2d04a364-fcdf-4be2-a556-1ba8c0cffdfc",
     "showTitle": false,
     "title": ""
    }
   },
   "outputs": [
    {
     "output_type": "display_data",
     "data": {
      "text/html": [
       "<style scoped>\n",
       "  .table-result-container {\n",
       "    max-height: 300px;\n",
       "    overflow: auto;\n",
       "  }\n",
       "  table, th, td {\n",
       "    border: 1px solid black;\n",
       "    border-collapse: collapse;\n",
       "  }\n",
       "  th, td {\n",
       "    padding: 5px;\n",
       "  }\n",
       "  th {\n",
       "    text-align: left;\n",
       "  }\n",
       "</style><div class='table-result-container'><table class='table-result'><thead style='background-color: white'><tr><th>numericFeatures</th><th>normalizedFeatures</th></tr></thead><tbody><tr><td>Map(vectorType -> dense, length -> 4, values -> List(34.5, 18.100000381469727, 187.0, 2900.0))</td><td>Map(vectorType -> dense, length -> 4, values -> List(0.08727278275923295, 0.5903615011568758, 0.2542372881355932, 0.014492753623188406))</td></tr><tr><td>Map(vectorType -> dense, length -> 4, values -> List(35.0, 17.899999618530273, 190.0, 3450.0))</td><td>Map(vectorType -> dense, length -> 4, values -> List(0.10545460094105114, 0.5662650242480307, 0.3050847457627119, 0.17391304347826086))</td></tr><tr><td>Map(vectorType -> dense, length -> 4, values -> List(35.0, 17.899999618530273, 192.0, 3725.0))</td><td>Map(vectorType -> dense, length -> 4, values -> List(0.10545460094105114, 0.5662650242480307, 0.3389830508474576, 0.2536231884057971))</td></tr><tr><td>Map(vectorType -> dense, length -> 4, values -> List(35.29999923706055, 18.899999618530273, 187.0, 3800.0))</td><td>Map(vectorType -> dense, length -> 4, values -> List(0.1163636641068892, 0.6867469491901869, 0.2542372881355932, 0.2753623188405797))</td></tr><tr><td>Map(vectorType -> dense, length -> 4, values -> List(35.5, 16.200000762939453, 195.0, 3350.0))</td><td>Map(vectorType -> dense, length -> 4, values -> List(0.12363641912286931, 0.36144588972698605, 0.3898305084745763, 0.14492753623188406))</td></tr><tr><td>Map(vectorType -> dense, length -> 4, values -> List(35.70000076293945, 16.899999618530273, 185.0, 3150.0))</td><td>Map(vectorType -> dense, length -> 4, values -> List(0.13090917413884942, 0.44578309930587445, 0.22033898305084745, 0.08695652173913043))</td></tr><tr><td>Map(vectorType -> dense, length -> 4, values -> List(36.400001525878906, 17.100000381469727, 184.0, 2850.0))</td><td>Map(vectorType -> dense, length -> 4, values -> List(0.1563637473366477, 0.46987957621471965, 0.2033898305084746, 0.0))</td></tr><tr><td>Map(vectorType -> dense, length -> 4, values -> List(36.5, 16.600000381469727, 181.0, 2850.0))</td><td>Map(vectorType -> dense, length -> 4, values -> List(0.16000005548650567, 0.4096386137436415, 0.15254237288135594, 0.0))</td></tr><tr><td>Map(vectorType -> dense, length -> 4, values -> List(37.599998474121094, 19.100000381469727, 194.0, 3750.0))</td><td>Map(vectorType -> dense, length -> 4, values -> List(0.19999999999999998, 0.7108434260990321, 0.3728813559322034, 0.2608695652173913))</td></tr><tr><td>Map(vectorType -> dense, length -> 4, values -> List(37.70000076293945, 16.0, 183.0, 3075.0))</td><td>Map(vectorType -> dense, length -> 4, values -> List(0.20363644686612214, 0.33734941281814085, 0.1864406779661017, 0.06521739130434782))</td></tr><tr><td>Map(vectorType -> dense, length -> 4, values -> List(37.70000076293945, 18.700000762939453, 180.0, 3600.0))</td><td>Map(vectorType -> dense, length -> 4, values -> List(0.20363644686612214, 0.6626507020823765, 0.13559322033898305, 0.21739130434782608))</td></tr><tr><td>Map(vectorType -> dense, length -> 4, values -> List(37.900001525878906, 18.600000381469727, 172.0, 3150.0))</td><td>Map(vectorType -> dense, length -> 4, values -> List(0.21090920188210227, 0.6506024636279539, 0.0, 0.08695652173913043))</td></tr><tr><td>Map(vectorType -> dense, length -> 4, values -> List(38.20000076293945, 18.100000381469727, 185.0, 3950.0))</td><td>Map(vectorType -> dense, length -> 4, values -> List(0.22181826504794033, 0.5903615011568758, 0.22033898305084745, 0.3188405797101449))</td></tr><tr><td>Map(vectorType -> dense, length -> 4, values -> List(38.20000076293945, 20.0, 190.0, 3900.0))</td><td>Map(vectorType -> dense, length -> 4, values -> List(0.22181826504794033, 0.8192771125867657, 0.3050847457627119, 0.30434782608695654))</td></tr><tr><td>Map(vectorType -> dense, length -> 4, values -> List(38.599998474121094, 17.200000762939453, 199.0, 3750.0))</td><td>Map(vectorType -> dense, length -> 4, values -> List(0.23636363636363636, 0.48192781466914225, 0.4576271186440678, 0.2608695652173913))</td></tr><tr><td>Map(vectorType -> dense, length -> 4, values -> List(39.0, 17.5, 186.0, 3550.0))</td><td>Map(vectorType -> dense, length -> 4, values -> List(0.2509091463955966, 0.5180723002313752, 0.23728813559322035, 0.20289855072463767))</td></tr><tr><td>Map(vectorType -> dense, length -> 4, values -> List(39.599998474121094, 20.700000762939453, 191.0, 3900.0))</td><td>Map(vectorType -> dense, length -> 4, values -> List(0.2727272727272727, 0.9036145519666889, 0.3220338983050847, 0.30434782608695654))</td></tr><tr><td>Map(vectorType -> dense, length -> 4, values -> List(39.70000076293945, 17.700000762939453, 193.0, 3200.0))</td><td>Map(vectorType -> dense, length -> 4, values -> List(0.2763637195933949, 0.5421687771402204, 0.3559322033898305, 0.10144927536231883))</td></tr><tr><td>Map(vectorType -> dense, length -> 4, values -> List(39.70000076293945, 18.899999618530273, 184.0, 3550.0))</td><td>Map(vectorType -> dense, length -> 4, values -> List(0.2763637195933949, 0.6867469491901869, 0.2033898305084746, 0.20289855072463767))</td></tr><tr><td>Map(vectorType -> dense, length -> 4, values -> List(40.099998474121094, 18.899999618530273, 188.0, 4300.0))</td><td>Map(vectorType -> dense, length -> 4, values -> List(0.2909090909090909, 0.6867469491901869, 0.2711864406779661, 0.42028985507246375))</td></tr><tr><td>Map(vectorType -> dense, length -> 4, values -> List(40.5, 17.899999618530273, 187.0, 3200.0))</td><td>Map(vectorType -> dense, length -> 4, values -> List(0.30545460094105115, 0.5662650242480307, 0.2542372881355932, 0.10144927536231883))</td></tr><tr><td>Map(vectorType -> dense, length -> 4, values -> List(40.5, 18.899999618530273, 180.0, 3950.0))</td><td>Map(vectorType -> dense, length -> 4, values -> List(0.30545460094105115, 0.6867469491901869, 0.13559322033898305, 0.3188405797101449))</td></tr><tr><td>Map(vectorType -> dense, length -> 4, values -> List(41.0, 20.0, 203.0, 4725.0))</td><td>Map(vectorType -> dense, length -> 4, values -> List(0.3236364191228693, 0.8192771125867657, 0.5254237288135594, 0.5434782608695652))</td></tr><tr><td>Map(vectorType -> dense, length -> 4, values -> List(41.099998474121094, 18.200000762939453, 192.0, 4050.0))</td><td>Map(vectorType -> dense, length -> 4, values -> List(0.32727272727272727, 0.6024097396112984, 0.3389830508474576, 0.34782608695652173))</td></tr><tr><td>Map(vectorType -> dense, length -> 4, values -> List(41.099998474121094, 19.100000381469727, 188.0, 4100.0))</td><td>Map(vectorType -> dense, length -> 4, values -> List(0.32727272727272727, 0.7108434260990321, 0.2711864406779661, 0.36231884057971014))</td></tr><tr><td>Map(vectorType -> dense, length -> 4, values -> List(41.29999923706055, 21.100000381469727, 195.0, 4400.0))</td><td>Map(vectorType -> dense, length -> 4, values -> List(0.3345454822887074, 0.9518072759833445, 0.3898305084745763, 0.4492753623188406))</td></tr><tr><td>Map(vectorType -> dense, length -> 4, values -> List(41.599998474121094, 18.0, 192.0, 3950.0))</td><td>Map(vectorType -> dense, length -> 4, values -> List(0.34545454545454546, 0.5783132627024533, 0.3389830508474576, 0.3188405797101449))</td></tr><tr><td>Map(vectorType -> dense, length -> 4, values -> List(41.70000076293945, 14.699999809265137, 210.0, 4700.0))</td><td>Map(vectorType -> dense, length -> 4, values -> List(0.3490909923206676, 0.1807228874132343, 0.6440677966101694, 0.536231884057971))</td></tr><tr><td>Map(vectorType -> dense, length -> 4, values -> List(42.20000076293945, 19.5, 197.0, 4275.0))</td><td>Map(vectorType -> dense, length -> 4, values -> List(0.3672728105024858, 0.7590361501156876, 0.423728813559322, 0.41304347826086957))</td></tr><tr><td>Map(vectorType -> dense, length -> 4, values -> List(42.599998474121094, 13.699999809265137, 213.0, 4950.0))</td><td>Map(vectorType -> dense, length -> 4, values -> List(0.3818181818181818, 0.0602409624710781, 0.6949152542372882, 0.6086956521739131))</td></tr><tr><td>Map(vectorType -> dense, length -> 4, values -> List(42.70000076293945, 18.299999237060547, 196.0, 4075.0))</td><td>Map(vectorType -> dense, length -> 4, values -> List(0.38545462868430397, 0.6144577482646862, 0.4067796610169492, 0.3550724637681159))</td></tr><tr><td>Map(vectorType -> dense, length -> 4, values -> List(42.79999923706055, 14.199999809265137, 209.0, 4700.0))</td><td>Map(vectorType -> dense, length -> 4, values -> List(0.3890909368341619, 0.1204819249421562, 0.6271186440677966, 0.536231884057971))</td></tr><tr><td>Map(vectorType -> dense, length -> 4, values -> List(43.20000076293945, 14.5, 208.0, 4450.0))</td><td>Map(vectorType -> dense, length -> 4, values -> List(0.40363644686612216, 0.15662652540490654, 0.6101694915254238, 0.463768115942029))</td></tr><tr><td>Map(vectorType -> dense, length -> 4, values -> List(43.20000076293945, 19.0, 197.0, 4775.0))</td><td>Map(vectorType -> dense, length -> 4, values -> List(0.40363644686612216, 0.6987951876446095, 0.423728813559322, 0.5579710144927537))</td></tr><tr><td>Map(vectorType -> dense, length -> 4, values -> List(43.29999923706055, 14.0, 208.0, 4575.0))</td><td>Map(vectorType -> dense, length -> 4, values -> List(0.4072727550159801, 0.09638556293382844, 0.6101694915254238, 0.5))</td></tr><tr><td>Map(vectorType -> dense, length -> 4, values -> List(43.400001525878906, 14.399999618530273, 218.0, 4600.0))</td><td>Map(vectorType -> dense, length -> 4, values -> List(0.4109092018821022, 0.14457828695048397, 0.7796610169491526, 0.5072463768115942))</td></tr><tr><td>Map(vectorType -> dense, length -> 4, values -> List(43.5, 15.199999809265137, 213.0, 4650.0))</td><td>Map(vectorType -> dense, length -> 4, values -> List(0.4145455100319602, 0.2409638498843124, 0.6949152542372882, 0.5217391304347826))</td></tr><tr><td>Map(vectorType -> dense, length -> 4, values -> List(43.79999923706055, 13.899999618530273, 208.0, 4300.0))</td><td>Map(vectorType -> dense, length -> 4, values -> List(0.4254545731977983, 0.08433732447940587, 0.6101694915254238, 0.42028985507246375))</td></tr><tr><td>Map(vectorType -> dense, length -> 4, values -> List(44.400001525878906, 17.299999237060547, 219.0, 5250.0))</td><td>Map(vectorType -> dense, length -> 4, values -> List(0.4472728382457386, 0.49397582332253, 0.7966101694915254, 0.6956521739130435))</td></tr><tr><td>Map(vectorType -> dense, length -> 4, values -> List(44.5, 14.300000190734863, 216.0, 4100.0))</td><td>Map(vectorType -> dense, length -> 4, values -> List(0.4509091463955966, 0.13253016339657878, 0.7457627118644068, 0.36231884057971014))</td></tr><tr><td>Map(vectorType -> dense, length -> 4, values -> List(44.5, 14.699999809265137, 214.0, 4850.0))</td><td>Map(vectorType -> dense, length -> 4, values -> List(0.4509091463955966, 0.1807228874132343, 0.711864406779661, 0.5797101449275363))</td></tr><tr><td>Map(vectorType -> dense, length -> 4, values -> List(44.5, 15.699999809265137, 217.0, 4875.0))</td><td>Map(vectorType -> dense, length -> 4, values -> List(0.4509091463955966, 0.30120481235539054, 0.7627118644067796, 0.5869565217391304))</td></tr><tr><td>Map(vectorType -> dense, length -> 4, values -> List(44.900001525878906, 13.800000190734863, 212.0, 4750.0))</td><td>Map(vectorType -> dense, length -> 4, values -> List(0.4654546564275568, 0.07228920092550069, 0.6779661016949152, 0.5507246376811594))</td></tr><tr><td>Map(vectorType -> dense, length -> 4, values -> List(45.0, 15.399999618530273, 220.0, 5050.0))</td><td>Map(vectorType -> dense, length -> 4, values -> List(0.4690909645774147, 0.2650602118926402, 0.8135593220338984, 0.6376811594202898))</td></tr><tr><td>Map(vectorType -> dense, length -> 4, values -> List(45.099998474121094, 14.5, 207.0, 5050.0))</td><td>Map(vectorType -> dense, length -> 4, values -> List(0.4727272727272727, 0.15662652540490654, 0.5932203389830508, 0.6376811594202898))</td></tr><tr><td>Map(vectorType -> dense, length -> 4, values -> List(45.099998474121094, 14.5, 215.0, 5000.0))</td><td>Map(vectorType -> dense, length -> 4, values -> List(0.4727272727272727, 0.15662652540490654, 0.7288135593220338, 0.6231884057971014))</td></tr><tr><td>Map(vectorType -> dense, length -> 4, values -> List(45.20000076293945, 13.800000190734863, 215.0, 4750.0))</td><td>Map(vectorType -> dense, length -> 4, values -> List(0.47636371959339485, 0.07228920092550069, 0.7288135593220338, 0.5507246376811594))</td></tr><tr><td>Map(vectorType -> dense, length -> 4, values -> List(45.20000076293945, 14.800000190734863, 212.0, 5200.0))</td><td>Map(vectorType -> dense, length -> 4, values -> List(0.47636371959339485, 0.19277112586765688, 0.6779661016949152, 0.6811594202898551))</td></tr><tr><td>Map(vectorType -> dense, length -> 4, values -> List(45.20000076293945, 15.800000190734863, 215.0, 5300.0))</td><td>Map(vectorType -> dense, length -> 4, values -> List(0.47636371959339485, 0.3132530508098131, 0.7288135593220338, 0.7101449275362318))</td></tr><tr><td>Map(vectorType -> dense, length -> 4, values -> List(45.400001525878906, 14.600000381469727, 211.0, 4800.0))</td><td>Map(vectorType -> dense, length -> 4, values -> List(0.483636474609375, 0.16867476385932914, 0.6610169491525424, 0.5652173913043478))</td></tr><tr><td>Map(vectorType -> dense, length -> 4, values -> List(45.5, 13.899999618530273, 210.0, 4200.0))</td><td>Map(vectorType -> dense, length -> 4, values -> List(0.4872727827592329, 0.08433732447940587, 0.6440677966101694, 0.391304347826087))</td></tr><tr><td>Map(vectorType -> dense, length -> 4, values -> List(45.5, 14.5, 212.0, 4750.0))</td><td>Map(vectorType -> dense, length -> 4, values -> List(0.4872727827592329, 0.15662652540490654, 0.6779661016949152, 0.5507246376811594))</td></tr><tr><td>Map(vectorType -> dense, length -> 4, values -> List(45.599998474121094, 20.299999237060547, 191.0, 4600.0))</td><td>Map(vectorType -> dense, length -> 4, values -> List(0.4909090909090909, 0.8554215981489987, 0.3220338983050847, 0.5072463768115942))</td></tr><tr><td>Map(vectorType -> dense, length -> 4, values -> List(45.70000076293945, 13.899999618530273, 214.0, 4400.0))</td><td>Map(vectorType -> dense, length -> 4, values -> List(0.49454553777521304, 0.08433732447940587, 0.711864406779661, 0.4492753623188406))</td></tr><tr><td>Map(vectorType -> dense, length -> 4, values -> List(45.79999923706055, 14.600000381469727, 210.0, 4200.0))</td><td>Map(vectorType -> dense, length -> 4, values -> List(0.498181845925071, 0.16867476385932914, 0.6440677966101694, 0.391304347826087))</td></tr><tr><td>Map(vectorType -> dense, length -> 4, values -> List(46.099998474121094, 13.199999809265137, 211.0, 4500.0))</td><td>Map(vectorType -> dense, length -> 4, values -> List(0.509090909090909, 0.0, 0.6610169491525424, 0.4782608695652174))</td></tr><tr><td>Map(vectorType -> dense, length -> 4, values -> List(46.20000076293945, 14.100000381469727, 217.0, 4375.0))</td><td>Map(vectorType -> dense, length -> 4, values -> List(0.5127273559570312, 0.10843380138825102, 0.7627118644067796, 0.44202898550724634))</td></tr><tr><td>Map(vectorType -> dense, length -> 4, values -> List(46.20000076293945, 14.5, 209.0, 4800.0))</td><td>Map(vectorType -> dense, length -> 4, values -> List(0.5127273559570312, 0.15662652540490654, 0.6271186440677966, 0.5652173913043478))</td></tr><tr><td>Map(vectorType -> dense, length -> 4, values -> List(46.29999923706055, 15.800000190734863, 215.0, 5050.0))</td><td>Map(vectorType -> dense, length -> 4, values -> List(0.5163636641068892, 0.3132530508098131, 0.7288135593220338, 0.6376811594202898))</td></tr><tr><td>Map(vectorType -> dense, length -> 4, values -> List(46.400001525878906, 15.0, 216.0, 4700.0))</td><td>Map(vectorType -> dense, length -> 4, values -> List(0.5200001109730114, 0.21686748787598464, 0.7457627118644068, 0.536231884057971))</td></tr><tr><td>Map(vectorType -> dense, length -> 4, values -> List(46.5, 13.5, 210.0, 4550.0))</td><td>Map(vectorType -> dense, length -> 4, values -> List(0.5236364191228693, 0.036144600462750344, 0.6440677966101694, 0.49275362318840576))</td></tr><tr><td>Map(vectorType -> dense, length -> 4, values -> List(46.5, 14.399999618530273, 217.0, 4900.0))</td><td>Map(vectorType -> dense, length -> 4, values -> List(0.5236364191228693, 0.14457828695048397, 0.7627118644067796, 0.5942028985507246))</td></tr><tr><td>Map(vectorType -> dense, length -> 4, values -> List(46.5, 14.5, 213.0, 4400.0))</td><td>Map(vectorType -> dense, length -> 4, values -> List(0.5236364191228693, 0.15662652540490654, 0.6949152542372882, 0.4492753623188406))</td></tr><tr><td>Map(vectorType -> dense, length -> 4, values -> List(46.5, 14.800000190734863, 217.0, 5200.0))</td><td>Map(vectorType -> dense, length -> 4, values -> List(0.5236364191228693, 0.19277112586765688, 0.7627118644067796, 0.6811594202898551))</td></tr><tr><td>Map(vectorType -> dense, length -> 4, values -> List(46.599998474121094, 14.199999809265137, 210.0, 4850.0))</td><td>Map(vectorType -> dense, length -> 4, values -> List(0.5272727272727272, 0.1204819249421562, 0.6440677966101694, 0.5797101449275363))</td></tr><tr><td>Map(vectorType -> dense, length -> 4, values -> List(46.70000076293945, 15.300000190734863, 219.0, 5200.0))</td><td>Map(vectorType -> dense, length -> 4, values -> List(0.5309091741388494, 0.253012088338735, 0.7966101694915254, 0.6811594202898551))</td></tr><tr><td>Map(vectorType -> dense, length -> 4, values -> List(46.79999923706055, 14.300000190734863, 215.0, 4850.0))</td><td>Map(vectorType -> dense, length -> 4, values -> List(0.5345454822887074, 0.13253016339657878, 0.7288135593220338, 0.5797101449275363))</td></tr><tr><td>Map(vectorType -> dense, length -> 4, values -> List(46.79999923706055, 15.399999618530273, 215.0, 5150.0))</td><td>Map(vectorType -> dense, length -> 4, values -> List(0.5345454822887074, 0.2650602118926402, 0.7288135593220338, 0.6666666666666666))</td></tr><tr><td>Map(vectorType -> dense, length -> 4, values -> List(46.79999923706055, 16.100000381469727, 215.0, 5500.0))</td><td>Map(vectorType -> dense, length -> 4, values -> List(0.5345454822887074, 0.34939765127256345, 0.7288135593220338, 0.7681159420289855))</td></tr><tr><td>Map(vectorType -> dense, length -> 4, values -> List(46.900001525878906, 14.600000381469727, 222.0, 4875.0))</td><td>Map(vectorType -> dense, length -> 4, values -> List(0.5381819291548295, 0.16867476385932914, 0.847457627118644, 0.5869565217391304))</td></tr><tr><td>Map(vectorType -> dense, length -> 4, values -> List(47.20000076293945, 13.699999809265137, 214.0, 4925.0))</td><td>Map(vectorType -> dense, length -> 4, values -> List(0.5490909923206676, 0.0602409624710781, 0.711864406779661, 0.6014492753623188))</td></tr><tr><td>Map(vectorType -> dense, length -> 4, values -> List(47.29999923706055, 13.800000190734863, 216.0, 4725.0))</td><td>Map(vectorType -> dense, length -> 4, values -> List(0.5527273004705255, 0.07228920092550069, 0.7457627118644068, 0.5434782608695652))</td></tr><tr><td>Map(vectorType -> dense, length -> 4, values -> List(47.29999923706055, 15.300000190734863, 222.0, 5250.0))</td><td>Map(vectorType -> dense, length -> 4, values -> List(0.5527273004705255, 0.253012088338735, 0.847457627118644, 0.6956521739130435))</td></tr><tr><td>Map(vectorType -> dense, length -> 4, values -> List(47.5, 14.0, 212.0, 4875.0))</td><td>Map(vectorType -> dense, length -> 4, values -> List(0.5600000554865057, 0.09638556293382844, 0.6779661016949152, 0.5869565217391304))</td></tr><tr><td>Map(vectorType -> dense, length -> 4, values -> List(47.5, 14.199999809265137, 209.0, 4600.0))</td><td>Map(vectorType -> dense, length -> 4, values -> List(0.5600000554865057, 0.1204819249421562, 0.6271186440677966, 0.5072463768115942))</td></tr><tr><td>Map(vectorType -> dense, length -> 4, values -> List(47.5, 15.0, 218.0, 4950.0))</td><td>Map(vectorType -> dense, length -> 4, values -> List(0.5600000554865057, 0.21686748787598464, 0.7796610169491526, 0.6086956521739131))</td></tr><tr><td>Map(vectorType -> dense, length -> 4, values -> List(47.599998474121094, 14.5, 215.0, 5400.0))</td><td>Map(vectorType -> dense, length -> 4, values -> List(0.5636363636363636, 0.15662652540490654, 0.7288135593220338, 0.7391304347826086))</td></tr><tr><td>Map(vectorType -> dense, length -> 4, values -> List(47.70000076293945, 15.0, 216.0, 4750.0))</td><td>Map(vectorType -> dense, length -> 4, values -> List(0.5672728105024858, 0.21686748787598464, 0.7457627118644068, 0.5507246376811594))</td></tr><tr><td>Map(vectorType -> dense, length -> 4, values -> List(47.79999923706055, 15.0, 215.0, 5650.0))</td><td>Map(vectorType -> dense, length -> 4, values -> List(0.5709091186523437, 0.21686748787598464, 0.7288135593220338, 0.8115942028985507))</td></tr><tr><td>Map(vectorType -> dense, length -> 4, values -> List(48.099998474121094, 15.100000381469727, 209.0, 5500.0))</td><td>Map(vectorType -> dense, length -> 4, values -> List(0.5818181818181818, 0.22891572633040724, 0.6271186440677966, 0.7681159420289855))</td></tr><tr><td>Map(vectorType -> dense, length -> 4, values -> List(48.20000076293945, 15.600000381469727, 221.0, 5100.0))</td><td>Map(vectorType -> dense, length -> 4, values -> List(0.585454628684304, 0.2891566888014853, 0.8305084745762712, 0.6521739130434783))</td></tr><tr><td>Map(vectorType -> dense, length -> 4, values -> List(48.400001525878906, 14.399999618530273, 203.0, 4625.0))</td><td>Map(vectorType -> dense, length -> 4, values -> List(0.5927273837002841, 0.14457828695048397, 0.5254237288135594, 0.5144927536231884))</td></tr><tr><td>Map(vectorType -> dense, length -> 4, values -> List(48.400001525878906, 14.600000381469727, 213.0, 5850.0))</td><td>Map(vectorType -> dense, length -> 4, values -> List(0.5927273837002841, 0.16867476385932914, 0.6949152542372882, 0.8695652173913043))</td></tr><tr><td>Map(vectorType -> dense, length -> 4, values -> List(48.400001525878906, 16.299999237060547, 220.0, 5400.0))</td><td>Map(vectorType -> dense, length -> 4, values -> List(0.5927273837002841, 0.3734938983803738, 0.8135593220338984, 0.7391304347826086))</td></tr><tr><td>Map(vectorType -> dense, length -> 4, values -> List(48.5, 14.100000381469727, 220.0, 5300.0))</td><td>Map(vectorType -> dense, length -> 4, values -> List(0.596363691850142, 0.10843380138825102, 0.8135593220338984, 0.7101449275362318))</td></tr><tr><td>Map(vectorType -> dense, length -> 4, values -> List(48.5, 15.0, 219.0, 4850.0))</td><td>Map(vectorType -> dense, length -> 4, values -> List(0.596363691850142, 0.21686748787598464, 0.7966101694915254, 0.5797101449275363))</td></tr><tr><td>Map(vectorType -> dense, length -> 4, values -> List(48.70000076293945, 15.699999809265137, 208.0, 5350.0))</td><td>Map(vectorType -> dense, length -> 4, values -> List(0.6036364468661222, 0.30120481235539054, 0.6101694915254238, 0.7246376811594203))</td></tr><tr><td>Map(vectorType -> dense, length -> 4, values -> List(48.79999923706055, 16.200000762939453, 222.0, 6000.0))</td><td>Map(vectorType -> dense, length -> 4, values -> List(0.6072727550159801, 0.36144588972698605, 0.847457627118644, 0.9130434782608695))</td></tr><tr><td>Map(vectorType -> dense, length -> 4, values -> List(49.0, 16.100000381469727, 216.0, 5550.0))</td><td>Map(vectorType -> dense, length -> 4, values -> List(0.6145455100319602, 0.34939765127256345, 0.7457627118644068, 0.782608695652174))</td></tr><tr><td>Map(vectorType -> dense, length -> 4, values -> List(49.099998474121094, 14.5, 212.0, 4625.0))</td><td>Map(vectorType -> dense, length -> 4, values -> List(0.6181818181818182, 0.15662652540490654, 0.6779661016949152, 0.5144927536231884))</td></tr><tr><td>Map(vectorType -> dense, length -> 4, values -> List(49.099998474121094, 14.800000190734863, 220.0, 5150.0))</td><td>Map(vectorType -> dense, length -> 4, values -> List(0.6181818181818182, 0.19277112586765688, 0.8135593220338984, 0.6666666666666666))</td></tr><tr><td>Map(vectorType -> dense, length -> 4, values -> List(49.099998474121094, 15.0, 228.0, 5500.0))</td><td>Map(vectorType -> dense, length -> 4, values -> List(0.6181818181818182, 0.21686748787598464, 0.9491525423728814, 0.7681159420289855))</td></tr><tr><td>Map(vectorType -> dense, length -> 4, values -> List(49.20000076293945, 15.199999809265137, 221.0, 6300.0))</td><td>Map(vectorType -> dense, length -> 4, values -> List(0.6218182650479404, 0.2409638498843124, 0.8305084745762712, 1.0))</td></tr><tr><td>Map(vectorType -> dense, length -> 4, values -> List(49.29999923706055, 15.699999809265137, 217.0, 5850.0))</td><td>Map(vectorType -> dense, length -> 4, values -> List(0.6254545731977983, 0.30120481235539054, 0.7627118644067796, 0.8695652173913043))</td></tr><tr><td>Map(vectorType -> dense, length -> 4, values -> List(49.400001525878906, 15.800000190734863, 216.0, 4925.0))</td><td>Map(vectorType -> dense, length -> 4, values -> List(0.6290910200639204, 0.3132530508098131, 0.7457627118644068, 0.6014492753623188))</td></tr><tr><td>Map(vectorType -> dense, length -> 4, values -> List(49.5, 16.200000762939453, 229.0, 5800.0))</td><td>Map(vectorType -> dense, length -> 4, values -> List(0.6327273282137784, 0.36144588972698605, 0.9661016949152542, 0.855072463768116))</td></tr><tr><td>Map(vectorType -> dense, length -> 4, values -> List(49.79999923706055, 15.899999618530273, 229.0, 5950.0))</td><td>Map(vectorType -> dense, length -> 4, values -> List(0.6436363913796165, 0.32530117436371825, 0.9661016949152542, 0.8985507246376812))</td></tr><tr><td>Map(vectorType -> dense, length -> 4, values -> List(49.79999923706055, 16.799999237060547, 230.0, 5700.0))</td><td>Map(vectorType -> dense, length -> 4, values -> List(0.6436363913796165, 0.4337348608514519, 0.9830508474576272, 0.8260869565217391))</td></tr><tr><td>Map(vectorType -> dense, length -> 4, values -> List(49.900001525878906, 16.100000381469727, 213.0, 5400.0))</td><td>Map(vectorType -> dense, length -> 4, values -> List(0.6472728382457386, 0.34939765127256345, 0.6949152542372882, 0.7391304347826086))</td></tr><tr><td>Map(vectorType -> dense, length -> 4, values -> List(50.0, 15.199999809265137, 218.0, 5700.0))</td><td>Map(vectorType -> dense, length -> 4, values -> List(0.6509091463955966, 0.2409638498843124, 0.7796610169491526, 0.8260869565217391))</td></tr><tr><td>Map(vectorType -> dense, length -> 4, values -> List(50.0, 16.299999237060547, 230.0, 5700.0))</td><td>Map(vectorType -> dense, length -> 4, values -> List(0.6509091463955966, 0.3734938983803738, 0.9830508474576272, 0.8260869565217391))</td></tr><tr><td>Map(vectorType -> dense, length -> 4, values -> List(50.099998474121094, 15.0, 225.0, 5000.0))</td><td>Map(vectorType -> dense, length -> 4, values -> List(0.6545454545454545, 0.21686748787598464, 0.8983050847457628, 0.6231884057971014))</td></tr><tr><td>Map(vectorType -> dense, length -> 4, values -> List(50.20000076293945, 14.300000190734863, 218.0, 5700.0))</td><td>Map(vectorType -> dense, length -> 4, values -> List(0.6581819014115766, 0.13253016339657878, 0.7796610169491526, 0.8260869565217391))</td></tr><tr><td>Map(vectorType -> dense, length -> 4, values -> List(50.400001525878906, 15.699999809265137, 222.0, 5750.0))</td><td>Map(vectorType -> dense, length -> 4, values -> List(0.6654546564275567, 0.30120481235539054, 0.847457627118644, 0.8405797101449275))</td></tr><tr><td>Map(vectorType -> dense, length -> 4, values -> List(50.5, 15.899999618530273, 225.0, 5400.0))</td><td>Map(vectorType -> dense, length -> 4, values -> List(0.6690909645774148, 0.32530117436371825, 0.8983050847457628, 0.7391304347826086))</td></tr><tr><td>Map(vectorType -> dense, length -> 4, values -> List(50.70000076293945, 15.0, 223.0, 5550.0))</td><td>Map(vectorType -> dense, length -> 4, values -> List(0.6763637195933948, 0.21686748787598464, 0.864406779661017, 0.782608695652174))</td></tr><tr><td>Map(vectorType -> dense, length -> 4, values -> List(50.79999923706055, 17.299999237060547, 228.0, 5600.0))</td><td>Map(vectorType -> dense, length -> 4, values -> List(0.6800000277432529, 0.49397582332253, 0.9491525423728814, 0.7971014492753623))</td></tr><tr><td>Map(vectorType -> dense, length -> 4, values -> List(51.099998474121094, 16.5, 225.0, 5250.0))</td><td>Map(vectorType -> dense, length -> 4, values -> List(0.6909090909090909, 0.397590375289219, 0.8983050847457628, 0.6956521739130435))</td></tr><tr><td>Map(vectorType -> dense, length -> 4, values -> List(51.5, 16.299999237060547, 230.0, 5500.0))</td><td>Map(vectorType -> dense, length -> 4, values -> List(0.7054546009410511, 0.3734938983803738, 0.9830508474576272, 0.7681159420289855))</td></tr><tr><td>Map(vectorType -> dense, length -> 4, values -> List(52.099998474121094, 17.0, 230.0, 5550.0))</td><td>Map(vectorType -> dense, length -> 4, values -> List(0.7272727272727273, 0.45783133776029705, 0.9830508474576272, 0.782608695652174))</td></tr><tr><td>Map(vectorType -> dense, length -> 4, values -> List(52.20000076293945, 17.100000381469727, 228.0, 5400.0))</td><td>Map(vectorType -> dense, length -> 4, values -> List(0.7309091741388494, 0.46987957621471965, 0.9491525423728814, 0.7391304347826086))</td></tr><tr><td>Map(vectorType -> dense, length -> 4, values -> List(52.5, 15.600000381469727, 221.0, 5450.0))</td><td>Map(vectorType -> dense, length -> 4, values -> List(0.7418182373046874, 0.2891566888014853, 0.8305084745762712, 0.7536231884057971))</td></tr><tr><td>Map(vectorType -> dense, length -> 4, values -> List(53.400001525878906, 15.800000190734863, 219.0, 5500.0))</td><td>Map(vectorType -> dense, length -> 4, values -> List(0.7745455655184659, 0.3132530508098131, 0.7966101694915254, 0.7681159420289855))</td></tr><tr><td>Map(vectorType -> dense, length -> 4, values -> List(54.29999923706055, 15.699999809265137, 231.0, 5650.0))</td><td>Map(vectorType -> dense, length -> 4, values -> List(0.8072727550159801, 0.30120481235539054, 1.0, 0.8115942028985507))</td></tr><tr><td>Map(vectorType -> dense, length -> 4, values -> List(55.099998474121094, 16.0, 230.0, 5850.0))</td><td>Map(vectorType -> dense, length -> 4, values -> List(0.8363636363636363, 0.33734941281814085, 0.9830508474576272, 0.8695652173913043))</td></tr><tr><td>Map(vectorType -> dense, length -> 4, values -> List(55.900001525878906, 17.0, 228.0, 5600.0))</td><td>Map(vectorType -> dense, length -> 4, values -> List(0.8654546564275568, 0.45783133776029705, 0.9491525423728814, 0.7971014492753623))</td></tr><tr><td>Map(vectorType -> dense, length -> 4, values -> List(59.599998474121094, 17.0, 230.0, 6050.0))</td><td>Map(vectorType -> dense, length -> 4, values -> List(1.0, 0.45783133776029705, 0.9830508474576272, 0.927536231884058))</td></tr><tr><td>Map(vectorType -> dense, length -> 4, values -> List(32.099998474121094, 15.5, 188.0, 3050.0))</td><td>Map(vectorType -> dense, length -> 4, values -> List(0.0, 0.2771084503470628, 0.2711864406779661, 0.057971014492753624))</td></tr><tr><td>Map(vectorType -> dense, length -> 4, values -> List(33.099998474121094, 16.100000381469727, 178.0, 2900.0))</td><td>Map(vectorType -> dense, length -> 4, values -> List(0.03636363636363636, 0.34939765127256345, 0.1016949152542373, 0.014492753623188406))</td></tr><tr><td>Map(vectorType -> dense, length -> 4, values -> List(35.599998474121094, 17.5, 191.0, 3175.0))</td><td>Map(vectorType -> dense, length -> 4, values -> List(0.12727272727272726, 0.5180723002313752, 0.3220338983050847, 0.09420289855072464))</td></tr><tr><td>Map(vectorType -> dense, length -> 4, values -> List(36.0, 17.100000381469727, 187.0, 3700.0))</td><td>Map(vectorType -> dense, length -> 4, values -> List(0.14181823730468748, 0.46987957621471965, 0.2542372881355932, 0.24637681159420288))</td></tr><tr><td>Map(vectorType -> dense, length -> 4, values -> List(36.0, 17.799999237060547, 195.0, 3450.0))</td><td>Map(vectorType -> dense, length -> 4, values -> List(0.14181823730468748, 0.5542167857936081, 0.3898305084745763, 0.17391304347826086))</td></tr><tr><td>Map(vectorType -> dense, length -> 4, values -> List(36.0, 17.899999618530273, 190.0, 3450.0))</td><td>Map(vectorType -> dense, length -> 4, values -> List(0.14181823730468748, 0.5662650242480307, 0.3050847457627119, 0.17391304347826086))</td></tr><tr><td>Map(vectorType -> dense, length -> 4, values -> List(36.0, 18.5, 186.0, 3100.0))</td><td>Map(vectorType -> dense, length -> 4, values -> List(0.14181823730468748, 0.6385542251735313, 0.23728813559322035, 0.07246376811594203))</td></tr><tr><td>Map(vectorType -> dense, length -> 4, values -> List(36.20000076293945, 17.299999237060547, 187.0, 3300.0))</td><td>Map(vectorType -> dense, length -> 4, values -> List(0.1490909923206676, 0.49397582332253, 0.2542372881355932, 0.13043478260869565))</td></tr><tr><td>Map(vectorType -> dense, length -> 4, values -> List(36.29999923706055, 19.5, 190.0, 3800.0))</td><td>Map(vectorType -> dense, length -> 4, values -> List(0.15272730047052557, 0.7590361501156876, 0.3050847457627119, 0.2753623188405797))</td></tr><tr><td>Map(vectorType -> dense, length -> 4, values -> List(36.5, 18.0, 182.0, 3150.0))</td><td>Map(vectorType -> dense, length -> 4, values -> List(0.16000005548650567, 0.5783132627024533, 0.1694915254237288, 0.08695652173913043))</td></tr><tr><td>Map(vectorType -> dense, length -> 4, values -> List(36.599998474121094, 18.399999618530273, 184.0, 3475.0))</td><td>Map(vectorType -> dense, length -> 4, values -> List(0.16363636363636364, 0.6265059867191087, 0.2033898305084746, 0.18115942028985507))</td></tr><tr><td>Map(vectorType -> dense, length -> 4, values -> List(36.79999923706055, 18.5, 193.0, 3500.0))</td><td>Map(vectorType -> dense, length -> 4, values -> List(0.17090911865234373, 0.6385542251735313, 0.3559322033898305, 0.18840579710144928))</td></tr><tr><td>Map(vectorType -> dense, length -> 4, values -> List(36.900001525878906, 18.600000381469727, 189.0, 3500.0))</td><td>Map(vectorType -> dense, length -> 4, values -> List(0.1745455655184659, 0.6506024636279539, 0.288135593220339, 0.18840579710144928))</td></tr><tr><td>Map(vectorType -> dense, length -> 4, values -> List(37.0, 16.5, 185.0, 3400.0))</td><td>Map(vectorType -> dense, length -> 4, values -> List(0.17818187366832386, 0.397590375289219, 0.22033898305084745, 0.15942028985507245))</td></tr><tr><td>Map(vectorType -> dense, length -> 4, values -> List(37.20000076293945, 18.100000381469727, 178.0, 3900.0))</td><td>Map(vectorType -> dense, length -> 4, values -> List(0.18545462868430396, 0.5903615011568758, 0.1016949152542373, 0.30434782608695654))</td></tr><tr><td>Map(vectorType -> dense, length -> 4, values -> List(37.29999923706055, 16.799999237060547, 192.0, 3000.0))</td><td>Map(vectorType -> dense, length -> 4, values -> List(0.18909093683416192, 0.4337348608514519, 0.3389830508474576, 0.043478260869565216))</td></tr><tr><td>Map(vectorType -> dense, length -> 4, values -> List(37.5, 18.899999618530273, 179.0, 2975.0))</td><td>Map(vectorType -> dense, length -> 4, values -> List(0.19636369185014205, 0.6867469491901869, 0.11864406779661017, 0.036231884057971016))</td></tr><tr><td>Map(vectorType -> dense, length -> 4, values -> List(37.599998474121094, 19.299999237060547, 181.0, 3300.0))</td><td>Map(vectorType -> dense, length -> 4, values -> List(0.19999999999999998, 0.7349396732068424, 0.15254237288135594, 0.13043478260869565))</td></tr><tr><td>Map(vectorType -> dense, length -> 4, values -> List(37.79999923706055, 18.100000381469727, 193.0, 3750.0))</td><td>Map(vectorType -> dense, length -> 4, values -> List(0.2072727550159801, 0.5903615011568758, 0.3559322033898305, 0.2608695652173913))</td></tr><tr><td>Map(vectorType -> dense, length -> 4, values -> List(38.099998474121094, 17.600000381469727, 187.0, 3425.0))</td><td>Map(vectorType -> dense, length -> 4, values -> List(0.21818181818181817, 0.5301205386857978, 0.2542372881355932, 0.16666666666666666))</td></tr><tr><td>Map(vectorType -> dense, length -> 4, values -> List(38.099998474121094, 18.600000381469727, 190.0, 3700.0))</td><td>Map(vectorType -> dense, length -> 4, values -> List(0.21818181818181817, 0.6506024636279539, 0.3050847457627119, 0.24637681159420288))</td></tr><tr><td>Map(vectorType -> dense, length -> 4, values -> List(38.79999923706055, 20.0, 190.0, 3950.0))</td><td>Map(vectorType -> dense, length -> 4, values -> List(0.24363639137961646, 0.8192771125867657, 0.3050847457627119, 0.3188405797101449))</td></tr><tr><td>Map(vectorType -> dense, length -> 4, values -> List(39.0, 18.700000762939453, 185.0, 3650.0))</td><td>Map(vectorType -> dense, length -> 4, values -> List(0.2509091463955966, 0.6626507020823765, 0.22033898305084745, 0.2318840579710145))</td></tr><tr><td>Map(vectorType -> dense, length -> 4, values -> List(39.20000076293945, 18.600000381469727, 190.0, 4250.0))</td><td>Map(vectorType -> dense, length -> 4, values -> List(0.2581819014115767, 0.6506024636279539, 0.3050847457627119, 0.40579710144927533))</td></tr><tr><td>Map(vectorType -> dense, length -> 4, values -> List(39.20000076293945, 21.100000381469727, 196.0, 4150.0))</td><td>Map(vectorType -> dense, length -> 4, values -> List(0.2581819014115767, 0.9518072759833445, 0.4067796610169492, 0.37681159420289856))</td></tr><tr><td>Map(vectorType -> dense, length -> 4, values -> List(39.599998474121094, 18.100000381469727, 186.0, 4450.0))</td><td>Map(vectorType -> dense, length -> 4, values -> List(0.2727272727272727, 0.5903615011568758, 0.23728813559322035, 0.463768115942029))</td></tr><tr><td>Map(vectorType -> dense, length -> 4, values -> List(39.599998474121094, 18.799999237060547, 190.0, 4600.0))</td><td>Map(vectorType -> dense, length -> 4, values -> List(0.2727272727272727, 0.6746987107357643, 0.3050847457627119, 0.5072463768115942))</td></tr><tr><td>Map(vectorType -> dense, length -> 4, values -> List(39.70000076293945, 17.899999618530273, 193.0, 4250.0))</td><td>Map(vectorType -> dense, length -> 4, values -> List(0.2763637195933949, 0.5662650242480307, 0.3559322033898305, 0.40579710144927533))</td></tr><tr><td>Map(vectorType -> dense, length -> 4, values -> List(39.79999923706055, 19.100000381469727, 184.0, 4650.0))</td><td>Map(vectorType -> dense, length -> 4, values -> List(0.28000002774325283, 0.7108434260990321, 0.2033898305084746, 0.5217391304347826))</td></tr><tr><td>Map(vectorType -> dense, length -> 4, values -> List(40.599998474121094, 17.200000762939453, 187.0, 3475.0))</td><td>Map(vectorType -> dense, length -> 4, values -> List(0.3090909090909091, 0.48192781466914225, 0.2542372881355932, 0.18115942028985507))</td></tr><tr><td>Map(vectorType -> dense, length -> 4, values -> List(40.79999923706055, 18.899999618530273, 208.0, 4300.0))</td><td>Map(vectorType -> dense, length -> 4, values -> List(0.3163636641068892, 0.6867469491901869, 0.6101694915254238, 0.42028985507246375))</td></tr><tr><td>Map(vectorType -> dense, length -> 4, values -> List(40.900001525878906, 16.600000381469727, 187.0, 3200.0))</td><td>Map(vectorType -> dense, length -> 4, values -> List(0.32000011097301134, 0.4096386137436415, 0.2542372881355932, 0.10144927536231883))</td></tr><tr><td>Map(vectorType -> dense, length -> 4, values -> List(40.900001525878906, 18.899999618530273, 184.0, 3900.0))</td><td>Map(vectorType -> dense, length -> 4, values -> List(0.32000011097301134, 0.6867469491901869, 0.2033898305084746, 0.30434782608695654))</td></tr><tr><td>Map(vectorType -> dense, length -> 4, values -> List(41.099998474121094, 18.100000381469727, 205.0, 4300.0))</td><td>Map(vectorType -> dense, length -> 4, values -> List(0.32727272727272727, 0.5903615011568758, 0.559322033898305, 0.42028985507246375))</td></tr><tr><td>Map(vectorType -> dense, length -> 4, values -> List(41.099998474121094, 19.0, 182.0, 3425.0))</td><td>Map(vectorType -> dense, length -> 4, values -> List(0.32727272727272727, 0.6987951876446095, 0.1694915254237288, 0.16666666666666666))</td></tr><tr><td>Map(vectorType -> dense, length -> 4, values -> List(41.29999923706055, 20.299999237060547, 194.0, 3550.0))</td><td>Map(vectorType -> dense, length -> 4, values -> List(0.3345454822887074, 0.8554215981489987, 0.3728813559322034, 0.20289855072463767))</td></tr><tr><td>Map(vectorType -> dense, length -> 4, values -> List(41.5, 18.5, 201.0, 4000.0))</td><td>Map(vectorType -> dense, length -> 4, values -> List(0.34181823730468747, 0.6385542251735313, 0.4915254237288136, 0.3333333333333333))</td></tr><tr><td>Map(vectorType -> dense, length -> 4, values -> List(42.20000076293945, 18.5, 180.0, 3550.0))</td><td>Map(vectorType -> dense, length -> 4, values -> List(0.3672728105024858, 0.6385542251735313, 0.13559322033898305, 0.20289855072463767))</td></tr><tr><td>Map(vectorType -> dense, length -> 4, values -> List(42.29999923706055, 21.200000762939453, 191.0, 4150.0))</td><td>Map(vectorType -> dense, length -> 4, values -> List(0.3709091186523437, 0.9638555144377671, 0.3220338983050847, 0.37681159420289856))</td></tr><tr><td>Map(vectorType -> dense, length -> 4, values -> List(42.400001525878906, 17.299999237060547, 181.0, 3600.0))</td><td>Map(vectorType -> dense, length -> 4, values -> List(0.3745455655184659, 0.49397582332253, 0.15254237288135594, 0.21739130434782608))</td></tr><tr><td>Map(vectorType -> dense, length -> 4, values -> List(42.5, 16.700000762939453, 187.0, 3350.0))</td><td>Map(vectorType -> dense, length -> 4, values -> List(0.37818187366832384, 0.4216868521980641, 0.2542372881355932, 0.14492753623188406))</td></tr><tr><td>Map(vectorType -> dense, length -> 4, values -> List(42.5, 17.299999237060547, 187.0, 3350.0))</td><td>Map(vectorType -> dense, length -> 4, values -> List(0.37818187366832384, 0.49397582332253, 0.2542372881355932, 0.14492753623188406))</td></tr><tr><td>Map(vectorType -> dense, length -> 4, values -> List(43.20000076293945, 16.600000381469727, 187.0, 2900.0))</td><td>Map(vectorType -> dense, length -> 4, values -> List(0.40363644686612216, 0.4096386137436415, 0.2542372881355932, 0.014492753623188406))</td></tr><tr><td>Map(vectorType -> dense, length -> 4, values -> List(44.099998474121094, 19.700000762939453, 196.0, 4400.0))</td><td>Map(vectorType -> dense, length -> 4, values -> List(0.43636363636363634, 0.7831326270245328, 0.4067796610169492, 0.4492753623188406))</td></tr><tr><td>Map(vectorType -> dense, length -> 4, values -> List(45.20000076293945, 16.600000381469727, 191.0, 3250.0))</td><td>Map(vectorType -> dense, length -> 4, values -> List(0.47636371959339485, 0.4096386137436415, 0.3220338983050847, 0.11594202898550725))</td></tr><tr><td>Map(vectorType -> dense, length -> 4, values -> List(45.5, 17.0, 196.0, 3500.0))</td><td>Map(vectorType -> dense, length -> 4, values -> List(0.4872727827592329, 0.45783133776029705, 0.4067796610169492, 0.18840579710144928))</td></tr><tr><td>Map(vectorType -> dense, length -> 4, values -> List(45.599998474121094, 19.399999618530273, 194.0, 3525.0))</td><td>Map(vectorType -> dense, length -> 4, values -> List(0.4909090909090909, 0.746987911661265, 0.3728813559322034, 0.1956521739130435))</td></tr><tr><td>Map(vectorType -> dense, length -> 4, values -> List(46.0, 18.899999618530273, 195.0, 4150.0))</td><td>Map(vectorType -> dense, length -> 4, values -> List(0.5054546009410511, 0.6867469491901869, 0.3898305084745763, 0.37681159420289856))</td></tr><tr><td>Map(vectorType -> dense, length -> 4, values -> List(46.099998474121094, 18.200000762939453, 178.0, 3250.0))</td><td>Map(vectorType -> dense, length -> 4, values -> List(0.509090909090909, 0.6024097396112984, 0.1016949152542373, 0.11594202898550725))</td></tr><tr><td>Map(vectorType -> dense, length -> 4, values -> List(46.20000076293945, 17.5, 187.0, 3650.0))</td><td>Map(vectorType -> dense, length -> 4, values -> List(0.5127273559570312, 0.5180723002313752, 0.2542372881355932, 0.2318840579710145))</td></tr><tr><td>Map(vectorType -> dense, length -> 4, values -> List(46.400001525878906, 17.799999237060547, 191.0, 3700.0))</td><td>Map(vectorType -> dense, length -> 4, values -> List(0.5200001109730114, 0.5542167857936081, 0.3220338983050847, 0.24637681159420288))</td></tr><tr><td>Map(vectorType -> dense, length -> 4, values -> List(46.400001525878906, 18.600000381469727, 190.0, 3450.0))</td><td>Map(vectorType -> dense, length -> 4, values -> List(0.5200001109730114, 0.6506024636279539, 0.3050847457627119, 0.17391304347826086))</td></tr><tr><td>Map(vectorType -> dense, length -> 4, values -> List(46.5, 17.899999618530273, 192.0, 3500.0))</td><td>Map(vectorType -> dense, length -> 4, values -> List(0.5236364191228693, 0.5662650242480307, 0.3389830508474576, 0.18840579710144928))</td></tr><tr><td>Map(vectorType -> dense, length -> 4, values -> List(46.599998474121094, 17.799999237060547, 193.0, 3800.0))</td><td>Map(vectorType -> dense, length -> 4, values -> List(0.5272727272727272, 0.5542167857936081, 0.3559322033898305, 0.2753623188405797))</td></tr><tr><td>Map(vectorType -> dense, length -> 4, values -> List(46.70000076293945, 17.899999618530273, 195.0, 3300.0))</td><td>Map(vectorType -> dense, length -> 4, values -> List(0.5309091741388494, 0.5662650242480307, 0.3898305084745763, 0.13043478260869565))</td></tr><tr><td>Map(vectorType -> dense, length -> 4, values -> List(46.79999923706055, 16.5, 189.0, 3650.0))</td><td>Map(vectorType -> dense, length -> 4, values -> List(0.5345454822887074, 0.397590375289219, 0.288135593220339, 0.2318840579710145))</td></tr><tr><td>Map(vectorType -> dense, length -> 4, values -> List(47.0, 17.299999237060547, 185.0, 3700.0))</td><td>Map(vectorType -> dense, length -> 4, values -> List(0.5418182373046875, 0.49397582332253, 0.22033898305084745, 0.24637681159420288))</td></tr><tr><td>Map(vectorType -> dense, length -> 4, values -> List(47.5, 16.799999237060547, 199.0, 3900.0))</td><td>Map(vectorType -> dense, length -> 4, values -> List(0.5600000554865057, 0.4337348608514519, 0.4576271186440678, 0.30434782608695654))</td></tr><tr><td>Map(vectorType -> dense, length -> 4, values -> List(47.599998474121094, 18.299999237060547, 195.0, 3850.0))</td><td>Map(vectorType -> dense, length -> 4, values -> List(0.5636363636363636, 0.6144577482646862, 0.3898305084745763, 0.2898550724637681))</td></tr><tr><td>Map(vectorType -> dense, length -> 4, values -> List(48.099998474121094, 16.399999618530273, 199.0, 3325.0))</td><td>Map(vectorType -> dense, length -> 4, values -> List(0.5818181818181818, 0.3855421368347964, 0.4576271186440678, 0.13768115942028986))</td></tr><tr><td>Map(vectorType -> dense, length -> 4, values -> List(48.5, 17.5, 191.0, 3400.0))</td><td>Map(vectorType -> dense, length -> 4, values -> List(0.596363691850142, 0.5180723002313752, 0.3220338983050847, 0.15942028985507245))</td></tr><tr><td>Map(vectorType -> dense, length -> 4, values -> List(49.0, 19.600000381469727, 212.0, 4300.0))</td><td>Map(vectorType -> dense, length -> 4, values -> List(0.6145455100319602, 0.7710843885701102, 0.6779661016949152, 0.42028985507246375))</td></tr><tr><td>Map(vectorType -> dense, length -> 4, values -> List(49.20000076293945, 18.200000762939453, 195.0, 4400.0))</td><td>Map(vectorType -> dense, length -> 4, values -> List(0.6218182650479404, 0.6024097396112984, 0.3898305084745763, 0.4492753623188406))</td></tr><tr><td>Map(vectorType -> dense, length -> 4, values -> List(49.29999923706055, 19.899999618530273, 203.0, 4050.0))</td><td>Map(vectorType -> dense, length -> 4, values -> List(0.6254545731977983, 0.8072288741323431, 0.5254237288135594, 0.34782608695652173))</td></tr><tr><td>Map(vectorType -> dense, length -> 4, values -> List(49.5, 19.0, 200.0, 3800.0))</td><td>Map(vectorType -> dense, length -> 4, values -> List(0.6327273282137784, 0.6987951876446095, 0.4745762711864407, 0.2753623188405797))</td></tr><tr><td>Map(vectorType -> dense, length -> 4, values -> List(49.599998474121094, 18.200000762939453, 193.0, 3775.0))</td><td>Map(vectorType -> dense, length -> 4, values -> List(0.6363636363636364, 0.6024097396112984, 0.3559322033898305, 0.2681159420289855))</td></tr><tr><td>Map(vectorType -> dense, length -> 4, values -> List(49.79999923706055, 17.299999237060547, 198.0, 3675.0))</td><td>Map(vectorType -> dense, length -> 4, values -> List(0.6436363913796165, 0.49397582332253, 0.4406779661016949, 0.2391304347826087))</td></tr><tr><td>Map(vectorType -> dense, length -> 4, values -> List(50.099998474121094, 17.899999618530273, 190.0, 3400.0))</td><td>Map(vectorType -> dense, length -> 4, values -> List(0.6545454545454545, 0.5662650242480307, 0.3050847457627119, 0.15942028985507245))</td></tr><tr><td>Map(vectorType -> dense, length -> 4, values -> List(50.29999923706055, 20.0, 197.0, 3300.0))</td><td>Map(vectorType -> dense, length -> 4, values -> List(0.6618182095614347, 0.8192771125867657, 0.423728813559322, 0.13043478260869565))</td></tr><tr><td>Map(vectorType -> dense, length -> 4, values -> List(50.5, 19.600000381469727, 201.0, 4050.0))</td><td>Map(vectorType -> dense, length -> 4, values -> List(0.6690909645774148, 0.7710843885701102, 0.4915254237288136, 0.34782608695652173))</td></tr><tr><td>Map(vectorType -> dense, length -> 4, values -> List(50.79999923706055, 18.5, 201.0, 4450.0))</td><td>Map(vectorType -> dense, length -> 4, values -> List(0.6800000277432529, 0.6385542251735313, 0.4915254237288136, 0.463768115942029))</td></tr><tr><td>Map(vectorType -> dense, length -> 4, values -> List(50.79999923706055, 19.0, 210.0, 4100.0))</td><td>Map(vectorType -> dense, length -> 4, values -> List(0.6800000277432529, 0.6987951876446095, 0.6440677966101694, 0.36231884057971014))</td></tr><tr><td>Map(vectorType -> dense, length -> 4, values -> List(50.900001525878906, 19.100000381469727, 196.0, 3550.0))</td><td>Map(vectorType -> dense, length -> 4, values -> List(0.6836364746093749, 0.7108434260990321, 0.4067796610169492, 0.20289855072463767))</td></tr><tr><td>Map(vectorType -> dense, length -> 4, values -> List(51.0, 18.799999237060547, 203.0, 4100.0))</td><td>Map(vectorType -> dense, length -> 4, values -> List(0.6872727827592329, 0.6746987107357643, 0.5254237288135594, 0.36231884057971014))</td></tr><tr><td>Map(vectorType -> dense, length -> 4, values -> List(51.29999923706055, 18.200000762939453, 197.0, 3750.0))</td><td>Map(vectorType -> dense, length -> 4, values -> List(0.698181845925071, 0.6024097396112984, 0.423728813559322, 0.2608695652173913))</td></tr><tr><td>Map(vectorType -> dense, length -> 4, values -> List(51.29999923706055, 19.200000762939453, 193.0, 3650.0))</td><td>Map(vectorType -> dense, length -> 4, values -> List(0.698181845925071, 0.7228916645534547, 0.3559322033898305, 0.2318840579710145))</td></tr><tr><td>Map(vectorType -> dense, length -> 4, values -> List(51.400001525878906, 19.0, 201.0, 3950.0))</td><td>Map(vectorType -> dense, length -> 4, values -> List(0.7018182927911931, 0.6987951876446095, 0.4915254237288136, 0.3188405797101449))</td></tr><tr><td>Map(vectorType -> dense, length -> 4, values -> List(51.5, 18.700000762939453, 187.0, 3250.0))</td><td>Map(vectorType -> dense, length -> 4, values -> List(0.7054546009410511, 0.6626507020823765, 0.2542372881355932, 0.11594202898550725))</td></tr><tr><td>Map(vectorType -> dense, length -> 4, values -> List(52.0, 19.0, 197.0, 4150.0))</td><td>Map(vectorType -> dense, length -> 4, values -> List(0.7236364191228692, 0.6987951876446095, 0.423728813559322, 0.37681159420289856))</td></tr><tr><td>Map(vectorType -> dense, length -> 4, values -> List(52.0, 20.700000762939453, 210.0, 4800.0))</td><td>Map(vectorType -> dense, length -> 4, values -> List(0.7236364191228692, 0.9036145519666889, 0.6440677966101694, 0.5652173913043478))</td></tr><tr><td>Map(vectorType -> dense, length -> 4, values -> List(52.70000076293945, 19.799999237060547, 197.0, 3725.0))</td><td>Map(vectorType -> dense, length -> 4, values -> List(0.7490909923206676, 0.7951806356779205, 0.423728813559322, 0.2536231884057971))</td></tr><tr><td>Map(vectorType -> dense, length -> 4, values -> List(52.79999923706055, 20.0, 205.0, 4550.0))</td><td>Map(vectorType -> dense, length -> 4, values -> List(0.7527273004705255, 0.8192771125867657, 0.559322033898305, 0.49275362318840576))</td></tr><tr><td>Map(vectorType -> dense, length -> 4, values -> List(53.5, 19.899999618530273, 205.0, 4500.0))</td><td>Map(vectorType -> dense, length -> 4, values -> List(0.7781818736683238, 0.8072288741323431, 0.559322033898305, 0.4782608695652174))</td></tr><tr><td>Map(vectorType -> dense, length -> 4, values -> List(54.20000076293945, 20.799999237060547, 201.0, 4300.0))</td><td>Map(vectorType -> dense, length -> 4, values -> List(0.8036364468661221, 0.9156625606200767, 0.4915254237288136, 0.42028985507246375))</td></tr><tr><td>Map(vectorType -> dense, length -> 4, values -> List(58.0, 17.799999237060547, 181.0, 3700.0))</td><td>Map(vectorType -> dense, length -> 4, values -> List(0.9418182373046875, 0.5542167857936081, 0.15254237288135594, 0.24637681159420288))</td></tr><tr><td>Map(vectorType -> dense, length -> 4, values -> List(33.5, 19.0, 190.0, 3600.0))</td><td>Map(vectorType -> dense, length -> 4, values -> List(0.050909146395596586, 0.6987951876446095, 0.3050847457627119, 0.21739130434782608))</td></tr><tr><td>Map(vectorType -> dense, length -> 4, values -> List(34.400001525878906, 18.399999618530273, 184.0, 3325.0))</td><td>Map(vectorType -> dense, length -> 4, values -> List(0.083636474609375, 0.6265059867191087, 0.2033898305084746, 0.13768115942028986))</td></tr><tr><td>Map(vectorType -> dense, length -> 4, values -> List(34.599998474121094, 21.100000381469727, 198.0, 4400.0))</td><td>Map(vectorType -> dense, length -> 4, values -> List(0.09090909090909091, 0.9518072759833445, 0.4406779661016949, 0.4492753623188406))</td></tr><tr><td>Map(vectorType -> dense, length -> 4, values -> List(35.20000076293945, 15.899999618530273, 186.0, 3050.0))</td><td>Map(vectorType -> dense, length -> 4, values -> List(0.11272735595703125, 0.32530117436371825, 0.23728813559322035, 0.057971014492753624))</td></tr><tr><td>Map(vectorType -> dense, length -> 4, values -> List(35.5, 17.5, 190.0, 3700.0))</td><td>Map(vectorType -> dense, length -> 4, values -> List(0.12363641912286931, 0.5180723002313752, 0.3050847457627119, 0.24637681159420288))</td></tr><tr><td>Map(vectorType -> dense, length -> 4, values -> List(35.70000076293945, 17.0, 189.0, 3350.0))</td><td>Map(vectorType -> dense, length -> 4, values -> List(0.13090917413884942, 0.45783133776029705, 0.288135593220339, 0.14492753623188406))</td></tr><tr><td>Map(vectorType -> dense, length -> 4, values -> List(36.20000076293945, 16.100000381469727, 187.0, 3550.0))</td><td>Map(vectorType -> dense, length -> 4, values -> List(0.1490909923206676, 0.34939765127256345, 0.2542372881355932, 0.20289855072463767))</td></tr><tr><td>Map(vectorType -> dense, length -> 4, values -> List(36.70000076293945, 19.299999237060547, 193.0, 3450.0))</td><td>Map(vectorType -> dense, length -> 4, values -> List(0.1672728105024858, 0.7349396732068424, 0.3559322033898305, 0.17391304347826086))</td></tr><tr><td>Map(vectorType -> dense, length -> 4, values -> List(37.20000076293945, 19.399999618530273, 184.0, 3900.0))</td><td>Map(vectorType -> dense, length -> 4, values -> List(0.18545462868430396, 0.746987911661265, 0.2033898305084746, 0.30434782608695654))</td></tr><tr><td>Map(vectorType -> dense, length -> 4, values -> List(37.70000076293945, 19.799999237060547, 198.0, 3500.0))</td><td>Map(vectorType -> dense, length -> 4, values -> List(0.20363644686612214, 0.7951806356779205, 0.4406779661016949, 0.18840579710144928))</td></tr><tr><td>Map(vectorType -> dense, length -> 4, values -> List(37.79999923706055, 17.100000381469727, 186.0, 3300.0))</td><td>Map(vectorType -> dense, length -> 4, values -> List(0.2072727550159801, 0.46987957621471965, 0.23728813559322035, 0.13043478260869565))</td></tr><tr><td>Map(vectorType -> dense, length -> 4, values -> List(38.70000076293945, 19.0, 195.0, 3450.0))</td><td>Map(vectorType -> dense, length -> 4, values -> List(0.24000008322975852, 0.6987951876446095, 0.3898305084745763, 0.17391304347826086))</td></tr><tr><td>Map(vectorType -> dense, length -> 4, values -> List(38.79999923706055, 17.600000381469727, 191.0, 3275.0))</td><td>Map(vectorType -> dense, length -> 4, values -> List(0.24363639137961646, 0.5301205386857978, 0.3220338983050847, 0.12318840579710144))</td></tr><tr><td>Map(vectorType -> dense, length -> 4, values -> List(38.900001525878906, 17.799999237060547, 181.0, 3625.0))</td><td>Map(vectorType -> dense, length -> 4, values -> List(0.24727283824573862, 0.5542167857936081, 0.15254237288135594, 0.2246376811594203))</td></tr><tr><td>Map(vectorType -> dense, length -> 4, values -> List(39.0, 17.100000381469727, 191.0, 3050.0))</td><td>Map(vectorType -> dense, length -> 4, values -> List(0.2509091463955966, 0.46987957621471965, 0.3220338983050847, 0.057971014492753624))</td></tr><tr><td>Map(vectorType -> dense, length -> 4, values -> List(39.099998474121094, 18.700000762939453, 181.0, 3750.0))</td><td>Map(vectorType -> dense, length -> 4, values -> List(0.2545454545454545, 0.6626507020823765, 0.15254237288135594, 0.2608695652173913))</td></tr><tr><td>Map(vectorType -> dense, length -> 4, values -> List(39.20000076293945, 19.600000381469727, 195.0, 4675.0))</td><td>Map(vectorType -> dense, length -> 4, values -> List(0.2581819014115767, 0.7710843885701102, 0.3898305084745763, 0.5289855072463768))</td></tr><tr><td>Map(vectorType -> dense, length -> 4, values -> List(39.599998474121094, 17.200000762939453, 196.0, 3550.0))</td><td>Map(vectorType -> dense, length -> 4, values -> List(0.2727272727272727, 0.48192781466914225, 0.4067796610169492, 0.20289855072463767))</td></tr><tr><td>Map(vectorType -> dense, length -> 4, values -> List(40.29999923706055, 18.0, 195.0, 3250.0))</td><td>Map(vectorType -> dense, length -> 4, values -> List(0.298181845925071, 0.5783132627024533, 0.3898305084745763, 0.11594202898550725))</td></tr><tr><td>Map(vectorType -> dense, length -> 4, values -> List(40.900001525878906, 16.799999237060547, 191.0, 3700.0))</td><td>Map(vectorType -> dense, length -> 4, values -> List(0.32000011097301134, 0.4337348608514519, 0.3220338983050847, 0.24637681159420288))</td></tr><tr><td>Map(vectorType -> dense, length -> 4, values -> List(41.099998474121094, 17.600000381469727, 182.0, 3200.0))</td><td>Map(vectorType -> dense, length -> 4, values -> List(0.32727272727272727, 0.5301205386857978, 0.1694915254237288, 0.10144927536231883))</td></tr><tr><td>Map(vectorType -> dense, length -> 4, values -> List(41.099998474121094, 18.600000381469727, 189.0, 3325.0))</td><td>Map(vectorType -> dense, length -> 4, values -> List(0.32727272727272727, 0.6506024636279539, 0.288135593220339, 0.13768115942028986))</td></tr><tr><td>Map(vectorType -> dense, length -> 4, values -> List(41.400001525878906, 18.5, 202.0, 3875.0))</td><td>Map(vectorType -> dense, length -> 4, values -> List(0.33818192915482953, 0.6385542251735313, 0.5084745762711864, 0.2971014492753623))</td></tr><tr><td>Map(vectorType -> dense, length -> 4, values -> List(41.5, 18.299999237060547, 195.0, 4300.0))</td><td>Map(vectorType -> dense, length -> 4, values -> List(0.34181823730468747, 0.6144577482646862, 0.3898305084745763, 0.42028985507246375))</td></tr><tr><td>Map(vectorType -> dense, length -> 4, values -> List(41.79999923706055, 19.399999618530273, 198.0, 4450.0))</td><td>Map(vectorType -> dense, length -> 4, values -> List(0.35272730047052553, 0.746987911661265, 0.4406779661016949, 0.463768115942029))</td></tr><tr><td>Map(vectorType -> dense, length -> 4, values -> List(42.0, 20.200000762939453, 190.0, 4250.0))</td><td>Map(vectorType -> dense, length -> 4, values -> List(0.36000005548650565, 0.8433735894956108, 0.3050847457627119, 0.40579710144927533))</td></tr><tr><td>Map(vectorType -> dense, length -> 4, values -> List(42.099998474121094, 19.100000381469727, 195.0, 4000.0))</td><td>Map(vectorType -> dense, length -> 4, values -> List(0.36363636363636365, 0.7108434260990321, 0.3898305084745763, 0.3333333333333333))</td></tr><tr><td>Map(vectorType -> dense, length -> 4, values -> List(42.5, 20.700000762939453, 197.0, 4500.0))</td><td>Map(vectorType -> dense, length -> 4, values -> List(0.37818187366832384, 0.9036145519666889, 0.423728813559322, 0.4782608695652174))</td></tr><tr><td>Map(vectorType -> dense, length -> 4, values -> List(42.79999923706055, 18.5, 195.0, 4250.0))</td><td>Map(vectorType -> dense, length -> 4, values -> List(0.3890909368341619, 0.6385542251735313, 0.3898305084745763, 0.40579710144927533))</td></tr><tr><td>Map(vectorType -> dense, length -> 4, values -> List(42.900001525878906, 17.600000381469727, 196.0, 4700.0))</td><td>Map(vectorType -> dense, length -> 4, values -> List(0.3927273837002841, 0.5301205386857978, 0.4067796610169492, 0.536231884057971))</td></tr><tr><td>Map(vectorType -> dense, length -> 4, values -> List(44.099998474121094, 18.0, 210.0, 4000.0))</td><td>Map(vectorType -> dense, length -> 4, values -> List(0.43636363636363634, 0.5783132627024533, 0.6440677966101694, 0.3333333333333333))</td></tr><tr><td>Map(vectorType -> dense, length -> 4, values -> List(46.0, 21.5, 194.0, 4200.0))</td><td>Map(vectorType -> dense, length -> 4, values -> List(0.5054546009410511, 1.0, 0.3728813559322034, 0.391304347826087))</td></tr></tbody></table></div>"
      ]
     },
     "metadata": {
      "application/vnd.databricks.v1+output": {
       "addedWidgets": {},
       "aggData": [],
       "aggError": "",
       "aggOverflow": false,
       "aggSchema": [],
       "aggSeriesLimitReached": false,
       "aggType": "",
       "arguments": {},
       "columnCustomDisplayInfos": {},
       "data": [
        [
         {
          "length": 4,
          "values": [
           34.5,
           18.100000381469727,
           187.0,
           2900.0
          ],
          "vectorType": "dense"
         },
         {
          "length": 4,
          "values": [
           0.08727278275923295,
           0.5903615011568758,
           0.2542372881355932,
           0.014492753623188406
          ],
          "vectorType": "dense"
         }
        ],
        [
         {
          "length": 4,
          "values": [
           35.0,
           17.899999618530273,
           190.0,
           3450.0
          ],
          "vectorType": "dense"
         },
         {
          "length": 4,
          "values": [
           0.10545460094105114,
           0.5662650242480307,
           0.3050847457627119,
           0.17391304347826086
          ],
          "vectorType": "dense"
         }
        ],
        [
         {
          "length": 4,
          "values": [
           35.0,
           17.899999618530273,
           192.0,
           3725.0
          ],
          "vectorType": "dense"
         },
         {
          "length": 4,
          "values": [
           0.10545460094105114,
           0.5662650242480307,
           0.3389830508474576,
           0.2536231884057971
          ],
          "vectorType": "dense"
         }
        ],
        [
         {
          "length": 4,
          "values": [
           35.29999923706055,
           18.899999618530273,
           187.0,
           3800.0
          ],
          "vectorType": "dense"
         },
         {
          "length": 4,
          "values": [
           0.1163636641068892,
           0.6867469491901869,
           0.2542372881355932,
           0.2753623188405797
          ],
          "vectorType": "dense"
         }
        ],
        [
         {
          "length": 4,
          "values": [
           35.5,
           16.200000762939453,
           195.0,
           3350.0
          ],
          "vectorType": "dense"
         },
         {
          "length": 4,
          "values": [
           0.12363641912286931,
           0.36144588972698605,
           0.3898305084745763,
           0.14492753623188406
          ],
          "vectorType": "dense"
         }
        ],
        [
         {
          "length": 4,
          "values": [
           35.70000076293945,
           16.899999618530273,
           185.0,
           3150.0
          ],
          "vectorType": "dense"
         },
         {
          "length": 4,
          "values": [
           0.13090917413884942,
           0.44578309930587445,
           0.22033898305084745,
           0.08695652173913043
          ],
          "vectorType": "dense"
         }
        ],
        [
         {
          "length": 4,
          "values": [
           36.400001525878906,
           17.100000381469727,
           184.0,
           2850.0
          ],
          "vectorType": "dense"
         },
         {
          "length": 4,
          "values": [
           0.1563637473366477,
           0.46987957621471965,
           0.2033898305084746,
           0.0
          ],
          "vectorType": "dense"
         }
        ],
        [
         {
          "length": 4,
          "values": [
           36.5,
           16.600000381469727,
           181.0,
           2850.0
          ],
          "vectorType": "dense"
         },
         {
          "length": 4,
          "values": [
           0.16000005548650567,
           0.4096386137436415,
           0.15254237288135594,
           0.0
          ],
          "vectorType": "dense"
         }
        ],
        [
         {
          "length": 4,
          "values": [
           37.599998474121094,
           19.100000381469727,
           194.0,
           3750.0
          ],
          "vectorType": "dense"
         },
         {
          "length": 4,
          "values": [
           0.19999999999999998,
           0.7108434260990321,
           0.3728813559322034,
           0.2608695652173913
          ],
          "vectorType": "dense"
         }
        ],
        [
         {
          "length": 4,
          "values": [
           37.70000076293945,
           16.0,
           183.0,
           3075.0
          ],
          "vectorType": "dense"
         },
         {
          "length": 4,
          "values": [
           0.20363644686612214,
           0.33734941281814085,
           0.1864406779661017,
           0.06521739130434782
          ],
          "vectorType": "dense"
         }
        ],
        [
         {
          "length": 4,
          "values": [
           37.70000076293945,
           18.700000762939453,
           180.0,
           3600.0
          ],
          "vectorType": "dense"
         },
         {
          "length": 4,
          "values": [
           0.20363644686612214,
           0.6626507020823765,
           0.13559322033898305,
           0.21739130434782608
          ],
          "vectorType": "dense"
         }
        ],
        [
         {
          "length": 4,
          "values": [
           37.900001525878906,
           18.600000381469727,
           172.0,
           3150.0
          ],
          "vectorType": "dense"
         },
         {
          "length": 4,
          "values": [
           0.21090920188210227,
           0.6506024636279539,
           0.0,
           0.08695652173913043
          ],
          "vectorType": "dense"
         }
        ],
        [
         {
          "length": 4,
          "values": [
           38.20000076293945,
           18.100000381469727,
           185.0,
           3950.0
          ],
          "vectorType": "dense"
         },
         {
          "length": 4,
          "values": [
           0.22181826504794033,
           0.5903615011568758,
           0.22033898305084745,
           0.3188405797101449
          ],
          "vectorType": "dense"
         }
        ],
        [
         {
          "length": 4,
          "values": [
           38.20000076293945,
           20.0,
           190.0,
           3900.0
          ],
          "vectorType": "dense"
         },
         {
          "length": 4,
          "values": [
           0.22181826504794033,
           0.8192771125867657,
           0.3050847457627119,
           0.30434782608695654
          ],
          "vectorType": "dense"
         }
        ],
        [
         {
          "length": 4,
          "values": [
           38.599998474121094,
           17.200000762939453,
           199.0,
           3750.0
          ],
          "vectorType": "dense"
         },
         {
          "length": 4,
          "values": [
           0.23636363636363636,
           0.48192781466914225,
           0.4576271186440678,
           0.2608695652173913
          ],
          "vectorType": "dense"
         }
        ],
        [
         {
          "length": 4,
          "values": [
           39.0,
           17.5,
           186.0,
           3550.0
          ],
          "vectorType": "dense"
         },
         {
          "length": 4,
          "values": [
           0.2509091463955966,
           0.5180723002313752,
           0.23728813559322035,
           0.20289855072463767
          ],
          "vectorType": "dense"
         }
        ],
        [
         {
          "length": 4,
          "values": [
           39.599998474121094,
           20.700000762939453,
           191.0,
           3900.0
          ],
          "vectorType": "dense"
         },
         {
          "length": 4,
          "values": [
           0.2727272727272727,
           0.9036145519666889,
           0.3220338983050847,
           0.30434782608695654
          ],
          "vectorType": "dense"
         }
        ],
        [
         {
          "length": 4,
          "values": [
           39.70000076293945,
           17.700000762939453,
           193.0,
           3200.0
          ],
          "vectorType": "dense"
         },
         {
          "length": 4,
          "values": [
           0.2763637195933949,
           0.5421687771402204,
           0.3559322033898305,
           0.10144927536231883
          ],
          "vectorType": "dense"
         }
        ],
        [
         {
          "length": 4,
          "values": [
           39.70000076293945,
           18.899999618530273,
           184.0,
           3550.0
          ],
          "vectorType": "dense"
         },
         {
          "length": 4,
          "values": [
           0.2763637195933949,
           0.6867469491901869,
           0.2033898305084746,
           0.20289855072463767
          ],
          "vectorType": "dense"
         }
        ],
        [
         {
          "length": 4,
          "values": [
           40.099998474121094,
           18.899999618530273,
           188.0,
           4300.0
          ],
          "vectorType": "dense"
         },
         {
          "length": 4,
          "values": [
           0.2909090909090909,
           0.6867469491901869,
           0.2711864406779661,
           0.42028985507246375
          ],
          "vectorType": "dense"
         }
        ],
        [
         {
          "length": 4,
          "values": [
           40.5,
           17.899999618530273,
           187.0,
           3200.0
          ],
          "vectorType": "dense"
         },
         {
          "length": 4,
          "values": [
           0.30545460094105115,
           0.5662650242480307,
           0.2542372881355932,
           0.10144927536231883
          ],
          "vectorType": "dense"
         }
        ],
        [
         {
          "length": 4,
          "values": [
           40.5,
           18.899999618530273,
           180.0,
           3950.0
          ],
          "vectorType": "dense"
         },
         {
          "length": 4,
          "values": [
           0.30545460094105115,
           0.6867469491901869,
           0.13559322033898305,
           0.3188405797101449
          ],
          "vectorType": "dense"
         }
        ],
        [
         {
          "length": 4,
          "values": [
           41.0,
           20.0,
           203.0,
           4725.0
          ],
          "vectorType": "dense"
         },
         {
          "length": 4,
          "values": [
           0.3236364191228693,
           0.8192771125867657,
           0.5254237288135594,
           0.5434782608695652
          ],
          "vectorType": "dense"
         }
        ],
        [
         {
          "length": 4,
          "values": [
           41.099998474121094,
           18.200000762939453,
           192.0,
           4050.0
          ],
          "vectorType": "dense"
         },
         {
          "length": 4,
          "values": [
           0.32727272727272727,
           0.6024097396112984,
           0.3389830508474576,
           0.34782608695652173
          ],
          "vectorType": "dense"
         }
        ],
        [
         {
          "length": 4,
          "values": [
           41.099998474121094,
           19.100000381469727,
           188.0,
           4100.0
          ],
          "vectorType": "dense"
         },
         {
          "length": 4,
          "values": [
           0.32727272727272727,
           0.7108434260990321,
           0.2711864406779661,
           0.36231884057971014
          ],
          "vectorType": "dense"
         }
        ],
        [
         {
          "length": 4,
          "values": [
           41.29999923706055,
           21.100000381469727,
           195.0,
           4400.0
          ],
          "vectorType": "dense"
         },
         {
          "length": 4,
          "values": [
           0.3345454822887074,
           0.9518072759833445,
           0.3898305084745763,
           0.4492753623188406
          ],
          "vectorType": "dense"
         }
        ],
        [
         {
          "length": 4,
          "values": [
           41.599998474121094,
           18.0,
           192.0,
           3950.0
          ],
          "vectorType": "dense"
         },
         {
          "length": 4,
          "values": [
           0.34545454545454546,
           0.5783132627024533,
           0.3389830508474576,
           0.3188405797101449
          ],
          "vectorType": "dense"
         }
        ],
        [
         {
          "length": 4,
          "values": [
           41.70000076293945,
           14.699999809265137,
           210.0,
           4700.0
          ],
          "vectorType": "dense"
         },
         {
          "length": 4,
          "values": [
           0.3490909923206676,
           0.1807228874132343,
           0.6440677966101694,
           0.536231884057971
          ],
          "vectorType": "dense"
         }
        ],
        [
         {
          "length": 4,
          "values": [
           42.20000076293945,
           19.5,
           197.0,
           4275.0
          ],
          "vectorType": "dense"
         },
         {
          "length": 4,
          "values": [
           0.3672728105024858,
           0.7590361501156876,
           0.423728813559322,
           0.41304347826086957
          ],
          "vectorType": "dense"
         }
        ],
        [
         {
          "length": 4,
          "values": [
           42.599998474121094,
           13.699999809265137,
           213.0,
           4950.0
          ],
          "vectorType": "dense"
         },
         {
          "length": 4,
          "values": [
           0.3818181818181818,
           0.0602409624710781,
           0.6949152542372882,
           0.6086956521739131
          ],
          "vectorType": "dense"
         }
        ],
        [
         {
          "length": 4,
          "values": [
           42.70000076293945,
           18.299999237060547,
           196.0,
           4075.0
          ],
          "vectorType": "dense"
         },
         {
          "length": 4,
          "values": [
           0.38545462868430397,
           0.6144577482646862,
           0.4067796610169492,
           0.3550724637681159
          ],
          "vectorType": "dense"
         }
        ],
        [
         {
          "length": 4,
          "values": [
           42.79999923706055,
           14.199999809265137,
           209.0,
           4700.0
          ],
          "vectorType": "dense"
         },
         {
          "length": 4,
          "values": [
           0.3890909368341619,
           0.1204819249421562,
           0.6271186440677966,
           0.536231884057971
          ],
          "vectorType": "dense"
         }
        ],
        [
         {
          "length": 4,
          "values": [
           43.20000076293945,
           14.5,
           208.0,
           4450.0
          ],
          "vectorType": "dense"
         },
         {
          "length": 4,
          "values": [
           0.40363644686612216,
           0.15662652540490654,
           0.6101694915254238,
           0.463768115942029
          ],
          "vectorType": "dense"
         }
        ],
        [
         {
          "length": 4,
          "values": [
           43.20000076293945,
           19.0,
           197.0,
           4775.0
          ],
          "vectorType": "dense"
         },
         {
          "length": 4,
          "values": [
           0.40363644686612216,
           0.6987951876446095,
           0.423728813559322,
           0.5579710144927537
          ],
          "vectorType": "dense"
         }
        ],
        [
         {
          "length": 4,
          "values": [
           43.29999923706055,
           14.0,
           208.0,
           4575.0
          ],
          "vectorType": "dense"
         },
         {
          "length": 4,
          "values": [
           0.4072727550159801,
           0.09638556293382844,
           0.6101694915254238,
           0.5
          ],
          "vectorType": "dense"
         }
        ],
        [
         {
          "length": 4,
          "values": [
           43.400001525878906,
           14.399999618530273,
           218.0,
           4600.0
          ],
          "vectorType": "dense"
         },
         {
          "length": 4,
          "values": [
           0.4109092018821022,
           0.14457828695048397,
           0.7796610169491526,
           0.5072463768115942
          ],
          "vectorType": "dense"
         }
        ],
        [
         {
          "length": 4,
          "values": [
           43.5,
           15.199999809265137,
           213.0,
           4650.0
          ],
          "vectorType": "dense"
         },
         {
          "length": 4,
          "values": [
           0.4145455100319602,
           0.2409638498843124,
           0.6949152542372882,
           0.5217391304347826
          ],
          "vectorType": "dense"
         }
        ],
        [
         {
          "length": 4,
          "values": [
           43.79999923706055,
           13.899999618530273,
           208.0,
           4300.0
          ],
          "vectorType": "dense"
         },
         {
          "length": 4,
          "values": [
           0.4254545731977983,
           0.08433732447940587,
           0.6101694915254238,
           0.42028985507246375
          ],
          "vectorType": "dense"
         }
        ],
        [
         {
          "length": 4,
          "values": [
           44.400001525878906,
           17.299999237060547,
           219.0,
           5250.0
          ],
          "vectorType": "dense"
         },
         {
          "length": 4,
          "values": [
           0.4472728382457386,
           0.49397582332253,
           0.7966101694915254,
           0.6956521739130435
          ],
          "vectorType": "dense"
         }
        ],
        [
         {
          "length": 4,
          "values": [
           44.5,
           14.300000190734863,
           216.0,
           4100.0
          ],
          "vectorType": "dense"
         },
         {
          "length": 4,
          "values": [
           0.4509091463955966,
           0.13253016339657878,
           0.7457627118644068,
           0.36231884057971014
          ],
          "vectorType": "dense"
         }
        ],
        [
         {
          "length": 4,
          "values": [
           44.5,
           14.699999809265137,
           214.0,
           4850.0
          ],
          "vectorType": "dense"
         },
         {
          "length": 4,
          "values": [
           0.4509091463955966,
           0.1807228874132343,
           0.711864406779661,
           0.5797101449275363
          ],
          "vectorType": "dense"
         }
        ],
        [
         {
          "length": 4,
          "values": [
           44.5,
           15.699999809265137,
           217.0,
           4875.0
          ],
          "vectorType": "dense"
         },
         {
          "length": 4,
          "values": [
           0.4509091463955966,
           0.30120481235539054,
           0.7627118644067796,
           0.5869565217391304
          ],
          "vectorType": "dense"
         }
        ],
        [
         {
          "length": 4,
          "values": [
           44.900001525878906,
           13.800000190734863,
           212.0,
           4750.0
          ],
          "vectorType": "dense"
         },
         {
          "length": 4,
          "values": [
           0.4654546564275568,
           0.07228920092550069,
           0.6779661016949152,
           0.5507246376811594
          ],
          "vectorType": "dense"
         }
        ],
        [
         {
          "length": 4,
          "values": [
           45.0,
           15.399999618530273,
           220.0,
           5050.0
          ],
          "vectorType": "dense"
         },
         {
          "length": 4,
          "values": [
           0.4690909645774147,
           0.2650602118926402,
           0.8135593220338984,
           0.6376811594202898
          ],
          "vectorType": "dense"
         }
        ],
        [
         {
          "length": 4,
          "values": [
           45.099998474121094,
           14.5,
           207.0,
           5050.0
          ],
          "vectorType": "dense"
         },
         {
          "length": 4,
          "values": [
           0.4727272727272727,
           0.15662652540490654,
           0.5932203389830508,
           0.6376811594202898
          ],
          "vectorType": "dense"
         }
        ],
        [
         {
          "length": 4,
          "values": [
           45.099998474121094,
           14.5,
           215.0,
           5000.0
          ],
          "vectorType": "dense"
         },
         {
          "length": 4,
          "values": [
           0.4727272727272727,
           0.15662652540490654,
           0.7288135593220338,
           0.6231884057971014
          ],
          "vectorType": "dense"
         }
        ],
        [
         {
          "length": 4,
          "values": [
           45.20000076293945,
           13.800000190734863,
           215.0,
           4750.0
          ],
          "vectorType": "dense"
         },
         {
          "length": 4,
          "values": [
           0.47636371959339485,
           0.07228920092550069,
           0.7288135593220338,
           0.5507246376811594
          ],
          "vectorType": "dense"
         }
        ],
        [
         {
          "length": 4,
          "values": [
           45.20000076293945,
           14.800000190734863,
           212.0,
           5200.0
          ],
          "vectorType": "dense"
         },
         {
          "length": 4,
          "values": [
           0.47636371959339485,
           0.19277112586765688,
           0.6779661016949152,
           0.6811594202898551
          ],
          "vectorType": "dense"
         }
        ],
        [
         {
          "length": 4,
          "values": [
           45.20000076293945,
           15.800000190734863,
           215.0,
           5300.0
          ],
          "vectorType": "dense"
         },
         {
          "length": 4,
          "values": [
           0.47636371959339485,
           0.3132530508098131,
           0.7288135593220338,
           0.7101449275362318
          ],
          "vectorType": "dense"
         }
        ],
        [
         {
          "length": 4,
          "values": [
           45.400001525878906,
           14.600000381469727,
           211.0,
           4800.0
          ],
          "vectorType": "dense"
         },
         {
          "length": 4,
          "values": [
           0.483636474609375,
           0.16867476385932914,
           0.6610169491525424,
           0.5652173913043478
          ],
          "vectorType": "dense"
         }
        ],
        [
         {
          "length": 4,
          "values": [
           45.5,
           13.899999618530273,
           210.0,
           4200.0
          ],
          "vectorType": "dense"
         },
         {
          "length": 4,
          "values": [
           0.4872727827592329,
           0.08433732447940587,
           0.6440677966101694,
           0.391304347826087
          ],
          "vectorType": "dense"
         }
        ],
        [
         {
          "length": 4,
          "values": [
           45.5,
           14.5,
           212.0,
           4750.0
          ],
          "vectorType": "dense"
         },
         {
          "length": 4,
          "values": [
           0.4872727827592329,
           0.15662652540490654,
           0.6779661016949152,
           0.5507246376811594
          ],
          "vectorType": "dense"
         }
        ],
        [
         {
          "length": 4,
          "values": [
           45.599998474121094,
           20.299999237060547,
           191.0,
           4600.0
          ],
          "vectorType": "dense"
         },
         {
          "length": 4,
          "values": [
           0.4909090909090909,
           0.8554215981489987,
           0.3220338983050847,
           0.5072463768115942
          ],
          "vectorType": "dense"
         }
        ],
        [
         {
          "length": 4,
          "values": [
           45.70000076293945,
           13.899999618530273,
           214.0,
           4400.0
          ],
          "vectorType": "dense"
         },
         {
          "length": 4,
          "values": [
           0.49454553777521304,
           0.08433732447940587,
           0.711864406779661,
           0.4492753623188406
          ],
          "vectorType": "dense"
         }
        ],
        [
         {
          "length": 4,
          "values": [
           45.79999923706055,
           14.600000381469727,
           210.0,
           4200.0
          ],
          "vectorType": "dense"
         },
         {
          "length": 4,
          "values": [
           0.498181845925071,
           0.16867476385932914,
           0.6440677966101694,
           0.391304347826087
          ],
          "vectorType": "dense"
         }
        ],
        [
         {
          "length": 4,
          "values": [
           46.099998474121094,
           13.199999809265137,
           211.0,
           4500.0
          ],
          "vectorType": "dense"
         },
         {
          "length": 4,
          "values": [
           0.509090909090909,
           0.0,
           0.6610169491525424,
           0.4782608695652174
          ],
          "vectorType": "dense"
         }
        ],
        [
         {
          "length": 4,
          "values": [
           46.20000076293945,
           14.100000381469727,
           217.0,
           4375.0
          ],
          "vectorType": "dense"
         },
         {
          "length": 4,
          "values": [
           0.5127273559570312,
           0.10843380138825102,
           0.7627118644067796,
           0.44202898550724634
          ],
          "vectorType": "dense"
         }
        ],
        [
         {
          "length": 4,
          "values": [
           46.20000076293945,
           14.5,
           209.0,
           4800.0
          ],
          "vectorType": "dense"
         },
         {
          "length": 4,
          "values": [
           0.5127273559570312,
           0.15662652540490654,
           0.6271186440677966,
           0.5652173913043478
          ],
          "vectorType": "dense"
         }
        ],
        [
         {
          "length": 4,
          "values": [
           46.29999923706055,
           15.800000190734863,
           215.0,
           5050.0
          ],
          "vectorType": "dense"
         },
         {
          "length": 4,
          "values": [
           0.5163636641068892,
           0.3132530508098131,
           0.7288135593220338,
           0.6376811594202898
          ],
          "vectorType": "dense"
         }
        ],
        [
         {
          "length": 4,
          "values": [
           46.400001525878906,
           15.0,
           216.0,
           4700.0
          ],
          "vectorType": "dense"
         },
         {
          "length": 4,
          "values": [
           0.5200001109730114,
           0.21686748787598464,
           0.7457627118644068,
           0.536231884057971
          ],
          "vectorType": "dense"
         }
        ],
        [
         {
          "length": 4,
          "values": [
           46.5,
           13.5,
           210.0,
           4550.0
          ],
          "vectorType": "dense"
         },
         {
          "length": 4,
          "values": [
           0.5236364191228693,
           0.036144600462750344,
           0.6440677966101694,
           0.49275362318840576
          ],
          "vectorType": "dense"
         }
        ],
        [
         {
          "length": 4,
          "values": [
           46.5,
           14.399999618530273,
           217.0,
           4900.0
          ],
          "vectorType": "dense"
         },
         {
          "length": 4,
          "values": [
           0.5236364191228693,
           0.14457828695048397,
           0.7627118644067796,
           0.5942028985507246
          ],
          "vectorType": "dense"
         }
        ],
        [
         {
          "length": 4,
          "values": [
           46.5,
           14.5,
           213.0,
           4400.0
          ],
          "vectorType": "dense"
         },
         {
          "length": 4,
          "values": [
           0.5236364191228693,
           0.15662652540490654,
           0.6949152542372882,
           0.4492753623188406
          ],
          "vectorType": "dense"
         }
        ],
        [
         {
          "length": 4,
          "values": [
           46.5,
           14.800000190734863,
           217.0,
           5200.0
          ],
          "vectorType": "dense"
         },
         {
          "length": 4,
          "values": [
           0.5236364191228693,
           0.19277112586765688,
           0.7627118644067796,
           0.6811594202898551
          ],
          "vectorType": "dense"
         }
        ],
        [
         {
          "length": 4,
          "values": [
           46.599998474121094,
           14.199999809265137,
           210.0,
           4850.0
          ],
          "vectorType": "dense"
         },
         {
          "length": 4,
          "values": [
           0.5272727272727272,
           0.1204819249421562,
           0.6440677966101694,
           0.5797101449275363
          ],
          "vectorType": "dense"
         }
        ],
        [
         {
          "length": 4,
          "values": [
           46.70000076293945,
           15.300000190734863,
           219.0,
           5200.0
          ],
          "vectorType": "dense"
         },
         {
          "length": 4,
          "values": [
           0.5309091741388494,
           0.253012088338735,
           0.7966101694915254,
           0.6811594202898551
          ],
          "vectorType": "dense"
         }
        ],
        [
         {
          "length": 4,
          "values": [
           46.79999923706055,
           14.300000190734863,
           215.0,
           4850.0
          ],
          "vectorType": "dense"
         },
         {
          "length": 4,
          "values": [
           0.5345454822887074,
           0.13253016339657878,
           0.7288135593220338,
           0.5797101449275363
          ],
          "vectorType": "dense"
         }
        ],
        [
         {
          "length": 4,
          "values": [
           46.79999923706055,
           15.399999618530273,
           215.0,
           5150.0
          ],
          "vectorType": "dense"
         },
         {
          "length": 4,
          "values": [
           0.5345454822887074,
           0.2650602118926402,
           0.7288135593220338,
           0.6666666666666666
          ],
          "vectorType": "dense"
         }
        ],
        [
         {
          "length": 4,
          "values": [
           46.79999923706055,
           16.100000381469727,
           215.0,
           5500.0
          ],
          "vectorType": "dense"
         },
         {
          "length": 4,
          "values": [
           0.5345454822887074,
           0.34939765127256345,
           0.7288135593220338,
           0.7681159420289855
          ],
          "vectorType": "dense"
         }
        ],
        [
         {
          "length": 4,
          "values": [
           46.900001525878906,
           14.600000381469727,
           222.0,
           4875.0
          ],
          "vectorType": "dense"
         },
         {
          "length": 4,
          "values": [
           0.5381819291548295,
           0.16867476385932914,
           0.847457627118644,
           0.5869565217391304
          ],
          "vectorType": "dense"
         }
        ],
        [
         {
          "length": 4,
          "values": [
           47.20000076293945,
           13.699999809265137,
           214.0,
           4925.0
          ],
          "vectorType": "dense"
         },
         {
          "length": 4,
          "values": [
           0.5490909923206676,
           0.0602409624710781,
           0.711864406779661,
           0.6014492753623188
          ],
          "vectorType": "dense"
         }
        ],
        [
         {
          "length": 4,
          "values": [
           47.29999923706055,
           13.800000190734863,
           216.0,
           4725.0
          ],
          "vectorType": "dense"
         },
         {
          "length": 4,
          "values": [
           0.5527273004705255,
           0.07228920092550069,
           0.7457627118644068,
           0.5434782608695652
          ],
          "vectorType": "dense"
         }
        ],
        [
         {
          "length": 4,
          "values": [
           47.29999923706055,
           15.300000190734863,
           222.0,
           5250.0
          ],
          "vectorType": "dense"
         },
         {
          "length": 4,
          "values": [
           0.5527273004705255,
           0.253012088338735,
           0.847457627118644,
           0.6956521739130435
          ],
          "vectorType": "dense"
         }
        ],
        [
         {
          "length": 4,
          "values": [
           47.5,
           14.0,
           212.0,
           4875.0
          ],
          "vectorType": "dense"
         },
         {
          "length": 4,
          "values": [
           0.5600000554865057,
           0.09638556293382844,
           0.6779661016949152,
           0.5869565217391304
          ],
          "vectorType": "dense"
         }
        ],
        [
         {
          "length": 4,
          "values": [
           47.5,
           14.199999809265137,
           209.0,
           4600.0
          ],
          "vectorType": "dense"
         },
         {
          "length": 4,
          "values": [
           0.5600000554865057,
           0.1204819249421562,
           0.6271186440677966,
           0.5072463768115942
          ],
          "vectorType": "dense"
         }
        ],
        [
         {
          "length": 4,
          "values": [
           47.5,
           15.0,
           218.0,
           4950.0
          ],
          "vectorType": "dense"
         },
         {
          "length": 4,
          "values": [
           0.5600000554865057,
           0.21686748787598464,
           0.7796610169491526,
           0.6086956521739131
          ],
          "vectorType": "dense"
         }
        ],
        [
         {
          "length": 4,
          "values": [
           47.599998474121094,
           14.5,
           215.0,
           5400.0
          ],
          "vectorType": "dense"
         },
         {
          "length": 4,
          "values": [
           0.5636363636363636,
           0.15662652540490654,
           0.7288135593220338,
           0.7391304347826086
          ],
          "vectorType": "dense"
         }
        ],
        [
         {
          "length": 4,
          "values": [
           47.70000076293945,
           15.0,
           216.0,
           4750.0
          ],
          "vectorType": "dense"
         },
         {
          "length": 4,
          "values": [
           0.5672728105024858,
           0.21686748787598464,
           0.7457627118644068,
           0.5507246376811594
          ],
          "vectorType": "dense"
         }
        ],
        [
         {
          "length": 4,
          "values": [
           47.79999923706055,
           15.0,
           215.0,
           5650.0
          ],
          "vectorType": "dense"
         },
         {
          "length": 4,
          "values": [
           0.5709091186523437,
           0.21686748787598464,
           0.7288135593220338,
           0.8115942028985507
          ],
          "vectorType": "dense"
         }
        ],
        [
         {
          "length": 4,
          "values": [
           48.099998474121094,
           15.100000381469727,
           209.0,
           5500.0
          ],
          "vectorType": "dense"
         },
         {
          "length": 4,
          "values": [
           0.5818181818181818,
           0.22891572633040724,
           0.6271186440677966,
           0.7681159420289855
          ],
          "vectorType": "dense"
         }
        ],
        [
         {
          "length": 4,
          "values": [
           48.20000076293945,
           15.600000381469727,
           221.0,
           5100.0
          ],
          "vectorType": "dense"
         },
         {
          "length": 4,
          "values": [
           0.585454628684304,
           0.2891566888014853,
           0.8305084745762712,
           0.6521739130434783
          ],
          "vectorType": "dense"
         }
        ],
        [
         {
          "length": 4,
          "values": [
           48.400001525878906,
           14.399999618530273,
           203.0,
           4625.0
          ],
          "vectorType": "dense"
         },
         {
          "length": 4,
          "values": [
           0.5927273837002841,
           0.14457828695048397,
           0.5254237288135594,
           0.5144927536231884
          ],
          "vectorType": "dense"
         }
        ],
        [
         {
          "length": 4,
          "values": [
           48.400001525878906,
           14.600000381469727,
           213.0,
           5850.0
          ],
          "vectorType": "dense"
         },
         {
          "length": 4,
          "values": [
           0.5927273837002841,
           0.16867476385932914,
           0.6949152542372882,
           0.8695652173913043
          ],
          "vectorType": "dense"
         }
        ],
        [
         {
          "length": 4,
          "values": [
           48.400001525878906,
           16.299999237060547,
           220.0,
           5400.0
          ],
          "vectorType": "dense"
         },
         {
          "length": 4,
          "values": [
           0.5927273837002841,
           0.3734938983803738,
           0.8135593220338984,
           0.7391304347826086
          ],
          "vectorType": "dense"
         }
        ],
        [
         {
          "length": 4,
          "values": [
           48.5,
           14.100000381469727,
           220.0,
           5300.0
          ],
          "vectorType": "dense"
         },
         {
          "length": 4,
          "values": [
           0.596363691850142,
           0.10843380138825102,
           0.8135593220338984,
           0.7101449275362318
          ],
          "vectorType": "dense"
         }
        ],
        [
         {
          "length": 4,
          "values": [
           48.5,
           15.0,
           219.0,
           4850.0
          ],
          "vectorType": "dense"
         },
         {
          "length": 4,
          "values": [
           0.596363691850142,
           0.21686748787598464,
           0.7966101694915254,
           0.5797101449275363
          ],
          "vectorType": "dense"
         }
        ],
        [
         {
          "length": 4,
          "values": [
           48.70000076293945,
           15.699999809265137,
           208.0,
           5350.0
          ],
          "vectorType": "dense"
         },
         {
          "length": 4,
          "values": [
           0.6036364468661222,
           0.30120481235539054,
           0.6101694915254238,
           0.7246376811594203
          ],
          "vectorType": "dense"
         }
        ],
        [
         {
          "length": 4,
          "values": [
           48.79999923706055,
           16.200000762939453,
           222.0,
           6000.0
          ],
          "vectorType": "dense"
         },
         {
          "length": 4,
          "values": [
           0.6072727550159801,
           0.36144588972698605,
           0.847457627118644,
           0.9130434782608695
          ],
          "vectorType": "dense"
         }
        ],
        [
         {
          "length": 4,
          "values": [
           49.0,
           16.100000381469727,
           216.0,
           5550.0
          ],
          "vectorType": "dense"
         },
         {
          "length": 4,
          "values": [
           0.6145455100319602,
           0.34939765127256345,
           0.7457627118644068,
           0.782608695652174
          ],
          "vectorType": "dense"
         }
        ],
        [
         {
          "length": 4,
          "values": [
           49.099998474121094,
           14.5,
           212.0,
           4625.0
          ],
          "vectorType": "dense"
         },
         {
          "length": 4,
          "values": [
           0.6181818181818182,
           0.15662652540490654,
           0.6779661016949152,
           0.5144927536231884
          ],
          "vectorType": "dense"
         }
        ],
        [
         {
          "length": 4,
          "values": [
           49.099998474121094,
           14.800000190734863,
           220.0,
           5150.0
          ],
          "vectorType": "dense"
         },
         {
          "length": 4,
          "values": [
           0.6181818181818182,
           0.19277112586765688,
           0.8135593220338984,
           0.6666666666666666
          ],
          "vectorType": "dense"
         }
        ],
        [
         {
          "length": 4,
          "values": [
           49.099998474121094,
           15.0,
           228.0,
           5500.0
          ],
          "vectorType": "dense"
         },
         {
          "length": 4,
          "values": [
           0.6181818181818182,
           0.21686748787598464,
           0.9491525423728814,
           0.7681159420289855
          ],
          "vectorType": "dense"
         }
        ],
        [
         {
          "length": 4,
          "values": [
           49.20000076293945,
           15.199999809265137,
           221.0,
           6300.0
          ],
          "vectorType": "dense"
         },
         {
          "length": 4,
          "values": [
           0.6218182650479404,
           0.2409638498843124,
           0.8305084745762712,
           1.0
          ],
          "vectorType": "dense"
         }
        ],
        [
         {
          "length": 4,
          "values": [
           49.29999923706055,
           15.699999809265137,
           217.0,
           5850.0
          ],
          "vectorType": "dense"
         },
         {
          "length": 4,
          "values": [
           0.6254545731977983,
           0.30120481235539054,
           0.7627118644067796,
           0.8695652173913043
          ],
          "vectorType": "dense"
         }
        ],
        [
         {
          "length": 4,
          "values": [
           49.400001525878906,
           15.800000190734863,
           216.0,
           4925.0
          ],
          "vectorType": "dense"
         },
         {
          "length": 4,
          "values": [
           0.6290910200639204,
           0.3132530508098131,
           0.7457627118644068,
           0.6014492753623188
          ],
          "vectorType": "dense"
         }
        ],
        [
         {
          "length": 4,
          "values": [
           49.5,
           16.200000762939453,
           229.0,
           5800.0
          ],
          "vectorType": "dense"
         },
         {
          "length": 4,
          "values": [
           0.6327273282137784,
           0.36144588972698605,
           0.9661016949152542,
           0.855072463768116
          ],
          "vectorType": "dense"
         }
        ],
        [
         {
          "length": 4,
          "values": [
           49.79999923706055,
           15.899999618530273,
           229.0,
           5950.0
          ],
          "vectorType": "dense"
         },
         {
          "length": 4,
          "values": [
           0.6436363913796165,
           0.32530117436371825,
           0.9661016949152542,
           0.8985507246376812
          ],
          "vectorType": "dense"
         }
        ],
        [
         {
          "length": 4,
          "values": [
           49.79999923706055,
           16.799999237060547,
           230.0,
           5700.0
          ],
          "vectorType": "dense"
         },
         {
          "length": 4,
          "values": [
           0.6436363913796165,
           0.4337348608514519,
           0.9830508474576272,
           0.8260869565217391
          ],
          "vectorType": "dense"
         }
        ],
        [
         {
          "length": 4,
          "values": [
           49.900001525878906,
           16.100000381469727,
           213.0,
           5400.0
          ],
          "vectorType": "dense"
         },
         {
          "length": 4,
          "values": [
           0.6472728382457386,
           0.34939765127256345,
           0.6949152542372882,
           0.7391304347826086
          ],
          "vectorType": "dense"
         }
        ],
        [
         {
          "length": 4,
          "values": [
           50.0,
           15.199999809265137,
           218.0,
           5700.0
          ],
          "vectorType": "dense"
         },
         {
          "length": 4,
          "values": [
           0.6509091463955966,
           0.2409638498843124,
           0.7796610169491526,
           0.8260869565217391
          ],
          "vectorType": "dense"
         }
        ],
        [
         {
          "length": 4,
          "values": [
           50.0,
           16.299999237060547,
           230.0,
           5700.0
          ],
          "vectorType": "dense"
         },
         {
          "length": 4,
          "values": [
           0.6509091463955966,
           0.3734938983803738,
           0.9830508474576272,
           0.8260869565217391
          ],
          "vectorType": "dense"
         }
        ],
        [
         {
          "length": 4,
          "values": [
           50.099998474121094,
           15.0,
           225.0,
           5000.0
          ],
          "vectorType": "dense"
         },
         {
          "length": 4,
          "values": [
           0.6545454545454545,
           0.21686748787598464,
           0.8983050847457628,
           0.6231884057971014
          ],
          "vectorType": "dense"
         }
        ],
        [
         {
          "length": 4,
          "values": [
           50.20000076293945,
           14.300000190734863,
           218.0,
           5700.0
          ],
          "vectorType": "dense"
         },
         {
          "length": 4,
          "values": [
           0.6581819014115766,
           0.13253016339657878,
           0.7796610169491526,
           0.8260869565217391
          ],
          "vectorType": "dense"
         }
        ],
        [
         {
          "length": 4,
          "values": [
           50.400001525878906,
           15.699999809265137,
           222.0,
           5750.0
          ],
          "vectorType": "dense"
         },
         {
          "length": 4,
          "values": [
           0.6654546564275567,
           0.30120481235539054,
           0.847457627118644,
           0.8405797101449275
          ],
          "vectorType": "dense"
         }
        ],
        [
         {
          "length": 4,
          "values": [
           50.5,
           15.899999618530273,
           225.0,
           5400.0
          ],
          "vectorType": "dense"
         },
         {
          "length": 4,
          "values": [
           0.6690909645774148,
           0.32530117436371825,
           0.8983050847457628,
           0.7391304347826086
          ],
          "vectorType": "dense"
         }
        ],
        [
         {
          "length": 4,
          "values": [
           50.70000076293945,
           15.0,
           223.0,
           5550.0
          ],
          "vectorType": "dense"
         },
         {
          "length": 4,
          "values": [
           0.6763637195933948,
           0.21686748787598464,
           0.864406779661017,
           0.782608695652174
          ],
          "vectorType": "dense"
         }
        ],
        [
         {
          "length": 4,
          "values": [
           50.79999923706055,
           17.299999237060547,
           228.0,
           5600.0
          ],
          "vectorType": "dense"
         },
         {
          "length": 4,
          "values": [
           0.6800000277432529,
           0.49397582332253,
           0.9491525423728814,
           0.7971014492753623
          ],
          "vectorType": "dense"
         }
        ],
        [
         {
          "length": 4,
          "values": [
           51.099998474121094,
           16.5,
           225.0,
           5250.0
          ],
          "vectorType": "dense"
         },
         {
          "length": 4,
          "values": [
           0.6909090909090909,
           0.397590375289219,
           0.8983050847457628,
           0.6956521739130435
          ],
          "vectorType": "dense"
         }
        ],
        [
         {
          "length": 4,
          "values": [
           51.5,
           16.299999237060547,
           230.0,
           5500.0
          ],
          "vectorType": "dense"
         },
         {
          "length": 4,
          "values": [
           0.7054546009410511,
           0.3734938983803738,
           0.9830508474576272,
           0.7681159420289855
          ],
          "vectorType": "dense"
         }
        ],
        [
         {
          "length": 4,
          "values": [
           52.099998474121094,
           17.0,
           230.0,
           5550.0
          ],
          "vectorType": "dense"
         },
         {
          "length": 4,
          "values": [
           0.7272727272727273,
           0.45783133776029705,
           0.9830508474576272,
           0.782608695652174
          ],
          "vectorType": "dense"
         }
        ],
        [
         {
          "length": 4,
          "values": [
           52.20000076293945,
           17.100000381469727,
           228.0,
           5400.0
          ],
          "vectorType": "dense"
         },
         {
          "length": 4,
          "values": [
           0.7309091741388494,
           0.46987957621471965,
           0.9491525423728814,
           0.7391304347826086
          ],
          "vectorType": "dense"
         }
        ],
        [
         {
          "length": 4,
          "values": [
           52.5,
           15.600000381469727,
           221.0,
           5450.0
          ],
          "vectorType": "dense"
         },
         {
          "length": 4,
          "values": [
           0.7418182373046874,
           0.2891566888014853,
           0.8305084745762712,
           0.7536231884057971
          ],
          "vectorType": "dense"
         }
        ],
        [
         {
          "length": 4,
          "values": [
           53.400001525878906,
           15.800000190734863,
           219.0,
           5500.0
          ],
          "vectorType": "dense"
         },
         {
          "length": 4,
          "values": [
           0.7745455655184659,
           0.3132530508098131,
           0.7966101694915254,
           0.7681159420289855
          ],
          "vectorType": "dense"
         }
        ],
        [
         {
          "length": 4,
          "values": [
           54.29999923706055,
           15.699999809265137,
           231.0,
           5650.0
          ],
          "vectorType": "dense"
         },
         {
          "length": 4,
          "values": [
           0.8072727550159801,
           0.30120481235539054,
           1.0,
           0.8115942028985507
          ],
          "vectorType": "dense"
         }
        ],
        [
         {
          "length": 4,
          "values": [
           55.099998474121094,
           16.0,
           230.0,
           5850.0
          ],
          "vectorType": "dense"
         },
         {
          "length": 4,
          "values": [
           0.8363636363636363,
           0.33734941281814085,
           0.9830508474576272,
           0.8695652173913043
          ],
          "vectorType": "dense"
         }
        ],
        [
         {
          "length": 4,
          "values": [
           55.900001525878906,
           17.0,
           228.0,
           5600.0
          ],
          "vectorType": "dense"
         },
         {
          "length": 4,
          "values": [
           0.8654546564275568,
           0.45783133776029705,
           0.9491525423728814,
           0.7971014492753623
          ],
          "vectorType": "dense"
         }
        ],
        [
         {
          "length": 4,
          "values": [
           59.599998474121094,
           17.0,
           230.0,
           6050.0
          ],
          "vectorType": "dense"
         },
         {
          "length": 4,
          "values": [
           1.0,
           0.45783133776029705,
           0.9830508474576272,
           0.927536231884058
          ],
          "vectorType": "dense"
         }
        ],
        [
         {
          "length": 4,
          "values": [
           32.099998474121094,
           15.5,
           188.0,
           3050.0
          ],
          "vectorType": "dense"
         },
         {
          "length": 4,
          "values": [
           0.0,
           0.2771084503470628,
           0.2711864406779661,
           0.057971014492753624
          ],
          "vectorType": "dense"
         }
        ],
        [
         {
          "length": 4,
          "values": [
           33.099998474121094,
           16.100000381469727,
           178.0,
           2900.0
          ],
          "vectorType": "dense"
         },
         {
          "length": 4,
          "values": [
           0.03636363636363636,
           0.34939765127256345,
           0.1016949152542373,
           0.014492753623188406
          ],
          "vectorType": "dense"
         }
        ],
        [
         {
          "length": 4,
          "values": [
           35.599998474121094,
           17.5,
           191.0,
           3175.0
          ],
          "vectorType": "dense"
         },
         {
          "length": 4,
          "values": [
           0.12727272727272726,
           0.5180723002313752,
           0.3220338983050847,
           0.09420289855072464
          ],
          "vectorType": "dense"
         }
        ],
        [
         {
          "length": 4,
          "values": [
           36.0,
           17.100000381469727,
           187.0,
           3700.0
          ],
          "vectorType": "dense"
         },
         {
          "length": 4,
          "values": [
           0.14181823730468748,
           0.46987957621471965,
           0.2542372881355932,
           0.24637681159420288
          ],
          "vectorType": "dense"
         }
        ],
        [
         {
          "length": 4,
          "values": [
           36.0,
           17.799999237060547,
           195.0,
           3450.0
          ],
          "vectorType": "dense"
         },
         {
          "length": 4,
          "values": [
           0.14181823730468748,
           0.5542167857936081,
           0.3898305084745763,
           0.17391304347826086
          ],
          "vectorType": "dense"
         }
        ],
        [
         {
          "length": 4,
          "values": [
           36.0,
           17.899999618530273,
           190.0,
           3450.0
          ],
          "vectorType": "dense"
         },
         {
          "length": 4,
          "values": [
           0.14181823730468748,
           0.5662650242480307,
           0.3050847457627119,
           0.17391304347826086
          ],
          "vectorType": "dense"
         }
        ],
        [
         {
          "length": 4,
          "values": [
           36.0,
           18.5,
           186.0,
           3100.0
          ],
          "vectorType": "dense"
         },
         {
          "length": 4,
          "values": [
           0.14181823730468748,
           0.6385542251735313,
           0.23728813559322035,
           0.07246376811594203
          ],
          "vectorType": "dense"
         }
        ],
        [
         {
          "length": 4,
          "values": [
           36.20000076293945,
           17.299999237060547,
           187.0,
           3300.0
          ],
          "vectorType": "dense"
         },
         {
          "length": 4,
          "values": [
           0.1490909923206676,
           0.49397582332253,
           0.2542372881355932,
           0.13043478260869565
          ],
          "vectorType": "dense"
         }
        ],
        [
         {
          "length": 4,
          "values": [
           36.29999923706055,
           19.5,
           190.0,
           3800.0
          ],
          "vectorType": "dense"
         },
         {
          "length": 4,
          "values": [
           0.15272730047052557,
           0.7590361501156876,
           0.3050847457627119,
           0.2753623188405797
          ],
          "vectorType": "dense"
         }
        ],
        [
         {
          "length": 4,
          "values": [
           36.5,
           18.0,
           182.0,
           3150.0
          ],
          "vectorType": "dense"
         },
         {
          "length": 4,
          "values": [
           0.16000005548650567,
           0.5783132627024533,
           0.1694915254237288,
           0.08695652173913043
          ],
          "vectorType": "dense"
         }
        ],
        [
         {
          "length": 4,
          "values": [
           36.599998474121094,
           18.399999618530273,
           184.0,
           3475.0
          ],
          "vectorType": "dense"
         },
         {
          "length": 4,
          "values": [
           0.16363636363636364,
           0.6265059867191087,
           0.2033898305084746,
           0.18115942028985507
          ],
          "vectorType": "dense"
         }
        ],
        [
         {
          "length": 4,
          "values": [
           36.79999923706055,
           18.5,
           193.0,
           3500.0
          ],
          "vectorType": "dense"
         },
         {
          "length": 4,
          "values": [
           0.17090911865234373,
           0.6385542251735313,
           0.3559322033898305,
           0.18840579710144928
          ],
          "vectorType": "dense"
         }
        ],
        [
         {
          "length": 4,
          "values": [
           36.900001525878906,
           18.600000381469727,
           189.0,
           3500.0
          ],
          "vectorType": "dense"
         },
         {
          "length": 4,
          "values": [
           0.1745455655184659,
           0.6506024636279539,
           0.288135593220339,
           0.18840579710144928
          ],
          "vectorType": "dense"
         }
        ],
        [
         {
          "length": 4,
          "values": [
           37.0,
           16.5,
           185.0,
           3400.0
          ],
          "vectorType": "dense"
         },
         {
          "length": 4,
          "values": [
           0.17818187366832386,
           0.397590375289219,
           0.22033898305084745,
           0.15942028985507245
          ],
          "vectorType": "dense"
         }
        ],
        [
         {
          "length": 4,
          "values": [
           37.20000076293945,
           18.100000381469727,
           178.0,
           3900.0
          ],
          "vectorType": "dense"
         },
         {
          "length": 4,
          "values": [
           0.18545462868430396,
           0.5903615011568758,
           0.1016949152542373,
           0.30434782608695654
          ],
          "vectorType": "dense"
         }
        ],
        [
         {
          "length": 4,
          "values": [
           37.29999923706055,
           16.799999237060547,
           192.0,
           3000.0
          ],
          "vectorType": "dense"
         },
         {
          "length": 4,
          "values": [
           0.18909093683416192,
           0.4337348608514519,
           0.3389830508474576,
           0.043478260869565216
          ],
          "vectorType": "dense"
         }
        ],
        [
         {
          "length": 4,
          "values": [
           37.5,
           18.899999618530273,
           179.0,
           2975.0
          ],
          "vectorType": "dense"
         },
         {
          "length": 4,
          "values": [
           0.19636369185014205,
           0.6867469491901869,
           0.11864406779661017,
           0.036231884057971016
          ],
          "vectorType": "dense"
         }
        ],
        [
         {
          "length": 4,
          "values": [
           37.599998474121094,
           19.299999237060547,
           181.0,
           3300.0
          ],
          "vectorType": "dense"
         },
         {
          "length": 4,
          "values": [
           0.19999999999999998,
           0.7349396732068424,
           0.15254237288135594,
           0.13043478260869565
          ],
          "vectorType": "dense"
         }
        ],
        [
         {
          "length": 4,
          "values": [
           37.79999923706055,
           18.100000381469727,
           193.0,
           3750.0
          ],
          "vectorType": "dense"
         },
         {
          "length": 4,
          "values": [
           0.2072727550159801,
           0.5903615011568758,
           0.3559322033898305,
           0.2608695652173913
          ],
          "vectorType": "dense"
         }
        ],
        [
         {
          "length": 4,
          "values": [
           38.099998474121094,
           17.600000381469727,
           187.0,
           3425.0
          ],
          "vectorType": "dense"
         },
         {
          "length": 4,
          "values": [
           0.21818181818181817,
           0.5301205386857978,
           0.2542372881355932,
           0.16666666666666666
          ],
          "vectorType": "dense"
         }
        ],
        [
         {
          "length": 4,
          "values": [
           38.099998474121094,
           18.600000381469727,
           190.0,
           3700.0
          ],
          "vectorType": "dense"
         },
         {
          "length": 4,
          "values": [
           0.21818181818181817,
           0.6506024636279539,
           0.3050847457627119,
           0.24637681159420288
          ],
          "vectorType": "dense"
         }
        ],
        [
         {
          "length": 4,
          "values": [
           38.79999923706055,
           20.0,
           190.0,
           3950.0
          ],
          "vectorType": "dense"
         },
         {
          "length": 4,
          "values": [
           0.24363639137961646,
           0.8192771125867657,
           0.3050847457627119,
           0.3188405797101449
          ],
          "vectorType": "dense"
         }
        ],
        [
         {
          "length": 4,
          "values": [
           39.0,
           18.700000762939453,
           185.0,
           3650.0
          ],
          "vectorType": "dense"
         },
         {
          "length": 4,
          "values": [
           0.2509091463955966,
           0.6626507020823765,
           0.22033898305084745,
           0.2318840579710145
          ],
          "vectorType": "dense"
         }
        ],
        [
         {
          "length": 4,
          "values": [
           39.20000076293945,
           18.600000381469727,
           190.0,
           4250.0
          ],
          "vectorType": "dense"
         },
         {
          "length": 4,
          "values": [
           0.2581819014115767,
           0.6506024636279539,
           0.3050847457627119,
           0.40579710144927533
          ],
          "vectorType": "dense"
         }
        ],
        [
         {
          "length": 4,
          "values": [
           39.20000076293945,
           21.100000381469727,
           196.0,
           4150.0
          ],
          "vectorType": "dense"
         },
         {
          "length": 4,
          "values": [
           0.2581819014115767,
           0.9518072759833445,
           0.4067796610169492,
           0.37681159420289856
          ],
          "vectorType": "dense"
         }
        ],
        [
         {
          "length": 4,
          "values": [
           39.599998474121094,
           18.100000381469727,
           186.0,
           4450.0
          ],
          "vectorType": "dense"
         },
         {
          "length": 4,
          "values": [
           0.2727272727272727,
           0.5903615011568758,
           0.23728813559322035,
           0.463768115942029
          ],
          "vectorType": "dense"
         }
        ],
        [
         {
          "length": 4,
          "values": [
           39.599998474121094,
           18.799999237060547,
           190.0,
           4600.0
          ],
          "vectorType": "dense"
         },
         {
          "length": 4,
          "values": [
           0.2727272727272727,
           0.6746987107357643,
           0.3050847457627119,
           0.5072463768115942
          ],
          "vectorType": "dense"
         }
        ],
        [
         {
          "length": 4,
          "values": [
           39.70000076293945,
           17.899999618530273,
           193.0,
           4250.0
          ],
          "vectorType": "dense"
         },
         {
          "length": 4,
          "values": [
           0.2763637195933949,
           0.5662650242480307,
           0.3559322033898305,
           0.40579710144927533
          ],
          "vectorType": "dense"
         }
        ],
        [
         {
          "length": 4,
          "values": [
           39.79999923706055,
           19.100000381469727,
           184.0,
           4650.0
          ],
          "vectorType": "dense"
         },
         {
          "length": 4,
          "values": [
           0.28000002774325283,
           0.7108434260990321,
           0.2033898305084746,
           0.5217391304347826
          ],
          "vectorType": "dense"
         }
        ],
        [
         {
          "length": 4,
          "values": [
           40.599998474121094,
           17.200000762939453,
           187.0,
           3475.0
          ],
          "vectorType": "dense"
         },
         {
          "length": 4,
          "values": [
           0.3090909090909091,
           0.48192781466914225,
           0.2542372881355932,
           0.18115942028985507
          ],
          "vectorType": "dense"
         }
        ],
        [
         {
          "length": 4,
          "values": [
           40.79999923706055,
           18.899999618530273,
           208.0,
           4300.0
          ],
          "vectorType": "dense"
         },
         {
          "length": 4,
          "values": [
           0.3163636641068892,
           0.6867469491901869,
           0.6101694915254238,
           0.42028985507246375
          ],
          "vectorType": "dense"
         }
        ],
        [
         {
          "length": 4,
          "values": [
           40.900001525878906,
           16.600000381469727,
           187.0,
           3200.0
          ],
          "vectorType": "dense"
         },
         {
          "length": 4,
          "values": [
           0.32000011097301134,
           0.4096386137436415,
           0.2542372881355932,
           0.10144927536231883
          ],
          "vectorType": "dense"
         }
        ],
        [
         {
          "length": 4,
          "values": [
           40.900001525878906,
           18.899999618530273,
           184.0,
           3900.0
          ],
          "vectorType": "dense"
         },
         {
          "length": 4,
          "values": [
           0.32000011097301134,
           0.6867469491901869,
           0.2033898305084746,
           0.30434782608695654
          ],
          "vectorType": "dense"
         }
        ],
        [
         {
          "length": 4,
          "values": [
           41.099998474121094,
           18.100000381469727,
           205.0,
           4300.0
          ],
          "vectorType": "dense"
         },
         {
          "length": 4,
          "values": [
           0.32727272727272727,
           0.5903615011568758,
           0.559322033898305,
           0.42028985507246375
          ],
          "vectorType": "dense"
         }
        ],
        [
         {
          "length": 4,
          "values": [
           41.099998474121094,
           19.0,
           182.0,
           3425.0
          ],
          "vectorType": "dense"
         },
         {
          "length": 4,
          "values": [
           0.32727272727272727,
           0.6987951876446095,
           0.1694915254237288,
           0.16666666666666666
          ],
          "vectorType": "dense"
         }
        ],
        [
         {
          "length": 4,
          "values": [
           41.29999923706055,
           20.299999237060547,
           194.0,
           3550.0
          ],
          "vectorType": "dense"
         },
         {
          "length": 4,
          "values": [
           0.3345454822887074,
           0.8554215981489987,
           0.3728813559322034,
           0.20289855072463767
          ],
          "vectorType": "dense"
         }
        ],
        [
         {
          "length": 4,
          "values": [
           41.5,
           18.5,
           201.0,
           4000.0
          ],
          "vectorType": "dense"
         },
         {
          "length": 4,
          "values": [
           0.34181823730468747,
           0.6385542251735313,
           0.4915254237288136,
           0.3333333333333333
          ],
          "vectorType": "dense"
         }
        ],
        [
         {
          "length": 4,
          "values": [
           42.20000076293945,
           18.5,
           180.0,
           3550.0
          ],
          "vectorType": "dense"
         },
         {
          "length": 4,
          "values": [
           0.3672728105024858,
           0.6385542251735313,
           0.13559322033898305,
           0.20289855072463767
          ],
          "vectorType": "dense"
         }
        ],
        [
         {
          "length": 4,
          "values": [
           42.29999923706055,
           21.200000762939453,
           191.0,
           4150.0
          ],
          "vectorType": "dense"
         },
         {
          "length": 4,
          "values": [
           0.3709091186523437,
           0.9638555144377671,
           0.3220338983050847,
           0.37681159420289856
          ],
          "vectorType": "dense"
         }
        ],
        [
         {
          "length": 4,
          "values": [
           42.400001525878906,
           17.299999237060547,
           181.0,
           3600.0
          ],
          "vectorType": "dense"
         },
         {
          "length": 4,
          "values": [
           0.3745455655184659,
           0.49397582332253,
           0.15254237288135594,
           0.21739130434782608
          ],
          "vectorType": "dense"
         }
        ],
        [
         {
          "length": 4,
          "values": [
           42.5,
           16.700000762939453,
           187.0,
           3350.0
          ],
          "vectorType": "dense"
         },
         {
          "length": 4,
          "values": [
           0.37818187366832384,
           0.4216868521980641,
           0.2542372881355932,
           0.14492753623188406
          ],
          "vectorType": "dense"
         }
        ],
        [
         {
          "length": 4,
          "values": [
           42.5,
           17.299999237060547,
           187.0,
           3350.0
          ],
          "vectorType": "dense"
         },
         {
          "length": 4,
          "values": [
           0.37818187366832384,
           0.49397582332253,
           0.2542372881355932,
           0.14492753623188406
          ],
          "vectorType": "dense"
         }
        ],
        [
         {
          "length": 4,
          "values": [
           43.20000076293945,
           16.600000381469727,
           187.0,
           2900.0
          ],
          "vectorType": "dense"
         },
         {
          "length": 4,
          "values": [
           0.40363644686612216,
           0.4096386137436415,
           0.2542372881355932,
           0.014492753623188406
          ],
          "vectorType": "dense"
         }
        ],
        [
         {
          "length": 4,
          "values": [
           44.099998474121094,
           19.700000762939453,
           196.0,
           4400.0
          ],
          "vectorType": "dense"
         },
         {
          "length": 4,
          "values": [
           0.43636363636363634,
           0.7831326270245328,
           0.4067796610169492,
           0.4492753623188406
          ],
          "vectorType": "dense"
         }
        ],
        [
         {
          "length": 4,
          "values": [
           45.20000076293945,
           16.600000381469727,
           191.0,
           3250.0
          ],
          "vectorType": "dense"
         },
         {
          "length": 4,
          "values": [
           0.47636371959339485,
           0.4096386137436415,
           0.3220338983050847,
           0.11594202898550725
          ],
          "vectorType": "dense"
         }
        ],
        [
         {
          "length": 4,
          "values": [
           45.5,
           17.0,
           196.0,
           3500.0
          ],
          "vectorType": "dense"
         },
         {
          "length": 4,
          "values": [
           0.4872727827592329,
           0.45783133776029705,
           0.4067796610169492,
           0.18840579710144928
          ],
          "vectorType": "dense"
         }
        ],
        [
         {
          "length": 4,
          "values": [
           45.599998474121094,
           19.399999618530273,
           194.0,
           3525.0
          ],
          "vectorType": "dense"
         },
         {
          "length": 4,
          "values": [
           0.4909090909090909,
           0.746987911661265,
           0.3728813559322034,
           0.1956521739130435
          ],
          "vectorType": "dense"
         }
        ],
        [
         {
          "length": 4,
          "values": [
           46.0,
           18.899999618530273,
           195.0,
           4150.0
          ],
          "vectorType": "dense"
         },
         {
          "length": 4,
          "values": [
           0.5054546009410511,
           0.6867469491901869,
           0.3898305084745763,
           0.37681159420289856
          ],
          "vectorType": "dense"
         }
        ],
        [
         {
          "length": 4,
          "values": [
           46.099998474121094,
           18.200000762939453,
           178.0,
           3250.0
          ],
          "vectorType": "dense"
         },
         {
          "length": 4,
          "values": [
           0.509090909090909,
           0.6024097396112984,
           0.1016949152542373,
           0.11594202898550725
          ],
          "vectorType": "dense"
         }
        ],
        [
         {
          "length": 4,
          "values": [
           46.20000076293945,
           17.5,
           187.0,
           3650.0
          ],
          "vectorType": "dense"
         },
         {
          "length": 4,
          "values": [
           0.5127273559570312,
           0.5180723002313752,
           0.2542372881355932,
           0.2318840579710145
          ],
          "vectorType": "dense"
         }
        ],
        [
         {
          "length": 4,
          "values": [
           46.400001525878906,
           17.799999237060547,
           191.0,
           3700.0
          ],
          "vectorType": "dense"
         },
         {
          "length": 4,
          "values": [
           0.5200001109730114,
           0.5542167857936081,
           0.3220338983050847,
           0.24637681159420288
          ],
          "vectorType": "dense"
         }
        ],
        [
         {
          "length": 4,
          "values": [
           46.400001525878906,
           18.600000381469727,
           190.0,
           3450.0
          ],
          "vectorType": "dense"
         },
         {
          "length": 4,
          "values": [
           0.5200001109730114,
           0.6506024636279539,
           0.3050847457627119,
           0.17391304347826086
          ],
          "vectorType": "dense"
         }
        ],
        [
         {
          "length": 4,
          "values": [
           46.5,
           17.899999618530273,
           192.0,
           3500.0
          ],
          "vectorType": "dense"
         },
         {
          "length": 4,
          "values": [
           0.5236364191228693,
           0.5662650242480307,
           0.3389830508474576,
           0.18840579710144928
          ],
          "vectorType": "dense"
         }
        ],
        [
         {
          "length": 4,
          "values": [
           46.599998474121094,
           17.799999237060547,
           193.0,
           3800.0
          ],
          "vectorType": "dense"
         },
         {
          "length": 4,
          "values": [
           0.5272727272727272,
           0.5542167857936081,
           0.3559322033898305,
           0.2753623188405797
          ],
          "vectorType": "dense"
         }
        ],
        [
         {
          "length": 4,
          "values": [
           46.70000076293945,
           17.899999618530273,
           195.0,
           3300.0
          ],
          "vectorType": "dense"
         },
         {
          "length": 4,
          "values": [
           0.5309091741388494,
           0.5662650242480307,
           0.3898305084745763,
           0.13043478260869565
          ],
          "vectorType": "dense"
         }
        ],
        [
         {
          "length": 4,
          "values": [
           46.79999923706055,
           16.5,
           189.0,
           3650.0
          ],
          "vectorType": "dense"
         },
         {
          "length": 4,
          "values": [
           0.5345454822887074,
           0.397590375289219,
           0.288135593220339,
           0.2318840579710145
          ],
          "vectorType": "dense"
         }
        ],
        [
         {
          "length": 4,
          "values": [
           47.0,
           17.299999237060547,
           185.0,
           3700.0
          ],
          "vectorType": "dense"
         },
         {
          "length": 4,
          "values": [
           0.5418182373046875,
           0.49397582332253,
           0.22033898305084745,
           0.24637681159420288
          ],
          "vectorType": "dense"
         }
        ],
        [
         {
          "length": 4,
          "values": [
           47.5,
           16.799999237060547,
           199.0,
           3900.0
          ],
          "vectorType": "dense"
         },
         {
          "length": 4,
          "values": [
           0.5600000554865057,
           0.4337348608514519,
           0.4576271186440678,
           0.30434782608695654
          ],
          "vectorType": "dense"
         }
        ],
        [
         {
          "length": 4,
          "values": [
           47.599998474121094,
           18.299999237060547,
           195.0,
           3850.0
          ],
          "vectorType": "dense"
         },
         {
          "length": 4,
          "values": [
           0.5636363636363636,
           0.6144577482646862,
           0.3898305084745763,
           0.2898550724637681
          ],
          "vectorType": "dense"
         }
        ],
        [
         {
          "length": 4,
          "values": [
           48.099998474121094,
           16.399999618530273,
           199.0,
           3325.0
          ],
          "vectorType": "dense"
         },
         {
          "length": 4,
          "values": [
           0.5818181818181818,
           0.3855421368347964,
           0.4576271186440678,
           0.13768115942028986
          ],
          "vectorType": "dense"
         }
        ],
        [
         {
          "length": 4,
          "values": [
           48.5,
           17.5,
           191.0,
           3400.0
          ],
          "vectorType": "dense"
         },
         {
          "length": 4,
          "values": [
           0.596363691850142,
           0.5180723002313752,
           0.3220338983050847,
           0.15942028985507245
          ],
          "vectorType": "dense"
         }
        ],
        [
         {
          "length": 4,
          "values": [
           49.0,
           19.600000381469727,
           212.0,
           4300.0
          ],
          "vectorType": "dense"
         },
         {
          "length": 4,
          "values": [
           0.6145455100319602,
           0.7710843885701102,
           0.6779661016949152,
           0.42028985507246375
          ],
          "vectorType": "dense"
         }
        ],
        [
         {
          "length": 4,
          "values": [
           49.20000076293945,
           18.200000762939453,
           195.0,
           4400.0
          ],
          "vectorType": "dense"
         },
         {
          "length": 4,
          "values": [
           0.6218182650479404,
           0.6024097396112984,
           0.3898305084745763,
           0.4492753623188406
          ],
          "vectorType": "dense"
         }
        ],
        [
         {
          "length": 4,
          "values": [
           49.29999923706055,
           19.899999618530273,
           203.0,
           4050.0
          ],
          "vectorType": "dense"
         },
         {
          "length": 4,
          "values": [
           0.6254545731977983,
           0.8072288741323431,
           0.5254237288135594,
           0.34782608695652173
          ],
          "vectorType": "dense"
         }
        ],
        [
         {
          "length": 4,
          "values": [
           49.5,
           19.0,
           200.0,
           3800.0
          ],
          "vectorType": "dense"
         },
         {
          "length": 4,
          "values": [
           0.6327273282137784,
           0.6987951876446095,
           0.4745762711864407,
           0.2753623188405797
          ],
          "vectorType": "dense"
         }
        ],
        [
         {
          "length": 4,
          "values": [
           49.599998474121094,
           18.200000762939453,
           193.0,
           3775.0
          ],
          "vectorType": "dense"
         },
         {
          "length": 4,
          "values": [
           0.6363636363636364,
           0.6024097396112984,
           0.3559322033898305,
           0.2681159420289855
          ],
          "vectorType": "dense"
         }
        ],
        [
         {
          "length": 4,
          "values": [
           49.79999923706055,
           17.299999237060547,
           198.0,
           3675.0
          ],
          "vectorType": "dense"
         },
         {
          "length": 4,
          "values": [
           0.6436363913796165,
           0.49397582332253,
           0.4406779661016949,
           0.2391304347826087
          ],
          "vectorType": "dense"
         }
        ],
        [
         {
          "length": 4,
          "values": [
           50.099998474121094,
           17.899999618530273,
           190.0,
           3400.0
          ],
          "vectorType": "dense"
         },
         {
          "length": 4,
          "values": [
           0.6545454545454545,
           0.5662650242480307,
           0.3050847457627119,
           0.15942028985507245
          ],
          "vectorType": "dense"
         }
        ],
        [
         {
          "length": 4,
          "values": [
           50.29999923706055,
           20.0,
           197.0,
           3300.0
          ],
          "vectorType": "dense"
         },
         {
          "length": 4,
          "values": [
           0.6618182095614347,
           0.8192771125867657,
           0.423728813559322,
           0.13043478260869565
          ],
          "vectorType": "dense"
         }
        ],
        [
         {
          "length": 4,
          "values": [
           50.5,
           19.600000381469727,
           201.0,
           4050.0
          ],
          "vectorType": "dense"
         },
         {
          "length": 4,
          "values": [
           0.6690909645774148,
           0.7710843885701102,
           0.4915254237288136,
           0.34782608695652173
          ],
          "vectorType": "dense"
         }
        ],
        [
         {
          "length": 4,
          "values": [
           50.79999923706055,
           18.5,
           201.0,
           4450.0
          ],
          "vectorType": "dense"
         },
         {
          "length": 4,
          "values": [
           0.6800000277432529,
           0.6385542251735313,
           0.4915254237288136,
           0.463768115942029
          ],
          "vectorType": "dense"
         }
        ],
        [
         {
          "length": 4,
          "values": [
           50.79999923706055,
           19.0,
           210.0,
           4100.0
          ],
          "vectorType": "dense"
         },
         {
          "length": 4,
          "values": [
           0.6800000277432529,
           0.6987951876446095,
           0.6440677966101694,
           0.36231884057971014
          ],
          "vectorType": "dense"
         }
        ],
        [
         {
          "length": 4,
          "values": [
           50.900001525878906,
           19.100000381469727,
           196.0,
           3550.0
          ],
          "vectorType": "dense"
         },
         {
          "length": 4,
          "values": [
           0.6836364746093749,
           0.7108434260990321,
           0.4067796610169492,
           0.20289855072463767
          ],
          "vectorType": "dense"
         }
        ],
        [
         {
          "length": 4,
          "values": [
           51.0,
           18.799999237060547,
           203.0,
           4100.0
          ],
          "vectorType": "dense"
         },
         {
          "length": 4,
          "values": [
           0.6872727827592329,
           0.6746987107357643,
           0.5254237288135594,
           0.36231884057971014
          ],
          "vectorType": "dense"
         }
        ],
        [
         {
          "length": 4,
          "values": [
           51.29999923706055,
           18.200000762939453,
           197.0,
           3750.0
          ],
          "vectorType": "dense"
         },
         {
          "length": 4,
          "values": [
           0.698181845925071,
           0.6024097396112984,
           0.423728813559322,
           0.2608695652173913
          ],
          "vectorType": "dense"
         }
        ],
        [
         {
          "length": 4,
          "values": [
           51.29999923706055,
           19.200000762939453,
           193.0,
           3650.0
          ],
          "vectorType": "dense"
         },
         {
          "length": 4,
          "values": [
           0.698181845925071,
           0.7228916645534547,
           0.3559322033898305,
           0.2318840579710145
          ],
          "vectorType": "dense"
         }
        ],
        [
         {
          "length": 4,
          "values": [
           51.400001525878906,
           19.0,
           201.0,
           3950.0
          ],
          "vectorType": "dense"
         },
         {
          "length": 4,
          "values": [
           0.7018182927911931,
           0.6987951876446095,
           0.4915254237288136,
           0.3188405797101449
          ],
          "vectorType": "dense"
         }
        ],
        [
         {
          "length": 4,
          "values": [
           51.5,
           18.700000762939453,
           187.0,
           3250.0
          ],
          "vectorType": "dense"
         },
         {
          "length": 4,
          "values": [
           0.7054546009410511,
           0.6626507020823765,
           0.2542372881355932,
           0.11594202898550725
          ],
          "vectorType": "dense"
         }
        ],
        [
         {
          "length": 4,
          "values": [
           52.0,
           19.0,
           197.0,
           4150.0
          ],
          "vectorType": "dense"
         },
         {
          "length": 4,
          "values": [
           0.7236364191228692,
           0.6987951876446095,
           0.423728813559322,
           0.37681159420289856
          ],
          "vectorType": "dense"
         }
        ],
        [
         {
          "length": 4,
          "values": [
           52.0,
           20.700000762939453,
           210.0,
           4800.0
          ],
          "vectorType": "dense"
         },
         {
          "length": 4,
          "values": [
           0.7236364191228692,
           0.9036145519666889,
           0.6440677966101694,
           0.5652173913043478
          ],
          "vectorType": "dense"
         }
        ],
        [
         {
          "length": 4,
          "values": [
           52.70000076293945,
           19.799999237060547,
           197.0,
           3725.0
          ],
          "vectorType": "dense"
         },
         {
          "length": 4,
          "values": [
           0.7490909923206676,
           0.7951806356779205,
           0.423728813559322,
           0.2536231884057971
          ],
          "vectorType": "dense"
         }
        ],
        [
         {
          "length": 4,
          "values": [
           52.79999923706055,
           20.0,
           205.0,
           4550.0
          ],
          "vectorType": "dense"
         },
         {
          "length": 4,
          "values": [
           0.7527273004705255,
           0.8192771125867657,
           0.559322033898305,
           0.49275362318840576
          ],
          "vectorType": "dense"
         }
        ],
        [
         {
          "length": 4,
          "values": [
           53.5,
           19.899999618530273,
           205.0,
           4500.0
          ],
          "vectorType": "dense"
         },
         {
          "length": 4,
          "values": [
           0.7781818736683238,
           0.8072288741323431,
           0.559322033898305,
           0.4782608695652174
          ],
          "vectorType": "dense"
         }
        ],
        [
         {
          "length": 4,
          "values": [
           54.20000076293945,
           20.799999237060547,
           201.0,
           4300.0
          ],
          "vectorType": "dense"
         },
         {
          "length": 4,
          "values": [
           0.8036364468661221,
           0.9156625606200767,
           0.4915254237288136,
           0.42028985507246375
          ],
          "vectorType": "dense"
         }
        ],
        [
         {
          "length": 4,
          "values": [
           58.0,
           17.799999237060547,
           181.0,
           3700.0
          ],
          "vectorType": "dense"
         },
         {
          "length": 4,
          "values": [
           0.9418182373046875,
           0.5542167857936081,
           0.15254237288135594,
           0.24637681159420288
          ],
          "vectorType": "dense"
         }
        ],
        [
         {
          "length": 4,
          "values": [
           33.5,
           19.0,
           190.0,
           3600.0
          ],
          "vectorType": "dense"
         },
         {
          "length": 4,
          "values": [
           0.050909146395596586,
           0.6987951876446095,
           0.3050847457627119,
           0.21739130434782608
          ],
          "vectorType": "dense"
         }
        ],
        [
         {
          "length": 4,
          "values": [
           34.400001525878906,
           18.399999618530273,
           184.0,
           3325.0
          ],
          "vectorType": "dense"
         },
         {
          "length": 4,
          "values": [
           0.083636474609375,
           0.6265059867191087,
           0.2033898305084746,
           0.13768115942028986
          ],
          "vectorType": "dense"
         }
        ],
        [
         {
          "length": 4,
          "values": [
           34.599998474121094,
           21.100000381469727,
           198.0,
           4400.0
          ],
          "vectorType": "dense"
         },
         {
          "length": 4,
          "values": [
           0.09090909090909091,
           0.9518072759833445,
           0.4406779661016949,
           0.4492753623188406
          ],
          "vectorType": "dense"
         }
        ],
        [
         {
          "length": 4,
          "values": [
           35.20000076293945,
           15.899999618530273,
           186.0,
           3050.0
          ],
          "vectorType": "dense"
         },
         {
          "length": 4,
          "values": [
           0.11272735595703125,
           0.32530117436371825,
           0.23728813559322035,
           0.057971014492753624
          ],
          "vectorType": "dense"
         }
        ],
        [
         {
          "length": 4,
          "values": [
           35.5,
           17.5,
           190.0,
           3700.0
          ],
          "vectorType": "dense"
         },
         {
          "length": 4,
          "values": [
           0.12363641912286931,
           0.5180723002313752,
           0.3050847457627119,
           0.24637681159420288
          ],
          "vectorType": "dense"
         }
        ],
        [
         {
          "length": 4,
          "values": [
           35.70000076293945,
           17.0,
           189.0,
           3350.0
          ],
          "vectorType": "dense"
         },
         {
          "length": 4,
          "values": [
           0.13090917413884942,
           0.45783133776029705,
           0.288135593220339,
           0.14492753623188406
          ],
          "vectorType": "dense"
         }
        ],
        [
         {
          "length": 4,
          "values": [
           36.20000076293945,
           16.100000381469727,
           187.0,
           3550.0
          ],
          "vectorType": "dense"
         },
         {
          "length": 4,
          "values": [
           0.1490909923206676,
           0.34939765127256345,
           0.2542372881355932,
           0.20289855072463767
          ],
          "vectorType": "dense"
         }
        ],
        [
         {
          "length": 4,
          "values": [
           36.70000076293945,
           19.299999237060547,
           193.0,
           3450.0
          ],
          "vectorType": "dense"
         },
         {
          "length": 4,
          "values": [
           0.1672728105024858,
           0.7349396732068424,
           0.3559322033898305,
           0.17391304347826086
          ],
          "vectorType": "dense"
         }
        ],
        [
         {
          "length": 4,
          "values": [
           37.20000076293945,
           19.399999618530273,
           184.0,
           3900.0
          ],
          "vectorType": "dense"
         },
         {
          "length": 4,
          "values": [
           0.18545462868430396,
           0.746987911661265,
           0.2033898305084746,
           0.30434782608695654
          ],
          "vectorType": "dense"
         }
        ],
        [
         {
          "length": 4,
          "values": [
           37.70000076293945,
           19.799999237060547,
           198.0,
           3500.0
          ],
          "vectorType": "dense"
         },
         {
          "length": 4,
          "values": [
           0.20363644686612214,
           0.7951806356779205,
           0.4406779661016949,
           0.18840579710144928
          ],
          "vectorType": "dense"
         }
        ],
        [
         {
          "length": 4,
          "values": [
           37.79999923706055,
           17.100000381469727,
           186.0,
           3300.0
          ],
          "vectorType": "dense"
         },
         {
          "length": 4,
          "values": [
           0.2072727550159801,
           0.46987957621471965,
           0.23728813559322035,
           0.13043478260869565
          ],
          "vectorType": "dense"
         }
        ],
        [
         {
          "length": 4,
          "values": [
           38.70000076293945,
           19.0,
           195.0,
           3450.0
          ],
          "vectorType": "dense"
         },
         {
          "length": 4,
          "values": [
           0.24000008322975852,
           0.6987951876446095,
           0.3898305084745763,
           0.17391304347826086
          ],
          "vectorType": "dense"
         }
        ],
        [
         {
          "length": 4,
          "values": [
           38.79999923706055,
           17.600000381469727,
           191.0,
           3275.0
          ],
          "vectorType": "dense"
         },
         {
          "length": 4,
          "values": [
           0.24363639137961646,
           0.5301205386857978,
           0.3220338983050847,
           0.12318840579710144
          ],
          "vectorType": "dense"
         }
        ],
        [
         {
          "length": 4,
          "values": [
           38.900001525878906,
           17.799999237060547,
           181.0,
           3625.0
          ],
          "vectorType": "dense"
         },
         {
          "length": 4,
          "values": [
           0.24727283824573862,
           0.5542167857936081,
           0.15254237288135594,
           0.2246376811594203
          ],
          "vectorType": "dense"
         }
        ],
        [
         {
          "length": 4,
          "values": [
           39.0,
           17.100000381469727,
           191.0,
           3050.0
          ],
          "vectorType": "dense"
         },
         {
          "length": 4,
          "values": [
           0.2509091463955966,
           0.46987957621471965,
           0.3220338983050847,
           0.057971014492753624
          ],
          "vectorType": "dense"
         }
        ],
        [
         {
          "length": 4,
          "values": [
           39.099998474121094,
           18.700000762939453,
           181.0,
           3750.0
          ],
          "vectorType": "dense"
         },
         {
          "length": 4,
          "values": [
           0.2545454545454545,
           0.6626507020823765,
           0.15254237288135594,
           0.2608695652173913
          ],
          "vectorType": "dense"
         }
        ],
        [
         {
          "length": 4,
          "values": [
           39.20000076293945,
           19.600000381469727,
           195.0,
           4675.0
          ],
          "vectorType": "dense"
         },
         {
          "length": 4,
          "values": [
           0.2581819014115767,
           0.7710843885701102,
           0.3898305084745763,
           0.5289855072463768
          ],
          "vectorType": "dense"
         }
        ],
        [
         {
          "length": 4,
          "values": [
           39.599998474121094,
           17.200000762939453,
           196.0,
           3550.0
          ],
          "vectorType": "dense"
         },
         {
          "length": 4,
          "values": [
           0.2727272727272727,
           0.48192781466914225,
           0.4067796610169492,
           0.20289855072463767
          ],
          "vectorType": "dense"
         }
        ],
        [
         {
          "length": 4,
          "values": [
           40.29999923706055,
           18.0,
           195.0,
           3250.0
          ],
          "vectorType": "dense"
         },
         {
          "length": 4,
          "values": [
           0.298181845925071,
           0.5783132627024533,
           0.3898305084745763,
           0.11594202898550725
          ],
          "vectorType": "dense"
         }
        ],
        [
         {
          "length": 4,
          "values": [
           40.900001525878906,
           16.799999237060547,
           191.0,
           3700.0
          ],
          "vectorType": "dense"
         },
         {
          "length": 4,
          "values": [
           0.32000011097301134,
           0.4337348608514519,
           0.3220338983050847,
           0.24637681159420288
          ],
          "vectorType": "dense"
         }
        ],
        [
         {
          "length": 4,
          "values": [
           41.099998474121094,
           17.600000381469727,
           182.0,
           3200.0
          ],
          "vectorType": "dense"
         },
         {
          "length": 4,
          "values": [
           0.32727272727272727,
           0.5301205386857978,
           0.1694915254237288,
           0.10144927536231883
          ],
          "vectorType": "dense"
         }
        ],
        [
         {
          "length": 4,
          "values": [
           41.099998474121094,
           18.600000381469727,
           189.0,
           3325.0
          ],
          "vectorType": "dense"
         },
         {
          "length": 4,
          "values": [
           0.32727272727272727,
           0.6506024636279539,
           0.288135593220339,
           0.13768115942028986
          ],
          "vectorType": "dense"
         }
        ],
        [
         {
          "length": 4,
          "values": [
           41.400001525878906,
           18.5,
           202.0,
           3875.0
          ],
          "vectorType": "dense"
         },
         {
          "length": 4,
          "values": [
           0.33818192915482953,
           0.6385542251735313,
           0.5084745762711864,
           0.2971014492753623
          ],
          "vectorType": "dense"
         }
        ],
        [
         {
          "length": 4,
          "values": [
           41.5,
           18.299999237060547,
           195.0,
           4300.0
          ],
          "vectorType": "dense"
         },
         {
          "length": 4,
          "values": [
           0.34181823730468747,
           0.6144577482646862,
           0.3898305084745763,
           0.42028985507246375
          ],
          "vectorType": "dense"
         }
        ],
        [
         {
          "length": 4,
          "values": [
           41.79999923706055,
           19.399999618530273,
           198.0,
           4450.0
          ],
          "vectorType": "dense"
         },
         {
          "length": 4,
          "values": [
           0.35272730047052553,
           0.746987911661265,
           0.4406779661016949,
           0.463768115942029
          ],
          "vectorType": "dense"
         }
        ],
        [
         {
          "length": 4,
          "values": [
           42.0,
           20.200000762939453,
           190.0,
           4250.0
          ],
          "vectorType": "dense"
         },
         {
          "length": 4,
          "values": [
           0.36000005548650565,
           0.8433735894956108,
           0.3050847457627119,
           0.40579710144927533
          ],
          "vectorType": "dense"
         }
        ],
        [
         {
          "length": 4,
          "values": [
           42.099998474121094,
           19.100000381469727,
           195.0,
           4000.0
          ],
          "vectorType": "dense"
         },
         {
          "length": 4,
          "values": [
           0.36363636363636365,
           0.7108434260990321,
           0.3898305084745763,
           0.3333333333333333
          ],
          "vectorType": "dense"
         }
        ],
        [
         {
          "length": 4,
          "values": [
           42.5,
           20.700000762939453,
           197.0,
           4500.0
          ],
          "vectorType": "dense"
         },
         {
          "length": 4,
          "values": [
           0.37818187366832384,
           0.9036145519666889,
           0.423728813559322,
           0.4782608695652174
          ],
          "vectorType": "dense"
         }
        ],
        [
         {
          "length": 4,
          "values": [
           42.79999923706055,
           18.5,
           195.0,
           4250.0
          ],
          "vectorType": "dense"
         },
         {
          "length": 4,
          "values": [
           0.3890909368341619,
           0.6385542251735313,
           0.3898305084745763,
           0.40579710144927533
          ],
          "vectorType": "dense"
         }
        ],
        [
         {
          "length": 4,
          "values": [
           42.900001525878906,
           17.600000381469727,
           196.0,
           4700.0
          ],
          "vectorType": "dense"
         },
         {
          "length": 4,
          "values": [
           0.3927273837002841,
           0.5301205386857978,
           0.4067796610169492,
           0.536231884057971
          ],
          "vectorType": "dense"
         }
        ],
        [
         {
          "length": 4,
          "values": [
           44.099998474121094,
           18.0,
           210.0,
           4000.0
          ],
          "vectorType": "dense"
         },
         {
          "length": 4,
          "values": [
           0.43636363636363634,
           0.5783132627024533,
           0.6440677966101694,
           0.3333333333333333
          ],
          "vectorType": "dense"
         }
        ],
        [
         {
          "length": 4,
          "values": [
           46.0,
           21.5,
           194.0,
           4200.0
          ],
          "vectorType": "dense"
         },
         {
          "length": 4,
          "values": [
           0.5054546009410511,
           1.0,
           0.3728813559322034,
           0.391304347826087
          ],
          "vectorType": "dense"
         }
        ]
       ],
       "datasetInfos": [],
       "dbfsResultPath": null,
       "isJsonSchema": true,
       "metadata": {},
       "overflow": false,
       "plotOptions": {
        "customPlotOptions": {},
        "displayType": "table",
        "pivotAggregation": null,
        "pivotColumns": null,
        "xColumns": null,
        "yColumns": null
       },
       "removedWidgets": [],
       "schema": [
        {
         "metadata": "{\"ml_attr\":{\"attrs\":{\"numeric\":[{\"idx\":0,\"name\":\"CulmenLength\"},{\"idx\":1,\"name\":\"CulmenDepth\"},{\"idx\":2,\"name\":\"FlipperLength\"},{\"idx\":3,\"name\":\"BodyMass\"}]},\"num_attrs\":4}}",
         "name": "numericFeatures",
         "type": "{\"type\":\"udt\",\"class\":\"org.apache.spark.ml.linalg.VectorUDT\",\"pyClass\":\"pyspark.ml.linalg.VectorUDT\",\"sqlType\":{\"type\":\"struct\",\"fields\":[{\"name\":\"type\",\"type\":\"byte\",\"nullable\":false,\"metadata\":{}},{\"name\":\"size\",\"type\":\"integer\",\"nullable\":true,\"metadata\":{}},{\"name\":\"indices\",\"type\":{\"type\":\"array\",\"elementType\":\"integer\",\"containsNull\":false},\"nullable\":true,\"metadata\":{}},{\"name\":\"values\",\"type\":{\"type\":\"array\",\"elementType\":\"double\",\"containsNull\":false},\"nullable\":true,\"metadata\":{}}]}}"
        },
        {
         "metadata": "{\"ml_attr\":{\"num_attrs\":4}}",
         "name": "normalizedFeatures",
         "type": "{\"type\":\"udt\",\"class\":\"org.apache.spark.ml.linalg.VectorUDT\",\"pyClass\":\"pyspark.ml.linalg.VectorUDT\",\"sqlType\":{\"type\":\"struct\",\"fields\":[{\"name\":\"type\",\"type\":\"byte\",\"nullable\":false,\"metadata\":{}},{\"name\":\"size\",\"type\":\"integer\",\"nullable\":true,\"metadata\":{}},{\"name\":\"indices\",\"type\":{\"type\":\"array\",\"elementType\":\"integer\",\"containsNull\":false},\"nullable\":true,\"metadata\":{}},{\"name\":\"values\",\"type\":{\"type\":\"array\",\"elementType\":\"double\",\"containsNull\":false},\"nullable\":true,\"metadata\":{}}]}}"
        }
       ],
       "type": "table"
      }
     },
     "output_type": "display_data"
    }
   ],
   "source": [
    "from pyspark.ml.feature import VectorAssembler, MinMaxScaler\n",
    "\n",
    "# Create a vector column containing all numeric features\n",
    "numericFeatures = [\"CulmenLength\", \"CulmenDepth\", \"FlipperLength\", \"BodyMass\"]\n",
    "numericColVector = VectorAssembler(inputCols=numericFeatures, outputCol=\"numericFeatures\")\n",
    "vectorizedData = numericColVector.transform(indexedData)\n",
    "\n",
    "# Use a MinMax scaler to normalize the numeric values in the vector\n",
    "minMax = MinMaxScaler(inputCol = numericColVector.getOutputCol(), outputCol=\"normalizedFeatures\")\n",
    "scaledData = minMax.fit(vectorizedData).transform(vectorizedData)\n",
    "\n",
    "# Display the data with numeric feature vectors (before and after scaling)\n",
    "compareNumerics = scaledData.select(\"numericFeatures\", \"normalizedFeatures\")\n",
    "display(compareNumerics)"
   ]
  },
  {
   "cell_type": "code",
   "execution_count": 0,
   "metadata": {
    "application/vnd.databricks.v1+cell": {
     "cellMetadata": {
      "byteLimit": 2048000,
      "rowLimit": 10000
     },
     "inputWidgets": {},
     "nuid": "a1a65050-afee-4240-9887-d00640d186dd",
     "showTitle": false,
     "title": ""
    }
   },
   "outputs": [
    {
     "output_type": "display_data",
     "data": {
      "text/html": [
       "<style scoped>\n",
       "  .table-result-container {\n",
       "    max-height: 300px;\n",
       "    overflow: auto;\n",
       "  }\n",
       "  table, th, td {\n",
       "    border: 1px solid black;\n",
       "    border-collapse: collapse;\n",
       "  }\n",
       "  th, td {\n",
       "    padding: 5px;\n",
       "  }\n",
       "  th {\n",
       "    text-align: left;\n",
       "  }\n",
       "</style><div class='table-result-container'><table class='table-result'><thead style='background-color: white'><tr><th>features</th><th>label</th></tr></thead><tbody><tr><td>Map(vectorType -> dense, length -> 5, values -> List(0.0, 0.08727278275923295, 0.5903615011568758, 0.2542372881355932, 0.014492753623188406))</td><td>0</td></tr><tr><td>Map(vectorType -> dense, length -> 5, values -> List(0.0, 0.10545460094105114, 0.5662650242480307, 0.3050847457627119, 0.17391304347826086))</td><td>0</td></tr><tr><td>Map(vectorType -> dense, length -> 5, values -> List(0.0, 0.10545460094105114, 0.5662650242480307, 0.3389830508474576, 0.2536231884057971))</td><td>0</td></tr><tr><td>Map(vectorType -> dense, length -> 5, values -> List(0.0, 0.1163636641068892, 0.6867469491901869, 0.2542372881355932, 0.2753623188405797))</td><td>0</td></tr><tr><td>Map(vectorType -> dense, length -> 5, values -> List(0.0, 0.12363641912286931, 0.36144588972698605, 0.3898305084745763, 0.14492753623188406))</td><td>0</td></tr><tr><td>Map(vectorType -> dense, length -> 5, values -> List(0.0, 0.13090917413884942, 0.44578309930587445, 0.22033898305084745, 0.08695652173913043))</td><td>0</td></tr><tr><td>Map(vectorType -> dense, length -> 5, values -> List(0.0, 0.1563637473366477, 0.46987957621471965, 0.2033898305084746, 0.0))</td><td>0</td></tr><tr><td>Map(vectorType -> dense, length -> 5, values -> List(0.0, 0.16000005548650567, 0.4096386137436415, 0.15254237288135594, 0.0))</td><td>0</td></tr><tr><td>Map(vectorType -> dense, length -> 5, values -> List(0.0, 0.19999999999999998, 0.7108434260990321, 0.3728813559322034, 0.2608695652173913))</td><td>0</td></tr><tr><td>Map(vectorType -> dense, length -> 5, values -> List(0.0, 0.20363644686612214, 0.33734941281814085, 0.1864406779661017, 0.06521739130434782))</td><td>0</td></tr><tr><td>Map(vectorType -> dense, length -> 5, values -> List(0.0, 0.20363644686612214, 0.6626507020823765, 0.13559322033898305, 0.21739130434782608))</td><td>0</td></tr><tr><td>Map(vectorType -> dense, length -> 5, values -> List(0.0, 0.21090920188210227, 0.6506024636279539, 0.0, 0.08695652173913043))</td><td>0</td></tr><tr><td>Map(vectorType -> dense, length -> 5, values -> List(0.0, 0.22181826504794033, 0.5903615011568758, 0.22033898305084745, 0.3188405797101449))</td><td>0</td></tr><tr><td>Map(vectorType -> dense, length -> 5, values -> List(0.0, 0.22181826504794033, 0.8192771125867657, 0.3050847457627119, 0.30434782608695654))</td><td>0</td></tr><tr><td>Map(vectorType -> dense, length -> 5, values -> List(0.0, 0.23636363636363636, 0.48192781466914225, 0.4576271186440678, 0.2608695652173913))</td><td>0</td></tr><tr><td>Map(vectorType -> dense, length -> 5, values -> List(0.0, 0.2509091463955966, 0.5180723002313752, 0.23728813559322035, 0.20289855072463767))</td><td>0</td></tr><tr><td>Map(vectorType -> dense, length -> 5, values -> List(0.0, 0.2727272727272727, 0.9036145519666889, 0.3220338983050847, 0.30434782608695654))</td><td>0</td></tr><tr><td>Map(vectorType -> dense, length -> 5, values -> List(0.0, 0.2763637195933949, 0.5421687771402204, 0.3559322033898305, 0.10144927536231883))</td><td>0</td></tr><tr><td>Map(vectorType -> dense, length -> 5, values -> List(0.0, 0.2763637195933949, 0.6867469491901869, 0.2033898305084746, 0.20289855072463767))</td><td>0</td></tr><tr><td>Map(vectorType -> dense, length -> 5, values -> List(0.0, 0.2909090909090909, 0.6867469491901869, 0.2711864406779661, 0.42028985507246375))</td><td>0</td></tr><tr><td>Map(vectorType -> dense, length -> 5, values -> List(0.0, 0.30545460094105115, 0.5662650242480307, 0.2542372881355932, 0.10144927536231883))</td><td>0</td></tr><tr><td>Map(vectorType -> dense, length -> 5, values -> List(0.0, 0.30545460094105115, 0.6867469491901869, 0.13559322033898305, 0.3188405797101449))</td><td>0</td></tr><tr><td>Map(vectorType -> dense, length -> 5, values -> List(0.0, 0.3236364191228693, 0.8192771125867657, 0.5254237288135594, 0.5434782608695652))</td><td>0</td></tr><tr><td>Map(vectorType -> dense, length -> 5, values -> List(0.0, 0.32727272727272727, 0.6024097396112984, 0.3389830508474576, 0.34782608695652173))</td><td>0</td></tr><tr><td>Map(vectorType -> dense, length -> 5, values -> List(0.0, 0.32727272727272727, 0.7108434260990321, 0.2711864406779661, 0.36231884057971014))</td><td>0</td></tr><tr><td>Map(vectorType -> dense, length -> 5, values -> List(0.0, 0.3345454822887074, 0.9518072759833445, 0.3898305084745763, 0.4492753623188406))</td><td>0</td></tr><tr><td>Map(vectorType -> dense, length -> 5, values -> List(0.0, 0.34545454545454546, 0.5783132627024533, 0.3389830508474576, 0.3188405797101449))</td><td>0</td></tr><tr><td>Map(vectorType -> dense, length -> 5, values -> List(0.0, 0.3490909923206676, 0.1807228874132343, 0.6440677966101694, 0.536231884057971))</td><td>1</td></tr><tr><td>Map(vectorType -> dense, length -> 5, values -> List(0.0, 0.3672728105024858, 0.7590361501156876, 0.423728813559322, 0.41304347826086957))</td><td>0</td></tr><tr><td>Map(vectorType -> dense, length -> 5, values -> List(0.0, 0.3818181818181818, 0.0602409624710781, 0.6949152542372882, 0.6086956521739131))</td><td>1</td></tr><tr><td>Map(vectorType -> dense, length -> 5, values -> List(0.0, 0.38545462868430397, 0.6144577482646862, 0.4067796610169492, 0.3550724637681159))</td><td>0</td></tr><tr><td>Map(vectorType -> dense, length -> 5, values -> List(0.0, 0.3890909368341619, 0.1204819249421562, 0.6271186440677966, 0.536231884057971))</td><td>1</td></tr><tr><td>Map(vectorType -> dense, length -> 5, values -> List(0.0, 0.40363644686612216, 0.15662652540490654, 0.6101694915254238, 0.463768115942029))</td><td>1</td></tr><tr><td>Map(vectorType -> dense, length -> 5, values -> List(0.0, 0.40363644686612216, 0.6987951876446095, 0.423728813559322, 0.5579710144927537))</td><td>0</td></tr><tr><td>Map(vectorType -> dense, length -> 5, values -> List(0.0, 0.4072727550159801, 0.09638556293382844, 0.6101694915254238, 0.5))</td><td>1</td></tr><tr><td>Map(vectorType -> dense, length -> 5, values -> List(0.0, 0.4109092018821022, 0.14457828695048397, 0.7796610169491526, 0.5072463768115942))</td><td>1</td></tr><tr><td>Map(vectorType -> dense, length -> 5, values -> List(0.0, 0.4145455100319602, 0.2409638498843124, 0.6949152542372882, 0.5217391304347826))</td><td>1</td></tr><tr><td>Map(vectorType -> dense, length -> 5, values -> List(0.0, 0.4254545731977983, 0.08433732447940587, 0.6101694915254238, 0.42028985507246375))</td><td>1</td></tr><tr><td>Map(vectorType -> dense, length -> 5, values -> List(0.0, 0.4472728382457386, 0.49397582332253, 0.7966101694915254, 0.6956521739130435))</td><td>1</td></tr><tr><td>Map(vectorType -> dense, length -> 5, values -> List(0.0, 0.4509091463955966, 0.13253016339657878, 0.7457627118644068, 0.36231884057971014))</td><td>1</td></tr><tr><td>Map(vectorType -> dense, length -> 5, values -> List(0.0, 0.4509091463955966, 0.1807228874132343, 0.711864406779661, 0.5797101449275363))</td><td>1</td></tr><tr><td>Map(vectorType -> dense, length -> 5, values -> List(0.0, 0.4509091463955966, 0.30120481235539054, 0.7627118644067796, 0.5869565217391304))</td><td>1</td></tr><tr><td>Map(vectorType -> dense, length -> 5, values -> List(0.0, 0.4654546564275568, 0.07228920092550069, 0.6779661016949152, 0.5507246376811594))</td><td>1</td></tr><tr><td>Map(vectorType -> dense, length -> 5, values -> List(0.0, 0.4690909645774147, 0.2650602118926402, 0.8135593220338984, 0.6376811594202898))</td><td>1</td></tr><tr><td>Map(vectorType -> dense, length -> 5, values -> List(0.0, 0.4727272727272727, 0.15662652540490654, 0.5932203389830508, 0.6376811594202898))</td><td>1</td></tr><tr><td>Map(vectorType -> dense, length -> 5, values -> List(0.0, 0.4727272727272727, 0.15662652540490654, 0.7288135593220338, 0.6231884057971014))</td><td>1</td></tr><tr><td>Map(vectorType -> dense, length -> 5, values -> List(0.0, 0.47636371959339485, 0.07228920092550069, 0.7288135593220338, 0.5507246376811594))</td><td>1</td></tr><tr><td>Map(vectorType -> dense, length -> 5, values -> List(0.0, 0.47636371959339485, 0.19277112586765688, 0.6779661016949152, 0.6811594202898551))</td><td>1</td></tr><tr><td>Map(vectorType -> dense, length -> 5, values -> List(0.0, 0.47636371959339485, 0.3132530508098131, 0.7288135593220338, 0.7101449275362318))</td><td>1</td></tr><tr><td>Map(vectorType -> dense, length -> 5, values -> List(0.0, 0.483636474609375, 0.16867476385932914, 0.6610169491525424, 0.5652173913043478))</td><td>1</td></tr><tr><td>Map(vectorType -> dense, length -> 5, values -> List(0.0, 0.4872727827592329, 0.08433732447940587, 0.6440677966101694, 0.391304347826087))</td><td>1</td></tr><tr><td>Map(vectorType -> dense, length -> 5, values -> List(0.0, 0.4872727827592329, 0.15662652540490654, 0.6779661016949152, 0.5507246376811594))</td><td>1</td></tr><tr><td>Map(vectorType -> dense, length -> 5, values -> List(0.0, 0.4909090909090909, 0.8554215981489987, 0.3220338983050847, 0.5072463768115942))</td><td>0</td></tr><tr><td>Map(vectorType -> dense, length -> 5, values -> List(0.0, 0.49454553777521304, 0.08433732447940587, 0.711864406779661, 0.4492753623188406))</td><td>1</td></tr><tr><td>Map(vectorType -> dense, length -> 5, values -> List(0.0, 0.498181845925071, 0.16867476385932914, 0.6440677966101694, 0.391304347826087))</td><td>1</td></tr><tr><td>Map(vectorType -> dense, length -> 5, values -> List(0.0, 0.509090909090909, 0.0, 0.6610169491525424, 0.4782608695652174))</td><td>1</td></tr><tr><td>Map(vectorType -> dense, length -> 5, values -> List(0.0, 0.5127273559570312, 0.10843380138825102, 0.7627118644067796, 0.44202898550724634))</td><td>1</td></tr><tr><td>Map(vectorType -> dense, length -> 5, values -> List(0.0, 0.5127273559570312, 0.15662652540490654, 0.6271186440677966, 0.5652173913043478))</td><td>1</td></tr><tr><td>Map(vectorType -> dense, length -> 5, values -> List(0.0, 0.5163636641068892, 0.3132530508098131, 0.7288135593220338, 0.6376811594202898))</td><td>1</td></tr><tr><td>Map(vectorType -> dense, length -> 5, values -> List(0.0, 0.5200001109730114, 0.21686748787598464, 0.7457627118644068, 0.536231884057971))</td><td>1</td></tr><tr><td>Map(vectorType -> dense, length -> 5, values -> List(0.0, 0.5236364191228693, 0.036144600462750344, 0.6440677966101694, 0.49275362318840576))</td><td>1</td></tr><tr><td>Map(vectorType -> dense, length -> 5, values -> List(0.0, 0.5236364191228693, 0.14457828695048397, 0.7627118644067796, 0.5942028985507246))</td><td>1</td></tr><tr><td>Map(vectorType -> dense, length -> 5, values -> List(0.0, 0.5236364191228693, 0.15662652540490654, 0.6949152542372882, 0.4492753623188406))</td><td>1</td></tr><tr><td>Map(vectorType -> dense, length -> 5, values -> List(0.0, 0.5236364191228693, 0.19277112586765688, 0.7627118644067796, 0.6811594202898551))</td><td>1</td></tr><tr><td>Map(vectorType -> dense, length -> 5, values -> List(0.0, 0.5272727272727272, 0.1204819249421562, 0.6440677966101694, 0.5797101449275363))</td><td>1</td></tr><tr><td>Map(vectorType -> dense, length -> 5, values -> List(0.0, 0.5309091741388494, 0.253012088338735, 0.7966101694915254, 0.6811594202898551))</td><td>1</td></tr><tr><td>Map(vectorType -> dense, length -> 5, values -> List(0.0, 0.5345454822887074, 0.13253016339657878, 0.7288135593220338, 0.5797101449275363))</td><td>1</td></tr><tr><td>Map(vectorType -> dense, length -> 5, values -> List(0.0, 0.5345454822887074, 0.2650602118926402, 0.7288135593220338, 0.6666666666666666))</td><td>1</td></tr><tr><td>Map(vectorType -> dense, length -> 5, values -> List(0.0, 0.5345454822887074, 0.34939765127256345, 0.7288135593220338, 0.7681159420289855))</td><td>1</td></tr><tr><td>Map(vectorType -> dense, length -> 5, values -> List(0.0, 0.5381819291548295, 0.16867476385932914, 0.847457627118644, 0.5869565217391304))</td><td>1</td></tr><tr><td>Map(vectorType -> dense, length -> 5, values -> List(0.0, 0.5490909923206676, 0.0602409624710781, 0.711864406779661, 0.6014492753623188))</td><td>1</td></tr><tr><td>Map(vectorType -> dense, length -> 5, values -> List(0.0, 0.5527273004705255, 0.07228920092550069, 0.7457627118644068, 0.5434782608695652))</td><td>1</td></tr><tr><td>Map(vectorType -> dense, length -> 5, values -> List(0.0, 0.5527273004705255, 0.253012088338735, 0.847457627118644, 0.6956521739130435))</td><td>1</td></tr><tr><td>Map(vectorType -> dense, length -> 5, values -> List(0.0, 0.5600000554865057, 0.09638556293382844, 0.6779661016949152, 0.5869565217391304))</td><td>1</td></tr><tr><td>Map(vectorType -> dense, length -> 5, values -> List(0.0, 0.5600000554865057, 0.1204819249421562, 0.6271186440677966, 0.5072463768115942))</td><td>1</td></tr><tr><td>Map(vectorType -> dense, length -> 5, values -> List(0.0, 0.5600000554865057, 0.21686748787598464, 0.7796610169491526, 0.6086956521739131))</td><td>1</td></tr><tr><td>Map(vectorType -> dense, length -> 5, values -> List(0.0, 0.5636363636363636, 0.15662652540490654, 0.7288135593220338, 0.7391304347826086))</td><td>1</td></tr><tr><td>Map(vectorType -> dense, length -> 5, values -> List(0.0, 0.5672728105024858, 0.21686748787598464, 0.7457627118644068, 0.5507246376811594))</td><td>1</td></tr><tr><td>Map(vectorType -> dense, length -> 5, values -> List(0.0, 0.5709091186523437, 0.21686748787598464, 0.7288135593220338, 0.8115942028985507))</td><td>1</td></tr><tr><td>Map(vectorType -> dense, length -> 5, values -> List(0.0, 0.5818181818181818, 0.22891572633040724, 0.6271186440677966, 0.7681159420289855))</td><td>1</td></tr><tr><td>Map(vectorType -> dense, length -> 5, values -> List(0.0, 0.585454628684304, 0.2891566888014853, 0.8305084745762712, 0.6521739130434783))</td><td>1</td></tr><tr><td>Map(vectorType -> dense, length -> 5, values -> List(0.0, 0.5927273837002841, 0.14457828695048397, 0.5254237288135594, 0.5144927536231884))</td><td>1</td></tr><tr><td>Map(vectorType -> dense, length -> 5, values -> List(0.0, 0.5927273837002841, 0.16867476385932914, 0.6949152542372882, 0.8695652173913043))</td><td>1</td></tr><tr><td>Map(vectorType -> dense, length -> 5, values -> List(0.0, 0.5927273837002841, 0.3734938983803738, 0.8135593220338984, 0.7391304347826086))</td><td>1</td></tr><tr><td>Map(vectorType -> dense, length -> 5, values -> List(0.0, 0.596363691850142, 0.10843380138825102, 0.8135593220338984, 0.7101449275362318))</td><td>1</td></tr><tr><td>Map(vectorType -> dense, length -> 5, values -> List(0.0, 0.596363691850142, 0.21686748787598464, 0.7966101694915254, 0.5797101449275363))</td><td>1</td></tr><tr><td>Map(vectorType -> dense, length -> 5, values -> List(0.0, 0.6036364468661222, 0.30120481235539054, 0.6101694915254238, 0.7246376811594203))</td><td>1</td></tr><tr><td>Map(vectorType -> dense, length -> 5, values -> List(0.0, 0.6072727550159801, 0.36144588972698605, 0.847457627118644, 0.9130434782608695))</td><td>1</td></tr><tr><td>Map(vectorType -> dense, length -> 5, values -> List(0.0, 0.6145455100319602, 0.34939765127256345, 0.7457627118644068, 0.782608695652174))</td><td>1</td></tr><tr><td>Map(vectorType -> dense, length -> 5, values -> List(0.0, 0.6181818181818182, 0.15662652540490654, 0.6779661016949152, 0.5144927536231884))</td><td>1</td></tr><tr><td>Map(vectorType -> dense, length -> 5, values -> List(0.0, 0.6181818181818182, 0.19277112586765688, 0.8135593220338984, 0.6666666666666666))</td><td>1</td></tr><tr><td>Map(vectorType -> dense, length -> 5, values -> List(0.0, 0.6181818181818182, 0.21686748787598464, 0.9491525423728814, 0.7681159420289855))</td><td>1</td></tr><tr><td>Map(vectorType -> dense, length -> 5, values -> List(0.0, 0.6218182650479404, 0.2409638498843124, 0.8305084745762712, 1.0))</td><td>1</td></tr><tr><td>Map(vectorType -> dense, length -> 5, values -> List(0.0, 0.6254545731977983, 0.30120481235539054, 0.7627118644067796, 0.8695652173913043))</td><td>1</td></tr><tr><td>Map(vectorType -> dense, length -> 5, values -> List(0.0, 0.6290910200639204, 0.3132530508098131, 0.7457627118644068, 0.6014492753623188))</td><td>1</td></tr><tr><td>Map(vectorType -> dense, length -> 5, values -> List(0.0, 0.6327273282137784, 0.36144588972698605, 0.9661016949152542, 0.855072463768116))</td><td>1</td></tr><tr><td>Map(vectorType -> dense, length -> 5, values -> List(0.0, 0.6436363913796165, 0.32530117436371825, 0.9661016949152542, 0.8985507246376812))</td><td>1</td></tr><tr><td>Map(vectorType -> dense, length -> 5, values -> List(0.0, 0.6436363913796165, 0.4337348608514519, 0.9830508474576272, 0.8260869565217391))</td><td>1</td></tr><tr><td>Map(vectorType -> dense, length -> 5, values -> List(0.0, 0.6472728382457386, 0.34939765127256345, 0.6949152542372882, 0.7391304347826086))</td><td>1</td></tr><tr><td>Map(vectorType -> dense, length -> 5, values -> List(0.0, 0.6509091463955966, 0.2409638498843124, 0.7796610169491526, 0.8260869565217391))</td><td>1</td></tr><tr><td>Map(vectorType -> dense, length -> 5, values -> List(0.0, 0.6509091463955966, 0.3734938983803738, 0.9830508474576272, 0.8260869565217391))</td><td>1</td></tr><tr><td>Map(vectorType -> dense, length -> 5, values -> List(0.0, 0.6545454545454545, 0.21686748787598464, 0.8983050847457628, 0.6231884057971014))</td><td>1</td></tr><tr><td>Map(vectorType -> dense, length -> 5, values -> List(0.0, 0.6581819014115766, 0.13253016339657878, 0.7796610169491526, 0.8260869565217391))</td><td>1</td></tr><tr><td>Map(vectorType -> dense, length -> 5, values -> List(0.0, 0.6654546564275567, 0.30120481235539054, 0.847457627118644, 0.8405797101449275))</td><td>1</td></tr><tr><td>Map(vectorType -> dense, length -> 5, values -> List(0.0, 0.6690909645774148, 0.32530117436371825, 0.8983050847457628, 0.7391304347826086))</td><td>1</td></tr><tr><td>Map(vectorType -> dense, length -> 5, values -> List(0.0, 0.6763637195933948, 0.21686748787598464, 0.864406779661017, 0.782608695652174))</td><td>1</td></tr><tr><td>Map(vectorType -> dense, length -> 5, values -> List(0.0, 0.6800000277432529, 0.49397582332253, 0.9491525423728814, 0.7971014492753623))</td><td>1</td></tr><tr><td>Map(vectorType -> dense, length -> 5, values -> List(0.0, 0.6909090909090909, 0.397590375289219, 0.8983050847457628, 0.6956521739130435))</td><td>1</td></tr><tr><td>Map(vectorType -> dense, length -> 5, values -> List(0.0, 0.7054546009410511, 0.3734938983803738, 0.9830508474576272, 0.7681159420289855))</td><td>1</td></tr><tr><td>Map(vectorType -> dense, length -> 5, values -> List(0.0, 0.7272727272727273, 0.45783133776029705, 0.9830508474576272, 0.782608695652174))</td><td>1</td></tr><tr><td>Map(vectorType -> dense, length -> 5, values -> List(0.0, 0.7309091741388494, 0.46987957621471965, 0.9491525423728814, 0.7391304347826086))</td><td>1</td></tr><tr><td>Map(vectorType -> dense, length -> 5, values -> List(0.0, 0.7418182373046874, 0.2891566888014853, 0.8305084745762712, 0.7536231884057971))</td><td>1</td></tr><tr><td>Map(vectorType -> dense, length -> 5, values -> List(0.0, 0.7745455655184659, 0.3132530508098131, 0.7966101694915254, 0.7681159420289855))</td><td>1</td></tr><tr><td>Map(vectorType -> dense, length -> 5, values -> List(0.0, 0.8072727550159801, 0.30120481235539054, 1.0, 0.8115942028985507))</td><td>1</td></tr><tr><td>Map(vectorType -> dense, length -> 5, values -> List(0.0, 0.8363636363636363, 0.33734941281814085, 0.9830508474576272, 0.8695652173913043))</td><td>1</td></tr><tr><td>Map(vectorType -> dense, length -> 5, values -> List(0.0, 0.8654546564275568, 0.45783133776029705, 0.9491525423728814, 0.7971014492753623))</td><td>1</td></tr><tr><td>Map(vectorType -> dense, length -> 5, values -> List(0.0, 1.0, 0.45783133776029705, 0.9830508474576272, 0.927536231884058))</td><td>1</td></tr><tr><td>Map(vectorType -> dense, length -> 5, values -> List(1.0, 0.0, 0.2771084503470628, 0.2711864406779661, 0.057971014492753624))</td><td>0</td></tr><tr><td>Map(vectorType -> dense, length -> 5, values -> List(1.0, 0.03636363636363636, 0.34939765127256345, 0.1016949152542373, 0.014492753623188406))</td><td>0</td></tr><tr><td>Map(vectorType -> dense, length -> 5, values -> List(1.0, 0.12727272727272726, 0.5180723002313752, 0.3220338983050847, 0.09420289855072464))</td><td>0</td></tr><tr><td>Map(vectorType -> dense, length -> 5, values -> List(1.0, 0.14181823730468748, 0.46987957621471965, 0.2542372881355932, 0.24637681159420288))</td><td>0</td></tr><tr><td>Map(vectorType -> dense, length -> 5, values -> List(1.0, 0.14181823730468748, 0.5542167857936081, 0.3898305084745763, 0.17391304347826086))</td><td>0</td></tr><tr><td>Map(vectorType -> dense, length -> 5, values -> List(1.0, 0.14181823730468748, 0.5662650242480307, 0.3050847457627119, 0.17391304347826086))</td><td>0</td></tr><tr><td>Map(vectorType -> dense, length -> 5, values -> List(1.0, 0.14181823730468748, 0.6385542251735313, 0.23728813559322035, 0.07246376811594203))</td><td>0</td></tr><tr><td>Map(vectorType -> dense, length -> 5, values -> List(1.0, 0.1490909923206676, 0.49397582332253, 0.2542372881355932, 0.13043478260869565))</td><td>0</td></tr><tr><td>Map(vectorType -> dense, length -> 5, values -> List(1.0, 0.15272730047052557, 0.7590361501156876, 0.3050847457627119, 0.2753623188405797))</td><td>0</td></tr><tr><td>Map(vectorType -> dense, length -> 5, values -> List(1.0, 0.16000005548650567, 0.5783132627024533, 0.1694915254237288, 0.08695652173913043))</td><td>0</td></tr><tr><td>Map(vectorType -> dense, length -> 5, values -> List(1.0, 0.16363636363636364, 0.6265059867191087, 0.2033898305084746, 0.18115942028985507))</td><td>0</td></tr><tr><td>Map(vectorType -> dense, length -> 5, values -> List(1.0, 0.17090911865234373, 0.6385542251735313, 0.3559322033898305, 0.18840579710144928))</td><td>0</td></tr><tr><td>Map(vectorType -> dense, length -> 5, values -> List(1.0, 0.1745455655184659, 0.6506024636279539, 0.288135593220339, 0.18840579710144928))</td><td>0</td></tr><tr><td>Map(vectorType -> dense, length -> 5, values -> List(1.0, 0.17818187366832386, 0.397590375289219, 0.22033898305084745, 0.15942028985507245))</td><td>0</td></tr><tr><td>Map(vectorType -> dense, length -> 5, values -> List(1.0, 0.18545462868430396, 0.5903615011568758, 0.1016949152542373, 0.30434782608695654))</td><td>0</td></tr><tr><td>Map(vectorType -> dense, length -> 5, values -> List(1.0, 0.18909093683416192, 0.4337348608514519, 0.3389830508474576, 0.043478260869565216))</td><td>0</td></tr><tr><td>Map(vectorType -> dense, length -> 5, values -> List(1.0, 0.19636369185014205, 0.6867469491901869, 0.11864406779661017, 0.036231884057971016))</td><td>0</td></tr><tr><td>Map(vectorType -> dense, length -> 5, values -> List(1.0, 0.19999999999999998, 0.7349396732068424, 0.15254237288135594, 0.13043478260869565))</td><td>0</td></tr><tr><td>Map(vectorType -> dense, length -> 5, values -> List(1.0, 0.2072727550159801, 0.5903615011568758, 0.3559322033898305, 0.2608695652173913))</td><td>0</td></tr><tr><td>Map(vectorType -> dense, length -> 5, values -> List(1.0, 0.21818181818181817, 0.5301205386857978, 0.2542372881355932, 0.16666666666666666))</td><td>0</td></tr><tr><td>Map(vectorType -> dense, length -> 5, values -> List(1.0, 0.21818181818181817, 0.6506024636279539, 0.3050847457627119, 0.24637681159420288))</td><td>0</td></tr><tr><td>Map(vectorType -> dense, length -> 5, values -> List(1.0, 0.24363639137961646, 0.8192771125867657, 0.3050847457627119, 0.3188405797101449))</td><td>0</td></tr><tr><td>Map(vectorType -> dense, length -> 5, values -> List(1.0, 0.2509091463955966, 0.6626507020823765, 0.22033898305084745, 0.2318840579710145))</td><td>0</td></tr><tr><td>Map(vectorType -> dense, length -> 5, values -> List(1.0, 0.2581819014115767, 0.6506024636279539, 0.3050847457627119, 0.40579710144927533))</td><td>0</td></tr><tr><td>Map(vectorType -> dense, length -> 5, values -> List(1.0, 0.2581819014115767, 0.9518072759833445, 0.4067796610169492, 0.37681159420289856))</td><td>0</td></tr><tr><td>Map(vectorType -> dense, length -> 5, values -> List(1.0, 0.2727272727272727, 0.5903615011568758, 0.23728813559322035, 0.463768115942029))</td><td>0</td></tr><tr><td>Map(vectorType -> dense, length -> 5, values -> List(1.0, 0.2727272727272727, 0.6746987107357643, 0.3050847457627119, 0.5072463768115942))</td><td>0</td></tr><tr><td>Map(vectorType -> dense, length -> 5, values -> List(1.0, 0.2763637195933949, 0.5662650242480307, 0.3559322033898305, 0.40579710144927533))</td><td>0</td></tr><tr><td>Map(vectorType -> dense, length -> 5, values -> List(1.0, 0.28000002774325283, 0.7108434260990321, 0.2033898305084746, 0.5217391304347826))</td><td>0</td></tr><tr><td>Map(vectorType -> dense, length -> 5, values -> List(1.0, 0.3090909090909091, 0.48192781466914225, 0.2542372881355932, 0.18115942028985507))</td><td>0</td></tr><tr><td>Map(vectorType -> dense, length -> 5, values -> List(1.0, 0.3163636641068892, 0.6867469491901869, 0.6101694915254238, 0.42028985507246375))</td><td>0</td></tr><tr><td>Map(vectorType -> dense, length -> 5, values -> List(1.0, 0.32000011097301134, 0.4096386137436415, 0.2542372881355932, 0.10144927536231883))</td><td>2</td></tr><tr><td>Map(vectorType -> dense, length -> 5, values -> List(1.0, 0.32000011097301134, 0.6867469491901869, 0.2033898305084746, 0.30434782608695654))</td><td>0</td></tr><tr><td>Map(vectorType -> dense, length -> 5, values -> List(1.0, 0.32727272727272727, 0.5903615011568758, 0.559322033898305, 0.42028985507246375))</td><td>0</td></tr><tr><td>Map(vectorType -> dense, length -> 5, values -> List(1.0, 0.32727272727272727, 0.6987951876446095, 0.1694915254237288, 0.16666666666666666))</td><td>0</td></tr><tr><td>Map(vectorType -> dense, length -> 5, values -> List(1.0, 0.3345454822887074, 0.8554215981489987, 0.3728813559322034, 0.20289855072463767))</td><td>0</td></tr><tr><td>Map(vectorType -> dense, length -> 5, values -> List(1.0, 0.34181823730468747, 0.6385542251735313, 0.4915254237288136, 0.3333333333333333))</td><td>0</td></tr><tr><td>Map(vectorType -> dense, length -> 5, values -> List(1.0, 0.3672728105024858, 0.6385542251735313, 0.13559322033898305, 0.20289855072463767))</td><td>0</td></tr><tr><td>Map(vectorType -> dense, length -> 5, values -> List(1.0, 0.3709091186523437, 0.9638555144377671, 0.3220338983050847, 0.37681159420289856))</td><td>0</td></tr><tr><td>Map(vectorType -> dense, length -> 5, values -> List(1.0, 0.3745455655184659, 0.49397582332253, 0.15254237288135594, 0.21739130434782608))</td><td>2</td></tr><tr><td>Map(vectorType -> dense, length -> 5, values -> List(1.0, 0.37818187366832384, 0.4216868521980641, 0.2542372881355932, 0.14492753623188406))</td><td>2</td></tr><tr><td>Map(vectorType -> dense, length -> 5, values -> List(1.0, 0.37818187366832384, 0.49397582332253, 0.2542372881355932, 0.14492753623188406))</td><td>2</td></tr><tr><td>Map(vectorType -> dense, length -> 5, values -> List(1.0, 0.40363644686612216, 0.4096386137436415, 0.2542372881355932, 0.014492753623188406))</td><td>2</td></tr><tr><td>Map(vectorType -> dense, length -> 5, values -> List(1.0, 0.43636363636363634, 0.7831326270245328, 0.4067796610169492, 0.4492753623188406))</td><td>0</td></tr><tr><td>Map(vectorType -> dense, length -> 5, values -> List(1.0, 0.47636371959339485, 0.4096386137436415, 0.3220338983050847, 0.11594202898550725))</td><td>2</td></tr><tr><td>Map(vectorType -> dense, length -> 5, values -> List(1.0, 0.4872727827592329, 0.45783133776029705, 0.4067796610169492, 0.18840579710144928))</td><td>2</td></tr><tr><td>Map(vectorType -> dense, length -> 5, values -> List(1.0, 0.4909090909090909, 0.746987911661265, 0.3728813559322034, 0.1956521739130435))</td><td>2</td></tr><tr><td>Map(vectorType -> dense, length -> 5, values -> List(1.0, 0.5054546009410511, 0.6867469491901869, 0.3898305084745763, 0.37681159420289856))</td><td>2</td></tr><tr><td>Map(vectorType -> dense, length -> 5, values -> List(1.0, 0.509090909090909, 0.6024097396112984, 0.1016949152542373, 0.11594202898550725))</td><td>2</td></tr><tr><td>Map(vectorType -> dense, length -> 5, values -> List(1.0, 0.5127273559570312, 0.5180723002313752, 0.2542372881355932, 0.2318840579710145))</td><td>2</td></tr><tr><td>Map(vectorType -> dense, length -> 5, values -> List(1.0, 0.5200001109730114, 0.5542167857936081, 0.3220338983050847, 0.24637681159420288))</td><td>2</td></tr><tr><td>Map(vectorType -> dense, length -> 5, values -> List(1.0, 0.5200001109730114, 0.6506024636279539, 0.3050847457627119, 0.17391304347826086))</td><td>2</td></tr><tr><td>Map(vectorType -> dense, length -> 5, values -> List(1.0, 0.5236364191228693, 0.5662650242480307, 0.3389830508474576, 0.18840579710144928))</td><td>2</td></tr><tr><td>Map(vectorType -> dense, length -> 5, values -> List(1.0, 0.5272727272727272, 0.5542167857936081, 0.3559322033898305, 0.2753623188405797))</td><td>2</td></tr><tr><td>Map(vectorType -> dense, length -> 5, values -> List(1.0, 0.5309091741388494, 0.5662650242480307, 0.3898305084745763, 0.13043478260869565))</td><td>2</td></tr><tr><td>Map(vectorType -> dense, length -> 5, values -> List(1.0, 0.5345454822887074, 0.397590375289219, 0.288135593220339, 0.2318840579710145))</td><td>2</td></tr><tr><td>Map(vectorType -> dense, length -> 5, values -> List(1.0, 0.5418182373046875, 0.49397582332253, 0.22033898305084745, 0.24637681159420288))</td><td>2</td></tr><tr><td>Map(vectorType -> dense, length -> 5, values -> List(1.0, 0.5600000554865057, 0.4337348608514519, 0.4576271186440678, 0.30434782608695654))</td><td>2</td></tr><tr><td>Map(vectorType -> dense, length -> 5, values -> List(1.0, 0.5636363636363636, 0.6144577482646862, 0.3898305084745763, 0.2898550724637681))</td><td>2</td></tr><tr><td>Map(vectorType -> dense, length -> 5, values -> List(1.0, 0.5818181818181818, 0.3855421368347964, 0.4576271186440678, 0.13768115942028986))</td><td>2</td></tr><tr><td>Map(vectorType -> dense, length -> 5, values -> List(1.0, 0.596363691850142, 0.5180723002313752, 0.3220338983050847, 0.15942028985507245))</td><td>2</td></tr><tr><td>Map(vectorType -> dense, length -> 5, values -> List(1.0, 0.6145455100319602, 0.7710843885701102, 0.6779661016949152, 0.42028985507246375))</td><td>2</td></tr><tr><td>Map(vectorType -> dense, length -> 5, values -> List(1.0, 0.6218182650479404, 0.6024097396112984, 0.3898305084745763, 0.4492753623188406))</td><td>2</td></tr><tr><td>Map(vectorType -> dense, length -> 5, values -> List(1.0, 0.6254545731977983, 0.8072288741323431, 0.5254237288135594, 0.34782608695652173))</td><td>2</td></tr><tr><td>Map(vectorType -> dense, length -> 5, values -> List(1.0, 0.6327273282137784, 0.6987951876446095, 0.4745762711864407, 0.2753623188405797))</td><td>2</td></tr><tr><td>Map(vectorType -> dense, length -> 5, values -> List(1.0, 0.6363636363636364, 0.6024097396112984, 0.3559322033898305, 0.2681159420289855))</td><td>2</td></tr><tr><td>Map(vectorType -> dense, length -> 5, values -> List(1.0, 0.6436363913796165, 0.49397582332253, 0.4406779661016949, 0.2391304347826087))</td><td>2</td></tr><tr><td>Map(vectorType -> dense, length -> 5, values -> List(1.0, 0.6545454545454545, 0.5662650242480307, 0.3050847457627119, 0.15942028985507245))</td><td>2</td></tr><tr><td>Map(vectorType -> dense, length -> 5, values -> List(1.0, 0.6618182095614347, 0.8192771125867657, 0.423728813559322, 0.13043478260869565))</td><td>2</td></tr><tr><td>Map(vectorType -> dense, length -> 5, values -> List(1.0, 0.6690909645774148, 0.7710843885701102, 0.4915254237288136, 0.34782608695652173))</td><td>2</td></tr><tr><td>Map(vectorType -> dense, length -> 5, values -> List(1.0, 0.6800000277432529, 0.6385542251735313, 0.4915254237288136, 0.463768115942029))</td><td>2</td></tr><tr><td>Map(vectorType -> dense, length -> 5, values -> List(1.0, 0.6800000277432529, 0.6987951876446095, 0.6440677966101694, 0.36231884057971014))</td><td>2</td></tr><tr><td>Map(vectorType -> dense, length -> 5, values -> List(1.0, 0.6836364746093749, 0.7108434260990321, 0.4067796610169492, 0.20289855072463767))</td><td>2</td></tr><tr><td>Map(vectorType -> dense, length -> 5, values -> List(1.0, 0.6872727827592329, 0.6746987107357643, 0.5254237288135594, 0.36231884057971014))</td><td>2</td></tr><tr><td>Map(vectorType -> dense, length -> 5, values -> List(1.0, 0.698181845925071, 0.6024097396112984, 0.423728813559322, 0.2608695652173913))</td><td>2</td></tr><tr><td>Map(vectorType -> dense, length -> 5, values -> List(1.0, 0.698181845925071, 0.7228916645534547, 0.3559322033898305, 0.2318840579710145))</td><td>2</td></tr><tr><td>Map(vectorType -> dense, length -> 5, values -> List(1.0, 0.7018182927911931, 0.6987951876446095, 0.4915254237288136, 0.3188405797101449))</td><td>2</td></tr><tr><td>Map(vectorType -> dense, length -> 5, values -> List(1.0, 0.7054546009410511, 0.6626507020823765, 0.2542372881355932, 0.11594202898550725))</td><td>2</td></tr><tr><td>Map(vectorType -> dense, length -> 5, values -> List(1.0, 0.7236364191228692, 0.6987951876446095, 0.423728813559322, 0.37681159420289856))</td><td>2</td></tr><tr><td>Map(vectorType -> dense, length -> 5, values -> List(1.0, 0.7236364191228692, 0.9036145519666889, 0.6440677966101694, 0.5652173913043478))</td><td>2</td></tr><tr><td>Map(vectorType -> dense, length -> 5, values -> List(1.0, 0.7490909923206676, 0.7951806356779205, 0.423728813559322, 0.2536231884057971))</td><td>2</td></tr><tr><td>Map(vectorType -> dense, length -> 5, values -> List(1.0, 0.7527273004705255, 0.8192771125867657, 0.559322033898305, 0.49275362318840576))</td><td>2</td></tr><tr><td>Map(vectorType -> dense, length -> 5, values -> List(1.0, 0.7781818736683238, 0.8072288741323431, 0.559322033898305, 0.4782608695652174))</td><td>2</td></tr><tr><td>Map(vectorType -> dense, length -> 5, values -> List(1.0, 0.8036364468661221, 0.9156625606200767, 0.4915254237288136, 0.42028985507246375))</td><td>2</td></tr><tr><td>Map(vectorType -> dense, length -> 5, values -> List(1.0, 0.9418182373046875, 0.5542167857936081, 0.15254237288135594, 0.24637681159420288))</td><td>2</td></tr><tr><td>Map(vectorType -> dense, length -> 5, values -> List(2.0, 0.050909146395596586, 0.6987951876446095, 0.3050847457627119, 0.21739130434782608))</td><td>0</td></tr><tr><td>Map(vectorType -> dense, length -> 5, values -> List(2.0, 0.083636474609375, 0.6265059867191087, 0.2033898305084746, 0.13768115942028986))</td><td>0</td></tr><tr><td>Map(vectorType -> dense, length -> 5, values -> List(2.0, 0.09090909090909091, 0.9518072759833445, 0.4406779661016949, 0.4492753623188406))</td><td>0</td></tr><tr><td>Map(vectorType -> dense, length -> 5, values -> List(2.0, 0.11272735595703125, 0.32530117436371825, 0.23728813559322035, 0.057971014492753624))</td><td>0</td></tr><tr><td>Map(vectorType -> dense, length -> 5, values -> List(2.0, 0.12363641912286931, 0.5180723002313752, 0.3050847457627119, 0.24637681159420288))</td><td>0</td></tr><tr><td>Map(vectorType -> dense, length -> 5, values -> List(2.0, 0.13090917413884942, 0.45783133776029705, 0.288135593220339, 0.14492753623188406))</td><td>0</td></tr><tr><td>Map(vectorType -> dense, length -> 5, values -> List(2.0, 0.1490909923206676, 0.34939765127256345, 0.2542372881355932, 0.20289855072463767))</td><td>0</td></tr><tr><td>Map(vectorType -> dense, length -> 5, values -> List(2.0, 0.1672728105024858, 0.7349396732068424, 0.3559322033898305, 0.17391304347826086))</td><td>0</td></tr><tr><td>Map(vectorType -> dense, length -> 5, values -> List(2.0, 0.18545462868430396, 0.746987911661265, 0.2033898305084746, 0.30434782608695654))</td><td>0</td></tr><tr><td>Map(vectorType -> dense, length -> 5, values -> List(2.0, 0.20363644686612214, 0.7951806356779205, 0.4406779661016949, 0.18840579710144928))</td><td>0</td></tr><tr><td>Map(vectorType -> dense, length -> 5, values -> List(2.0, 0.2072727550159801, 0.46987957621471965, 0.23728813559322035, 0.13043478260869565))</td><td>0</td></tr><tr><td>Map(vectorType -> dense, length -> 5, values -> List(2.0, 0.24000008322975852, 0.6987951876446095, 0.3898305084745763, 0.17391304347826086))</td><td>0</td></tr><tr><td>Map(vectorType -> dense, length -> 5, values -> List(2.0, 0.24363639137961646, 0.5301205386857978, 0.3220338983050847, 0.12318840579710144))</td><td>0</td></tr><tr><td>Map(vectorType -> dense, length -> 5, values -> List(2.0, 0.24727283824573862, 0.5542167857936081, 0.15254237288135594, 0.2246376811594203))</td><td>0</td></tr><tr><td>Map(vectorType -> dense, length -> 5, values -> List(2.0, 0.2509091463955966, 0.46987957621471965, 0.3220338983050847, 0.057971014492753624))</td><td>0</td></tr><tr><td>Map(vectorType -> dense, length -> 5, values -> List(2.0, 0.2545454545454545, 0.6626507020823765, 0.15254237288135594, 0.2608695652173913))</td><td>0</td></tr><tr><td>Map(vectorType -> dense, length -> 5, values -> List(2.0, 0.2581819014115767, 0.7710843885701102, 0.3898305084745763, 0.5289855072463768))</td><td>0</td></tr><tr><td>Map(vectorType -> dense, length -> 5, values -> List(2.0, 0.2727272727272727, 0.48192781466914225, 0.4067796610169492, 0.20289855072463767))</td><td>0</td></tr><tr><td>Map(vectorType -> dense, length -> 5, values -> List(2.0, 0.298181845925071, 0.5783132627024533, 0.3898305084745763, 0.11594202898550725))</td><td>0</td></tr><tr><td>Map(vectorType -> dense, length -> 5, values -> List(2.0, 0.32000011097301134, 0.4337348608514519, 0.3220338983050847, 0.24637681159420288))</td><td>0</td></tr><tr><td>Map(vectorType -> dense, length -> 5, values -> List(2.0, 0.32727272727272727, 0.5301205386857978, 0.1694915254237288, 0.10144927536231883))</td><td>0</td></tr><tr><td>Map(vectorType -> dense, length -> 5, values -> List(2.0, 0.32727272727272727, 0.6506024636279539, 0.288135593220339, 0.13768115942028986))</td><td>0</td></tr><tr><td>Map(vectorType -> dense, length -> 5, values -> List(2.0, 0.33818192915482953, 0.6385542251735313, 0.5084745762711864, 0.2971014492753623))</td><td>0</td></tr><tr><td>Map(vectorType -> dense, length -> 5, values -> List(2.0, 0.34181823730468747, 0.6144577482646862, 0.3898305084745763, 0.42028985507246375))</td><td>0</td></tr><tr><td>Map(vectorType -> dense, length -> 5, values -> List(2.0, 0.35272730047052553, 0.746987911661265, 0.4406779661016949, 0.463768115942029))</td><td>0</td></tr><tr><td>Map(vectorType -> dense, length -> 5, values -> List(2.0, 0.36000005548650565, 0.8433735894956108, 0.3050847457627119, 0.40579710144927533))</td><td>0</td></tr><tr><td>Map(vectorType -> dense, length -> 5, values -> List(2.0, 0.36363636363636365, 0.7108434260990321, 0.3898305084745763, 0.3333333333333333))</td><td>0</td></tr><tr><td>Map(vectorType -> dense, length -> 5, values -> List(2.0, 0.37818187366832384, 0.9036145519666889, 0.423728813559322, 0.4782608695652174))</td><td>0</td></tr><tr><td>Map(vectorType -> dense, length -> 5, values -> List(2.0, 0.3890909368341619, 0.6385542251735313, 0.3898305084745763, 0.40579710144927533))</td><td>0</td></tr><tr><td>Map(vectorType -> dense, length -> 5, values -> List(2.0, 0.3927273837002841, 0.5301205386857978, 0.4067796610169492, 0.536231884057971))</td><td>0</td></tr><tr><td>Map(vectorType -> dense, length -> 5, values -> List(2.0, 0.43636363636363634, 0.5783132627024533, 0.6440677966101694, 0.3333333333333333))</td><td>0</td></tr><tr><td>Map(vectorType -> dense, length -> 5, values -> List(2.0, 0.5054546009410511, 1.0, 0.3728813559322034, 0.391304347826087))</td><td>0</td></tr></tbody></table></div>"
      ]
     },
     "metadata": {
      "application/vnd.databricks.v1+output": {
       "addedWidgets": {},
       "aggData": [],
       "aggError": "",
       "aggOverflow": false,
       "aggSchema": [],
       "aggSeriesLimitReached": false,
       "aggType": "",
       "arguments": {},
       "columnCustomDisplayInfos": {},
       "data": [
        [
         {
          "length": 5,
          "values": [
           0.0,
           0.08727278275923295,
           0.5903615011568758,
           0.2542372881355932,
           0.014492753623188406
          ],
          "vectorType": "dense"
         },
         0
        ],
        [
         {
          "length": 5,
          "values": [
           0.0,
           0.10545460094105114,
           0.5662650242480307,
           0.3050847457627119,
           0.17391304347826086
          ],
          "vectorType": "dense"
         },
         0
        ],
        [
         {
          "length": 5,
          "values": [
           0.0,
           0.10545460094105114,
           0.5662650242480307,
           0.3389830508474576,
           0.2536231884057971
          ],
          "vectorType": "dense"
         },
         0
        ],
        [
         {
          "length": 5,
          "values": [
           0.0,
           0.1163636641068892,
           0.6867469491901869,
           0.2542372881355932,
           0.2753623188405797
          ],
          "vectorType": "dense"
         },
         0
        ],
        [
         {
          "length": 5,
          "values": [
           0.0,
           0.12363641912286931,
           0.36144588972698605,
           0.3898305084745763,
           0.14492753623188406
          ],
          "vectorType": "dense"
         },
         0
        ],
        [
         {
          "length": 5,
          "values": [
           0.0,
           0.13090917413884942,
           0.44578309930587445,
           0.22033898305084745,
           0.08695652173913043
          ],
          "vectorType": "dense"
         },
         0
        ],
        [
         {
          "length": 5,
          "values": [
           0.0,
           0.1563637473366477,
           0.46987957621471965,
           0.2033898305084746,
           0.0
          ],
          "vectorType": "dense"
         },
         0
        ],
        [
         {
          "length": 5,
          "values": [
           0.0,
           0.16000005548650567,
           0.4096386137436415,
           0.15254237288135594,
           0.0
          ],
          "vectorType": "dense"
         },
         0
        ],
        [
         {
          "length": 5,
          "values": [
           0.0,
           0.19999999999999998,
           0.7108434260990321,
           0.3728813559322034,
           0.2608695652173913
          ],
          "vectorType": "dense"
         },
         0
        ],
        [
         {
          "length": 5,
          "values": [
           0.0,
           0.20363644686612214,
           0.33734941281814085,
           0.1864406779661017,
           0.06521739130434782
          ],
          "vectorType": "dense"
         },
         0
        ],
        [
         {
          "length": 5,
          "values": [
           0.0,
           0.20363644686612214,
           0.6626507020823765,
           0.13559322033898305,
           0.21739130434782608
          ],
          "vectorType": "dense"
         },
         0
        ],
        [
         {
          "length": 5,
          "values": [
           0.0,
           0.21090920188210227,
           0.6506024636279539,
           0.0,
           0.08695652173913043
          ],
          "vectorType": "dense"
         },
         0
        ],
        [
         {
          "length": 5,
          "values": [
           0.0,
           0.22181826504794033,
           0.5903615011568758,
           0.22033898305084745,
           0.3188405797101449
          ],
          "vectorType": "dense"
         },
         0
        ],
        [
         {
          "length": 5,
          "values": [
           0.0,
           0.22181826504794033,
           0.8192771125867657,
           0.3050847457627119,
           0.30434782608695654
          ],
          "vectorType": "dense"
         },
         0
        ],
        [
         {
          "length": 5,
          "values": [
           0.0,
           0.23636363636363636,
           0.48192781466914225,
           0.4576271186440678,
           0.2608695652173913
          ],
          "vectorType": "dense"
         },
         0
        ],
        [
         {
          "length": 5,
          "values": [
           0.0,
           0.2509091463955966,
           0.5180723002313752,
           0.23728813559322035,
           0.20289855072463767
          ],
          "vectorType": "dense"
         },
         0
        ],
        [
         {
          "length": 5,
          "values": [
           0.0,
           0.2727272727272727,
           0.9036145519666889,
           0.3220338983050847,
           0.30434782608695654
          ],
          "vectorType": "dense"
         },
         0
        ],
        [
         {
          "length": 5,
          "values": [
           0.0,
           0.2763637195933949,
           0.5421687771402204,
           0.3559322033898305,
           0.10144927536231883
          ],
          "vectorType": "dense"
         },
         0
        ],
        [
         {
          "length": 5,
          "values": [
           0.0,
           0.2763637195933949,
           0.6867469491901869,
           0.2033898305084746,
           0.20289855072463767
          ],
          "vectorType": "dense"
         },
         0
        ],
        [
         {
          "length": 5,
          "values": [
           0.0,
           0.2909090909090909,
           0.6867469491901869,
           0.2711864406779661,
           0.42028985507246375
          ],
          "vectorType": "dense"
         },
         0
        ],
        [
         {
          "length": 5,
          "values": [
           0.0,
           0.30545460094105115,
           0.5662650242480307,
           0.2542372881355932,
           0.10144927536231883
          ],
          "vectorType": "dense"
         },
         0
        ],
        [
         {
          "length": 5,
          "values": [
           0.0,
           0.30545460094105115,
           0.6867469491901869,
           0.13559322033898305,
           0.3188405797101449
          ],
          "vectorType": "dense"
         },
         0
        ],
        [
         {
          "length": 5,
          "values": [
           0.0,
           0.3236364191228693,
           0.8192771125867657,
           0.5254237288135594,
           0.5434782608695652
          ],
          "vectorType": "dense"
         },
         0
        ],
        [
         {
          "length": 5,
          "values": [
           0.0,
           0.32727272727272727,
           0.6024097396112984,
           0.3389830508474576,
           0.34782608695652173
          ],
          "vectorType": "dense"
         },
         0
        ],
        [
         {
          "length": 5,
          "values": [
           0.0,
           0.32727272727272727,
           0.7108434260990321,
           0.2711864406779661,
           0.36231884057971014
          ],
          "vectorType": "dense"
         },
         0
        ],
        [
         {
          "length": 5,
          "values": [
           0.0,
           0.3345454822887074,
           0.9518072759833445,
           0.3898305084745763,
           0.4492753623188406
          ],
          "vectorType": "dense"
         },
         0
        ],
        [
         {
          "length": 5,
          "values": [
           0.0,
           0.34545454545454546,
           0.5783132627024533,
           0.3389830508474576,
           0.3188405797101449
          ],
          "vectorType": "dense"
         },
         0
        ],
        [
         {
          "length": 5,
          "values": [
           0.0,
           0.3490909923206676,
           0.1807228874132343,
           0.6440677966101694,
           0.536231884057971
          ],
          "vectorType": "dense"
         },
         1
        ],
        [
         {
          "length": 5,
          "values": [
           0.0,
           0.3672728105024858,
           0.7590361501156876,
           0.423728813559322,
           0.41304347826086957
          ],
          "vectorType": "dense"
         },
         0
        ],
        [
         {
          "length": 5,
          "values": [
           0.0,
           0.3818181818181818,
           0.0602409624710781,
           0.6949152542372882,
           0.6086956521739131
          ],
          "vectorType": "dense"
         },
         1
        ],
        [
         {
          "length": 5,
          "values": [
           0.0,
           0.38545462868430397,
           0.6144577482646862,
           0.4067796610169492,
           0.3550724637681159
          ],
          "vectorType": "dense"
         },
         0
        ],
        [
         {
          "length": 5,
          "values": [
           0.0,
           0.3890909368341619,
           0.1204819249421562,
           0.6271186440677966,
           0.536231884057971
          ],
          "vectorType": "dense"
         },
         1
        ],
        [
         {
          "length": 5,
          "values": [
           0.0,
           0.40363644686612216,
           0.15662652540490654,
           0.6101694915254238,
           0.463768115942029
          ],
          "vectorType": "dense"
         },
         1
        ],
        [
         {
          "length": 5,
          "values": [
           0.0,
           0.40363644686612216,
           0.6987951876446095,
           0.423728813559322,
           0.5579710144927537
          ],
          "vectorType": "dense"
         },
         0
        ],
        [
         {
          "length": 5,
          "values": [
           0.0,
           0.4072727550159801,
           0.09638556293382844,
           0.6101694915254238,
           0.5
          ],
          "vectorType": "dense"
         },
         1
        ],
        [
         {
          "length": 5,
          "values": [
           0.0,
           0.4109092018821022,
           0.14457828695048397,
           0.7796610169491526,
           0.5072463768115942
          ],
          "vectorType": "dense"
         },
         1
        ],
        [
         {
          "length": 5,
          "values": [
           0.0,
           0.4145455100319602,
           0.2409638498843124,
           0.6949152542372882,
           0.5217391304347826
          ],
          "vectorType": "dense"
         },
         1
        ],
        [
         {
          "length": 5,
          "values": [
           0.0,
           0.4254545731977983,
           0.08433732447940587,
           0.6101694915254238,
           0.42028985507246375
          ],
          "vectorType": "dense"
         },
         1
        ],
        [
         {
          "length": 5,
          "values": [
           0.0,
           0.4472728382457386,
           0.49397582332253,
           0.7966101694915254,
           0.6956521739130435
          ],
          "vectorType": "dense"
         },
         1
        ],
        [
         {
          "length": 5,
          "values": [
           0.0,
           0.4509091463955966,
           0.13253016339657878,
           0.7457627118644068,
           0.36231884057971014
          ],
          "vectorType": "dense"
         },
         1
        ],
        [
         {
          "length": 5,
          "values": [
           0.0,
           0.4509091463955966,
           0.1807228874132343,
           0.711864406779661,
           0.5797101449275363
          ],
          "vectorType": "dense"
         },
         1
        ],
        [
         {
          "length": 5,
          "values": [
           0.0,
           0.4509091463955966,
           0.30120481235539054,
           0.7627118644067796,
           0.5869565217391304
          ],
          "vectorType": "dense"
         },
         1
        ],
        [
         {
          "length": 5,
          "values": [
           0.0,
           0.4654546564275568,
           0.07228920092550069,
           0.6779661016949152,
           0.5507246376811594
          ],
          "vectorType": "dense"
         },
         1
        ],
        [
         {
          "length": 5,
          "values": [
           0.0,
           0.4690909645774147,
           0.2650602118926402,
           0.8135593220338984,
           0.6376811594202898
          ],
          "vectorType": "dense"
         },
         1
        ],
        [
         {
          "length": 5,
          "values": [
           0.0,
           0.4727272727272727,
           0.15662652540490654,
           0.5932203389830508,
           0.6376811594202898
          ],
          "vectorType": "dense"
         },
         1
        ],
        [
         {
          "length": 5,
          "values": [
           0.0,
           0.4727272727272727,
           0.15662652540490654,
           0.7288135593220338,
           0.6231884057971014
          ],
          "vectorType": "dense"
         },
         1
        ],
        [
         {
          "length": 5,
          "values": [
           0.0,
           0.47636371959339485,
           0.07228920092550069,
           0.7288135593220338,
           0.5507246376811594
          ],
          "vectorType": "dense"
         },
         1
        ],
        [
         {
          "length": 5,
          "values": [
           0.0,
           0.47636371959339485,
           0.19277112586765688,
           0.6779661016949152,
           0.6811594202898551
          ],
          "vectorType": "dense"
         },
         1
        ],
        [
         {
          "length": 5,
          "values": [
           0.0,
           0.47636371959339485,
           0.3132530508098131,
           0.7288135593220338,
           0.7101449275362318
          ],
          "vectorType": "dense"
         },
         1
        ],
        [
         {
          "length": 5,
          "values": [
           0.0,
           0.483636474609375,
           0.16867476385932914,
           0.6610169491525424,
           0.5652173913043478
          ],
          "vectorType": "dense"
         },
         1
        ],
        [
         {
          "length": 5,
          "values": [
           0.0,
           0.4872727827592329,
           0.08433732447940587,
           0.6440677966101694,
           0.391304347826087
          ],
          "vectorType": "dense"
         },
         1
        ],
        [
         {
          "length": 5,
          "values": [
           0.0,
           0.4872727827592329,
           0.15662652540490654,
           0.6779661016949152,
           0.5507246376811594
          ],
          "vectorType": "dense"
         },
         1
        ],
        [
         {
          "length": 5,
          "values": [
           0.0,
           0.4909090909090909,
           0.8554215981489987,
           0.3220338983050847,
           0.5072463768115942
          ],
          "vectorType": "dense"
         },
         0
        ],
        [
         {
          "length": 5,
          "values": [
           0.0,
           0.49454553777521304,
           0.08433732447940587,
           0.711864406779661,
           0.4492753623188406
          ],
          "vectorType": "dense"
         },
         1
        ],
        [
         {
          "length": 5,
          "values": [
           0.0,
           0.498181845925071,
           0.16867476385932914,
           0.6440677966101694,
           0.391304347826087
          ],
          "vectorType": "dense"
         },
         1
        ],
        [
         {
          "length": 5,
          "values": [
           0.0,
           0.509090909090909,
           0.0,
           0.6610169491525424,
           0.4782608695652174
          ],
          "vectorType": "dense"
         },
         1
        ],
        [
         {
          "length": 5,
          "values": [
           0.0,
           0.5127273559570312,
           0.10843380138825102,
           0.7627118644067796,
           0.44202898550724634
          ],
          "vectorType": "dense"
         },
         1
        ],
        [
         {
          "length": 5,
          "values": [
           0.0,
           0.5127273559570312,
           0.15662652540490654,
           0.6271186440677966,
           0.5652173913043478
          ],
          "vectorType": "dense"
         },
         1
        ],
        [
         {
          "length": 5,
          "values": [
           0.0,
           0.5163636641068892,
           0.3132530508098131,
           0.7288135593220338,
           0.6376811594202898
          ],
          "vectorType": "dense"
         },
         1
        ],
        [
         {
          "length": 5,
          "values": [
           0.0,
           0.5200001109730114,
           0.21686748787598464,
           0.7457627118644068,
           0.536231884057971
          ],
          "vectorType": "dense"
         },
         1
        ],
        [
         {
          "length": 5,
          "values": [
           0.0,
           0.5236364191228693,
           0.036144600462750344,
           0.6440677966101694,
           0.49275362318840576
          ],
          "vectorType": "dense"
         },
         1
        ],
        [
         {
          "length": 5,
          "values": [
           0.0,
           0.5236364191228693,
           0.14457828695048397,
           0.7627118644067796,
           0.5942028985507246
          ],
          "vectorType": "dense"
         },
         1
        ],
        [
         {
          "length": 5,
          "values": [
           0.0,
           0.5236364191228693,
           0.15662652540490654,
           0.6949152542372882,
           0.4492753623188406
          ],
          "vectorType": "dense"
         },
         1
        ],
        [
         {
          "length": 5,
          "values": [
           0.0,
           0.5236364191228693,
           0.19277112586765688,
           0.7627118644067796,
           0.6811594202898551
          ],
          "vectorType": "dense"
         },
         1
        ],
        [
         {
          "length": 5,
          "values": [
           0.0,
           0.5272727272727272,
           0.1204819249421562,
           0.6440677966101694,
           0.5797101449275363
          ],
          "vectorType": "dense"
         },
         1
        ],
        [
         {
          "length": 5,
          "values": [
           0.0,
           0.5309091741388494,
           0.253012088338735,
           0.7966101694915254,
           0.6811594202898551
          ],
          "vectorType": "dense"
         },
         1
        ],
        [
         {
          "length": 5,
          "values": [
           0.0,
           0.5345454822887074,
           0.13253016339657878,
           0.7288135593220338,
           0.5797101449275363
          ],
          "vectorType": "dense"
         },
         1
        ],
        [
         {
          "length": 5,
          "values": [
           0.0,
           0.5345454822887074,
           0.2650602118926402,
           0.7288135593220338,
           0.6666666666666666
          ],
          "vectorType": "dense"
         },
         1
        ],
        [
         {
          "length": 5,
          "values": [
           0.0,
           0.5345454822887074,
           0.34939765127256345,
           0.7288135593220338,
           0.7681159420289855
          ],
          "vectorType": "dense"
         },
         1
        ],
        [
         {
          "length": 5,
          "values": [
           0.0,
           0.5381819291548295,
           0.16867476385932914,
           0.847457627118644,
           0.5869565217391304
          ],
          "vectorType": "dense"
         },
         1
        ],
        [
         {
          "length": 5,
          "values": [
           0.0,
           0.5490909923206676,
           0.0602409624710781,
           0.711864406779661,
           0.6014492753623188
          ],
          "vectorType": "dense"
         },
         1
        ],
        [
         {
          "length": 5,
          "values": [
           0.0,
           0.5527273004705255,
           0.07228920092550069,
           0.7457627118644068,
           0.5434782608695652
          ],
          "vectorType": "dense"
         },
         1
        ],
        [
         {
          "length": 5,
          "values": [
           0.0,
           0.5527273004705255,
           0.253012088338735,
           0.847457627118644,
           0.6956521739130435
          ],
          "vectorType": "dense"
         },
         1
        ],
        [
         {
          "length": 5,
          "values": [
           0.0,
           0.5600000554865057,
           0.09638556293382844,
           0.6779661016949152,
           0.5869565217391304
          ],
          "vectorType": "dense"
         },
         1
        ],
        [
         {
          "length": 5,
          "values": [
           0.0,
           0.5600000554865057,
           0.1204819249421562,
           0.6271186440677966,
           0.5072463768115942
          ],
          "vectorType": "dense"
         },
         1
        ],
        [
         {
          "length": 5,
          "values": [
           0.0,
           0.5600000554865057,
           0.21686748787598464,
           0.7796610169491526,
           0.6086956521739131
          ],
          "vectorType": "dense"
         },
         1
        ],
        [
         {
          "length": 5,
          "values": [
           0.0,
           0.5636363636363636,
           0.15662652540490654,
           0.7288135593220338,
           0.7391304347826086
          ],
          "vectorType": "dense"
         },
         1
        ],
        [
         {
          "length": 5,
          "values": [
           0.0,
           0.5672728105024858,
           0.21686748787598464,
           0.7457627118644068,
           0.5507246376811594
          ],
          "vectorType": "dense"
         },
         1
        ],
        [
         {
          "length": 5,
          "values": [
           0.0,
           0.5709091186523437,
           0.21686748787598464,
           0.7288135593220338,
           0.8115942028985507
          ],
          "vectorType": "dense"
         },
         1
        ],
        [
         {
          "length": 5,
          "values": [
           0.0,
           0.5818181818181818,
           0.22891572633040724,
           0.6271186440677966,
           0.7681159420289855
          ],
          "vectorType": "dense"
         },
         1
        ],
        [
         {
          "length": 5,
          "values": [
           0.0,
           0.585454628684304,
           0.2891566888014853,
           0.8305084745762712,
           0.6521739130434783
          ],
          "vectorType": "dense"
         },
         1
        ],
        [
         {
          "length": 5,
          "values": [
           0.0,
           0.5927273837002841,
           0.14457828695048397,
           0.5254237288135594,
           0.5144927536231884
          ],
          "vectorType": "dense"
         },
         1
        ],
        [
         {
          "length": 5,
          "values": [
           0.0,
           0.5927273837002841,
           0.16867476385932914,
           0.6949152542372882,
           0.8695652173913043
          ],
          "vectorType": "dense"
         },
         1
        ],
        [
         {
          "length": 5,
          "values": [
           0.0,
           0.5927273837002841,
           0.3734938983803738,
           0.8135593220338984,
           0.7391304347826086
          ],
          "vectorType": "dense"
         },
         1
        ],
        [
         {
          "length": 5,
          "values": [
           0.0,
           0.596363691850142,
           0.10843380138825102,
           0.8135593220338984,
           0.7101449275362318
          ],
          "vectorType": "dense"
         },
         1
        ],
        [
         {
          "length": 5,
          "values": [
           0.0,
           0.596363691850142,
           0.21686748787598464,
           0.7966101694915254,
           0.5797101449275363
          ],
          "vectorType": "dense"
         },
         1
        ],
        [
         {
          "length": 5,
          "values": [
           0.0,
           0.6036364468661222,
           0.30120481235539054,
           0.6101694915254238,
           0.7246376811594203
          ],
          "vectorType": "dense"
         },
         1
        ],
        [
         {
          "length": 5,
          "values": [
           0.0,
           0.6072727550159801,
           0.36144588972698605,
           0.847457627118644,
           0.9130434782608695
          ],
          "vectorType": "dense"
         },
         1
        ],
        [
         {
          "length": 5,
          "values": [
           0.0,
           0.6145455100319602,
           0.34939765127256345,
           0.7457627118644068,
           0.782608695652174
          ],
          "vectorType": "dense"
         },
         1
        ],
        [
         {
          "length": 5,
          "values": [
           0.0,
           0.6181818181818182,
           0.15662652540490654,
           0.6779661016949152,
           0.5144927536231884
          ],
          "vectorType": "dense"
         },
         1
        ],
        [
         {
          "length": 5,
          "values": [
           0.0,
           0.6181818181818182,
           0.19277112586765688,
           0.8135593220338984,
           0.6666666666666666
          ],
          "vectorType": "dense"
         },
         1
        ],
        [
         {
          "length": 5,
          "values": [
           0.0,
           0.6181818181818182,
           0.21686748787598464,
           0.9491525423728814,
           0.7681159420289855
          ],
          "vectorType": "dense"
         },
         1
        ],
        [
         {
          "length": 5,
          "values": [
           0.0,
           0.6218182650479404,
           0.2409638498843124,
           0.8305084745762712,
           1.0
          ],
          "vectorType": "dense"
         },
         1
        ],
        [
         {
          "length": 5,
          "values": [
           0.0,
           0.6254545731977983,
           0.30120481235539054,
           0.7627118644067796,
           0.8695652173913043
          ],
          "vectorType": "dense"
         },
         1
        ],
        [
         {
          "length": 5,
          "values": [
           0.0,
           0.6290910200639204,
           0.3132530508098131,
           0.7457627118644068,
           0.6014492753623188
          ],
          "vectorType": "dense"
         },
         1
        ],
        [
         {
          "length": 5,
          "values": [
           0.0,
           0.6327273282137784,
           0.36144588972698605,
           0.9661016949152542,
           0.855072463768116
          ],
          "vectorType": "dense"
         },
         1
        ],
        [
         {
          "length": 5,
          "values": [
           0.0,
           0.6436363913796165,
           0.32530117436371825,
           0.9661016949152542,
           0.8985507246376812
          ],
          "vectorType": "dense"
         },
         1
        ],
        [
         {
          "length": 5,
          "values": [
           0.0,
           0.6436363913796165,
           0.4337348608514519,
           0.9830508474576272,
           0.8260869565217391
          ],
          "vectorType": "dense"
         },
         1
        ],
        [
         {
          "length": 5,
          "values": [
           0.0,
           0.6472728382457386,
           0.34939765127256345,
           0.6949152542372882,
           0.7391304347826086
          ],
          "vectorType": "dense"
         },
         1
        ],
        [
         {
          "length": 5,
          "values": [
           0.0,
           0.6509091463955966,
           0.2409638498843124,
           0.7796610169491526,
           0.8260869565217391
          ],
          "vectorType": "dense"
         },
         1
        ],
        [
         {
          "length": 5,
          "values": [
           0.0,
           0.6509091463955966,
           0.3734938983803738,
           0.9830508474576272,
           0.8260869565217391
          ],
          "vectorType": "dense"
         },
         1
        ],
        [
         {
          "length": 5,
          "values": [
           0.0,
           0.6545454545454545,
           0.21686748787598464,
           0.8983050847457628,
           0.6231884057971014
          ],
          "vectorType": "dense"
         },
         1
        ],
        [
         {
          "length": 5,
          "values": [
           0.0,
           0.6581819014115766,
           0.13253016339657878,
           0.7796610169491526,
           0.8260869565217391
          ],
          "vectorType": "dense"
         },
         1
        ],
        [
         {
          "length": 5,
          "values": [
           0.0,
           0.6654546564275567,
           0.30120481235539054,
           0.847457627118644,
           0.8405797101449275
          ],
          "vectorType": "dense"
         },
         1
        ],
        [
         {
          "length": 5,
          "values": [
           0.0,
           0.6690909645774148,
           0.32530117436371825,
           0.8983050847457628,
           0.7391304347826086
          ],
          "vectorType": "dense"
         },
         1
        ],
        [
         {
          "length": 5,
          "values": [
           0.0,
           0.6763637195933948,
           0.21686748787598464,
           0.864406779661017,
           0.782608695652174
          ],
          "vectorType": "dense"
         },
         1
        ],
        [
         {
          "length": 5,
          "values": [
           0.0,
           0.6800000277432529,
           0.49397582332253,
           0.9491525423728814,
           0.7971014492753623
          ],
          "vectorType": "dense"
         },
         1
        ],
        [
         {
          "length": 5,
          "values": [
           0.0,
           0.6909090909090909,
           0.397590375289219,
           0.8983050847457628,
           0.6956521739130435
          ],
          "vectorType": "dense"
         },
         1
        ],
        [
         {
          "length": 5,
          "values": [
           0.0,
           0.7054546009410511,
           0.3734938983803738,
           0.9830508474576272,
           0.7681159420289855
          ],
          "vectorType": "dense"
         },
         1
        ],
        [
         {
          "length": 5,
          "values": [
           0.0,
           0.7272727272727273,
           0.45783133776029705,
           0.9830508474576272,
           0.782608695652174
          ],
          "vectorType": "dense"
         },
         1
        ],
        [
         {
          "length": 5,
          "values": [
           0.0,
           0.7309091741388494,
           0.46987957621471965,
           0.9491525423728814,
           0.7391304347826086
          ],
          "vectorType": "dense"
         },
         1
        ],
        [
         {
          "length": 5,
          "values": [
           0.0,
           0.7418182373046874,
           0.2891566888014853,
           0.8305084745762712,
           0.7536231884057971
          ],
          "vectorType": "dense"
         },
         1
        ],
        [
         {
          "length": 5,
          "values": [
           0.0,
           0.7745455655184659,
           0.3132530508098131,
           0.7966101694915254,
           0.7681159420289855
          ],
          "vectorType": "dense"
         },
         1
        ],
        [
         {
          "length": 5,
          "values": [
           0.0,
           0.8072727550159801,
           0.30120481235539054,
           1.0,
           0.8115942028985507
          ],
          "vectorType": "dense"
         },
         1
        ],
        [
         {
          "length": 5,
          "values": [
           0.0,
           0.8363636363636363,
           0.33734941281814085,
           0.9830508474576272,
           0.8695652173913043
          ],
          "vectorType": "dense"
         },
         1
        ],
        [
         {
          "length": 5,
          "values": [
           0.0,
           0.8654546564275568,
           0.45783133776029705,
           0.9491525423728814,
           0.7971014492753623
          ],
          "vectorType": "dense"
         },
         1
        ],
        [
         {
          "length": 5,
          "values": [
           0.0,
           1.0,
           0.45783133776029705,
           0.9830508474576272,
           0.927536231884058
          ],
          "vectorType": "dense"
         },
         1
        ],
        [
         {
          "length": 5,
          "values": [
           1.0,
           0.0,
           0.2771084503470628,
           0.2711864406779661,
           0.057971014492753624
          ],
          "vectorType": "dense"
         },
         0
        ],
        [
         {
          "length": 5,
          "values": [
           1.0,
           0.03636363636363636,
           0.34939765127256345,
           0.1016949152542373,
           0.014492753623188406
          ],
          "vectorType": "dense"
         },
         0
        ],
        [
         {
          "length": 5,
          "values": [
           1.0,
           0.12727272727272726,
           0.5180723002313752,
           0.3220338983050847,
           0.09420289855072464
          ],
          "vectorType": "dense"
         },
         0
        ],
        [
         {
          "length": 5,
          "values": [
           1.0,
           0.14181823730468748,
           0.46987957621471965,
           0.2542372881355932,
           0.24637681159420288
          ],
          "vectorType": "dense"
         },
         0
        ],
        [
         {
          "length": 5,
          "values": [
           1.0,
           0.14181823730468748,
           0.5542167857936081,
           0.3898305084745763,
           0.17391304347826086
          ],
          "vectorType": "dense"
         },
         0
        ],
        [
         {
          "length": 5,
          "values": [
           1.0,
           0.14181823730468748,
           0.5662650242480307,
           0.3050847457627119,
           0.17391304347826086
          ],
          "vectorType": "dense"
         },
         0
        ],
        [
         {
          "length": 5,
          "values": [
           1.0,
           0.14181823730468748,
           0.6385542251735313,
           0.23728813559322035,
           0.07246376811594203
          ],
          "vectorType": "dense"
         },
         0
        ],
        [
         {
          "length": 5,
          "values": [
           1.0,
           0.1490909923206676,
           0.49397582332253,
           0.2542372881355932,
           0.13043478260869565
          ],
          "vectorType": "dense"
         },
         0
        ],
        [
         {
          "length": 5,
          "values": [
           1.0,
           0.15272730047052557,
           0.7590361501156876,
           0.3050847457627119,
           0.2753623188405797
          ],
          "vectorType": "dense"
         },
         0
        ],
        [
         {
          "length": 5,
          "values": [
           1.0,
           0.16000005548650567,
           0.5783132627024533,
           0.1694915254237288,
           0.08695652173913043
          ],
          "vectorType": "dense"
         },
         0
        ],
        [
         {
          "length": 5,
          "values": [
           1.0,
           0.16363636363636364,
           0.6265059867191087,
           0.2033898305084746,
           0.18115942028985507
          ],
          "vectorType": "dense"
         },
         0
        ],
        [
         {
          "length": 5,
          "values": [
           1.0,
           0.17090911865234373,
           0.6385542251735313,
           0.3559322033898305,
           0.18840579710144928
          ],
          "vectorType": "dense"
         },
         0
        ],
        [
         {
          "length": 5,
          "values": [
           1.0,
           0.1745455655184659,
           0.6506024636279539,
           0.288135593220339,
           0.18840579710144928
          ],
          "vectorType": "dense"
         },
         0
        ],
        [
         {
          "length": 5,
          "values": [
           1.0,
           0.17818187366832386,
           0.397590375289219,
           0.22033898305084745,
           0.15942028985507245
          ],
          "vectorType": "dense"
         },
         0
        ],
        [
         {
          "length": 5,
          "values": [
           1.0,
           0.18545462868430396,
           0.5903615011568758,
           0.1016949152542373,
           0.30434782608695654
          ],
          "vectorType": "dense"
         },
         0
        ],
        [
         {
          "length": 5,
          "values": [
           1.0,
           0.18909093683416192,
           0.4337348608514519,
           0.3389830508474576,
           0.043478260869565216
          ],
          "vectorType": "dense"
         },
         0
        ],
        [
         {
          "length": 5,
          "values": [
           1.0,
           0.19636369185014205,
           0.6867469491901869,
           0.11864406779661017,
           0.036231884057971016
          ],
          "vectorType": "dense"
         },
         0
        ],
        [
         {
          "length": 5,
          "values": [
           1.0,
           0.19999999999999998,
           0.7349396732068424,
           0.15254237288135594,
           0.13043478260869565
          ],
          "vectorType": "dense"
         },
         0
        ],
        [
         {
          "length": 5,
          "values": [
           1.0,
           0.2072727550159801,
           0.5903615011568758,
           0.3559322033898305,
           0.2608695652173913
          ],
          "vectorType": "dense"
         },
         0
        ],
        [
         {
          "length": 5,
          "values": [
           1.0,
           0.21818181818181817,
           0.5301205386857978,
           0.2542372881355932,
           0.16666666666666666
          ],
          "vectorType": "dense"
         },
         0
        ],
        [
         {
          "length": 5,
          "values": [
           1.0,
           0.21818181818181817,
           0.6506024636279539,
           0.3050847457627119,
           0.24637681159420288
          ],
          "vectorType": "dense"
         },
         0
        ],
        [
         {
          "length": 5,
          "values": [
           1.0,
           0.24363639137961646,
           0.8192771125867657,
           0.3050847457627119,
           0.3188405797101449
          ],
          "vectorType": "dense"
         },
         0
        ],
        [
         {
          "length": 5,
          "values": [
           1.0,
           0.2509091463955966,
           0.6626507020823765,
           0.22033898305084745,
           0.2318840579710145
          ],
          "vectorType": "dense"
         },
         0
        ],
        [
         {
          "length": 5,
          "values": [
           1.0,
           0.2581819014115767,
           0.6506024636279539,
           0.3050847457627119,
           0.40579710144927533
          ],
          "vectorType": "dense"
         },
         0
        ],
        [
         {
          "length": 5,
          "values": [
           1.0,
           0.2581819014115767,
           0.9518072759833445,
           0.4067796610169492,
           0.37681159420289856
          ],
          "vectorType": "dense"
         },
         0
        ],
        [
         {
          "length": 5,
          "values": [
           1.0,
           0.2727272727272727,
           0.5903615011568758,
           0.23728813559322035,
           0.463768115942029
          ],
          "vectorType": "dense"
         },
         0
        ],
        [
         {
          "length": 5,
          "values": [
           1.0,
           0.2727272727272727,
           0.6746987107357643,
           0.3050847457627119,
           0.5072463768115942
          ],
          "vectorType": "dense"
         },
         0
        ],
        [
         {
          "length": 5,
          "values": [
           1.0,
           0.2763637195933949,
           0.5662650242480307,
           0.3559322033898305,
           0.40579710144927533
          ],
          "vectorType": "dense"
         },
         0
        ],
        [
         {
          "length": 5,
          "values": [
           1.0,
           0.28000002774325283,
           0.7108434260990321,
           0.2033898305084746,
           0.5217391304347826
          ],
          "vectorType": "dense"
         },
         0
        ],
        [
         {
          "length": 5,
          "values": [
           1.0,
           0.3090909090909091,
           0.48192781466914225,
           0.2542372881355932,
           0.18115942028985507
          ],
          "vectorType": "dense"
         },
         0
        ],
        [
         {
          "length": 5,
          "values": [
           1.0,
           0.3163636641068892,
           0.6867469491901869,
           0.6101694915254238,
           0.42028985507246375
          ],
          "vectorType": "dense"
         },
         0
        ],
        [
         {
          "length": 5,
          "values": [
           1.0,
           0.32000011097301134,
           0.4096386137436415,
           0.2542372881355932,
           0.10144927536231883
          ],
          "vectorType": "dense"
         },
         2
        ],
        [
         {
          "length": 5,
          "values": [
           1.0,
           0.32000011097301134,
           0.6867469491901869,
           0.2033898305084746,
           0.30434782608695654
          ],
          "vectorType": "dense"
         },
         0
        ],
        [
         {
          "length": 5,
          "values": [
           1.0,
           0.32727272727272727,
           0.5903615011568758,
           0.559322033898305,
           0.42028985507246375
          ],
          "vectorType": "dense"
         },
         0
        ],
        [
         {
          "length": 5,
          "values": [
           1.0,
           0.32727272727272727,
           0.6987951876446095,
           0.1694915254237288,
           0.16666666666666666
          ],
          "vectorType": "dense"
         },
         0
        ],
        [
         {
          "length": 5,
          "values": [
           1.0,
           0.3345454822887074,
           0.8554215981489987,
           0.3728813559322034,
           0.20289855072463767
          ],
          "vectorType": "dense"
         },
         0
        ],
        [
         {
          "length": 5,
          "values": [
           1.0,
           0.34181823730468747,
           0.6385542251735313,
           0.4915254237288136,
           0.3333333333333333
          ],
          "vectorType": "dense"
         },
         0
        ],
        [
         {
          "length": 5,
          "values": [
           1.0,
           0.3672728105024858,
           0.6385542251735313,
           0.13559322033898305,
           0.20289855072463767
          ],
          "vectorType": "dense"
         },
         0
        ],
        [
         {
          "length": 5,
          "values": [
           1.0,
           0.3709091186523437,
           0.9638555144377671,
           0.3220338983050847,
           0.37681159420289856
          ],
          "vectorType": "dense"
         },
         0
        ],
        [
         {
          "length": 5,
          "values": [
           1.0,
           0.3745455655184659,
           0.49397582332253,
           0.15254237288135594,
           0.21739130434782608
          ],
          "vectorType": "dense"
         },
         2
        ],
        [
         {
          "length": 5,
          "values": [
           1.0,
           0.37818187366832384,
           0.4216868521980641,
           0.2542372881355932,
           0.14492753623188406
          ],
          "vectorType": "dense"
         },
         2
        ],
        [
         {
          "length": 5,
          "values": [
           1.0,
           0.37818187366832384,
           0.49397582332253,
           0.2542372881355932,
           0.14492753623188406
          ],
          "vectorType": "dense"
         },
         2
        ],
        [
         {
          "length": 5,
          "values": [
           1.0,
           0.40363644686612216,
           0.4096386137436415,
           0.2542372881355932,
           0.014492753623188406
          ],
          "vectorType": "dense"
         },
         2
        ],
        [
         {
          "length": 5,
          "values": [
           1.0,
           0.43636363636363634,
           0.7831326270245328,
           0.4067796610169492,
           0.4492753623188406
          ],
          "vectorType": "dense"
         },
         0
        ],
        [
         {
          "length": 5,
          "values": [
           1.0,
           0.47636371959339485,
           0.4096386137436415,
           0.3220338983050847,
           0.11594202898550725
          ],
          "vectorType": "dense"
         },
         2
        ],
        [
         {
          "length": 5,
          "values": [
           1.0,
           0.4872727827592329,
           0.45783133776029705,
           0.4067796610169492,
           0.18840579710144928
          ],
          "vectorType": "dense"
         },
         2
        ],
        [
         {
          "length": 5,
          "values": [
           1.0,
           0.4909090909090909,
           0.746987911661265,
           0.3728813559322034,
           0.1956521739130435
          ],
          "vectorType": "dense"
         },
         2
        ],
        [
         {
          "length": 5,
          "values": [
           1.0,
           0.5054546009410511,
           0.6867469491901869,
           0.3898305084745763,
           0.37681159420289856
          ],
          "vectorType": "dense"
         },
         2
        ],
        [
         {
          "length": 5,
          "values": [
           1.0,
           0.509090909090909,
           0.6024097396112984,
           0.1016949152542373,
           0.11594202898550725
          ],
          "vectorType": "dense"
         },
         2
        ],
        [
         {
          "length": 5,
          "values": [
           1.0,
           0.5127273559570312,
           0.5180723002313752,
           0.2542372881355932,
           0.2318840579710145
          ],
          "vectorType": "dense"
         },
         2
        ],
        [
         {
          "length": 5,
          "values": [
           1.0,
           0.5200001109730114,
           0.5542167857936081,
           0.3220338983050847,
           0.24637681159420288
          ],
          "vectorType": "dense"
         },
         2
        ],
        [
         {
          "length": 5,
          "values": [
           1.0,
           0.5200001109730114,
           0.6506024636279539,
           0.3050847457627119,
           0.17391304347826086
          ],
          "vectorType": "dense"
         },
         2
        ],
        [
         {
          "length": 5,
          "values": [
           1.0,
           0.5236364191228693,
           0.5662650242480307,
           0.3389830508474576,
           0.18840579710144928
          ],
          "vectorType": "dense"
         },
         2
        ],
        [
         {
          "length": 5,
          "values": [
           1.0,
           0.5272727272727272,
           0.5542167857936081,
           0.3559322033898305,
           0.2753623188405797
          ],
          "vectorType": "dense"
         },
         2
        ],
        [
         {
          "length": 5,
          "values": [
           1.0,
           0.5309091741388494,
           0.5662650242480307,
           0.3898305084745763,
           0.13043478260869565
          ],
          "vectorType": "dense"
         },
         2
        ],
        [
         {
          "length": 5,
          "values": [
           1.0,
           0.5345454822887074,
           0.397590375289219,
           0.288135593220339,
           0.2318840579710145
          ],
          "vectorType": "dense"
         },
         2
        ],
        [
         {
          "length": 5,
          "values": [
           1.0,
           0.5418182373046875,
           0.49397582332253,
           0.22033898305084745,
           0.24637681159420288
          ],
          "vectorType": "dense"
         },
         2
        ],
        [
         {
          "length": 5,
          "values": [
           1.0,
           0.5600000554865057,
           0.4337348608514519,
           0.4576271186440678,
           0.30434782608695654
          ],
          "vectorType": "dense"
         },
         2
        ],
        [
         {
          "length": 5,
          "values": [
           1.0,
           0.5636363636363636,
           0.6144577482646862,
           0.3898305084745763,
           0.2898550724637681
          ],
          "vectorType": "dense"
         },
         2
        ],
        [
         {
          "length": 5,
          "values": [
           1.0,
           0.5818181818181818,
           0.3855421368347964,
           0.4576271186440678,
           0.13768115942028986
          ],
          "vectorType": "dense"
         },
         2
        ],
        [
         {
          "length": 5,
          "values": [
           1.0,
           0.596363691850142,
           0.5180723002313752,
           0.3220338983050847,
           0.15942028985507245
          ],
          "vectorType": "dense"
         },
         2
        ],
        [
         {
          "length": 5,
          "values": [
           1.0,
           0.6145455100319602,
           0.7710843885701102,
           0.6779661016949152,
           0.42028985507246375
          ],
          "vectorType": "dense"
         },
         2
        ],
        [
         {
          "length": 5,
          "values": [
           1.0,
           0.6218182650479404,
           0.6024097396112984,
           0.3898305084745763,
           0.4492753623188406
          ],
          "vectorType": "dense"
         },
         2
        ],
        [
         {
          "length": 5,
          "values": [
           1.0,
           0.6254545731977983,
           0.8072288741323431,
           0.5254237288135594,
           0.34782608695652173
          ],
          "vectorType": "dense"
         },
         2
        ],
        [
         {
          "length": 5,
          "values": [
           1.0,
           0.6327273282137784,
           0.6987951876446095,
           0.4745762711864407,
           0.2753623188405797
          ],
          "vectorType": "dense"
         },
         2
        ],
        [
         {
          "length": 5,
          "values": [
           1.0,
           0.6363636363636364,
           0.6024097396112984,
           0.3559322033898305,
           0.2681159420289855
          ],
          "vectorType": "dense"
         },
         2
        ],
        [
         {
          "length": 5,
          "values": [
           1.0,
           0.6436363913796165,
           0.49397582332253,
           0.4406779661016949,
           0.2391304347826087
          ],
          "vectorType": "dense"
         },
         2
        ],
        [
         {
          "length": 5,
          "values": [
           1.0,
           0.6545454545454545,
           0.5662650242480307,
           0.3050847457627119,
           0.15942028985507245
          ],
          "vectorType": "dense"
         },
         2
        ],
        [
         {
          "length": 5,
          "values": [
           1.0,
           0.6618182095614347,
           0.8192771125867657,
           0.423728813559322,
           0.13043478260869565
          ],
          "vectorType": "dense"
         },
         2
        ],
        [
         {
          "length": 5,
          "values": [
           1.0,
           0.6690909645774148,
           0.7710843885701102,
           0.4915254237288136,
           0.34782608695652173
          ],
          "vectorType": "dense"
         },
         2
        ],
        [
         {
          "length": 5,
          "values": [
           1.0,
           0.6800000277432529,
           0.6385542251735313,
           0.4915254237288136,
           0.463768115942029
          ],
          "vectorType": "dense"
         },
         2
        ],
        [
         {
          "length": 5,
          "values": [
           1.0,
           0.6800000277432529,
           0.6987951876446095,
           0.6440677966101694,
           0.36231884057971014
          ],
          "vectorType": "dense"
         },
         2
        ],
        [
         {
          "length": 5,
          "values": [
           1.0,
           0.6836364746093749,
           0.7108434260990321,
           0.4067796610169492,
           0.20289855072463767
          ],
          "vectorType": "dense"
         },
         2
        ],
        [
         {
          "length": 5,
          "values": [
           1.0,
           0.6872727827592329,
           0.6746987107357643,
           0.5254237288135594,
           0.36231884057971014
          ],
          "vectorType": "dense"
         },
         2
        ],
        [
         {
          "length": 5,
          "values": [
           1.0,
           0.698181845925071,
           0.6024097396112984,
           0.423728813559322,
           0.2608695652173913
          ],
          "vectorType": "dense"
         },
         2
        ],
        [
         {
          "length": 5,
          "values": [
           1.0,
           0.698181845925071,
           0.7228916645534547,
           0.3559322033898305,
           0.2318840579710145
          ],
          "vectorType": "dense"
         },
         2
        ],
        [
         {
          "length": 5,
          "values": [
           1.0,
           0.7018182927911931,
           0.6987951876446095,
           0.4915254237288136,
           0.3188405797101449
          ],
          "vectorType": "dense"
         },
         2
        ],
        [
         {
          "length": 5,
          "values": [
           1.0,
           0.7054546009410511,
           0.6626507020823765,
           0.2542372881355932,
           0.11594202898550725
          ],
          "vectorType": "dense"
         },
         2
        ],
        [
         {
          "length": 5,
          "values": [
           1.0,
           0.7236364191228692,
           0.6987951876446095,
           0.423728813559322,
           0.37681159420289856
          ],
          "vectorType": "dense"
         },
         2
        ],
        [
         {
          "length": 5,
          "values": [
           1.0,
           0.7236364191228692,
           0.9036145519666889,
           0.6440677966101694,
           0.5652173913043478
          ],
          "vectorType": "dense"
         },
         2
        ],
        [
         {
          "length": 5,
          "values": [
           1.0,
           0.7490909923206676,
           0.7951806356779205,
           0.423728813559322,
           0.2536231884057971
          ],
          "vectorType": "dense"
         },
         2
        ],
        [
         {
          "length": 5,
          "values": [
           1.0,
           0.7527273004705255,
           0.8192771125867657,
           0.559322033898305,
           0.49275362318840576
          ],
          "vectorType": "dense"
         },
         2
        ],
        [
         {
          "length": 5,
          "values": [
           1.0,
           0.7781818736683238,
           0.8072288741323431,
           0.559322033898305,
           0.4782608695652174
          ],
          "vectorType": "dense"
         },
         2
        ],
        [
         {
          "length": 5,
          "values": [
           1.0,
           0.8036364468661221,
           0.9156625606200767,
           0.4915254237288136,
           0.42028985507246375
          ],
          "vectorType": "dense"
         },
         2
        ],
        [
         {
          "length": 5,
          "values": [
           1.0,
           0.9418182373046875,
           0.5542167857936081,
           0.15254237288135594,
           0.24637681159420288
          ],
          "vectorType": "dense"
         },
         2
        ],
        [
         {
          "length": 5,
          "values": [
           2.0,
           0.050909146395596586,
           0.6987951876446095,
           0.3050847457627119,
           0.21739130434782608
          ],
          "vectorType": "dense"
         },
         0
        ],
        [
         {
          "length": 5,
          "values": [
           2.0,
           0.083636474609375,
           0.6265059867191087,
           0.2033898305084746,
           0.13768115942028986
          ],
          "vectorType": "dense"
         },
         0
        ],
        [
         {
          "length": 5,
          "values": [
           2.0,
           0.09090909090909091,
           0.9518072759833445,
           0.4406779661016949,
           0.4492753623188406
          ],
          "vectorType": "dense"
         },
         0
        ],
        [
         {
          "length": 5,
          "values": [
           2.0,
           0.11272735595703125,
           0.32530117436371825,
           0.23728813559322035,
           0.057971014492753624
          ],
          "vectorType": "dense"
         },
         0
        ],
        [
         {
          "length": 5,
          "values": [
           2.0,
           0.12363641912286931,
           0.5180723002313752,
           0.3050847457627119,
           0.24637681159420288
          ],
          "vectorType": "dense"
         },
         0
        ],
        [
         {
          "length": 5,
          "values": [
           2.0,
           0.13090917413884942,
           0.45783133776029705,
           0.288135593220339,
           0.14492753623188406
          ],
          "vectorType": "dense"
         },
         0
        ],
        [
         {
          "length": 5,
          "values": [
           2.0,
           0.1490909923206676,
           0.34939765127256345,
           0.2542372881355932,
           0.20289855072463767
          ],
          "vectorType": "dense"
         },
         0
        ],
        [
         {
          "length": 5,
          "values": [
           2.0,
           0.1672728105024858,
           0.7349396732068424,
           0.3559322033898305,
           0.17391304347826086
          ],
          "vectorType": "dense"
         },
         0
        ],
        [
         {
          "length": 5,
          "values": [
           2.0,
           0.18545462868430396,
           0.746987911661265,
           0.2033898305084746,
           0.30434782608695654
          ],
          "vectorType": "dense"
         },
         0
        ],
        [
         {
          "length": 5,
          "values": [
           2.0,
           0.20363644686612214,
           0.7951806356779205,
           0.4406779661016949,
           0.18840579710144928
          ],
          "vectorType": "dense"
         },
         0
        ],
        [
         {
          "length": 5,
          "values": [
           2.0,
           0.2072727550159801,
           0.46987957621471965,
           0.23728813559322035,
           0.13043478260869565
          ],
          "vectorType": "dense"
         },
         0
        ],
        [
         {
          "length": 5,
          "values": [
           2.0,
           0.24000008322975852,
           0.6987951876446095,
           0.3898305084745763,
           0.17391304347826086
          ],
          "vectorType": "dense"
         },
         0
        ],
        [
         {
          "length": 5,
          "values": [
           2.0,
           0.24363639137961646,
           0.5301205386857978,
           0.3220338983050847,
           0.12318840579710144
          ],
          "vectorType": "dense"
         },
         0
        ],
        [
         {
          "length": 5,
          "values": [
           2.0,
           0.24727283824573862,
           0.5542167857936081,
           0.15254237288135594,
           0.2246376811594203
          ],
          "vectorType": "dense"
         },
         0
        ],
        [
         {
          "length": 5,
          "values": [
           2.0,
           0.2509091463955966,
           0.46987957621471965,
           0.3220338983050847,
           0.057971014492753624
          ],
          "vectorType": "dense"
         },
         0
        ],
        [
         {
          "length": 5,
          "values": [
           2.0,
           0.2545454545454545,
           0.6626507020823765,
           0.15254237288135594,
           0.2608695652173913
          ],
          "vectorType": "dense"
         },
         0
        ],
        [
         {
          "length": 5,
          "values": [
           2.0,
           0.2581819014115767,
           0.7710843885701102,
           0.3898305084745763,
           0.5289855072463768
          ],
          "vectorType": "dense"
         },
         0
        ],
        [
         {
          "length": 5,
          "values": [
           2.0,
           0.2727272727272727,
           0.48192781466914225,
           0.4067796610169492,
           0.20289855072463767
          ],
          "vectorType": "dense"
         },
         0
        ],
        [
         {
          "length": 5,
          "values": [
           2.0,
           0.298181845925071,
           0.5783132627024533,
           0.3898305084745763,
           0.11594202898550725
          ],
          "vectorType": "dense"
         },
         0
        ],
        [
         {
          "length": 5,
          "values": [
           2.0,
           0.32000011097301134,
           0.4337348608514519,
           0.3220338983050847,
           0.24637681159420288
          ],
          "vectorType": "dense"
         },
         0
        ],
        [
         {
          "length": 5,
          "values": [
           2.0,
           0.32727272727272727,
           0.5301205386857978,
           0.1694915254237288,
           0.10144927536231883
          ],
          "vectorType": "dense"
         },
         0
        ],
        [
         {
          "length": 5,
          "values": [
           2.0,
           0.32727272727272727,
           0.6506024636279539,
           0.288135593220339,
           0.13768115942028986
          ],
          "vectorType": "dense"
         },
         0
        ],
        [
         {
          "length": 5,
          "values": [
           2.0,
           0.33818192915482953,
           0.6385542251735313,
           0.5084745762711864,
           0.2971014492753623
          ],
          "vectorType": "dense"
         },
         0
        ],
        [
         {
          "length": 5,
          "values": [
           2.0,
           0.34181823730468747,
           0.6144577482646862,
           0.3898305084745763,
           0.42028985507246375
          ],
          "vectorType": "dense"
         },
         0
        ],
        [
         {
          "length": 5,
          "values": [
           2.0,
           0.35272730047052553,
           0.746987911661265,
           0.4406779661016949,
           0.463768115942029
          ],
          "vectorType": "dense"
         },
         0
        ],
        [
         {
          "length": 5,
          "values": [
           2.0,
           0.36000005548650565,
           0.8433735894956108,
           0.3050847457627119,
           0.40579710144927533
          ],
          "vectorType": "dense"
         },
         0
        ],
        [
         {
          "length": 5,
          "values": [
           2.0,
           0.36363636363636365,
           0.7108434260990321,
           0.3898305084745763,
           0.3333333333333333
          ],
          "vectorType": "dense"
         },
         0
        ],
        [
         {
          "length": 5,
          "values": [
           2.0,
           0.37818187366832384,
           0.9036145519666889,
           0.423728813559322,
           0.4782608695652174
          ],
          "vectorType": "dense"
         },
         0
        ],
        [
         {
          "length": 5,
          "values": [
           2.0,
           0.3890909368341619,
           0.6385542251735313,
           0.3898305084745763,
           0.40579710144927533
          ],
          "vectorType": "dense"
         },
         0
        ],
        [
         {
          "length": 5,
          "values": [
           2.0,
           0.3927273837002841,
           0.5301205386857978,
           0.4067796610169492,
           0.536231884057971
          ],
          "vectorType": "dense"
         },
         0
        ],
        [
         {
          "length": 5,
          "values": [
           2.0,
           0.43636363636363634,
           0.5783132627024533,
           0.6440677966101694,
           0.3333333333333333
          ],
          "vectorType": "dense"
         },
         0
        ],
        [
         {
          "length": 5,
          "values": [
           2.0,
           0.5054546009410511,
           1.0,
           0.3728813559322034,
           0.391304347826087
          ],
          "vectorType": "dense"
         },
         0
        ]
       ],
       "datasetInfos": [],
       "dbfsResultPath": null,
       "isJsonSchema": true,
       "metadata": {},
       "overflow": false,
       "plotOptions": {
        "customPlotOptions": {},
        "displayType": "table",
        "pivotAggregation": null,
        "pivotColumns": null,
        "xColumns": null,
        "yColumns": null
       },
       "removedWidgets": [],
       "schema": [
        {
         "metadata": "{\"ml_attr\":{\"attrs\":{\"numeric\":[{\"idx\":1,\"name\":\"normalizedFeatures_0\"},{\"idx\":2,\"name\":\"normalizedFeatures_1\"},{\"idx\":3,\"name\":\"normalizedFeatures_2\"},{\"idx\":4,\"name\":\"normalizedFeatures_3\"}],\"nominal\":[{\"vals\":[\"Biscoe\",\"Dream\",\"Torgersen\"],\"idx\":0,\"name\":\"IslandIdx\"}]},\"num_attrs\":5}}",
         "name": "features",
         "type": "{\"type\":\"udt\",\"class\":\"org.apache.spark.ml.linalg.VectorUDT\",\"pyClass\":\"pyspark.ml.linalg.VectorUDT\",\"sqlType\":{\"type\":\"struct\",\"fields\":[{\"name\":\"type\",\"type\":\"byte\",\"nullable\":false,\"metadata\":{}},{\"name\":\"size\",\"type\":\"integer\",\"nullable\":true,\"metadata\":{}},{\"name\":\"indices\",\"type\":{\"type\":\"array\",\"elementType\":\"integer\",\"containsNull\":false},\"nullable\":true,\"metadata\":{}},{\"name\":\"values\",\"type\":{\"type\":\"array\",\"elementType\":\"double\",\"containsNull\":false},\"nullable\":true,\"metadata\":{}}]}}"
        },
        {
         "metadata": "{}",
         "name": "label",
         "type": "\"integer\""
        }
       ],
       "type": "table"
      }
     },
     "output_type": "display_data"
    }
   ],
   "source": [
    "featVect = VectorAssembler(inputCols=[\"IslandIdx\", \"normalizedFeatures\"], outputCol=\"featuresVector\")\n",
    "preppedData = featVect.transform(scaledData)[col(\"featuresVector\").alias(\"features\"), col(\"Species\").alias(\"label\")]\n",
    "display(preppedData)"
   ]
  },
  {
   "cell_type": "code",
   "execution_count": 0,
   "metadata": {
    "application/vnd.databricks.v1+cell": {
     "cellMetadata": {
      "byteLimit": 2048000,
      "rowLimit": 10000
     },
     "inputWidgets": {},
     "nuid": "4972781a-2899-4ab3-80ca-667d05aba70d",
     "showTitle": false,
     "title": ""
    }
   },
   "outputs": [
    {
     "output_type": "stream",
     "name": "stdout",
     "output_type": "stream",
     "text": [
      "Model trained!\n"
     ]
    }
   ],
   "source": [
    "from pyspark.ml.classification import LogisticRegression\n",
    "\n",
    "lr = LogisticRegression(labelCol=\"label\", featuresCol=\"features\", maxIter=10, regParam=0.3)\n",
    "model = lr.fit(preppedData)\n",
    "print (\"Model trained!\")"
   ]
  },
  {
   "cell_type": "code",
   "execution_count": 0,
   "metadata": {
    "application/vnd.databricks.v1+cell": {
     "cellMetadata": {
      "byteLimit": 2048000,
      "rowLimit": 10000
     },
     "inputWidgets": {},
     "nuid": "250752c9-84e6-4223-8374-980c148393b5",
     "showTitle": false,
     "title": ""
    }
   },
   "outputs": [
    {
     "output_type": "display_data",
     "data": {
      "text/html": [
       "<style scoped>\n",
       "  .table-result-container {\n",
       "    max-height: 300px;\n",
       "    overflow: auto;\n",
       "  }\n",
       "  table, th, td {\n",
       "    border: 1px solid black;\n",
       "    border-collapse: collapse;\n",
       "  }\n",
       "  th, td {\n",
       "    padding: 5px;\n",
       "  }\n",
       "  th {\n",
       "    text-align: left;\n",
       "  }\n",
       "</style><div class='table-result-container'><table class='table-result'><thead style='background-color: white'><tr><th>features</th><th>probability</th><th>prediction</th><th>trueLabel</th></tr></thead><tbody><tr><td>Map(vectorType -> dense, length -> 5, values -> List(0.0, 0.061224489795918366, 0.5263157630561145, 0.22641509433962265, 0.14285714285714285))</td><td>Map(vectorType -> dense, length -> 3, values -> List(0.8411390553660385, 0.0735510041240996, 0.08530994050986192))</td><td>0</td><td>0</td></tr><tr><td>Map(vectorType -> dense, length -> 5, values -> List(0.0, 0.061224489795918366, 0.5263157630561145, 0.2641509433962264, 0.22556390977443608))</td><td>Map(vectorType -> dense, length -> 3, values -> List(0.8258611896268931, 0.0919286464821688, 0.08221016389093813))</td><td>0</td><td>0</td></tr><tr><td>Map(vectorType -> dense, length -> 5, values -> List(0.0, 0.08163265306122448, 0.3026317143374135, 0.32075471698113206, 0.11278195488721804))</td><td>Map(vectorType -> dense, length -> 3, values -> List(0.7481851862105139, 0.15451150699123412, 0.09730330679825198))</td><td>0</td><td>0</td></tr><tr><td>Map(vectorType -> dense, length -> 5, values -> List(0.0, 0.08979594950773277, 0.39473682229208584, 0.1320754716981132, 0.05263157894736842))</td><td>Map(vectorType -> dense, length -> 3, values -> List(0.8226381499249894, 0.07702097925966402, 0.1003408708153467))</td><td>0</td><td>0</td></tr><tr><td>Map(vectorType -> dense, length -> 5, values -> List(0.0, 0.17142860256895726, 0.27631582579784264, 0.09433962264150943, 0.03007518796992481))</td><td>Map(vectorType -> dense, length -> 3, values -> List(0.7500476090280163, 0.11171804585355123, 0.13823434511843247))</td><td>0</td><td>0</td></tr><tr><td>Map(vectorType -> dense, length -> 5, values -> List(0.0, 0.17142860256895726, 0.631579066247485, 0.03773584905660377, 0.18796992481203006))</td><td>Map(vectorType -> dense, length -> 3, values -> List(0.8281941985725518, 0.05354042665256565, 0.11826537477488248))</td><td>0</td><td>0</td></tr><tr><td>Map(vectorType -> dense, length -> 5, values -> List(0.0, 0.19183676583426337, 0.5526316515956853, 0.1320754716981132, 0.2932330827067669))</td><td>Map(vectorType -> dense, length -> 3, values -> List(0.7737179911963269, 0.10115063371013142, 0.12513137509354177))</td><td>0</td><td>0</td></tr><tr><td>Map(vectorType -> dense, length -> 5, values -> List(0.0, 0.19183676583426337, 0.8026315888539571, 0.22641509433962265, 0.2781954887218045))</td><td>Map(vectorType -> dense, length -> 3, values -> List(0.8122472261067182, 0.06465101429661459, 0.1231017595966673))</td><td>0</td><td>0</td></tr><tr><td>Map(vectorType -> dense, length -> 5, values -> List(0.0, 0.20816320302535074, 0.43421065510144213, 0.3962264150943396, 0.23308270676691728))</td><td>Map(vectorType -> dense, length -> 3, values -> List(0.6512524316792642, 0.21054895857977876, 0.13819860974095705))</td><td>0</td><td>0</td></tr><tr><td>Map(vectorType -> dense, length -> 5, values -> List(0.0, 0.22448979591836732, 0.4736842369438856, 0.1509433962264151, 0.17293233082706766))</td><td>Map(vectorType -> dense, length -> 3, values -> List(0.7362182745119917, 0.11201526675261707, 0.15176645873539119))</td><td>0</td><td>0</td></tr><tr><td>Map(vectorType -> dense, length -> 5, values -> List(0.0, 0.248979529555963, 0.8947369477755424, 0.24528301886792453, 0.2781954887218045))</td><td>Map(vectorType -> dense, length -> 3, values -> List(0.7892109717174386, 0.061325929536449046, 0.14946309874611236))</td><td>0</td><td>0</td></tr><tr><td>Map(vectorType -> dense, length -> 5, values -> List(0.0, 0.2530612556301817, 0.5000001254834564, 0.2830188679245283, 0.06766917293233082))</td><td>Map(vectorType -> dense, length -> 3, values -> List(0.6978974596512627, 0.12268985091798183, 0.1794126894307554))</td><td>0</td><td>0</td></tr><tr><td>Map(vectorType -> dense, length -> 5, values -> List(0.0, 0.2530612556301817, 0.6578947038201431, 0.11320754716981132, 0.17293233082706766))</td><td>Map(vectorType -> dense, length -> 3, values -> List(0.7672721142079096, 0.0701757286275298, 0.1625521571645607))</td><td>0</td><td>0</td></tr><tr><td>Map(vectorType -> dense, length -> 5, values -> List(0.0, 0.3061224489795918, 0.8026315888539571, 0.4716981132075472, 0.5263157894736842))</td><td>Map(vectorType -> dense, length -> 3, values -> List(0.6324490136253516, 0.20700413339182602, 0.16054685298282245))</td><td>0</td><td>0</td></tr><tr><td>Map(vectorType -> dense, length -> 5, values -> List(0.0, 0.31020401935188135, 0.6842105923597139, 0.18867924528301885, 0.3383458646616541))</td><td>Map(vectorType -> dense, length -> 3, values -> List(0.7009664203443663, 0.11639022737216896, 0.18264335228346484))</td><td>0</td><td>0</td></tr><tr><td>Map(vectorType -> dense, length -> 5, values -> List(0.0, 0.33469390869140625, 0.10526317770791417, 0.6037735849056604, 0.518796992481203))</td><td>Map(vectorType -> dense, length -> 3, values -> List(0.20835764291586054, 0.7037311254393582, 0.08791123164478129))</td><td>1</td><td>1</td></tr><tr><td>Map(vectorType -> dense, length -> 5, values -> List(0.0, 0.379591805594308, 0.039473707325899866, 0.5849056603773585, 0.518796992481203))</td><td>Map(vectorType -> dense, length -> 3, values -> List(0.16623458438565958, 0.7461207868991216, 0.08764462871521872))</td><td>1</td><td>1</td></tr><tr><td>Map(vectorType -> dense, length -> 5, values -> List(0.0, 0.44897959183673464, 0.10526317770791417, 0.6792452830188679, 0.5639097744360902))</td><td>Map(vectorType -> dense, length -> 3, values -> List(0.12348248863476821, 0.7882698997633734, 0.0882476116018585))</td><td>1</td><td>1</td></tr><tr><td>Map(vectorType -> dense, length -> 5, values -> List(0.0, 0.4734693254743303, 0.07894741465179973, 0.5471698113207547, 0.6240601503759399))</td><td>Map(vectorType -> dense, length -> 3, values -> List(0.12832346757953936, 0.7765518066386065, 0.09512472578185434))</td><td>1</td><td>1</td></tr><tr><td>Map(vectorType -> dense, length -> 5, values -> List(0.0, 0.48571434799505736, 0.09210535892158514, 0.6226415094339622, 0.5488721804511278))</td><td>Map(vectorType -> dense, length -> 3, values -> List(0.12233152698854892, 0.7759132251373757, 0.10175524787407526))</td><td>1</td><td>1</td></tr><tr><td>Map(vectorType -> dense, length -> 5, values -> List(0.0, 0.4897959183673469, 0.0, 0.6037735849056604, 0.3684210526315789))</td><td>Map(vectorType -> dense, length -> 3, values -> List(0.13062245001495368, 0.7457058295144782, 0.12367172047056835))</td><td>1</td><td>1</td></tr><tr><td>Map(vectorType -> dense, length -> 5, values -> List(0.0, 0.4897959183673469, 0.07894741465179973, 0.6415094339622641, 0.5338345864661654))</td><td>Map(vectorType -> dense, length -> 3, values -> List(0.11558358641423117, 0.7844262131695876, 0.09999020041618116))</td><td>1</td><td>1</td></tr><tr><td>Map(vectorType -> dense, length -> 5, values -> List(0.0, 0.5183673780791613, 0.026315888539570835, 0.7358490566037735, 0.42105263157894735))</td><td>Map(vectorType -> dense, length -> 3, values -> List(0.091720243440343, 0.8071050069749294, 0.10117474958472777))</td><td>1</td><td>1</td></tr><tr><td>Map(vectorType -> dense, length -> 5, values -> List(0.0, 0.5306122448979591, 0.06578947038201431, 0.7358490566037735, 0.5789473684210527))</td><td>Map(vectorType -> dense, length -> 3, values -> List(0.07681526995198089, 0.8410433500210428, 0.08214138002697632))</td><td>1</td><td>1</td></tr><tr><td>Map(vectorType -> dense, length -> 5, values -> List(0.0, 0.5306122448979591, 0.11842112197769959, 0.7358490566037735, 0.6691729323308271))</td><td>Map(vectorType -> dense, length -> 3, values -> List(0.07600635715711393, 0.847666019972513, 0.07632762287037304))</td><td>1</td><td>1</td></tr><tr><td>Map(vectorType -> dense, length -> 5, values -> List(0.0, 0.5387755413444675, 0.1842105923597139, 0.7735849056603773, 0.6691729323308271))</td><td>Map(vectorType -> dense, length -> 3, values -> List(0.08018584289668208, 0.8373656783597373, 0.08244847874358051))</td><td>1</td><td>1</td></tr><tr><td>Map(vectorType -> dense, length -> 5, values -> List(0.0, 0.542857111716757, 0.05263165159568528, 0.6981132075471698, 0.5639097744360902))</td><td>Map(vectorType -> dense, length -> 3, values -> List(0.07917065222524917, 0.8317899732441654, 0.08903937453058537))</td><td>1</td><td>1</td></tr><tr><td>Map(vectorType -> dense, length -> 5, values -> List(0.0, 0.542857111716757, 0.2894737700676281, 0.6981132075471698, 0.7593984962406015))</td><td>Map(vectorType -> dense, length -> 3, values -> List(0.10308263264622507, 0.801238586366995, 0.09567878098677998))</td><td>1</td><td>1</td></tr><tr><td>Map(vectorType -> dense, length -> 5, values -> List(0.0, 0.5632652749820631, 0.1842105923597139, 0.830188679245283, 0.6842105263157895))</td><td>Map(vectorType -> dense, length -> 3, values -> List(0.06457548453196783, 0.8599023665632378, 0.07552214890479432))</td><td>1</td><td>1</td></tr><tr><td>Map(vectorType -> dense, length -> 5, values -> List(0.0, 0.6000000311403858, 0.22368429968561376, 0.8113207547169811, 0.6390977443609023))</td><td>Map(vectorType -> dense, length -> 3, values -> List(0.07035860724003416, 0.8332970657194797, 0.09634432704048614))</td><td>1</td><td>1</td></tr><tr><td>Map(vectorType -> dense, length -> 5, values -> List(0.0, 0.6081633275868941, 0.06578947038201431, 0.4716981132075472, 0.49624060150375937))</td><td>Map(vectorType -> dense, length -> 3, values -> List(0.1131726324952135, 0.7291187460020746, 0.15770862150271192))</td><td>1</td><td>1</td></tr><tr><td>Map(vectorType -> dense, length -> 5, values -> List(0.0, 0.6081633275868941, 0.3157894076402861, 0.7924528301886792, 0.7293233082706767))</td><td>Map(vectorType -> dense, length -> 3, values -> List(0.07745198199142883, 0.8219300459156728, 0.10061797209289856))</td><td>1</td><td>1</td></tr><tr><td>Map(vectorType -> dense, length -> 5, values -> List(0.0, 0.6122448979591836, 0.026315888539570835, 0.7924528301886792, 0.6992481203007519))</td><td>Map(vectorType -> dense, length -> 3, values -> List(0.03954717682247451, 0.8999807633003731, 0.06047205987715238))</td><td>1</td><td>1</td></tr><tr><td>Map(vectorType -> dense, length -> 5, values -> List(0.0, 0.620408194405692, 0.2368421184719428, 0.5660377358490566, 0.7142857142857143))</td><td>Map(vectorType -> dense, length -> 3, values -> List(0.09926882735245804, 0.7723298101185501, 0.12840136252899176))</td><td>1</td><td>1</td></tr><tr><td>Map(vectorType -> dense, length -> 5, values -> List(0.0, 0.6244897647779815, 0.3026317143374135, 0.830188679245283, 0.9097744360902256))</td><td>Map(vectorType -> dense, length -> 3, values -> List(0.05002456601227766, 0.883780303105138, 0.06619513088258433))</td><td>1</td><td>1</td></tr><tr><td>Map(vectorType -> dense, length -> 5, values -> List(0.0, 0.6326530612244897, 0.2894737700676281, 0.7169811320754716, 0.7744360902255639))</td><td>Map(vectorType -> dense, length -> 3, values -> List(0.07352885776557816, 0.8241790569942612, 0.1022920852401606))</td><td>1</td><td>1</td></tr><tr><td>Map(vectorType -> dense, length -> 5, values -> List(0.0, 0.6367346315967792, 0.07894741465179973, 0.6415094339622641, 0.49624060150375937))</td><td>Map(vectorType -> dense, length -> 3, values -> List(0.077271509025161, 0.7914198532899123, 0.1313086376849267))</td><td>1</td><td>1</td></tr><tr><td>Map(vectorType -> dense, length -> 5, values -> List(0.0, 0.6367346315967792, 0.11842112197769959, 0.7924528301886792, 0.6541353383458647))</td><td>Map(vectorType -> dense, length -> 3, values -> List(0.04939284490790701, 0.8681871397828326, 0.08242001530926048))</td><td>1</td><td>1</td></tr><tr><td>Map(vectorType -> dense, length -> 5, values -> List(0.0, 0.6367346315967792, 0.14473688503381404, 0.9433962264150944, 0.7593984962406015))</td><td>Map(vectorType -> dense, length -> 3, values -> List(0.032144926952305364, 0.913652140933495, 0.05420293211419966))</td><td>1</td><td>1</td></tr><tr><td>Map(vectorType -> dense, length -> 5, values -> List(0.0, 0.640816357670998, 0.17105264808992848, 0.8113207547169811, 1.0))</td><td>Map(vectorType -> dense, length -> 3, values -> List(0.030568931637727382, 0.9253581298618818, 0.0440729385003908))</td><td>1</td><td>1</td></tr><tr><td>Map(vectorType -> dense, length -> 5, values -> List(0.0, 0.6448979280432876, 0.2368421184719428, 0.7358490566037735, 0.8646616541353384))</td><td>Map(vectorType -> dense, length -> 3, values -> List(0.052306601880903976, 0.8713109872589111, 0.0763824108601849))</td><td>1</td><td>1</td></tr><tr><td>Map(vectorType -> dense, length -> 5, values -> List(0.0, 0.6530612244897959, 0.3026317143374135, 0.9622641509433962, 0.849624060150376))</td><td>Map(vectorType -> dense, length -> 3, values -> List(0.0377575688237621, 0.9003978646113048, 0.061844566564933194))</td><td>1</td><td>1</td></tr><tr><td>Map(vectorType -> dense, length -> 5, values -> List(0.0, 0.673469387755102, 0.17105264808992848, 0.7547169811320754, 0.8195488721804511))</td><td>Map(vectorType -> dense, length -> 3, values -> List(0.041815248250813106, 0.8846417672939326, 0.07354298445525442))</td><td>1</td><td>1</td></tr><tr><td>Map(vectorType -> dense, length -> 5, values -> List(0.0, 0.6897959806481185, 0.2368421184719428, 0.830188679245283, 0.8345864661654135))</td><td>Map(vectorType -> dense, length -> 3, values -> List(0.038793876906964626, 0.8879797417661639, 0.0732263813268713))</td><td>1</td><td>1</td></tr><tr><td>Map(vectorType -> dense, length -> 5, values -> List(0.0, 0.6938775510204082, 0.26315788152805725, 0.8867924528301886, 0.7293233082706767))</td><td>Map(vectorType -> dense, length -> 3, values -> List(0.04270840498188311, 0.8702161916522062, 0.0870754033659108))</td><td>1</td><td>1</td></tr><tr><td>Map(vectorType -> dense, length -> 5, values -> List(0.0, 0.759183611188616, 0.4078947665618713, 0.9811320754716981, 0.7744360902255639))</td><td>Map(vectorType -> dense, length -> 3, values -> List(0.03762180730092196, 0.8638954383857196, 0.0984827543133584))</td><td>1</td><td>1</td></tr><tr><td>Map(vectorType -> dense, length -> 5, values -> List(0.0, 0.7632653372628347, 0.4210527108316567, 0.9433962264150944, 0.7293233082706767))</td><td>Map(vectorType -> dense, length -> 3, values -> List(0.04437959341066326, 0.8377151796531037, 0.11790522693623304))</td><td>1</td><td>1</td></tr><tr><td>Map(vectorType -> dense, length -> 5, values -> List(0.0, 0.7755102040816326, 0.22368429968561376, 0.8113207547169811, 0.7443609022556391))</td><td>Map(vectorType -> dense, length -> 3, values -> List(0.034078579074199, 0.8679443743670192, 0.09797704655878177))</td><td>1</td><td>1</td></tr><tr><td>Map(vectorType -> dense, length -> 5, values -> List(0.0, 0.8122449602399553, 0.2500000627417282, 0.7735849056603773, 0.7593984962406015))</td><td>Map(vectorType -> dense, length -> 3, values -> List(0.034088100543761886, 0.8543754377027567, 0.11153646175348136))</td><td>1</td><td>1</td></tr><tr><td>Map(vectorType -> dense, length -> 5, values -> List(0.0, 0.8489795606963488, 0.2368421184719428, 1.0, 0.8045112781954887))</td><td>Map(vectorType -> dense, length -> 3, values -> List(0.016677133097876898, 0.9130487991604112, 0.07027406774171188))</td><td>1</td><td>1</td></tr><tr><td>Map(vectorType -> dense, length -> 5, values -> List(0.0, 0.9142857765664859, 0.4078947665618713, 0.9433962264150944, 0.7894736842105263))</td><td>Map(vectorType -> dense, length -> 3, values -> List(0.023854967697030643, 0.8538506901403445, 0.12229434216262472))</td><td>1</td><td>1</td></tr><tr><td>Map(vectorType -> dense, length -> 5, values -> List(1.0, 0.1020408163265306, 0.5263157630561145, 0.22641509433962265, 0.14285714285714285))</td><td>Map(vectorType -> dense, length -> 3, values -> List(0.8481970586467451, 0.04735470536188371, 0.10444823599137108))</td><td>0</td><td>0</td></tr><tr><td>Map(vectorType -> dense, length -> 5, values -> List(1.0, 0.1020408163265306, 0.6052631777079143, 0.1509433962264151, 0.03759398496240601))</td><td>Map(vectorType -> dense, length -> 3, values -> List(0.8687797751844258, 0.026824525515144616, 0.10439569930042943))</td><td>0</td><td>0</td></tr><tr><td>Map(vectorType -> dense, length -> 5, values -> List(1.0, 0.12653054996412627, 0.5921052334381288, 0.11320754716981132, 0.15037593984962405))</td><td>Map(vectorType -> dense, length -> 3, values -> List(0.8581467402336489, 0.033417005753662396, 0.10843625401268851))</td><td>0</td><td>0</td></tr><tr><td>Map(vectorType -> dense, length -> 5, values -> List(1.0, 0.16326530612244897, 0.6578947038201431, 0.018867924528301886, 0.0))</td><td>Map(vectorType -> dense, length -> 3, values -> List(0.854669095856841, 0.018948814700621718, 0.1263820894425373))</td><td>0</td><td>0</td></tr><tr><td>Map(vectorType -> dense, length -> 5, values -> List(1.0, 0.1673468764947385, 0.710526229932372, 0.05660377358490566, 0.09774436090225563))</td><td>Map(vectorType -> dense, length -> 3, values -> List(0.855590121939039, 0.021730281703990825, 0.12267959635697011))</td><td>0</td><td>0</td></tr><tr><td>Map(vectorType -> dense, length -> 5, values -> List(1.0, 0.18775503976004462, 0.6184211219776996, 0.22641509433962265, 0.21804511278195488))</td><td>Map(vectorType -> dense, length -> 3, values -> List(0.8106913680588399, 0.05318743785364708, 0.13612119408751291))</td><td>0</td><td>0</td></tr><tr><td>Map(vectorType -> dense, length -> 5, values -> List(1.0, 0.21632649947185903, 0.8026315888539571, 0.22641509433962265, 0.2932330827067669))</td><td>Map(vectorType -> dense, length -> 3, values -> List(0.8200502066551529, 0.04060910708927908, 0.13934068625556784))</td><td>0</td><td>0</td></tr><tr><td>Map(vectorType -> dense, length -> 5, values -> List(1.0, 0.22448979591836732, 0.631579066247485, 0.1320754716981132, 0.20300751879699247))</td><td>Map(vectorType -> dense, length -> 3, values -> List(0.8030764662003032, 0.04445256037623486, 0.15247097342346205))</td><td>0</td><td>0</td></tr><tr><td>Map(vectorType -> dense, length -> 5, values -> List(1.0, 0.248979529555963, 0.5526316515956853, 0.1509433962264151, 0.44360902255639095))</td><td>Map(vectorType -> dense, length -> 3, values -> List(0.7570474961613898, 0.09176190616512965, 0.15119059767348067))</td><td>0</td><td>0</td></tr><tr><td>Map(vectorType -> dense, length -> 5, values -> List(1.0, 0.2530612556301817, 0.5263157630561145, 0.2830188679245283, 0.38345864661654133))</td><td>Map(vectorType -> dense, length -> 3, values -> List(0.7211640218858453, 0.11717846569324697, 0.16165751242090773))</td><td>0</td><td>0</td></tr><tr><td>Map(vectorType -> dense, length -> 5, values -> List(1.0, 0.2897958560865752, 0.43421065510144213, 0.16981132075471697, 0.15037593984962405))</td><td>Map(vectorType -> dense, length -> 3, values -> List(0.7104591962108336, 0.08377209320959605, 0.20576871057957014))</td><td>0</td><td>0</td></tr><tr><td>Map(vectorType -> dense, length -> 5, values -> List(1.0, 0.31020401935188135, 0.5526316515956853, 0.5094339622641509, 0.39849624060150374))</td><td>Map(vectorType -> dense, length -> 3, values -> List(0.6110247301226018, 0.1966435555595928, 0.19233171431780544))</td><td>0</td><td>0</td></tr><tr><td>Map(vectorType -> dense, length -> 5, values -> List(1.0, 0.3183673157983896, 0.8421051706964007, 0.3018867924528302, 0.17293233082706766))</td><td>Map(vectorType -> dense, length -> 3, values -> List(0.7424349339153525, 0.04423501675395164, 0.21333004933069574))</td><td>0</td><td>0</td></tr><tr><td>Map(vectorType -> dense, length -> 5, values -> List(1.0, 0.35510207195671234, 0.6052631777079143, 0.03773584905660377, 0.17293233082706766))</td><td>Map(vectorType -> dense, length -> 3, values -> List(0.7122191214113603, 0.04907832594468972, 0.23870255264394996))</td><td>0</td><td>0</td></tr><tr><td>Map(vectorType -> dense, length -> 5, values -> List(1.0, 0.3591836423290019, 0.9605264181575566, 0.24528301886792453, 0.3533834586466165))</td><td>Map(vectorType -> dense, length -> 3, values -> List(0.7383492120271733, 0.043907207792597824, 0.21774358018022885))</td><td>0</td><td>0</td></tr><tr><td>Map(vectorType -> dense, length -> 5, values -> List(1.0, 0.36326536840322066, 0.4473683484043148, 0.05660377358490566, 0.18796992481203006))</td><td>Map(vectorType -> dense, length -> 3, values -> List(0.6700952474646208, 0.07908801211396294, 0.2508167404214164))</td><td>0</td><td>2</td></tr><tr><td>Map(vectorType -> dense, length -> 5, values -> List(1.0, 0.4897959183673469, 0.4078947665618713, 0.33962264150943394, 0.15789473684210525))</td><td>Map(vectorType -> dense, length -> 3, values -> List(0.46630577302571063, 0.17316201999841768, 0.36053220697587174))</td><td>0</td><td>2</td></tr><tr><td>Map(vectorType -> dense, length -> 5, values -> List(1.0, 0.49387748873963644, 0.7236841742021575, 0.3018867924528302, 0.16541353383458646))</td><td>Map(vectorType -> dense, length -> 3, values -> List(0.5514731855512104, 0.07992371049255044, 0.36860310395623924))</td><td>0</td><td>2</td></tr><tr><td>Map(vectorType -> dense, length -> 5, values -> List(1.0, 0.5102040816326531, 0.6578947038201431, 0.32075471698113206, 0.3533834586466165))</td><td>Map(vectorType -> dense, length -> 3, values -> List(0.510247594755745, 0.13808401329053183, 0.35166839195372324))</td><td>0</td><td>2</td></tr><tr><td>Map(vectorType -> dense, length -> 5, values -> List(1.0, 0.5142856520049426, 0.5657895958654707, 0.0, 0.08270676691729323))</td><td>Map(vectorType -> dense, length -> 3, values -> List(0.5517460101068299, 0.05530748212745524, 0.392946507765715))</td><td>0</td><td>2</td></tr><tr><td>Map(vectorType -> dense, length -> 5, values -> List(1.0, 0.5183673780791613, 0.4736842369438856, 0.16981132075471697, 0.20300751879699247))</td><td>Map(vectorType -> dense, length -> 3, values -> List(0.49490454040294124, 0.12149266716116909, 0.3836027924358896))</td><td>0</td><td>2</td></tr><tr><td>Map(vectorType -> dense, length -> 5, values -> List(1.0, 0.5346938152702487, 0.513157818786329, 0.2830188679245283, 0.24812030075187969))</td><td>Map(vectorType -> dense, length -> 3, values -> List(0.4596207870885366, 0.1518783343834869, 0.3885008785279765))</td><td>0</td><td>2</td></tr><tr><td>Map(vectorType -> dense, length -> 5, values -> List(1.0, 0.5714285714285714, 0.38157887802230045, 0.3962264150943396, 0.2781954887218045))</td><td>Map(vectorType -> dense, length -> 3, values -> List(0.3517251874175428, 0.26172925452928714, 0.38654555805317015))</td><td>2</td><td>2</td></tr><tr><td>Map(vectorType -> dense, length -> 5, values -> List(1.0, 0.595918305066167, 0.3289473519100716, 0.3962264150943396, 0.10526315789473684))</td><td>Map(vectorType -> dense, length -> 3, values -> List(0.32959989107500054, 0.224296573144793, 0.44610353578020634))</td><td>2</td><td>2</td></tr><tr><td>Map(vectorType -> dense, length -> 5, values -> List(1.0, 0.6448979280432876, 0.7894736445841717, 0.4716981132075472, 0.3233082706766917))</td><td>Map(vectorType -> dense, length -> 3, values -> List(0.3726251794083313, 0.1476319783193044, 0.47974284227236447))</td><td>2</td><td>2</td></tr><tr><td>Map(vectorType -> dense, length -> 5, values -> List(1.0, 0.6571427948620854, 0.5657895958654707, 0.2830188679245283, 0.24060150375939848))</td><td>Map(vectorType -> dense, length -> 3, values -> List(0.3503970767710973, 0.1472154085227467, 0.502387514706156))</td><td>2</td><td>2</td></tr><tr><td>Map(vectorType -> dense, length -> 5, values -> List(1.0, 0.6653060913085938, 0.4473683484043148, 0.3773584905660377, 0.21052631578947367))</td><td>Map(vectorType -> dense, length -> 3, values -> List(0.2967000672665579, 0.2111165502319732, 0.4921833825014689))</td><td>2</td><td>2</td></tr><tr><td>Map(vectorType -> dense, length -> 5, values -> List(1.0, 0.7061224178392059, 0.6710526480899285, 0.6037735849056604, 0.3383458646616541))</td><td>Map(vectorType -> dense, length -> 3, values -> List(0.26085184293135316, 0.24742206813123982, 0.4917260889374069))</td><td>2</td><td>2</td></tr><tr><td>Map(vectorType -> dense, length -> 5, values -> List(1.0, 0.7306123071787308, 0.6710526480899285, 0.43396226415094336, 0.2932330827067669))</td><td>Map(vectorType -> dense, length -> 3, values -> List(0.276414994944668, 0.17415521016638116, 0.5494297948889509))</td><td>2</td><td>2</td></tr><tr><td>Map(vectorType -> dense, length -> 5, values -> List(1.0, 0.7551020408163265, 0.6710526480899285, 0.3584905660377358, 0.3533834586466165))</td><td>Map(vectorType -> dense, length -> 3, values -> List(0.26842531347106197, 0.17065552682914817, 0.5609191596997899))</td><td>2</td><td>2</td></tr><tr><td>Map(vectorType -> dense, length -> 5, values -> List(1.0, 0.7551020408163265, 0.8947369477755424, 0.6037735849056604, 0.5488721804511278))</td><td>Map(vectorType -> dense, length -> 3, values -> List(0.26212681099481977, 0.23014159857520877, 0.5077315904299715))</td><td>2</td><td>2</td></tr><tr><td>Map(vectorType -> dense, length -> 5, values -> List(1.0, 0.7877550709004304, 0.8026315888539571, 0.5094339622641509, 0.47368421052631576))</td><td>Map(vectorType -> dense, length -> 3, values -> List(0.238509631046017, 0.20928678484525756, 0.5522035841087255))</td><td>2</td><td>2</td></tr><tr><td>Map(vectorType -> dense, length -> 5, values -> List(1.0, 0.9999999999999999, 0.513157818786329, 0.05660377358490566, 0.21804511278195488))</td><td>Map(vectorType -> dense, length -> 3, values -> List(0.12399336856393423, 0.10314768073391169, 0.7728589507021539))</td><td>2</td><td>2</td></tr><tr><td>Map(vectorType -> dense, length -> 5, values -> List(2.0, 0.0, 0.6710526480899285, 0.22641509433962265, 0.18796992481203006))</td><td>Map(vectorType -> dense, length -> 3, values -> List(0.9186328100403593, 0.01491051970640801, 0.06645667025323257))</td><td>0</td><td>0</td></tr><tr><td>Map(vectorType -> dense, length -> 5, values -> List(2.0, 0.08979594950773277, 0.4078947665618713, 0.20754716981132074, 0.11278195488721804))</td><td>Map(vectorType -> dense, length -> 3, values -> List(0.8601257328375232, 0.03241313741256099, 0.10746112974991584))</td><td>0</td><td>0</td></tr><tr><td>Map(vectorType -> dense, length -> 5, values -> List(2.0, 0.13061227603834502, 0.710526229932372, 0.2830188679245283, 0.14285714285714285))</td><td>Map(vectorType -> dense, length -> 3, values -> List(0.8643052537146274, 0.020317300580545837, 0.11537744570482668))</td><td>0</td><td>0</td></tr><tr><td>Map(vectorType -> dense, length -> 5, values -> List(2.0, 0.15102043930365114, 0.7236841742021575, 0.11320754716981132, 0.2781954887218045))</td><td>Map(vectorType -> dense, length -> 3, values -> List(0.871265660494587, 0.01799106057675993, 0.11074327892865306))</td><td>0</td><td>0</td></tr><tr><td>Map(vectorType -> dense, length -> 5, values -> List(2.0, 0.2122449290995695, 0.6710526480899285, 0.32075471698113206, 0.14285714285714285))</td><td>Map(vectorType -> dense, length -> 3, values -> List(0.8085136560968224, 0.03031358262434873, 0.16117276127882899))</td><td>0</td><td>0</td></tr><tr><td>Map(vectorType -> dense, length -> 5, values -> List(2.0, 0.22448979591836732, 0.4210527108316567, 0.24528301886792453, 0.022556390977443608))</td><td>Map(vectorType -> dense, length -> 3, values -> List(0.7736182528829322, 0.040522377719274465, 0.18585936939779327))</td><td>0</td><td>0</td></tr><tr><td>Map(vectorType -> dense, length -> 5, values -> List(2.0, 0.2326530923648756, 0.7500000627417283, 0.32075471698113206, 0.5112781954887218))</td><td>Map(vectorType -> dense, length -> 3, values -> List(0.8045925061719251, 0.05073035908514217, 0.1446771347429326))</td><td>0</td><td>0</td></tr><tr><td>Map(vectorType -> dense, length -> 5, values -> List(2.0, 0.2775509892677774, 0.5394737073258999, 0.32075471698113206, 0.08270676691729323))</td><td>Map(vectorType -> dense, length -> 3, values -> List(0.7401624914482644, 0.04436877154752021, 0.2154687370042153))</td><td>0</td><td>0</td></tr><tr><td>Map(vectorType -> dense, length -> 5, values -> List(2.0, 0.31020401935188135, 0.486842181213671, 0.07547169811320754, 0.06766917293233082))</td><td>Map(vectorType -> dense, length -> 3, values -> List(0.7391343279457442, 0.030848546116358, 0.23001712593789794))</td><td>0</td><td>0</td></tr><tr><td>Map(vectorType -> dense, length -> 5, values -> List(2.0, 0.32244904187260837, 0.6052631777079143, 0.4528301886792453, 0.2706766917293233))</td><td>Map(vectorType -> dense, length -> 3, values -> List(0.6896816989486605, 0.07711371584705663, 0.23320458520428275))</td><td>0</td><td>0</td></tr><tr><td>Map(vectorType -> dense, length -> 5, values -> List(2.0, 0.32653061224489793, 0.5789472891683434, 0.32075471698113206, 0.39849624060150374))</td><td>Map(vectorType -> dense, length -> 3, values -> List(0.7027129682920554, 0.07883817165713988, 0.21844886005080466))</td><td>0</td><td>0</td></tr><tr><td>Map(vectorType -> dense, length -> 5, values -> List(2.0, 0.33877547906369576, 0.7236841742021575, 0.3773584905660377, 0.44360902255639095))</td><td>Map(vectorType -> dense, length -> 3, values -> List(0.7110153395904772, 0.06905307400955292, 0.2199315863999698))</td><td>0</td><td>0</td></tr><tr><td>Map(vectorType -> dense, length -> 5, values -> List(2.0, 0.5102040816326531, 1.0, 0.3018867924528302, 0.3684210526315789))</td><td>Map(vectorType -> dense, length -> 3, values -> List(0.6079332026784838, 0.03490147345430035, 0.3571653238672159))</td><td>0</td><td>0</td></tr></tbody></table></div>"
      ]
     },
     "metadata": {
      "application/vnd.databricks.v1+output": {
       "addedWidgets": {},
       "aggData": [],
       "aggError": "",
       "aggOverflow": false,
       "aggSchema": [],
       "aggSeriesLimitReached": false,
       "aggType": "",
       "arguments": {},
       "columnCustomDisplayInfos": {},
       "data": [
        [
         {
          "length": 5,
          "values": [
           0.0,
           0.061224489795918366,
           0.5263157630561145,
           0.22641509433962265,
           0.14285714285714285
          ],
          "vectorType": "dense"
         },
         {
          "length": 3,
          "values": [
           0.8411390553660385,
           0.0735510041240996,
           0.08530994050986192
          ],
          "vectorType": "dense"
         },
         0,
         0
        ],
        [
         {
          "length": 5,
          "values": [
           0.0,
           0.061224489795918366,
           0.5263157630561145,
           0.2641509433962264,
           0.22556390977443608
          ],
          "vectorType": "dense"
         },
         {
          "length": 3,
          "values": [
           0.8258611896268931,
           0.0919286464821688,
           0.08221016389093813
          ],
          "vectorType": "dense"
         },
         0,
         0
        ],
        [
         {
          "length": 5,
          "values": [
           0.0,
           0.08163265306122448,
           0.3026317143374135,
           0.32075471698113206,
           0.11278195488721804
          ],
          "vectorType": "dense"
         },
         {
          "length": 3,
          "values": [
           0.7481851862105139,
           0.15451150699123412,
           0.09730330679825198
          ],
          "vectorType": "dense"
         },
         0,
         0
        ],
        [
         {
          "length": 5,
          "values": [
           0.0,
           0.08979594950773277,
           0.39473682229208584,
           0.1320754716981132,
           0.05263157894736842
          ],
          "vectorType": "dense"
         },
         {
          "length": 3,
          "values": [
           0.8226381499249894,
           0.07702097925966402,
           0.1003408708153467
          ],
          "vectorType": "dense"
         },
         0,
         0
        ],
        [
         {
          "length": 5,
          "values": [
           0.0,
           0.17142860256895726,
           0.27631582579784264,
           0.09433962264150943,
           0.03007518796992481
          ],
          "vectorType": "dense"
         },
         {
          "length": 3,
          "values": [
           0.7500476090280163,
           0.11171804585355123,
           0.13823434511843247
          ],
          "vectorType": "dense"
         },
         0,
         0
        ],
        [
         {
          "length": 5,
          "values": [
           0.0,
           0.17142860256895726,
           0.631579066247485,
           0.03773584905660377,
           0.18796992481203006
          ],
          "vectorType": "dense"
         },
         {
          "length": 3,
          "values": [
           0.8281941985725518,
           0.05354042665256565,
           0.11826537477488248
          ],
          "vectorType": "dense"
         },
         0,
         0
        ],
        [
         {
          "length": 5,
          "values": [
           0.0,
           0.19183676583426337,
           0.5526316515956853,
           0.1320754716981132,
           0.2932330827067669
          ],
          "vectorType": "dense"
         },
         {
          "length": 3,
          "values": [
           0.7737179911963269,
           0.10115063371013142,
           0.12513137509354177
          ],
          "vectorType": "dense"
         },
         0,
         0
        ],
        [
         {
          "length": 5,
          "values": [
           0.0,
           0.19183676583426337,
           0.8026315888539571,
           0.22641509433962265,
           0.2781954887218045
          ],
          "vectorType": "dense"
         },
         {
          "length": 3,
          "values": [
           0.8122472261067182,
           0.06465101429661459,
           0.1231017595966673
          ],
          "vectorType": "dense"
         },
         0,
         0
        ],
        [
         {
          "length": 5,
          "values": [
           0.0,
           0.20816320302535074,
           0.43421065510144213,
           0.3962264150943396,
           0.23308270676691728
          ],
          "vectorType": "dense"
         },
         {
          "length": 3,
          "values": [
           0.6512524316792642,
           0.21054895857977876,
           0.13819860974095705
          ],
          "vectorType": "dense"
         },
         0,
         0
        ],
        [
         {
          "length": 5,
          "values": [
           0.0,
           0.22448979591836732,
           0.4736842369438856,
           0.1509433962264151,
           0.17293233082706766
          ],
          "vectorType": "dense"
         },
         {
          "length": 3,
          "values": [
           0.7362182745119917,
           0.11201526675261707,
           0.15176645873539119
          ],
          "vectorType": "dense"
         },
         0,
         0
        ],
        [
         {
          "length": 5,
          "values": [
           0.0,
           0.248979529555963,
           0.8947369477755424,
           0.24528301886792453,
           0.2781954887218045
          ],
          "vectorType": "dense"
         },
         {
          "length": 3,
          "values": [
           0.7892109717174386,
           0.061325929536449046,
           0.14946309874611236
          ],
          "vectorType": "dense"
         },
         0,
         0
        ],
        [
         {
          "length": 5,
          "values": [
           0.0,
           0.2530612556301817,
           0.5000001254834564,
           0.2830188679245283,
           0.06766917293233082
          ],
          "vectorType": "dense"
         },
         {
          "length": 3,
          "values": [
           0.6978974596512627,
           0.12268985091798183,
           0.1794126894307554
          ],
          "vectorType": "dense"
         },
         0,
         0
        ],
        [
         {
          "length": 5,
          "values": [
           0.0,
           0.2530612556301817,
           0.6578947038201431,
           0.11320754716981132,
           0.17293233082706766
          ],
          "vectorType": "dense"
         },
         {
          "length": 3,
          "values": [
           0.7672721142079096,
           0.0701757286275298,
           0.1625521571645607
          ],
          "vectorType": "dense"
         },
         0,
         0
        ],
        [
         {
          "length": 5,
          "values": [
           0.0,
           0.3061224489795918,
           0.8026315888539571,
           0.4716981132075472,
           0.5263157894736842
          ],
          "vectorType": "dense"
         },
         {
          "length": 3,
          "values": [
           0.6324490136253516,
           0.20700413339182602,
           0.16054685298282245
          ],
          "vectorType": "dense"
         },
         0,
         0
        ],
        [
         {
          "length": 5,
          "values": [
           0.0,
           0.31020401935188135,
           0.6842105923597139,
           0.18867924528301885,
           0.3383458646616541
          ],
          "vectorType": "dense"
         },
         {
          "length": 3,
          "values": [
           0.7009664203443663,
           0.11639022737216896,
           0.18264335228346484
          ],
          "vectorType": "dense"
         },
         0,
         0
        ],
        [
         {
          "length": 5,
          "values": [
           0.0,
           0.33469390869140625,
           0.10526317770791417,
           0.6037735849056604,
           0.518796992481203
          ],
          "vectorType": "dense"
         },
         {
          "length": 3,
          "values": [
           0.20835764291586054,
           0.7037311254393582,
           0.08791123164478129
          ],
          "vectorType": "dense"
         },
         1,
         1
        ],
        [
         {
          "length": 5,
          "values": [
           0.0,
           0.379591805594308,
           0.039473707325899866,
           0.5849056603773585,
           0.518796992481203
          ],
          "vectorType": "dense"
         },
         {
          "length": 3,
          "values": [
           0.16623458438565958,
           0.7461207868991216,
           0.08764462871521872
          ],
          "vectorType": "dense"
         },
         1,
         1
        ],
        [
         {
          "length": 5,
          "values": [
           0.0,
           0.44897959183673464,
           0.10526317770791417,
           0.6792452830188679,
           0.5639097744360902
          ],
          "vectorType": "dense"
         },
         {
          "length": 3,
          "values": [
           0.12348248863476821,
           0.7882698997633734,
           0.0882476116018585
          ],
          "vectorType": "dense"
         },
         1,
         1
        ],
        [
         {
          "length": 5,
          "values": [
           0.0,
           0.4734693254743303,
           0.07894741465179973,
           0.5471698113207547,
           0.6240601503759399
          ],
          "vectorType": "dense"
         },
         {
          "length": 3,
          "values": [
           0.12832346757953936,
           0.7765518066386065,
           0.09512472578185434
          ],
          "vectorType": "dense"
         },
         1,
         1
        ],
        [
         {
          "length": 5,
          "values": [
           0.0,
           0.48571434799505736,
           0.09210535892158514,
           0.6226415094339622,
           0.5488721804511278
          ],
          "vectorType": "dense"
         },
         {
          "length": 3,
          "values": [
           0.12233152698854892,
           0.7759132251373757,
           0.10175524787407526
          ],
          "vectorType": "dense"
         },
         1,
         1
        ],
        [
         {
          "length": 5,
          "values": [
           0.0,
           0.4897959183673469,
           0.0,
           0.6037735849056604,
           0.3684210526315789
          ],
          "vectorType": "dense"
         },
         {
          "length": 3,
          "values": [
           0.13062245001495368,
           0.7457058295144782,
           0.12367172047056835
          ],
          "vectorType": "dense"
         },
         1,
         1
        ],
        [
         {
          "length": 5,
          "values": [
           0.0,
           0.4897959183673469,
           0.07894741465179973,
           0.6415094339622641,
           0.5338345864661654
          ],
          "vectorType": "dense"
         },
         {
          "length": 3,
          "values": [
           0.11558358641423117,
           0.7844262131695876,
           0.09999020041618116
          ],
          "vectorType": "dense"
         },
         1,
         1
        ],
        [
         {
          "length": 5,
          "values": [
           0.0,
           0.5183673780791613,
           0.026315888539570835,
           0.7358490566037735,
           0.42105263157894735
          ],
          "vectorType": "dense"
         },
         {
          "length": 3,
          "values": [
           0.091720243440343,
           0.8071050069749294,
           0.10117474958472777
          ],
          "vectorType": "dense"
         },
         1,
         1
        ],
        [
         {
          "length": 5,
          "values": [
           0.0,
           0.5306122448979591,
           0.06578947038201431,
           0.7358490566037735,
           0.5789473684210527
          ],
          "vectorType": "dense"
         },
         {
          "length": 3,
          "values": [
           0.07681526995198089,
           0.8410433500210428,
           0.08214138002697632
          ],
          "vectorType": "dense"
         },
         1,
         1
        ],
        [
         {
          "length": 5,
          "values": [
           0.0,
           0.5306122448979591,
           0.11842112197769959,
           0.7358490566037735,
           0.6691729323308271
          ],
          "vectorType": "dense"
         },
         {
          "length": 3,
          "values": [
           0.07600635715711393,
           0.847666019972513,
           0.07632762287037304
          ],
          "vectorType": "dense"
         },
         1,
         1
        ],
        [
         {
          "length": 5,
          "values": [
           0.0,
           0.5387755413444675,
           0.1842105923597139,
           0.7735849056603773,
           0.6691729323308271
          ],
          "vectorType": "dense"
         },
         {
          "length": 3,
          "values": [
           0.08018584289668208,
           0.8373656783597373,
           0.08244847874358051
          ],
          "vectorType": "dense"
         },
         1,
         1
        ],
        [
         {
          "length": 5,
          "values": [
           0.0,
           0.542857111716757,
           0.05263165159568528,
           0.6981132075471698,
           0.5639097744360902
          ],
          "vectorType": "dense"
         },
         {
          "length": 3,
          "values": [
           0.07917065222524917,
           0.8317899732441654,
           0.08903937453058537
          ],
          "vectorType": "dense"
         },
         1,
         1
        ],
        [
         {
          "length": 5,
          "values": [
           0.0,
           0.542857111716757,
           0.2894737700676281,
           0.6981132075471698,
           0.7593984962406015
          ],
          "vectorType": "dense"
         },
         {
          "length": 3,
          "values": [
           0.10308263264622507,
           0.801238586366995,
           0.09567878098677998
          ],
          "vectorType": "dense"
         },
         1,
         1
        ],
        [
         {
          "length": 5,
          "values": [
           0.0,
           0.5632652749820631,
           0.1842105923597139,
           0.830188679245283,
           0.6842105263157895
          ],
          "vectorType": "dense"
         },
         {
          "length": 3,
          "values": [
           0.06457548453196783,
           0.8599023665632378,
           0.07552214890479432
          ],
          "vectorType": "dense"
         },
         1,
         1
        ],
        [
         {
          "length": 5,
          "values": [
           0.0,
           0.6000000311403858,
           0.22368429968561376,
           0.8113207547169811,
           0.6390977443609023
          ],
          "vectorType": "dense"
         },
         {
          "length": 3,
          "values": [
           0.07035860724003416,
           0.8332970657194797,
           0.09634432704048614
          ],
          "vectorType": "dense"
         },
         1,
         1
        ],
        [
         {
          "length": 5,
          "values": [
           0.0,
           0.6081633275868941,
           0.06578947038201431,
           0.4716981132075472,
           0.49624060150375937
          ],
          "vectorType": "dense"
         },
         {
          "length": 3,
          "values": [
           0.1131726324952135,
           0.7291187460020746,
           0.15770862150271192
          ],
          "vectorType": "dense"
         },
         1,
         1
        ],
        [
         {
          "length": 5,
          "values": [
           0.0,
           0.6081633275868941,
           0.3157894076402861,
           0.7924528301886792,
           0.7293233082706767
          ],
          "vectorType": "dense"
         },
         {
          "length": 3,
          "values": [
           0.07745198199142883,
           0.8219300459156728,
           0.10061797209289856
          ],
          "vectorType": "dense"
         },
         1,
         1
        ],
        [
         {
          "length": 5,
          "values": [
           0.0,
           0.6122448979591836,
           0.026315888539570835,
           0.7924528301886792,
           0.6992481203007519
          ],
          "vectorType": "dense"
         },
         {
          "length": 3,
          "values": [
           0.03954717682247451,
           0.8999807633003731,
           0.06047205987715238
          ],
          "vectorType": "dense"
         },
         1,
         1
        ],
        [
         {
          "length": 5,
          "values": [
           0.0,
           0.620408194405692,
           0.2368421184719428,
           0.5660377358490566,
           0.7142857142857143
          ],
          "vectorType": "dense"
         },
         {
          "length": 3,
          "values": [
           0.09926882735245804,
           0.7723298101185501,
           0.12840136252899176
          ],
          "vectorType": "dense"
         },
         1,
         1
        ],
        [
         {
          "length": 5,
          "values": [
           0.0,
           0.6244897647779815,
           0.3026317143374135,
           0.830188679245283,
           0.9097744360902256
          ],
          "vectorType": "dense"
         },
         {
          "length": 3,
          "values": [
           0.05002456601227766,
           0.883780303105138,
           0.06619513088258433
          ],
          "vectorType": "dense"
         },
         1,
         1
        ],
        [
         {
          "length": 5,
          "values": [
           0.0,
           0.6326530612244897,
           0.2894737700676281,
           0.7169811320754716,
           0.7744360902255639
          ],
          "vectorType": "dense"
         },
         {
          "length": 3,
          "values": [
           0.07352885776557816,
           0.8241790569942612,
           0.1022920852401606
          ],
          "vectorType": "dense"
         },
         1,
         1
        ],
        [
         {
          "length": 5,
          "values": [
           0.0,
           0.6367346315967792,
           0.07894741465179973,
           0.6415094339622641,
           0.49624060150375937
          ],
          "vectorType": "dense"
         },
         {
          "length": 3,
          "values": [
           0.077271509025161,
           0.7914198532899123,
           0.1313086376849267
          ],
          "vectorType": "dense"
         },
         1,
         1
        ],
        [
         {
          "length": 5,
          "values": [
           0.0,
           0.6367346315967792,
           0.11842112197769959,
           0.7924528301886792,
           0.6541353383458647
          ],
          "vectorType": "dense"
         },
         {
          "length": 3,
          "values": [
           0.04939284490790701,
           0.8681871397828326,
           0.08242001530926048
          ],
          "vectorType": "dense"
         },
         1,
         1
        ],
        [
         {
          "length": 5,
          "values": [
           0.0,
           0.6367346315967792,
           0.14473688503381404,
           0.9433962264150944,
           0.7593984962406015
          ],
          "vectorType": "dense"
         },
         {
          "length": 3,
          "values": [
           0.032144926952305364,
           0.913652140933495,
           0.05420293211419966
          ],
          "vectorType": "dense"
         },
         1,
         1
        ],
        [
         {
          "length": 5,
          "values": [
           0.0,
           0.640816357670998,
           0.17105264808992848,
           0.8113207547169811,
           1.0
          ],
          "vectorType": "dense"
         },
         {
          "length": 3,
          "values": [
           0.030568931637727382,
           0.9253581298618818,
           0.0440729385003908
          ],
          "vectorType": "dense"
         },
         1,
         1
        ],
        [
         {
          "length": 5,
          "values": [
           0.0,
           0.6448979280432876,
           0.2368421184719428,
           0.7358490566037735,
           0.8646616541353384
          ],
          "vectorType": "dense"
         },
         {
          "length": 3,
          "values": [
           0.052306601880903976,
           0.8713109872589111,
           0.0763824108601849
          ],
          "vectorType": "dense"
         },
         1,
         1
        ],
        [
         {
          "length": 5,
          "values": [
           0.0,
           0.6530612244897959,
           0.3026317143374135,
           0.9622641509433962,
           0.849624060150376
          ],
          "vectorType": "dense"
         },
         {
          "length": 3,
          "values": [
           0.0377575688237621,
           0.9003978646113048,
           0.061844566564933194
          ],
          "vectorType": "dense"
         },
         1,
         1
        ],
        [
         {
          "length": 5,
          "values": [
           0.0,
           0.673469387755102,
           0.17105264808992848,
           0.7547169811320754,
           0.8195488721804511
          ],
          "vectorType": "dense"
         },
         {
          "length": 3,
          "values": [
           0.041815248250813106,
           0.8846417672939326,
           0.07354298445525442
          ],
          "vectorType": "dense"
         },
         1,
         1
        ],
        [
         {
          "length": 5,
          "values": [
           0.0,
           0.6897959806481185,
           0.2368421184719428,
           0.830188679245283,
           0.8345864661654135
          ],
          "vectorType": "dense"
         },
         {
          "length": 3,
          "values": [
           0.038793876906964626,
           0.8879797417661639,
           0.0732263813268713
          ],
          "vectorType": "dense"
         },
         1,
         1
        ],
        [
         {
          "length": 5,
          "values": [
           0.0,
           0.6938775510204082,
           0.26315788152805725,
           0.8867924528301886,
           0.7293233082706767
          ],
          "vectorType": "dense"
         },
         {
          "length": 3,
          "values": [
           0.04270840498188311,
           0.8702161916522062,
           0.0870754033659108
          ],
          "vectorType": "dense"
         },
         1,
         1
        ],
        [
         {
          "length": 5,
          "values": [
           0.0,
           0.759183611188616,
           0.4078947665618713,
           0.9811320754716981,
           0.7744360902255639
          ],
          "vectorType": "dense"
         },
         {
          "length": 3,
          "values": [
           0.03762180730092196,
           0.8638954383857196,
           0.0984827543133584
          ],
          "vectorType": "dense"
         },
         1,
         1
        ],
        [
         {
          "length": 5,
          "values": [
           0.0,
           0.7632653372628347,
           0.4210527108316567,
           0.9433962264150944,
           0.7293233082706767
          ],
          "vectorType": "dense"
         },
         {
          "length": 3,
          "values": [
           0.04437959341066326,
           0.8377151796531037,
           0.11790522693623304
          ],
          "vectorType": "dense"
         },
         1,
         1
        ],
        [
         {
          "length": 5,
          "values": [
           0.0,
           0.7755102040816326,
           0.22368429968561376,
           0.8113207547169811,
           0.7443609022556391
          ],
          "vectorType": "dense"
         },
         {
          "length": 3,
          "values": [
           0.034078579074199,
           0.8679443743670192,
           0.09797704655878177
          ],
          "vectorType": "dense"
         },
         1,
         1
        ],
        [
         {
          "length": 5,
          "values": [
           0.0,
           0.8122449602399553,
           0.2500000627417282,
           0.7735849056603773,
           0.7593984962406015
          ],
          "vectorType": "dense"
         },
         {
          "length": 3,
          "values": [
           0.034088100543761886,
           0.8543754377027567,
           0.11153646175348136
          ],
          "vectorType": "dense"
         },
         1,
         1
        ],
        [
         {
          "length": 5,
          "values": [
           0.0,
           0.8489795606963488,
           0.2368421184719428,
           1.0,
           0.8045112781954887
          ],
          "vectorType": "dense"
         },
         {
          "length": 3,
          "values": [
           0.016677133097876898,
           0.9130487991604112,
           0.07027406774171188
          ],
          "vectorType": "dense"
         },
         1,
         1
        ],
        [
         {
          "length": 5,
          "values": [
           0.0,
           0.9142857765664859,
           0.4078947665618713,
           0.9433962264150944,
           0.7894736842105263
          ],
          "vectorType": "dense"
         },
         {
          "length": 3,
          "values": [
           0.023854967697030643,
           0.8538506901403445,
           0.12229434216262472
          ],
          "vectorType": "dense"
         },
         1,
         1
        ],
        [
         {
          "length": 5,
          "values": [
           1.0,
           0.1020408163265306,
           0.5263157630561145,
           0.22641509433962265,
           0.14285714285714285
          ],
          "vectorType": "dense"
         },
         {
          "length": 3,
          "values": [
           0.8481970586467451,
           0.04735470536188371,
           0.10444823599137108
          ],
          "vectorType": "dense"
         },
         0,
         0
        ],
        [
         {
          "length": 5,
          "values": [
           1.0,
           0.1020408163265306,
           0.6052631777079143,
           0.1509433962264151,
           0.03759398496240601
          ],
          "vectorType": "dense"
         },
         {
          "length": 3,
          "values": [
           0.8687797751844258,
           0.026824525515144616,
           0.10439569930042943
          ],
          "vectorType": "dense"
         },
         0,
         0
        ],
        [
         {
          "length": 5,
          "values": [
           1.0,
           0.12653054996412627,
           0.5921052334381288,
           0.11320754716981132,
           0.15037593984962405
          ],
          "vectorType": "dense"
         },
         {
          "length": 3,
          "values": [
           0.8581467402336489,
           0.033417005753662396,
           0.10843625401268851
          ],
          "vectorType": "dense"
         },
         0,
         0
        ],
        [
         {
          "length": 5,
          "values": [
           1.0,
           0.16326530612244897,
           0.6578947038201431,
           0.018867924528301886,
           0.0
          ],
          "vectorType": "dense"
         },
         {
          "length": 3,
          "values": [
           0.854669095856841,
           0.018948814700621718,
           0.1263820894425373
          ],
          "vectorType": "dense"
         },
         0,
         0
        ],
        [
         {
          "length": 5,
          "values": [
           1.0,
           0.1673468764947385,
           0.710526229932372,
           0.05660377358490566,
           0.09774436090225563
          ],
          "vectorType": "dense"
         },
         {
          "length": 3,
          "values": [
           0.855590121939039,
           0.021730281703990825,
           0.12267959635697011
          ],
          "vectorType": "dense"
         },
         0,
         0
        ],
        [
         {
          "length": 5,
          "values": [
           1.0,
           0.18775503976004462,
           0.6184211219776996,
           0.22641509433962265,
           0.21804511278195488
          ],
          "vectorType": "dense"
         },
         {
          "length": 3,
          "values": [
           0.8106913680588399,
           0.05318743785364708,
           0.13612119408751291
          ],
          "vectorType": "dense"
         },
         0,
         0
        ],
        [
         {
          "length": 5,
          "values": [
           1.0,
           0.21632649947185903,
           0.8026315888539571,
           0.22641509433962265,
           0.2932330827067669
          ],
          "vectorType": "dense"
         },
         {
          "length": 3,
          "values": [
           0.8200502066551529,
           0.04060910708927908,
           0.13934068625556784
          ],
          "vectorType": "dense"
         },
         0,
         0
        ],
        [
         {
          "length": 5,
          "values": [
           1.0,
           0.22448979591836732,
           0.631579066247485,
           0.1320754716981132,
           0.20300751879699247
          ],
          "vectorType": "dense"
         },
         {
          "length": 3,
          "values": [
           0.8030764662003032,
           0.04445256037623486,
           0.15247097342346205
          ],
          "vectorType": "dense"
         },
         0,
         0
        ],
        [
         {
          "length": 5,
          "values": [
           1.0,
           0.248979529555963,
           0.5526316515956853,
           0.1509433962264151,
           0.44360902255639095
          ],
          "vectorType": "dense"
         },
         {
          "length": 3,
          "values": [
           0.7570474961613898,
           0.09176190616512965,
           0.15119059767348067
          ],
          "vectorType": "dense"
         },
         0,
         0
        ],
        [
         {
          "length": 5,
          "values": [
           1.0,
           0.2530612556301817,
           0.5263157630561145,
           0.2830188679245283,
           0.38345864661654133
          ],
          "vectorType": "dense"
         },
         {
          "length": 3,
          "values": [
           0.7211640218858453,
           0.11717846569324697,
           0.16165751242090773
          ],
          "vectorType": "dense"
         },
         0,
         0
        ],
        [
         {
          "length": 5,
          "values": [
           1.0,
           0.2897958560865752,
           0.43421065510144213,
           0.16981132075471697,
           0.15037593984962405
          ],
          "vectorType": "dense"
         },
         {
          "length": 3,
          "values": [
           0.7104591962108336,
           0.08377209320959605,
           0.20576871057957014
          ],
          "vectorType": "dense"
         },
         0,
         0
        ],
        [
         {
          "length": 5,
          "values": [
           1.0,
           0.31020401935188135,
           0.5526316515956853,
           0.5094339622641509,
           0.39849624060150374
          ],
          "vectorType": "dense"
         },
         {
          "length": 3,
          "values": [
           0.6110247301226018,
           0.1966435555595928,
           0.19233171431780544
          ],
          "vectorType": "dense"
         },
         0,
         0
        ],
        [
         {
          "length": 5,
          "values": [
           1.0,
           0.3183673157983896,
           0.8421051706964007,
           0.3018867924528302,
           0.17293233082706766
          ],
          "vectorType": "dense"
         },
         {
          "length": 3,
          "values": [
           0.7424349339153525,
           0.04423501675395164,
           0.21333004933069574
          ],
          "vectorType": "dense"
         },
         0,
         0
        ],
        [
         {
          "length": 5,
          "values": [
           1.0,
           0.35510207195671234,
           0.6052631777079143,
           0.03773584905660377,
           0.17293233082706766
          ],
          "vectorType": "dense"
         },
         {
          "length": 3,
          "values": [
           0.7122191214113603,
           0.04907832594468972,
           0.23870255264394996
          ],
          "vectorType": "dense"
         },
         0,
         0
        ],
        [
         {
          "length": 5,
          "values": [
           1.0,
           0.3591836423290019,
           0.9605264181575566,
           0.24528301886792453,
           0.3533834586466165
          ],
          "vectorType": "dense"
         },
         {
          "length": 3,
          "values": [
           0.7383492120271733,
           0.043907207792597824,
           0.21774358018022885
          ],
          "vectorType": "dense"
         },
         0,
         0
        ],
        [
         {
          "length": 5,
          "values": [
           1.0,
           0.36326536840322066,
           0.4473683484043148,
           0.05660377358490566,
           0.18796992481203006
          ],
          "vectorType": "dense"
         },
         {
          "length": 3,
          "values": [
           0.6700952474646208,
           0.07908801211396294,
           0.2508167404214164
          ],
          "vectorType": "dense"
         },
         0,
         2
        ],
        [
         {
          "length": 5,
          "values": [
           1.0,
           0.4897959183673469,
           0.4078947665618713,
           0.33962264150943394,
           0.15789473684210525
          ],
          "vectorType": "dense"
         },
         {
          "length": 3,
          "values": [
           0.46630577302571063,
           0.17316201999841768,
           0.36053220697587174
          ],
          "vectorType": "dense"
         },
         0,
         2
        ],
        [
         {
          "length": 5,
          "values": [
           1.0,
           0.49387748873963644,
           0.7236841742021575,
           0.3018867924528302,
           0.16541353383458646
          ],
          "vectorType": "dense"
         },
         {
          "length": 3,
          "values": [
           0.5514731855512104,
           0.07992371049255044,
           0.36860310395623924
          ],
          "vectorType": "dense"
         },
         0,
         2
        ],
        [
         {
          "length": 5,
          "values": [
           1.0,
           0.5102040816326531,
           0.6578947038201431,
           0.32075471698113206,
           0.3533834586466165
          ],
          "vectorType": "dense"
         },
         {
          "length": 3,
          "values": [
           0.510247594755745,
           0.13808401329053183,
           0.35166839195372324
          ],
          "vectorType": "dense"
         },
         0,
         2
        ],
        [
         {
          "length": 5,
          "values": [
           1.0,
           0.5142856520049426,
           0.5657895958654707,
           0.0,
           0.08270676691729323
          ],
          "vectorType": "dense"
         },
         {
          "length": 3,
          "values": [
           0.5517460101068299,
           0.05530748212745524,
           0.392946507765715
          ],
          "vectorType": "dense"
         },
         0,
         2
        ],
        [
         {
          "length": 5,
          "values": [
           1.0,
           0.5183673780791613,
           0.4736842369438856,
           0.16981132075471697,
           0.20300751879699247
          ],
          "vectorType": "dense"
         },
         {
          "length": 3,
          "values": [
           0.49490454040294124,
           0.12149266716116909,
           0.3836027924358896
          ],
          "vectorType": "dense"
         },
         0,
         2
        ],
        [
         {
          "length": 5,
          "values": [
           1.0,
           0.5346938152702487,
           0.513157818786329,
           0.2830188679245283,
           0.24812030075187969
          ],
          "vectorType": "dense"
         },
         {
          "length": 3,
          "values": [
           0.4596207870885366,
           0.1518783343834869,
           0.3885008785279765
          ],
          "vectorType": "dense"
         },
         0,
         2
        ],
        [
         {
          "length": 5,
          "values": [
           1.0,
           0.5714285714285714,
           0.38157887802230045,
           0.3962264150943396,
           0.2781954887218045
          ],
          "vectorType": "dense"
         },
         {
          "length": 3,
          "values": [
           0.3517251874175428,
           0.26172925452928714,
           0.38654555805317015
          ],
          "vectorType": "dense"
         },
         2,
         2
        ],
        [
         {
          "length": 5,
          "values": [
           1.0,
           0.595918305066167,
           0.3289473519100716,
           0.3962264150943396,
           0.10526315789473684
          ],
          "vectorType": "dense"
         },
         {
          "length": 3,
          "values": [
           0.32959989107500054,
           0.224296573144793,
           0.44610353578020634
          ],
          "vectorType": "dense"
         },
         2,
         2
        ],
        [
         {
          "length": 5,
          "values": [
           1.0,
           0.6448979280432876,
           0.7894736445841717,
           0.4716981132075472,
           0.3233082706766917
          ],
          "vectorType": "dense"
         },
         {
          "length": 3,
          "values": [
           0.3726251794083313,
           0.1476319783193044,
           0.47974284227236447
          ],
          "vectorType": "dense"
         },
         2,
         2
        ],
        [
         {
          "length": 5,
          "values": [
           1.0,
           0.6571427948620854,
           0.5657895958654707,
           0.2830188679245283,
           0.24060150375939848
          ],
          "vectorType": "dense"
         },
         {
          "length": 3,
          "values": [
           0.3503970767710973,
           0.1472154085227467,
           0.502387514706156
          ],
          "vectorType": "dense"
         },
         2,
         2
        ],
        [
         {
          "length": 5,
          "values": [
           1.0,
           0.6653060913085938,
           0.4473683484043148,
           0.3773584905660377,
           0.21052631578947367
          ],
          "vectorType": "dense"
         },
         {
          "length": 3,
          "values": [
           0.2967000672665579,
           0.2111165502319732,
           0.4921833825014689
          ],
          "vectorType": "dense"
         },
         2,
         2
        ],
        [
         {
          "length": 5,
          "values": [
           1.0,
           0.7061224178392059,
           0.6710526480899285,
           0.6037735849056604,
           0.3383458646616541
          ],
          "vectorType": "dense"
         },
         {
          "length": 3,
          "values": [
           0.26085184293135316,
           0.24742206813123982,
           0.4917260889374069
          ],
          "vectorType": "dense"
         },
         2,
         2
        ],
        [
         {
          "length": 5,
          "values": [
           1.0,
           0.7306123071787308,
           0.6710526480899285,
           0.43396226415094336,
           0.2932330827067669
          ],
          "vectorType": "dense"
         },
         {
          "length": 3,
          "values": [
           0.276414994944668,
           0.17415521016638116,
           0.5494297948889509
          ],
          "vectorType": "dense"
         },
         2,
         2
        ],
        [
         {
          "length": 5,
          "values": [
           1.0,
           0.7551020408163265,
           0.6710526480899285,
           0.3584905660377358,
           0.3533834586466165
          ],
          "vectorType": "dense"
         },
         {
          "length": 3,
          "values": [
           0.26842531347106197,
           0.17065552682914817,
           0.5609191596997899
          ],
          "vectorType": "dense"
         },
         2,
         2
        ],
        [
         {
          "length": 5,
          "values": [
           1.0,
           0.7551020408163265,
           0.8947369477755424,
           0.6037735849056604,
           0.5488721804511278
          ],
          "vectorType": "dense"
         },
         {
          "length": 3,
          "values": [
           0.26212681099481977,
           0.23014159857520877,
           0.5077315904299715
          ],
          "vectorType": "dense"
         },
         2,
         2
        ],
        [
         {
          "length": 5,
          "values": [
           1.0,
           0.7877550709004304,
           0.8026315888539571,
           0.5094339622641509,
           0.47368421052631576
          ],
          "vectorType": "dense"
         },
         {
          "length": 3,
          "values": [
           0.238509631046017,
           0.20928678484525756,
           0.5522035841087255
          ],
          "vectorType": "dense"
         },
         2,
         2
        ],
        [
         {
          "length": 5,
          "values": [
           1.0,
           0.9999999999999999,
           0.513157818786329,
           0.05660377358490566,
           0.21804511278195488
          ],
          "vectorType": "dense"
         },
         {
          "length": 3,
          "values": [
           0.12399336856393423,
           0.10314768073391169,
           0.7728589507021539
          ],
          "vectorType": "dense"
         },
         2,
         2
        ],
        [
         {
          "length": 5,
          "values": [
           2.0,
           0.0,
           0.6710526480899285,
           0.22641509433962265,
           0.18796992481203006
          ],
          "vectorType": "dense"
         },
         {
          "length": 3,
          "values": [
           0.9186328100403593,
           0.01491051970640801,
           0.06645667025323257
          ],
          "vectorType": "dense"
         },
         0,
         0
        ],
        [
         {
          "length": 5,
          "values": [
           2.0,
           0.08979594950773277,
           0.4078947665618713,
           0.20754716981132074,
           0.11278195488721804
          ],
          "vectorType": "dense"
         },
         {
          "length": 3,
          "values": [
           0.8601257328375232,
           0.03241313741256099,
           0.10746112974991584
          ],
          "vectorType": "dense"
         },
         0,
         0
        ],
        [
         {
          "length": 5,
          "values": [
           2.0,
           0.13061227603834502,
           0.710526229932372,
           0.2830188679245283,
           0.14285714285714285
          ],
          "vectorType": "dense"
         },
         {
          "length": 3,
          "values": [
           0.8643052537146274,
           0.020317300580545837,
           0.11537744570482668
          ],
          "vectorType": "dense"
         },
         0,
         0
        ],
        [
         {
          "length": 5,
          "values": [
           2.0,
           0.15102043930365114,
           0.7236841742021575,
           0.11320754716981132,
           0.2781954887218045
          ],
          "vectorType": "dense"
         },
         {
          "length": 3,
          "values": [
           0.871265660494587,
           0.01799106057675993,
           0.11074327892865306
          ],
          "vectorType": "dense"
         },
         0,
         0
        ],
        [
         {
          "length": 5,
          "values": [
           2.0,
           0.2122449290995695,
           0.6710526480899285,
           0.32075471698113206,
           0.14285714285714285
          ],
          "vectorType": "dense"
         },
         {
          "length": 3,
          "values": [
           0.8085136560968224,
           0.03031358262434873,
           0.16117276127882899
          ],
          "vectorType": "dense"
         },
         0,
         0
        ],
        [
         {
          "length": 5,
          "values": [
           2.0,
           0.22448979591836732,
           0.4210527108316567,
           0.24528301886792453,
           0.022556390977443608
          ],
          "vectorType": "dense"
         },
         {
          "length": 3,
          "values": [
           0.7736182528829322,
           0.040522377719274465,
           0.18585936939779327
          ],
          "vectorType": "dense"
         },
         0,
         0
        ],
        [
         {
          "length": 5,
          "values": [
           2.0,
           0.2326530923648756,
           0.7500000627417283,
           0.32075471698113206,
           0.5112781954887218
          ],
          "vectorType": "dense"
         },
         {
          "length": 3,
          "values": [
           0.8045925061719251,
           0.05073035908514217,
           0.1446771347429326
          ],
          "vectorType": "dense"
         },
         0,
         0
        ],
        [
         {
          "length": 5,
          "values": [
           2.0,
           0.2775509892677774,
           0.5394737073258999,
           0.32075471698113206,
           0.08270676691729323
          ],
          "vectorType": "dense"
         },
         {
          "length": 3,
          "values": [
           0.7401624914482644,
           0.04436877154752021,
           0.2154687370042153
          ],
          "vectorType": "dense"
         },
         0,
         0
        ],
        [
         {
          "length": 5,
          "values": [
           2.0,
           0.31020401935188135,
           0.486842181213671,
           0.07547169811320754,
           0.06766917293233082
          ],
          "vectorType": "dense"
         },
         {
          "length": 3,
          "values": [
           0.7391343279457442,
           0.030848546116358,
           0.23001712593789794
          ],
          "vectorType": "dense"
         },
         0,
         0
        ],
        [
         {
          "length": 5,
          "values": [
           2.0,
           0.32244904187260837,
           0.6052631777079143,
           0.4528301886792453,
           0.2706766917293233
          ],
          "vectorType": "dense"
         },
         {
          "length": 3,
          "values": [
           0.6896816989486605,
           0.07711371584705663,
           0.23320458520428275
          ],
          "vectorType": "dense"
         },
         0,
         0
        ],
        [
         {
          "length": 5,
          "values": [
           2.0,
           0.32653061224489793,
           0.5789472891683434,
           0.32075471698113206,
           0.39849624060150374
          ],
          "vectorType": "dense"
         },
         {
          "length": 3,
          "values": [
           0.7027129682920554,
           0.07883817165713988,
           0.21844886005080466
          ],
          "vectorType": "dense"
         },
         0,
         0
        ],
        [
         {
          "length": 5,
          "values": [
           2.0,
           0.33877547906369576,
           0.7236841742021575,
           0.3773584905660377,
           0.44360902255639095
          ],
          "vectorType": "dense"
         },
         {
          "length": 3,
          "values": [
           0.7110153395904772,
           0.06905307400955292,
           0.2199315863999698
          ],
          "vectorType": "dense"
         },
         0,
         0
        ],
        [
         {
          "length": 5,
          "values": [
           2.0,
           0.5102040816326531,
           1.0,
           0.3018867924528302,
           0.3684210526315789
          ],
          "vectorType": "dense"
         },
         {
          "length": 3,
          "values": [
           0.6079332026784838,
           0.03490147345430035,
           0.3571653238672159
          ],
          "vectorType": "dense"
         },
         0,
         0
        ]
       ],
       "datasetInfos": [],
       "dbfsResultPath": null,
       "isJsonSchema": true,
       "metadata": {},
       "overflow": false,
       "plotOptions": {
        "customPlotOptions": {},
        "displayType": "table",
        "pivotAggregation": null,
        "pivotColumns": null,
        "xColumns": null,
        "yColumns": null
       },
       "removedWidgets": [],
       "schema": [
        {
         "metadata": "{\"ml_attr\":{\"attrs\":{\"numeric\":[{\"idx\":1,\"name\":\"normalizedFeatures_0\"},{\"idx\":2,\"name\":\"normalizedFeatures_1\"},{\"idx\":3,\"name\":\"normalizedFeatures_2\"},{\"idx\":4,\"name\":\"normalizedFeatures_3\"}],\"nominal\":[{\"vals\":[\"Biscoe\",\"Dream\",\"Torgersen\"],\"idx\":0,\"name\":\"IslandIdx\"}]},\"num_attrs\":5}}",
         "name": "features",
         "type": "{\"type\":\"udt\",\"class\":\"org.apache.spark.ml.linalg.VectorUDT\",\"pyClass\":\"pyspark.ml.linalg.VectorUDT\",\"sqlType\":{\"type\":\"struct\",\"fields\":[{\"name\":\"type\",\"type\":\"byte\",\"nullable\":false,\"metadata\":{}},{\"name\":\"size\",\"type\":\"integer\",\"nullable\":true,\"metadata\":{}},{\"name\":\"indices\",\"type\":{\"type\":\"array\",\"elementType\":\"integer\",\"containsNull\":false},\"nullable\":true,\"metadata\":{}},{\"name\":\"values\",\"type\":{\"type\":\"array\",\"elementType\":\"double\",\"containsNull\":false},\"nullable\":true,\"metadata\":{}}]}}"
        },
        {
         "metadata": "{\"ml_attr\":{\"num_attrs\":3}}",
         "name": "probability",
         "type": "{\"type\":\"udt\",\"class\":\"org.apache.spark.ml.linalg.VectorUDT\",\"pyClass\":\"pyspark.ml.linalg.VectorUDT\",\"sqlType\":{\"type\":\"struct\",\"fields\":[{\"name\":\"type\",\"type\":\"byte\",\"nullable\":false,\"metadata\":{}},{\"name\":\"size\",\"type\":\"integer\",\"nullable\":true,\"metadata\":{}},{\"name\":\"indices\",\"type\":{\"type\":\"array\",\"elementType\":\"integer\",\"containsNull\":false},\"nullable\":true,\"metadata\":{}},{\"name\":\"values\",\"type\":{\"type\":\"array\",\"elementType\":\"double\",\"containsNull\":false},\"nullable\":true,\"metadata\":{}}]}}"
        },
        {
         "metadata": "{}",
         "name": "prediction",
         "type": "\"integer\""
        },
        {
         "metadata": "{}",
         "name": "trueLabel",
         "type": "\"integer\""
        }
       ],
       "type": "table"
      }
     },
     "output_type": "display_data"
    }
   ],
   "source": [
    "# Prepare the test data\n",
    "indexedTestData = indexer.fit(test).transform(test).drop(\"Island\")\n",
    "vectorizedTestData = numericColVector.transform(indexedTestData)\n",
    "scaledTestData = minMax.fit(vectorizedTestData).transform(vectorizedTestData)\n",
    "preppedTestData = featVect.transform(scaledTestData)[col(\"featuresVector\").alias(\"features\"), col(\"Species\").alias(\"label\")]\n",
    "\n",
    "# Get predictions\n",
    "prediction = model.transform(preppedTestData)\n",
    "predicted = prediction.select(\"features\", \"probability\", col(\"prediction\").astype(\"Int\"), col(\"label\").alias(\"trueLabel\"))\n",
    "display(predicted)"
   ]
  },
  {
   "cell_type": "code",
   "execution_count": 0,
   "metadata": {
    "application/vnd.databricks.v1+cell": {
     "cellMetadata": {
      "byteLimit": 2048000,
      "rowLimit": 10000
     },
     "inputWidgets": {},
     "nuid": "2275818f-dfb2-4133-b1ef-7c2dca8a3758",
     "showTitle": false,
     "title": ""
    }
   },
   "outputs": [
    {
     "output_type": "stream",
     "name": "stdout",
     "output_type": "stream",
     "text": [
      "Accuracy: 0.9278350515463918\n\nIndividual class metrics:\nClass 0\n\tPrecision: 0.86\n\tRecall: 1.0\n\tF1 Score: 0.924731182795699\nClass 1\n\tPrecision: 1.0\n\tRecall: 1.0\n\tF1 Score: 1.0\nClass 2\n\tPrecision: 1.0\n\tRecall: 0.6111111111111112\n\tF1 Score: 0.7586206896551725\nOverall Precision: 0.9379381443298969\nOverall Recall: 0.9278350515463918\nOverall F1 Score: 0.9218413739588469\n"
     ]
    }
   ],
   "source": [
    "from pyspark.ml.evaluation import MulticlassClassificationEvaluator\n",
    "\n",
    "evaluator = MulticlassClassificationEvaluator(labelCol=\"label\", predictionCol=\"prediction\")\n",
    "\n",
    "# Simple accuracy\n",
    "accuracy = evaluator.evaluate(prediction, {evaluator.metricName:\"accuracy\"})\n",
    "print(\"Accuracy:\", accuracy)\n",
    "\n",
    "# Individual class metrics\n",
    "labels = [0,1,2]\n",
    "print(\"\\nIndividual class metrics:\")\n",
    "for label in sorted(labels):\n",
    "   print (\"Class %s\" % (label))\n",
    "\n",
    "   # Precision\n",
    "   precision = evaluator.evaluate(prediction, {evaluator.metricLabel:label,\n",
    "                                               evaluator.metricName:\"precisionByLabel\"})\n",
    "   print(\"\\tPrecision:\", precision)\n",
    "\n",
    "   # Recall\n",
    "   recall = evaluator.evaluate(prediction, {evaluator.metricLabel:label,\n",
    "                                            evaluator.metricName:\"recallByLabel\"})\n",
    "   print(\"\\tRecall:\", recall)\n",
    "\n",
    "   # F1 score\n",
    "   f1 = evaluator.evaluate(prediction, {evaluator.metricLabel:label,\n",
    "                                        evaluator.metricName:\"fMeasureByLabel\"})\n",
    "   print(\"\\tF1 Score:\", f1)\n",
    "\n",
    "# Weighted (overall) metrics\n",
    "overallPrecision = evaluator.evaluate(prediction, {evaluator.metricName:\"weightedPrecision\"})\n",
    "print(\"Overall Precision:\", overallPrecision)\n",
    "overallRecall = evaluator.evaluate(prediction, {evaluator.metricName:\"weightedRecall\"})\n",
    "print(\"Overall Recall:\", overallRecall)\n",
    "overallF1 = evaluator.evaluate(prediction, {evaluator.metricName:\"weightedFMeasure\"})\n",
    "print(\"Overall F1 Score:\", overallF1)"
   ]
  },
  {
   "cell_type": "markdown",
   "metadata": {
    "application/vnd.databricks.v1+cell": {
     "cellMetadata": {},
     "inputWidgets": {},
     "nuid": "44516978-1804-44ca-925d-08997b8f5597",
     "showTitle": false,
     "title": ""
    }
   },
   "source": [
    "# Use a pipeline\n"
   ]
  },
  {
   "cell_type": "code",
   "execution_count": 0,
   "metadata": {
    "application/vnd.databricks.v1+cell": {
     "cellMetadata": {
      "byteLimit": 2048000,
      "rowLimit": 10000
     },
     "inputWidgets": {},
     "nuid": "df86f4d4-ac98-4af2-80ee-abc30cb0144c",
     "showTitle": false,
     "title": ""
    }
   },
   "outputs": [
    {
     "output_type": "stream",
     "name": "stdout",
     "output_type": "stream",
     "text": [
      "Model trained!\n"
     ]
    }
   ],
   "source": [
    "from pyspark.ml import Pipeline\n",
    "from pyspark.ml.feature import StringIndexer, VectorAssembler, MinMaxScaler\n",
    "from pyspark.ml.classification import LogisticRegression\n",
    "\n",
    "catFeature = \"Island\"\n",
    "numFeatures = [\"CulmenLength\", \"CulmenDepth\", \"FlipperLength\", \"BodyMass\"]\n",
    "\n",
    "# Define the feature engineering and model training algorithm steps\n",
    "catIndexer = StringIndexer(inputCol=catFeature, outputCol=catFeature + \"Idx\")\n",
    "numVector = VectorAssembler(inputCols=numFeatures, outputCol=\"numericFeatures\")\n",
    "numScaler = MinMaxScaler(inputCol = numVector.getOutputCol(), outputCol=\"normalizedFeatures\")\n",
    "featureVector = VectorAssembler(inputCols=[\"IslandIdx\", \"normalizedFeatures\"], outputCol=\"Features\")\n",
    "algo = LogisticRegression(labelCol=\"Species\", featuresCol=\"Features\", maxIter=10, regParam=0.3)\n",
    "\n",
    "# Chain the steps as stages in a pipeline\n",
    "pipeline = Pipeline(stages=[catIndexer, numVector, numScaler, featureVector, algo])\n",
    "\n",
    "# Use the pipeline to prepare data and fit the model algorithm\n",
    "model = pipeline.fit(train)\n",
    "print (\"Model trained!\")"
   ]
  },
  {
   "cell_type": "code",
   "execution_count": 0,
   "metadata": {
    "application/vnd.databricks.v1+cell": {
     "cellMetadata": {
      "byteLimit": 2048000,
      "rowLimit": 10000
     },
     "inputWidgets": {},
     "nuid": "ef8618d7-509d-48f9-b484-4ac1d3097591",
     "showTitle": false,
     "title": ""
    }
   },
   "outputs": [
    {
     "output_type": "stream",
     "name": "stdout",
     "output_type": "stream",
     "text": [
      "Model trained!\n"
     ]
    }
   ],
   "source": [
    "from pyspark.ml import Pipeline\n",
    "from pyspark.ml.feature import StringIndexer, VectorAssembler, MinMaxScaler\n",
    "from pyspark.ml.classification import DecisionTreeClassifier\n",
    "\n",
    "catFeature = \"Island\"\n",
    "numFeatures = [\"CulmenLength\", \"CulmenDepth\", \"FlipperLength\", \"BodyMass\"]\n",
    "\n",
    "# Define the feature engineering and model steps\n",
    "catIndexer = StringIndexer(inputCol=catFeature, outputCol=catFeature + \"Idx\")\n",
    "numVector = VectorAssembler(inputCols=numFeatures, outputCol=\"numericFeatures\")\n",
    "numScaler = MinMaxScaler(inputCol = numVector.getOutputCol(), outputCol=\"normalizedFeatures\")\n",
    "featureVector = VectorAssembler(inputCols=[\"IslandIdx\", \"normalizedFeatures\"], outputCol=\"Features\")\n",
    "algo = DecisionTreeClassifier(labelCol=\"Species\", featuresCol=\"Features\", maxDepth=10)\n",
    "\n",
    "# Chain the steps as stages in a pipeline\n",
    "pipeline = Pipeline(stages=[catIndexer, numVector, numScaler, featureVector, algo])\n",
    "\n",
    "# Use the pipeline to prepare data and fit the model algorithm\n",
    "model = pipeline.fit(train)\n",
    "print (\"Model trained!\")"
   ]
  },
  {
   "cell_type": "code",
   "execution_count": 0,
   "metadata": {
    "application/vnd.databricks.v1+cell": {
     "cellMetadata": {
      "byteLimit": 2048000,
      "rowLimit": 10000
     },
     "inputWidgets": {},
     "nuid": "625cfac4-ad6e-4528-98e9-a2af7e46439d",
     "showTitle": false,
     "title": ""
    }
   },
   "outputs": [
    {
     "output_type": "stream",
     "name": "stdout",
     "output_type": "stream",
     "text": [
      "Accuracy: 1.0\n\nIndividual class metrics:\nClass 0\n\tPrecision: 1.0\n\tRecall: 1.0\n\tF1 Score: 1.0\nClass 1\n\tPrecision: 1.0\n\tRecall: 1.0\n\tF1 Score: 1.0\nClass 2\n\tPrecision: 1.0\n\tRecall: 1.0\n\tF1 Score: 1.0\nOverall Precision: 1.0\nOverall Recall: 1.0\nOverall F1 Score: 1.0\n"
     ]
    }
   ],
   "source": [
    "# Get predictions\n",
    "prediction = model.transform(test)\n",
    "predicted = prediction.select(\"Features\", \"probability\", col(\"prediction\").astype(\"Int\"), col(\"Species\").alias(\"trueLabel\"))\n",
    "\n",
    "# Generate evaluation metrics\n",
    "from pyspark.ml.evaluation import MulticlassClassificationEvaluator\n",
    "\n",
    "evaluator = MulticlassClassificationEvaluator(labelCol=\"Species\", predictionCol=\"prediction\")\n",
    "\n",
    "# Simple accuracy\n",
    "accuracy = evaluator.evaluate(prediction, {evaluator.metricName:\"accuracy\"})\n",
    "print(\"Accuracy:\", accuracy)\n",
    "\n",
    "# Class metrics\n",
    "labels = [0,1,2]\n",
    "print(\"\\nIndividual class metrics:\")\n",
    "for label in sorted(labels):\n",
    "   print (\"Class %s\" % (label))\n",
    "\n",
    "   # Precision\n",
    "   precision = evaluator.evaluate(prediction, {evaluator.metricLabel:label,\n",
    "                                                   evaluator.metricName:\"precisionByLabel\"})\n",
    "   print(\"\\tPrecision:\", precision)\n",
    "\n",
    "   # Recall\n",
    "   recall = evaluator.evaluate(prediction, {evaluator.metricLabel:label,\n",
    "                                            evaluator.metricName:\"recallByLabel\"})\n",
    "   print(\"\\tRecall:\", recall)\n",
    "\n",
    "   # F1 score\n",
    "   f1 = evaluator.evaluate(prediction, {evaluator.metricLabel:label,\n",
    "                                        evaluator.metricName:\"fMeasureByLabel\"})\n",
    "   print(\"\\tF1 Score:\", f1)\n",
    "\n",
    "# Weighed (overall) metrics\n",
    "overallPrecision = evaluator.evaluate(prediction, {evaluator.metricName:\"weightedPrecision\"})\n",
    "print(\"Overall Precision:\", overallPrecision)\n",
    "overallRecall = evaluator.evaluate(prediction, {evaluator.metricName:\"weightedRecall\"})\n",
    "print(\"Overall Recall:\", overallRecall)\n",
    "overallF1 = evaluator.evaluate(prediction, {evaluator.metricName:\"weightedFMeasure\"})\n",
    "print(\"Overall F1 Score:\", overallF1)"
   ]
  },
  {
   "cell_type": "code",
   "execution_count": 0,
   "metadata": {
    "application/vnd.databricks.v1+cell": {
     "cellMetadata": {
      "byteLimit": 2048000,
      "rowLimit": 10000
     },
     "inputWidgets": {},
     "nuid": "9603f06c-b8fa-48e1-96c9-6033473ae176",
     "showTitle": false,
     "title": ""
    }
   },
   "outputs": [],
   "source": [
    "model.save(\"/models/penguin.model\")"
   ]
  },
  {
   "cell_type": "code",
   "execution_count": 0,
   "metadata": {
    "application/vnd.databricks.v1+cell": {
     "cellMetadata": {
      "byteLimit": 2048000,
      "rowLimit": 10000
     },
     "inputWidgets": {},
     "nuid": "d21179d8-858a-4173-8cf6-d7264a4917c2",
     "showTitle": false,
     "title": ""
    }
   },
   "outputs": [
    {
     "output_type": "display_data",
     "data": {
      "text/html": [
       "<style scoped>\n",
       "  .table-result-container {\n",
       "    max-height: 300px;\n",
       "    overflow: auto;\n",
       "  }\n",
       "  table, th, td {\n",
       "    border: 1px solid black;\n",
       "    border-collapse: collapse;\n",
       "  }\n",
       "  th, td {\n",
       "    padding: 5px;\n",
       "  }\n",
       "  th {\n",
       "    text-align: left;\n",
       "  }\n",
       "</style><div class='table-result-container'><table class='table-result'><thead style='background-color: white'><tr><th>Island</th><th>CulmenDepth</th><th>CulmenLength</th><th>FlipperLength</th><th>BodyMass</th><th>PredictedSpecies</th></tr></thead><tbody><tr><td>Biscoe</td><td>14.5</td><td>47.6</td><td>215</td><td>5400</td><td>1.0</td></tr></tbody></table></div>"
      ]
     },
     "metadata": {
      "application/vnd.databricks.v1+output": {
       "addedWidgets": {},
       "aggData": [],
       "aggError": "",
       "aggOverflow": false,
       "aggSchema": [],
       "aggSeriesLimitReached": false,
       "aggType": "",
       "arguments": {},
       "columnCustomDisplayInfos": {},
       "data": [
        [
         "Biscoe",
         14.5,
         47.6,
         215,
         5400,
         1.0
        ]
       ],
       "datasetInfos": [],
       "dbfsResultPath": null,
       "isJsonSchema": true,
       "metadata": {},
       "overflow": false,
       "plotOptions": {
        "customPlotOptions": {},
        "displayType": "table",
        "pivotAggregation": null,
        "pivotColumns": null,
        "xColumns": null,
        "yColumns": null
       },
       "removedWidgets": [],
       "schema": [
        {
         "metadata": "{}",
         "name": "Island",
         "type": "\"string\""
        },
        {
         "metadata": "{}",
         "name": "CulmenDepth",
         "type": "\"double\""
        },
        {
         "metadata": "{}",
         "name": "CulmenLength",
         "type": "\"double\""
        },
        {
         "metadata": "{}",
         "name": "FlipperLength",
         "type": "\"long\""
        },
        {
         "metadata": "{}",
         "name": "BodyMass",
         "type": "\"long\""
        },
        {
         "metadata": "{\"ml_attr\":{\"type\":\"nominal\",\"num_vals\":3}}",
         "name": "PredictedSpecies",
         "type": "\"double\""
        }
       ],
       "type": "table"
      }
     },
     "output_type": "display_data"
    }
   ],
   "source": [
    "from pyspark.ml.pipeline import PipelineModel\n",
    "\n",
    "persistedModel = PipelineModel.load(\"/models/penguin.model\")\n",
    "\n",
    "newData = spark.createDataFrame ([{\"Island\": \"Biscoe\",\n",
    "                                 \"CulmenLength\": 47.6,\n",
    "                                 \"CulmenDepth\": 14.5,\n",
    "                                 \"FlipperLength\": 215,\n",
    "                                 \"BodyMass\": 5400}])\n",
    "\n",
    "\n",
    "predictions = persistedModel.transform(newData)\n",
    "display(predictions.select(\"Island\", \"CulmenDepth\", \"CulmenLength\", \"FlipperLength\", \"BodyMass\", col(\"prediction\").alias(\"PredictedSpecies\")))"
   ]
  },
  {
   "cell_type": "code",
   "execution_count": 0,
   "metadata": {
    "application/vnd.databricks.v1+cell": {
     "cellMetadata": {},
     "inputWidgets": {},
     "nuid": "0133b956-44a9-4e9d-ba94-9bb9086fd482",
     "showTitle": false,
     "title": ""
    }
   },
   "outputs": [],
   "source": []
  }
 ],
 "metadata": {
  "application/vnd.databricks.v1+notebook": {
   "dashboards": [],
   "language": "python",
   "notebookMetadata": {
    "pythonIndentUnit": 4
   },
   "notebookName": "Code11_ML_with Databricks",
   "widgets": {}
  }
 },
 "nbformat": 4,
 "nbformat_minor": 0
}
