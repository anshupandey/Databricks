{
 "cells": [
  {
   "cell_type": "code",
   "execution_count": 0,
   "metadata": {
    "application/vnd.databricks.v1+cell": {
     "cellMetadata": {
      "byteLimit": 2048000,
      "rowLimit": 10000
     },
     "inputWidgets": {},
     "nuid": "559a9d7f-4563-48ef-830e-4225095c1a7c",
     "showTitle": false,
     "title": ""
    }
   },
   "outputs": [
    {
     "output_type": "display_data",
     "data": {
      "text/html": [
       "<style scoped>\n",
       "  .table-result-container {\n",
       "    max-height: 300px;\n",
       "    overflow: auto;\n",
       "  }\n",
       "  table, th, td {\n",
       "    border: 1px solid black;\n",
       "    border-collapse: collapse;\n",
       "  }\n",
       "  th, td {\n",
       "    padding: 5px;\n",
       "  }\n",
       "  th {\n",
       "    text-align: left;\n",
       "  }\n",
       "</style><div class='table-result-container'><table class='table-result'><thead style='background-color: white'><tr><th>Island</th><th>CulmenLength</th><th>CulmenDepth</th><th>FlipperLength</th><th>BodyMass</th><th>Species</th></tr></thead><tbody><tr><td>Torgersen</td><td>42.0</td><td>20.2</td><td>190.0</td><td>4250.0</td><td>0</td></tr><tr><td>Torgersen</td><td>38.6</td><td>21.2</td><td>191.0</td><td>3800.0</td><td>0</td></tr><tr><td>Torgersen</td><td>36.6</td><td>17.8</td><td>185.0</td><td>3700.0</td><td>0</td></tr><tr><td>Torgersen</td><td>42.5</td><td>20.7</td><td>197.0</td><td>4500.0</td><td>0</td></tr><tr><td>Dream</td><td>40.9</td><td>18.9</td><td>184.0</td><td>3900.0</td><td>0</td></tr><tr><td>Dream</td><td>38.8</td><td>20.0</td><td>190.0</td><td>3950.0</td><td>0</td></tr><tr><td>Dream</td><td>42.2</td><td>18.5</td><td>180.0</td><td>3550.0</td><td>0</td></tr><tr><td>Dream</td><td>40.8</td><td>18.4</td><td>195.0</td><td>3900.0</td><td>0</td></tr><tr><td>Biscoe</td><td>42.0</td><td>19.5</td><td>200.0</td><td>4050.0</td><td>0</td></tr><tr><td>Biscoe</td><td>41.4</td><td>18.6</td><td>191.0</td><td>3700.0</td><td>0</td></tr><tr><td>Biscoe</td><td>39.0</td><td>17.5</td><td>186.0</td><td>3550.0</td><td>0</td></tr><tr><td>Biscoe</td><td>41.3</td><td>21.1</td><td>195.0</td><td>4400.0</td><td>0</td></tr><tr><td>Biscoe</td><td>35.5</td><td>16.2</td><td>195.0</td><td>3350.0</td><td>0</td></tr><tr><td>Torgersen</td><td>33.5</td><td>19.0</td><td>190.0</td><td>3600.0</td><td>0</td></tr><tr><td>Torgersen</td><td>36.2</td><td>16.1</td><td>187.0</td><td>3550.0</td><td>0</td></tr><tr><td>Torgersen</td><td>42.9</td><td>17.6</td><td>196.0</td><td>4700.0</td><td>0</td></tr><tr><td>Torgersen</td><td>36.7</td><td>18.8</td><td>187.0</td><td>3800.0</td><td>0</td></tr><tr><td>Dream</td><td>34.0</td><td>17.1</td><td>185.0</td><td>3400.0</td><td>0</td></tr><tr><td>Dream</td><td>36.2</td><td>17.3</td><td>187.0</td><td>3300.0</td><td>0</td></tr><tr><td>Dream</td><td>38.1</td><td>18.6</td><td>190.0</td><td>3700.0</td><td>0</td></tr><tr><td>Biscoe</td><td>38.6</td><td>17.2</td><td>199.0</td><td>3750.0</td><td>0</td></tr><tr><td>Biscoe</td><td>38.2</td><td>20.0</td><td>190.0</td><td>3900.0</td><td>0</td></tr><tr><td>Biscoe</td><td>39.7</td><td>17.7</td><td>193.0</td><td>3200.0</td><td>0</td></tr><tr><td>Biscoe</td><td>39.6</td><td>20.7</td><td>191.0</td><td>3900.0</td><td>0</td></tr><tr><td>Torgersen</td><td>37.3</td><td>20.5</td><td>199.0</td><td>3775.0</td><td>0</td></tr><tr><td>Torgersen</td><td>38.8</td><td>17.6</td><td>191.0</td><td>3275.0</td><td>0</td></tr><tr><td>Torgersen</td><td>41.5</td><td>18.3</td><td>195.0</td><td>4300.0</td><td>0</td></tr><tr><td>Dream</td><td>36.8</td><td>18.5</td><td>193.0</td><td>3500.0</td><td>0</td></tr><tr><td>Dream</td><td>40.2</td><td>17.1</td><td>193.0</td><td>3400.0</td><td>0</td></tr><tr><td>Dream</td><td>37.8</td><td>18.1</td><td>193.0</td><td>3750.0</td><td>0</td></tr><tr><td>Biscoe</td><td>46.7</td><td>15.3</td><td>219.0</td><td>5200.0</td><td>1</td></tr><tr><td>Biscoe</td><td>49.0</td><td>16.1</td><td>216.0</td><td>5550.0</td><td>1</td></tr><tr><td>Biscoe</td><td>42.8</td><td>14.2</td><td>209.0</td><td>4700.0</td><td>1</td></tr><tr><td>Biscoe</td><td>49.1</td><td>14.8</td><td>220.0</td><td>5150.0</td><td>1</td></tr><tr><td>Biscoe</td><td>45.3</td><td>13.7</td><td>210.0</td><td>4300.0</td><td>1</td></tr><tr><td>Biscoe</td><td>44.9</td><td>13.3</td><td>213.0</td><td>5100.0</td><td>1</td></tr><tr><td>Biscoe</td><td>46.5</td><td>14.4</td><td>217.0</td><td>4900.0</td><td>1</td></tr><tr><td>Biscoe</td><td>45.0</td><td>15.4</td><td>220.0</td><td>5050.0</td><td>1</td></tr><tr><td>Biscoe</td><td>49.8</td><td>16.8</td><td>230.0</td><td>5700.0</td><td>1</td></tr><tr><td>Biscoe</td><td>47.7</td><td>15.0</td><td>216.0</td><td>4750.0</td><td>1</td></tr><tr><td>Biscoe</td><td>46.4</td><td>15.0</td><td>216.0</td><td>4700.0</td><td>1</td></tr><tr><td>Biscoe</td><td>48.6</td><td>16.0</td><td>230.0</td><td>5800.0</td><td>1</td></tr><tr><td>Biscoe</td><td>51.1</td><td>16.3</td><td>220.0</td><td>6000.0</td><td>1</td></tr><tr><td>Biscoe</td><td>45.2</td><td>16.4</td><td>223.0</td><td>5950.0</td><td>1</td></tr><tr><td>Biscoe</td><td>49.1</td><td>14.5</td><td>212.0</td><td>4625.0</td><td>1</td></tr><tr><td>Biscoe</td><td>43.4</td><td>14.4</td><td>218.0</td><td>4600.0</td><td>1</td></tr><tr><td>Biscoe</td><td>45.5</td><td>14.5</td><td>212.0</td><td>4750.0</td><td>1</td></tr><tr><td>Biscoe</td><td>50.8</td><td>15.7</td><td>226.0</td><td>5200.0</td><td>1</td></tr><tr><td>Biscoe</td><td>51.5</td><td>16.3</td><td>230.0</td><td>5500.0</td><td>1</td></tr><tr><td>Biscoe</td><td>46.2</td><td>14.1</td><td>217.0</td><td>4375.0</td><td>1</td></tr><tr><td>Biscoe</td><td>55.1</td><td>16.0</td><td>230.0</td><td>5850.0</td><td>1</td></tr><tr><td>Biscoe</td><td>48.8</td><td>16.2</td><td>222.0</td><td>6000.0</td><td>1</td></tr><tr><td>Biscoe</td><td>47.2</td><td>13.7</td><td>214.0</td><td>4925.0</td><td>1</td></tr><tr><td>Biscoe</td><td>49.9</td><td>16.1</td><td>213.0</td><td>5400.0</td><td>1</td></tr><tr><td>Dream</td><td>46.5</td><td>17.9</td><td>192.0</td><td>3500.0</td><td>2</td></tr><tr><td>Dream</td><td>49.5</td><td>19.0</td><td>200.0</td><td>3800.0</td><td>2</td></tr><tr><td>Dream</td><td>47.5</td><td>16.8</td><td>199.0</td><td>3900.0</td><td>2</td></tr><tr><td>Dream</td><td>47.6</td><td>18.3</td><td>195.0</td><td>3850.0</td><td>2</td></tr><tr><td>Dream</td><td>46.9</td><td>16.6</td><td>192.0</td><td>2700.0</td><td>2</td></tr><tr><td>Dream</td><td>46.2</td><td>17.5</td><td>187.0</td><td>3650.0</td><td>2</td></tr><tr><td>Dream</td><td>50.9</td><td>19.1</td><td>196.0</td><td>3550.0</td><td>2</td></tr><tr><td>Dream</td><td>51.5</td><td>18.7</td><td>187.0</td><td>3250.0</td><td>2</td></tr><tr><td>Dream</td><td>42.5</td><td>17.3</td><td>187.0</td><td>3350.0</td><td>2</td></tr><tr><td>Dream</td><td>52.2</td><td>18.8</td><td>197.0</td><td>3450.0</td><td>2</td></tr><tr><td>Dream</td><td>49.3</td><td>19.9</td><td>203.0</td><td>4050.0</td><td>2</td></tr><tr><td>Dream</td><td>50.2</td><td>18.8</td><td>202.0</td><td>3800.0</td><td>2</td></tr><tr><td>Dream</td><td>45.6</td><td>19.4</td><td>194.0</td><td>3525.0</td><td>2</td></tr><tr><td>Dream</td><td>46.8</td><td>16.5</td><td>189.0</td><td>3650.0</td><td>2</td></tr><tr><td>Dream</td><td>50.2</td><td>18.7</td><td>198.0</td><td>3775.0</td><td>2</td></tr></tbody></table></div>"
      ]
     },
     "metadata": {
      "application/vnd.databricks.v1+output": {
       "addedWidgets": {},
       "aggData": [],
       "aggError": "",
       "aggOverflow": false,
       "aggSchema": [],
       "aggSeriesLimitReached": false,
       "aggType": "",
       "arguments": {},
       "columnCustomDisplayInfos": {},
       "data": [
        [
         "Torgersen",
         42.0,
         20.2,
         190.0,
         4250.0,
         0
        ],
        [
         "Torgersen",
         38.6,
         21.2,
         191.0,
         3800.0,
         0
        ],
        [
         "Torgersen",
         36.6,
         17.8,
         185.0,
         3700.0,
         0
        ],
        [
         "Torgersen",
         42.5,
         20.7,
         197.0,
         4500.0,
         0
        ],
        [
         "Dream",
         40.9,
         18.9,
         184.0,
         3900.0,
         0
        ],
        [
         "Dream",
         38.8,
         20.0,
         190.0,
         3950.0,
         0
        ],
        [
         "Dream",
         42.2,
         18.5,
         180.0,
         3550.0,
         0
        ],
        [
         "Dream",
         40.8,
         18.4,
         195.0,
         3900.0,
         0
        ],
        [
         "Biscoe",
         42.0,
         19.5,
         200.0,
         4050.0,
         0
        ],
        [
         "Biscoe",
         41.4,
         18.6,
         191.0,
         3700.0,
         0
        ],
        [
         "Biscoe",
         39.0,
         17.5,
         186.0,
         3550.0,
         0
        ],
        [
         "Biscoe",
         41.3,
         21.1,
         195.0,
         4400.0,
         0
        ],
        [
         "Biscoe",
         35.5,
         16.2,
         195.0,
         3350.0,
         0
        ],
        [
         "Torgersen",
         33.5,
         19.0,
         190.0,
         3600.0,
         0
        ],
        [
         "Torgersen",
         36.2,
         16.1,
         187.0,
         3550.0,
         0
        ],
        [
         "Torgersen",
         42.9,
         17.6,
         196.0,
         4700.0,
         0
        ],
        [
         "Torgersen",
         36.7,
         18.8,
         187.0,
         3800.0,
         0
        ],
        [
         "Dream",
         34.0,
         17.1,
         185.0,
         3400.0,
         0
        ],
        [
         "Dream",
         36.2,
         17.3,
         187.0,
         3300.0,
         0
        ],
        [
         "Dream",
         38.1,
         18.6,
         190.0,
         3700.0,
         0
        ],
        [
         "Biscoe",
         38.6,
         17.2,
         199.0,
         3750.0,
         0
        ],
        [
         "Biscoe",
         38.2,
         20.0,
         190.0,
         3900.0,
         0
        ],
        [
         "Biscoe",
         39.7,
         17.7,
         193.0,
         3200.0,
         0
        ],
        [
         "Biscoe",
         39.6,
         20.7,
         191.0,
         3900.0,
         0
        ],
        [
         "Torgersen",
         37.3,
         20.5,
         199.0,
         3775.0,
         0
        ],
        [
         "Torgersen",
         38.8,
         17.6,
         191.0,
         3275.0,
         0
        ],
        [
         "Torgersen",
         41.5,
         18.3,
         195.0,
         4300.0,
         0
        ],
        [
         "Dream",
         36.8,
         18.5,
         193.0,
         3500.0,
         0
        ],
        [
         "Dream",
         40.2,
         17.1,
         193.0,
         3400.0,
         0
        ],
        [
         "Dream",
         37.8,
         18.1,
         193.0,
         3750.0,
         0
        ],
        [
         "Biscoe",
         46.7,
         15.3,
         219.0,
         5200.0,
         1
        ],
        [
         "Biscoe",
         49.0,
         16.1,
         216.0,
         5550.0,
         1
        ],
        [
         "Biscoe",
         42.8,
         14.2,
         209.0,
         4700.0,
         1
        ],
        [
         "Biscoe",
         49.1,
         14.8,
         220.0,
         5150.0,
         1
        ],
        [
         "Biscoe",
         45.3,
         13.7,
         210.0,
         4300.0,
         1
        ],
        [
         "Biscoe",
         44.9,
         13.3,
         213.0,
         5100.0,
         1
        ],
        [
         "Biscoe",
         46.5,
         14.4,
         217.0,
         4900.0,
         1
        ],
        [
         "Biscoe",
         45.0,
         15.4,
         220.0,
         5050.0,
         1
        ],
        [
         "Biscoe",
         49.8,
         16.8,
         230.0,
         5700.0,
         1
        ],
        [
         "Biscoe",
         47.7,
         15.0,
         216.0,
         4750.0,
         1
        ],
        [
         "Biscoe",
         46.4,
         15.0,
         216.0,
         4700.0,
         1
        ],
        [
         "Biscoe",
         48.6,
         16.0,
         230.0,
         5800.0,
         1
        ],
        [
         "Biscoe",
         51.1,
         16.3,
         220.0,
         6000.0,
         1
        ],
        [
         "Biscoe",
         45.2,
         16.4,
         223.0,
         5950.0,
         1
        ],
        [
         "Biscoe",
         49.1,
         14.5,
         212.0,
         4625.0,
         1
        ],
        [
         "Biscoe",
         43.4,
         14.4,
         218.0,
         4600.0,
         1
        ],
        [
         "Biscoe",
         45.5,
         14.5,
         212.0,
         4750.0,
         1
        ],
        [
         "Biscoe",
         50.8,
         15.7,
         226.0,
         5200.0,
         1
        ],
        [
         "Biscoe",
         51.5,
         16.3,
         230.0,
         5500.0,
         1
        ],
        [
         "Biscoe",
         46.2,
         14.1,
         217.0,
         4375.0,
         1
        ],
        [
         "Biscoe",
         55.1,
         16.0,
         230.0,
         5850.0,
         1
        ],
        [
         "Biscoe",
         48.8,
         16.2,
         222.0,
         6000.0,
         1
        ],
        [
         "Biscoe",
         47.2,
         13.7,
         214.0,
         4925.0,
         1
        ],
        [
         "Biscoe",
         49.9,
         16.1,
         213.0,
         5400.0,
         1
        ],
        [
         "Dream",
         46.5,
         17.9,
         192.0,
         3500.0,
         2
        ],
        [
         "Dream",
         49.5,
         19.0,
         200.0,
         3800.0,
         2
        ],
        [
         "Dream",
         47.5,
         16.8,
         199.0,
         3900.0,
         2
        ],
        [
         "Dream",
         47.6,
         18.3,
         195.0,
         3850.0,
         2
        ],
        [
         "Dream",
         46.9,
         16.6,
         192.0,
         2700.0,
         2
        ],
        [
         "Dream",
         46.2,
         17.5,
         187.0,
         3650.0,
         2
        ],
        [
         "Dream",
         50.9,
         19.1,
         196.0,
         3550.0,
         2
        ],
        [
         "Dream",
         51.5,
         18.7,
         187.0,
         3250.0,
         2
        ],
        [
         "Dream",
         42.5,
         17.3,
         187.0,
         3350.0,
         2
        ],
        [
         "Dream",
         52.2,
         18.8,
         197.0,
         3450.0,
         2
        ],
        [
         "Dream",
         49.3,
         19.9,
         203.0,
         4050.0,
         2
        ],
        [
         "Dream",
         50.2,
         18.8,
         202.0,
         3800.0,
         2
        ],
        [
         "Dream",
         45.6,
         19.4,
         194.0,
         3525.0,
         2
        ],
        [
         "Dream",
         46.8,
         16.5,
         189.0,
         3650.0,
         2
        ],
        [
         "Dream",
         50.2,
         18.7,
         198.0,
         3775.0,
         2
        ]
       ],
       "datasetInfos": [],
       "dbfsResultPath": null,
       "isJsonSchema": true,
       "metadata": {},
       "overflow": false,
       "plotOptions": {
        "customPlotOptions": {},
        "displayType": "table",
        "pivotAggregation": null,
        "pivotColumns": null,
        "xColumns": null,
        "yColumns": null
       },
       "removedWidgets": [],
       "schema": [
        {
         "metadata": "{}",
         "name": "Island",
         "type": "\"string\""
        },
        {
         "metadata": "{}",
         "name": "CulmenLength",
         "type": "\"float\""
        },
        {
         "metadata": "{}",
         "name": "CulmenDepth",
         "type": "\"float\""
        },
        {
         "metadata": "{}",
         "name": "FlipperLength",
         "type": "\"float\""
        },
        {
         "metadata": "{}",
         "name": "BodyMass",
         "type": "\"float\""
        },
        {
         "metadata": "{}",
         "name": "Species",
         "type": "\"integer\""
        }
       ],
       "type": "table"
      }
     },
     "output_type": "display_data"
    },
    {
     "output_type": "stream",
     "name": "stdout",
     "output_type": "stream",
     "text": [
      "Training Rows: 233  Testing Rows: 98\n"
     ]
    }
   ],
   "source": [
    "from pyspark.sql.types import *\n",
    "from pyspark.sql.functions import *\n",
    "\n",
    "data = spark.read.format(\"csv\").option(\"header\", \"true\").load(\"file:/Workspace/Users/anshu.india@outlook.com/databricks/data/penguins.csv\")\n",
    "data = data.dropna().select(col(\"Island\").astype(\"string\"),\n",
    "                           col(\"CulmenLength\").astype(\"float\"),\n",
    "                           col(\"CulmenDepth\").astype(\"float\"),\n",
    "                           col(\"FlipperLength\").astype(\"float\"),\n",
    "                           col(\"BodyMass\").astype(\"float\"),\n",
    "                           col(\"Species\").astype(\"int\")\n",
    "                         )\n",
    "display(data.sample(0.2))\n",
    "\n",
    "splits = data.randomSplit([0.7, 0.3])\n",
    "train = splits[0]\n",
    "test = splits[1]\n",
    "print (\"Training Rows:\", train.count(), \" Testing Rows:\", test.count())"
   ]
  },
  {
   "cell_type": "code",
   "execution_count": 0,
   "metadata": {
    "application/vnd.databricks.v1+cell": {
     "cellMetadata": {
      "byteLimit": 2048000,
      "rowLimit": 10000
     },
     "inputWidgets": {},
     "nuid": "1f900fd8-e727-4d15-b26c-97de41a0c13a",
     "showTitle": false,
     "title": ""
    }
   },
   "outputs": [
    {
     "output_type": "display_data",
     "data": {
      "text/plain": [
       "\u001B[0;31m---------------------------------------------------------------------------\u001B[0m\n",
       "\u001B[0;31mModuleNotFoundError\u001B[0m                       Traceback (most recent call last)\n",
       "File \u001B[0;32m<command-1496208477121782>, line 1\u001B[0m\n",
       "\u001B[0;32m----> 1\u001B[0m \u001B[38;5;28;01mimport\u001B[39;00m \u001B[38;5;21;01mmlflow\u001B[39;00m\n",
       "\u001B[1;32m      2\u001B[0m \u001B[38;5;28;01mimport\u001B[39;00m \u001B[38;5;21;01mmlflow\u001B[39;00m\u001B[38;5;21;01m.\u001B[39;00m\u001B[38;5;21;01mspark\u001B[39;00m\n",
       "\u001B[1;32m      3\u001B[0m \u001B[38;5;28;01mfrom\u001B[39;00m \u001B[38;5;21;01mpyspark\u001B[39;00m\u001B[38;5;21;01m.\u001B[39;00m\u001B[38;5;21;01mml\u001B[39;00m \u001B[38;5;28;01mimport\u001B[39;00m Pipeline\n",
       "\n",
       "\u001B[0;31mModuleNotFoundError\u001B[0m: No module named 'mlflow'"
      ]
     },
     "metadata": {
      "application/vnd.databricks.v1+output": {
       "arguments": {},
       "data": "\u001B[0;31m---------------------------------------------------------------------------\u001B[0m\n\u001B[0;31mModuleNotFoundError\u001B[0m                       Traceback (most recent call last)\nFile \u001B[0;32m<command-1496208477121782>, line 1\u001B[0m\n\u001B[0;32m----> 1\u001B[0m \u001B[38;5;28;01mimport\u001B[39;00m \u001B[38;5;21;01mmlflow\u001B[39;00m\n\u001B[1;32m      2\u001B[0m \u001B[38;5;28;01mimport\u001B[39;00m \u001B[38;5;21;01mmlflow\u001B[39;00m\u001B[38;5;21;01m.\u001B[39;00m\u001B[38;5;21;01mspark\u001B[39;00m\n\u001B[1;32m      3\u001B[0m \u001B[38;5;28;01mfrom\u001B[39;00m \u001B[38;5;21;01mpyspark\u001B[39;00m\u001B[38;5;21;01m.\u001B[39;00m\u001B[38;5;21;01mml\u001B[39;00m \u001B[38;5;28;01mimport\u001B[39;00m Pipeline\n\n\u001B[0;31mModuleNotFoundError\u001B[0m: No module named 'mlflow'",
       "errorSummary": "<span class='ansi-red-fg'>ModuleNotFoundError</span>: No module named 'mlflow'",
       "errorTraceType": "ansi",
       "metadata": {},
       "type": "ipynbError"
      }
     },
     "output_type": "display_data"
    }
   ],
   "source": [
    "import mlflow\n",
    "import mlflow.spark\n",
    "from pyspark.ml import Pipeline\n",
    "from pyspark.ml.feature import StringIndexer, VectorAssembler, MinMaxScaler\n",
    "from pyspark.ml.classification import LogisticRegression\n",
    "from pyspark.ml.evaluation import MulticlassClassificationEvaluator\n",
    "import time\n",
    "\n",
    "# Start an MLflow run\n",
    "with mlflow.start_run():\n",
    "   catFeature = \"Island\"\n",
    "   numFeatures = [\"CulmenLength\", \"CulmenDepth\", \"FlipperLength\", \"BodyMass\"]\n",
    " \n",
    "   # parameters\n",
    "   maxIterations = 5\n",
    "   regularization = 0.5\n",
    "\n",
    "   # Define the feature engineering and model steps\n",
    "   catIndexer = StringIndexer(inputCol=catFeature, outputCol=catFeature + \"Idx\")\n",
    "   numVector = VectorAssembler(inputCols=numFeatures, outputCol=\"numericFeatures\")\n",
    "   numScaler = MinMaxScaler(inputCol = numVector.getOutputCol(), outputCol=\"normalizedFeatures\")\n",
    "   featureVector = VectorAssembler(inputCols=[\"IslandIdx\", \"normalizedFeatures\"], outputCol=\"Features\")\n",
    "   algo = LogisticRegression(labelCol=\"Species\", featuresCol=\"Features\", maxIter=maxIterations, regParam=regularization)\n",
    "\n",
    "   # Chain the steps as stages in a pipeline\n",
    "   pipeline = Pipeline(stages=[catIndexer, numVector, numScaler, featureVector, algo])\n",
    "\n",
    "   # Log training parameter values\n",
    "   print (\"Training Logistic Regression model...\")\n",
    "   mlflow.log_param('maxIter', algo.getMaxIter())\n",
    "   mlflow.log_param('regParam', algo.getRegParam())\n",
    "   model = pipeline.fit(train)\n",
    "  \n",
    "   # Evaluate the model and log metrics\n",
    "   prediction = model.transform(test)\n",
    "   metrics = [\"accuracy\", \"weightedRecall\", \"weightedPrecision\"]\n",
    "   for metric in metrics:\n",
    "       evaluator = MulticlassClassificationEvaluator(labelCol=\"Species\", predictionCol=\"prediction\", metricName=metric)\n",
    "       metricValue = evaluator.evaluate(prediction)\n",
    "       print(\"%s: %s\" % (metric, metricValue))\n",
    "       mlflow.log_metric(metric, metricValue)\n",
    "\n",
    "       \n",
    "   # Log the model itself\n",
    "   unique_model_name = \"classifier-\" + str(time.time())\n",
    "   mlflow.spark.log_model(model, unique_model_name, mlflow.spark.get_default_conda_env())\n",
    "   modelpath = \"/model/%s\" % (unique_model_name)\n",
    "   mlflow.spark.save_model(model, modelpath)\n",
    "   \n",
    "   print(\"Experiment run complete.\")"
   ]
  },
  {
   "cell_type": "code",
   "execution_count": 0,
   "metadata": {
    "application/vnd.databricks.v1+cell": {
     "cellMetadata": {
      "byteLimit": 2048000,
      "rowLimit": 10000
     },
     "inputWidgets": {},
     "nuid": "606a7adf-8450-4186-9c54-8a844ad1d733",
     "showTitle": false,
     "title": ""
    }
   },
   "outputs": [],
   "source": [
    "def train_penguin_model(training_data, test_data, maxIterations, regularization):\n",
    "   import mlflow\n",
    "   import mlflow.spark\n",
    "   from pyspark.ml import Pipeline\n",
    "   from pyspark.ml.feature import StringIndexer, VectorAssembler, MinMaxScaler\n",
    "   from pyspark.ml.classification import LogisticRegression\n",
    "   from pyspark.ml.evaluation import MulticlassClassificationEvaluator\n",
    "   import time\n",
    "\n",
    "   # Start an MLflow run\n",
    "   with mlflow.start_run():\n",
    "\n",
    "       catFeature = \"Island\"\n",
    "       numFeatures = [\"CulmenLength\", \"CulmenDepth\", \"FlipperLength\", \"BodyMass\"]\n",
    "\n",
    "       # Define the feature engineering and model steps\n",
    "       catIndexer = StringIndexer(inputCol=catFeature, outputCol=catFeature + \"Idx\")\n",
    "       numVector = VectorAssembler(inputCols=numFeatures, outputCol=\"numericFeatures\")\n",
    "       numScaler = MinMaxScaler(inputCol = numVector.getOutputCol(), outputCol=\"normalizedFeatures\")\n",
    "       featureVector = VectorAssembler(inputCols=[\"IslandIdx\", \"normalizedFeatures\"], outputCol=\"Features\")\n",
    "       algo = LogisticRegression(labelCol=\"Species\", featuresCol=\"Features\", maxIter=maxIterations, regParam=regularization)\n",
    "\n",
    "       # Chain the steps as stages in a pipeline\n",
    "       pipeline = Pipeline(stages=[catIndexer, numVector, numScaler, featureVector, algo])\n",
    "\n",
    "       # Log training parameter values\n",
    "       print (\"Training Logistic Regression model...\")\n",
    "       mlflow.log_param('maxIter', algo.getMaxIter())\n",
    "       mlflow.log_param('regParam', algo.getRegParam())\n",
    "       model = pipeline.fit(training_data)\n",
    "\n",
    "       # Evaluate the model and log metrics\n",
    "       prediction = model.transform(test_data)\n",
    "       metrics = [\"accuracy\", \"weightedRecall\", \"weightedPrecision\"]\n",
    "       for metric in metrics:\n",
    "           evaluator = MulticlassClassificationEvaluator(labelCol=\"Species\", predictionCol=\"prediction\", metricName=metric)\n",
    "           metricValue = evaluator.evaluate(prediction)\n",
    "           print(\"%s: %s\" % (metric, metricValue))\n",
    "           mlflow.log_metric(metric, metricValue)\n",
    "\n",
    "\n",
    "       # Log the model itself\n",
    "       unique_model_name = \"classifier-\" + str(time.time())\n",
    "       mlflow.spark.log_model(model, unique_model_name, mlflow.spark.get_default_conda_env())\n",
    "       modelpath = \"/model/%s\" % (unique_model_name)\n",
    "       mlflow.spark.save_model(model, modelpath)\n",
    "\n",
    "       print(\"Experiment run complete.\")"
   ]
  },
  {
   "cell_type": "code",
   "execution_count": 0,
   "metadata": {
    "application/vnd.databricks.v1+cell": {
     "cellMetadata": {
      "byteLimit": 2048000,
      "rowLimit": 10000
     },
     "inputWidgets": {},
     "nuid": "df1d33b9-9e3e-457b-8dc7-2342f9a52a60",
     "showTitle": false,
     "title": ""
    }
   },
   "outputs": [
    {
     "output_type": "display_data",
     "data": {
      "text/plain": [
       "\u001B[0;31m---------------------------------------------------------------------------\u001B[0m\n",
       "\u001B[0;31mModuleNotFoundError\u001B[0m                       Traceback (most recent call last)\n",
       "File \u001B[0;32m<command-1496208477121784>, line 1\u001B[0m\n",
       "\u001B[0;32m----> 1\u001B[0m \u001B[43mtrain_penguin_model\u001B[49m\u001B[43m(\u001B[49m\u001B[43mtrain\u001B[49m\u001B[43m,\u001B[49m\u001B[43m \u001B[49m\u001B[43mtest\u001B[49m\u001B[43m,\u001B[49m\u001B[43m \u001B[49m\u001B[38;5;241;43m10\u001B[39;49m\u001B[43m,\u001B[49m\u001B[43m \u001B[49m\u001B[38;5;241;43m0.2\u001B[39;49m\u001B[43m)\u001B[49m\n",
       "\n",
       "File \u001B[0;32m<command-1496208477121783>, line 2\u001B[0m, in \u001B[0;36mtrain_penguin_model\u001B[0;34m(training_data, test_data, maxIterations, regularization)\u001B[0m\n",
       "\u001B[1;32m      1\u001B[0m \u001B[38;5;28;01mdef\u001B[39;00m \u001B[38;5;21mtrain_penguin_model\u001B[39m(training_data, test_data, maxIterations, regularization):\n",
       "\u001B[0;32m----> 2\u001B[0m    \u001B[38;5;28;01mimport\u001B[39;00m \u001B[38;5;21;01mmlflow\u001B[39;00m\n",
       "\u001B[1;32m      3\u001B[0m    \u001B[38;5;28;01mimport\u001B[39;00m \u001B[38;5;21;01mmlflow\u001B[39;00m\u001B[38;5;21;01m.\u001B[39;00m\u001B[38;5;21;01mspark\u001B[39;00m\n",
       "\u001B[1;32m      4\u001B[0m    \u001B[38;5;28;01mfrom\u001B[39;00m \u001B[38;5;21;01mpyspark\u001B[39;00m\u001B[38;5;21;01m.\u001B[39;00m\u001B[38;5;21;01mml\u001B[39;00m \u001B[38;5;28;01mimport\u001B[39;00m Pipeline\n",
       "\n",
       "\u001B[0;31mModuleNotFoundError\u001B[0m: No module named 'mlflow'"
      ]
     },
     "metadata": {
      "application/vnd.databricks.v1+output": {
       "arguments": {},
       "data": "\u001B[0;31m---------------------------------------------------------------------------\u001B[0m\n\u001B[0;31mModuleNotFoundError\u001B[0m                       Traceback (most recent call last)\nFile \u001B[0;32m<command-1496208477121784>, line 1\u001B[0m\n\u001B[0;32m----> 1\u001B[0m \u001B[43mtrain_penguin_model\u001B[49m\u001B[43m(\u001B[49m\u001B[43mtrain\u001B[49m\u001B[43m,\u001B[49m\u001B[43m \u001B[49m\u001B[43mtest\u001B[49m\u001B[43m,\u001B[49m\u001B[43m \u001B[49m\u001B[38;5;241;43m10\u001B[39;49m\u001B[43m,\u001B[49m\u001B[43m \u001B[49m\u001B[38;5;241;43m0.2\u001B[39;49m\u001B[43m)\u001B[49m\n\nFile \u001B[0;32m<command-1496208477121783>, line 2\u001B[0m, in \u001B[0;36mtrain_penguin_model\u001B[0;34m(training_data, test_data, maxIterations, regularization)\u001B[0m\n\u001B[1;32m      1\u001B[0m \u001B[38;5;28;01mdef\u001B[39;00m \u001B[38;5;21mtrain_penguin_model\u001B[39m(training_data, test_data, maxIterations, regularization):\n\u001B[0;32m----> 2\u001B[0m    \u001B[38;5;28;01mimport\u001B[39;00m \u001B[38;5;21;01mmlflow\u001B[39;00m\n\u001B[1;32m      3\u001B[0m    \u001B[38;5;28;01mimport\u001B[39;00m \u001B[38;5;21;01mmlflow\u001B[39;00m\u001B[38;5;21;01m.\u001B[39;00m\u001B[38;5;21;01mspark\u001B[39;00m\n\u001B[1;32m      4\u001B[0m    \u001B[38;5;28;01mfrom\u001B[39;00m \u001B[38;5;21;01mpyspark\u001B[39;00m\u001B[38;5;21;01m.\u001B[39;00m\u001B[38;5;21;01mml\u001B[39;00m \u001B[38;5;28;01mimport\u001B[39;00m Pipeline\n\n\u001B[0;31mModuleNotFoundError\u001B[0m: No module named 'mlflow'",
       "errorSummary": "<span class='ansi-red-fg'>ModuleNotFoundError</span>: No module named 'mlflow'",
       "errorTraceType": "ansi",
       "metadata": {},
       "type": "ipynbError"
      }
     },
     "output_type": "display_data"
    }
   ],
   "source": [
    "train_penguin_model(train, test, 10, 0.2)"
   ]
  },
  {
   "cell_type": "code",
   "execution_count": 0,
   "metadata": {
    "application/vnd.databricks.v1+cell": {
     "cellMetadata": {},
     "inputWidgets": {},
     "nuid": "81197925-b6f1-46e3-bc72-2af1376ef6cd",
     "showTitle": false,
     "title": ""
    }
   },
   "outputs": [],
   "source": []
  }
 ],
 "metadata": {
  "application/vnd.databricks.v1+notebook": {
   "dashboards": [],
   "language": "python",
   "notebookMetadata": {
    "pythonIndentUnit": 4
   },
   "notebookName": "Untitled Notebook 2024-04-23 09:48:15",
   "widgets": {}
  }
 },
 "nbformat": 4,
 "nbformat_minor": 0
}
