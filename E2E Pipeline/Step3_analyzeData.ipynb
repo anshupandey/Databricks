{
 "cells": [
  {
   "cell_type": "code",
   "execution_count": 0,
   "metadata": {
    "application/vnd.databricks.v1+cell": {
     "cellMetadata": {
      "byteLimit": 2048000,
      "implicitDf": true,
      "rowLimit": 10000
     },
     "inputWidgets": {},
     "nuid": "e086a541-734c-4f62-916a-888e703250fc",
     "showTitle": false,
     "title": ""
    }
   },
   "outputs": [],
   "source": [
    "%sql\n",
    "-- Which artists released the most songs each year?\n",
    "SELECT\n",
    "  artist_name,\n",
    "  count(artist_name)\n",
    "AS\n",
    "  num_songs,\n",
    "  year\n",
    "FROM\n",
    "  prepData\n",
    "WHERE\n",
    "  year > 0\n",
    "GROUP BY\n",
    "  artist_name,\n",
    "  year\n",
    "ORDER BY\n",
    "  num_songs DESC,\n",
    "  year DESC"
   ]
  },
  {
   "cell_type": "code",
   "execution_count": 0,
   "metadata": {
    "application/vnd.databricks.v1+cell": {
     "cellMetadata": {
      "byteLimit": 2048000,
      "implicitDf": true,
      "rowLimit": 10000
     },
     "inputWidgets": {},
     "nuid": "9ef29c0f-a3cf-4a5e-ae19-690f65f6b980",
     "showTitle": false,
     "title": ""
    }
   },
   "outputs": [],
   "source": [
    "%sql\n",
    "-- Find songs for your DJ list\n",
    " SELECT\n",
    "   artist_name,\n",
    "   title,\n",
    "   tempo\n",
    " FROM\n",
    "   prepData\n",
    " WHERE\n",
    "   time_signature = 4\n",
    "   AND\n",
    "   tempo between 100 and 140;"
   ]
  },
  {
   "cell_type": "code",
   "execution_count": 0,
   "metadata": {
    "application/vnd.databricks.v1+cell": {
     "cellMetadata": {},
     "inputWidgets": {},
     "nuid": "58bd1ef7-81f6-40a6-81d3-350f6da7da71",
     "showTitle": false,
     "title": ""
    }
   },
   "outputs": [],
   "source": []
  }
 ],
 "metadata": {
  "application/vnd.databricks.v1+notebook": {
   "dashboards": [],
   "language": "python",
   "notebookMetadata": {
    "mostRecentlyExecutedCommandWithImplicitDF": {
     "commandId": 70198140081057,
     "dataframes": [
      "_sqldf"
     ]
    },
    "pythonIndentUnit": 4
   },
   "notebookName": "Step3_analyzeData",
   "widgets": {}
  }
 },
 "nbformat": 4,
 "nbformat_minor": 0
}
